{
 "cells": [
  {
   "cell_type": "markdown",
   "metadata": {},
   "source": [
    "The purpose of this notebook is to contstruct a BLAST database of DJR capsid proteins to use alongside viruscope to identify associated viruses."
   ]
  },
  {
   "cell_type": "code",
   "execution_count": 1,
   "metadata": {
    "collapsed": true
   },
   "outputs": [],
   "source": [
    "import pandas as pd\n",
    "import os.path as op\n",
    "import os"
   ]
  },
  {
   "cell_type": "code",
   "execution_count": 8,
   "metadata": {
    "collapsed": true
   },
   "outputs": [],
   "source": [
    "tbl = \"/mnt/scgc_nfs/lab/julia/notebooks/simons-viruscope/viruscope/data/nature25474-s4.xlsx\"\n",
    "df = pd.read_excel(tbl, skiprows=[0])"
   ]
  },
  {
   "cell_type": "code",
   "execution_count": 9,
   "metadata": {},
   "outputs": [
    {
     "data": {
      "text/plain": [
       "14668"
      ]
     },
     "execution_count": 9,
     "metadata": {},
     "output_type": "execute_result"
    }
   ],
   "source": [
    "len(df)"
   ]
  },
  {
   "cell_type": "code",
   "execution_count": 10,
   "metadata": {},
   "outputs": [
    {
     "data": {
      "text/html": [
       "<div>\n",
       "<table border=\"1\" class=\"dataframe\">\n",
       "  <thead>\n",
       "    <tr style=\"text-align: right;\">\n",
       "      <th></th>\n",
       "      <th>Protein Identifier</th>\n",
       "      <th>Protein- Full Name</th>\n",
       "      <th>Protein - Sequence</th>\n",
       "      <th>Procedural Note</th>\n",
       "      <th>Additional Source Information</th>\n",
       "      <th>Seq Length (aa)</th>\n",
       "      <th>mcl_1.5 protein cluster ID</th>\n",
       "      <th>Extended Data Fig. 8 - Panel A - References</th>\n",
       "      <th>Extended Data Fig. 8 - Panel B - Structure</th>\n",
       "      <th>Extended Data Fig. 8 - Panel C - BestHit</th>\n",
       "      <th>...</th>\n",
       "      <th>cdSearch PSSM-ID</th>\n",
       "      <th>cdSearch From</th>\n",
       "      <th>cdSearch To</th>\n",
       "      <th>cdSearch Hit Length</th>\n",
       "      <th>cdSearch E-Value</th>\n",
       "      <th>cdSearch Bitscore</th>\n",
       "      <th>cdSearch Accession</th>\n",
       "      <th>cdSearch Short name</th>\n",
       "      <th>cdSearch Incomplete</th>\n",
       "      <th>cdSearch Superfamily</th>\n",
       "    </tr>\n",
       "  </thead>\n",
       "  <tbody>\n",
       "    <tr>\n",
       "      <th>0</th>\n",
       "      <td>LF_contig_102320_1</td>\n",
       "      <td>&gt;lcl|LF_contig_102320_1 unnamed protein product</td>\n",
       "      <td>FFFNRNPGLYLPLIALQYHEVRVDIDIASDMETYLDKGTFKVWANY...</td>\n",
       "      <td>.</td>\n",
       "      <td>14N.299.NahantLF</td>\n",
       "      <td>250</td>\n",
       "      <td>1</td>\n",
       "      <td>.</td>\n",
       "      <td>Double Jelly Roll</td>\n",
       "      <td>dsDNA_viruses</td>\n",
       "      <td>...</td>\n",
       "      <td>282327.0</td>\n",
       "      <td>53.0</td>\n",
       "      <td>242.0</td>\n",
       "      <td>189.0</td>\n",
       "      <td>1.607730e-44</td>\n",
       "      <td>147.901</td>\n",
       "      <td>pfam04451</td>\n",
       "      <td>Capsid_NCLDV</td>\n",
       "      <td>-</td>\n",
       "      <td>cl04526</td>\n",
       "    </tr>\n",
       "  </tbody>\n",
       "</table>\n",
       "<p>1 rows × 51 columns</p>\n",
       "</div>"
      ],
      "text/plain": [
       "   Protein Identifier                               Protein- Full Name  \\\n",
       "0  LF_contig_102320_1  >lcl|LF_contig_102320_1 unnamed protein product   \n",
       "\n",
       "                                  Protein - Sequence Procedural Note  \\\n",
       "0  FFFNRNPGLYLPLIALQYHEVRVDIDIASDMETYLDKGTFKVWANY...               .   \n",
       "\n",
       "  Additional Source Information  Seq Length (aa)  mcl_1.5 protein cluster ID  \\\n",
       "0              14N.299.NahantLF              250                           1   \n",
       "\n",
       "  Extended Data Fig. 8 - Panel A - References  \\\n",
       "0                                           .   \n",
       "\n",
       "  Extended Data Fig. 8 - Panel B - Structure  \\\n",
       "0                          Double Jelly Roll   \n",
       "\n",
       "  Extended Data Fig. 8 - Panel C - BestHit         ...           \\\n",
       "0                            dsDNA_viruses         ...            \n",
       "\n",
       "  cdSearch PSSM-ID cdSearch From  cdSearch To cdSearch Hit Length  \\\n",
       "0         282327.0          53.0        242.0               189.0   \n",
       "\n",
       "  cdSearch E-Value  cdSearch Bitscore  cdSearch Accession  \\\n",
       "0     1.607730e-44            147.901           pfam04451   \n",
       "\n",
       "   cdSearch Short name cdSearch Incomplete cdSearch Superfamily  \n",
       "0         Capsid_NCLDV                  -               cl04526  \n",
       "\n",
       "[1 rows x 51 columns]"
      ]
     },
     "execution_count": 10,
     "metadata": {},
     "output_type": "execute_result"
    }
   ],
   "source": [
    "df[:1]"
   ]
  },
  {
   "cell_type": "code",
   "execution_count": 16,
   "metadata": {},
   "outputs": [],
   "source": [
    "with open(\"/mnt/scgc_nfs/lab/julia/notebooks/simons-viruscope/viruscope/data/djr_proteins.fasta\", \"w\") as oh:\n",
    "    for i, l in df.iterrows():\n",
    "        print(l['Protein- Full Name'], file=oh)\n",
    "        \n",
    "        for j in range(0,len(l['Protein - Sequence']), 80):\n",
    "            print(l['Protein - Sequence'][j:j+80].replace(\"*\",\"\"), file=oh)"
   ]
  },
  {
   "cell_type": "code",
   "execution_count": 18,
   "metadata": {},
   "outputs": [
    {
     "name": "stdout",
     "output_type": "stream",
     "text": [
      "/mnt/scgc_nfs/opt/common/bcl2fastq/2.17.1.14/bin/sh: formatdb: command not found\r\n"
     ]
    }
   ],
   "source": [
    "!formatdb"
   ]
  },
  {
   "cell_type": "code",
   "execution_count": 19,
   "metadata": {},
   "outputs": [
    {
     "name": "stdout",
     "output_type": "stream",
     "text": [
      "\n",
      "\n",
      "Building a new DB, current time: 03/07/2018 11:47:18\n",
      "New DB name:   /mnt/scgc_nfs/lab/julia/notebooks/simons-viruscope/viruscope/data/djr_proteins.fasta\n",
      "New DB title:  /mnt/scgc_nfs/lab/julia/notebooks/simons-viruscope/viruscope/data/djr_proteins.fasta\n",
      "Sequence type: Protein\n",
      "Keep Linkouts: T\n",
      "Keep MBits: T\n",
      "Maximum file size: 1000000000B\n",
      "Adding sequences from FASTA; added 14668 sequences in 0.774198 seconds.\n"
     ]
    }
   ],
   "source": [
    "!makeblastdb -in /mnt/scgc_nfs/lab/julia/notebooks/simons-viruscope/viruscope/data/djr_proteins.fasta -dbtype prot"
   ]
  },
  {
   "cell_type": "code",
   "execution_count": 20,
   "metadata": {
    "collapsed": true
   },
   "outputs": [],
   "source": [
    "proteins = \"/mnt/scgc/simon/simonsproject/bats248_vs/batch_prots.fasta\""
   ]
  },
  {
   "cell_type": "code",
   "execution_count": 22,
   "metadata": {},
   "outputs": [
    {
     "name": "stdout",
     "output_type": "stream",
     "text": [
      "4508644\r\n"
     ]
    }
   ],
   "source": [
    "!grep -c \">\" {proteins}"
   ]
  },
  {
   "cell_type": "code",
   "execution_count": 23,
   "metadata": {
    "collapsed": true
   },
   "outputs": [],
   "source": [
    "!cat /mnt/scgc/simon/simonsproject/bats248_vs/clustering/new_seeds.fasta /mnt/scgc/simon/simonsproject/bats248_annotations/bats248_all_orfs_cdhit_c90.fasta > /mnt/scgc/simon/simonsproject/bats248_vs/clustering/all_seeds.fasta"
   ]
  },
  {
   "cell_type": "code",
   "execution_count": 24,
   "metadata": {
    "collapsed": true
   },
   "outputs": [],
   "source": [
    "os.mkdir(\"/mnt/scgc/simon/simonsproject/bats248_vs/clustering/djr/\")"
   ]
  },
  {
   "cell_type": "code",
   "execution_count": 25,
   "metadata": {
    "collapsed": true
   },
   "outputs": [],
   "source": [
    "query = '/mnt/scgc/simon/simonsproject/bats248_vs/clustering/all_seeds.fasta'\n",
    "db = '/mnt/scgc_nfs/lab/julia/notebooks/simons-viruscope/viruscope/data/djr_proteins.fasta'\n",
    "out = \"/mnt/scgc/simon/simonsproject/bats248_vs/clustering/djr/all_seeds_vs_djr.out\"\n",
    "# blastn -query fasta.file -db nr -outfmt 6 -num_alignments 1 -num_descriptions 1 -out haktan.txt -dust no -task blastn\n"
   ]
  },
  {
   "cell_type": "code",
   "execution_count": 31,
   "metadata": {},
   "outputs": [],
   "source": [
    "blastp = 'blastp -query {query} -db {db} -outfmt 6 -out {out} -num_threads 20'.format(query=query, db=db, out=out)"
   ]
  },
  {
   "cell_type": "code",
   "execution_count": 34,
   "metadata": {},
   "outputs": [
    {
     "name": "stdout",
     "output_type": "stream",
     "text": [
      "echo 'blastp -query /mnt/scgc/simon/simonsproject/bats248_vs/clustering/all_seeds.fasta -db /mnt/scgc_nfs/lab/julia/notebooks/simons-viruscope/viruscope/data/djr_proteins.fasta -outfmt 6 -out /mnt/scgc/simon/simonsproject/bats248_vs/clustering/djr/all_seeds_vs_djr.out -num_threads 20'|qsub -N blastp -q route -l walltime=10:00:00,ncpus=20,mem=150G -j oe -o /home/julia/out/180307_djr_blast.out\n"
     ]
    }
   ],
   "source": [
    "print(\"echo '{blastp}'|qsub -N blastp -q route -l walltime=10:00:00,ncpus=20,mem=150G -j oe -o /home/julia/out/180307_djr_blast.out\".format(blastp=blastp))"
   ]
  },
  {
   "cell_type": "code",
   "execution_count": null,
   "metadata": {
    "collapsed": true
   },
   "outputs": [],
   "source": []
  }
 ],
 "metadata": {
  "kernelspec": {
   "display_name": "Python 3",
   "language": "python",
   "name": "python3"
  },
  "language_info": {
   "codemirror_mode": {
    "name": "ipython",
    "version": 3
   },
   "file_extension": ".py",
   "mimetype": "text/x-python",
   "name": "python",
   "nbconvert_exporter": "python",
   "pygments_lexer": "ipython3",
   "version": "3.5.3"
  }
 },
 "nbformat": 4,
 "nbformat_minor": 1
}
