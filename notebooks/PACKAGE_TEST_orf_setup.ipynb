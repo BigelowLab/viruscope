{
 "cells": [
  {
   "cell_type": "code",
   "execution_count": 1,
   "metadata": {},
   "outputs": [
    {
     "name": "stdout",
     "output_type": "stream",
     "text": [
      "/mnt/scgc/scgc_nfs/lab/julia/notebooks/simons-viruscope/viruscope/test_data\n"
     ]
    }
   ],
   "source": [
    "import os\n",
    "import os.path as op\n",
    "import shutil\n",
    "from viruscope.tools import safe_makedir\n",
    "\n",
    "wd =op.abspath(\"../test_data\")\n",
    "print(wd)"
   ]
  },
  {
   "cell_type": "code",
   "execution_count": 2,
   "metadata": {
    "collapsed": true
   },
   "outputs": [],
   "source": [
    "viruses = '''AG−891−A17\n",
    "AG−892−P18\n",
    "AG−893−J23\n",
    "AG−894−C07\n",
    "AG−895−P08\n",
    "AG−897−A15  \n",
    "AG−903−F19\n",
    "AG−903−I06\n",
    "AG−904−O13\n",
    "AG−907−C19\n",
    "AG−907−I10\n",
    "AG−908−F15\n",
    "AG-909-A05\n",
    "AG−910−E05\n",
    "AG−912−O18\n",
    "AG−913−C05\n",
    "AG−913−C17'''.replace(\"−\",\"-\").split()"
   ]
  },
  {
   "cell_type": "code",
   "execution_count": 3,
   "metadata": {},
   "outputs": [
    {
     "data": {
      "text/plain": [
       "'../test_data/contigs'"
      ]
     },
     "execution_count": 3,
     "metadata": {},
     "output_type": "execute_result"
    }
   ],
   "source": [
    "safe_makedir(\"../test_data/\")\n",
    "safe_makedir(\"../test_data/contigs\")"
   ]
  },
  {
   "cell_type": "code",
   "execution_count": 5,
   "metadata": {},
   "outputs": [],
   "source": [
    "for sag in viruses:\n",
    "    plate = \"-\".join(sag.split(\"-\")[:-1])\n",
    "    contigs = \"/mnt/scgc/simon/simonsproject/bats248_contigs/coassemblies/{plate}/{sag}_contigs.fasta\".format(plate=plate, sag=sag)\n",
    "    if op.exists(op.join(wd, 'contigs',contigs)) == False:\n",
    "        shutil.copy(contigs, op.join(wd,'contigs'))"
   ]
  },
  {
   "cell_type": "code",
   "execution_count": 6,
   "metadata": {},
   "outputs": [
    {
     "name": "stdout",
     "output_type": "stream",
     "text": [
      "AG-891-A17_contigs.fasta  AG-903-F19_contigs.fasta  AG-909-A05_contigs.fasta\r\n",
      "AG-892-P18_contigs.fasta  AG-903-I06_contigs.fasta  AG-910-E05_contigs.fasta\r\n",
      "AG-893-J23_contigs.fasta  AG-904-O13_contigs.fasta  AG-912-O18_contigs.fasta\r\n",
      "AG-894-C07_contigs.fasta  AG-907-C19_contigs.fasta  AG-913-C05_contigs.fasta\r\n",
      "AG-895-P08_contigs.fasta  AG-907-I10_contigs.fasta  AG-913-C17_contigs.fasta\r\n",
      "AG-897-A15_contigs.fasta  AG-908-F15_contigs.fasta\r\n"
     ]
    }
   ],
   "source": [
    "!ls ../test_data/contigs/"
   ]
  },
  {
   "cell_type": "code",
   "execution_count": 2,
   "metadata": {
    "collapsed": true
   },
   "outputs": [],
   "source": [
    "from viruscope.orf_setup import run_batch_prodigal\n",
    "import glob"
   ]
  },
  {
   "cell_type": "code",
   "execution_count": 8,
   "metadata": {},
   "outputs": [],
   "source": [
    "falist = [op.abspath(i) for i in glob.glob(\"../test_data/contigs/*\")]"
   ]
  },
  {
   "cell_type": "code",
   "execution_count": 9,
   "metadata": {
    "scrolled": true
   },
   "outputs": [
    {
     "name": "stderr",
     "output_type": "stream",
     "text": [
      "Running Prodigal on /mnt/scgc/scgc_nfs/lab/julia/notebooks/simons-viruscope/viruscope/test_data/contigs/AG-891-A17_contigs.fasta\n",
      "Running Prodigal on /mnt/scgc/scgc_nfs/lab/julia/notebooks/simons-viruscope/viruscope/test_data/contigs/AG-892-P18_contigs.fasta\n",
      "Running Prodigal on /mnt/scgc/scgc_nfs/lab/julia/notebooks/simons-viruscope/viruscope/test_data/contigs/AG-893-J23_contigs.fasta\n",
      "Running Prodigal on /mnt/scgc/scgc_nfs/lab/julia/notebooks/simons-viruscope/viruscope/test_data/contigs/AG-894-C07_contigs.fasta\n",
      "Running Prodigal on /mnt/scgc/scgc_nfs/lab/julia/notebooks/simons-viruscope/viruscope/test_data/contigs/AG-895-P08_contigs.fasta\n",
      "Running Prodigal on /mnt/scgc/scgc_nfs/lab/julia/notebooks/simons-viruscope/viruscope/test_data/contigs/AG-897-A15_contigs.fasta\n",
      "Running Prodigal on /mnt/scgc/scgc_nfs/lab/julia/notebooks/simons-viruscope/viruscope/test_data/contigs/AG-903-F19_contigs.fasta\n",
      "Running Prodigal on /mnt/scgc/scgc_nfs/lab/julia/notebooks/simons-viruscope/viruscope/test_data/contigs/AG-903-I06_contigs.fasta\n",
      "Running Prodigal on /mnt/scgc/scgc_nfs/lab/julia/notebooks/simons-viruscope/viruscope/test_data/contigs/AG-904-O13_contigs.fasta\n",
      "Running Prodigal on /mnt/scgc/scgc_nfs/lab/julia/notebooks/simons-viruscope/viruscope/test_data/contigs/AG-907-C19_contigs.fasta\n",
      "Running Prodigal on /mnt/scgc/scgc_nfs/lab/julia/notebooks/simons-viruscope/viruscope/test_data/contigs/AG-907-I10_contigs.fasta\n",
      "Running Prodigal on /mnt/scgc/scgc_nfs/lab/julia/notebooks/simons-viruscope/viruscope/test_data/contigs/AG-908-F15_contigs.fasta\n",
      "Running Prodigal on /mnt/scgc/scgc_nfs/lab/julia/notebooks/simons-viruscope/viruscope/test_data/contigs/AG-909-A05_contigs.fasta\n",
      "Running Prodigal on /mnt/scgc/scgc_nfs/lab/julia/notebooks/simons-viruscope/viruscope/test_data/contigs/AG-910-E05_contigs.fasta\n",
      "Running Prodigal on /mnt/scgc/scgc_nfs/lab/julia/notebooks/simons-viruscope/viruscope/test_data/contigs/AG-912-O18_contigs.fasta\n",
      "Running Prodigal on /mnt/scgc/scgc_nfs/lab/julia/notebooks/simons-viruscope/viruscope/test_data/contigs/AG-913-C05_contigs.fasta\n",
      "Running Prodigal on /mnt/scgc/scgc_nfs/lab/julia/notebooks/simons-viruscope/viruscope/test_data/contigs/AG-913-C17_contigs.fasta\n"
     ]
    },
    {
     "data": {
      "text/plain": [
       "['/mnt/scgc/scgc_nfs/lab/julia/notebooks/simons-viruscope/viruscope/test_data/prodigal/AG-891-A17_proteins.fasta',\n",
       " '/mnt/scgc/scgc_nfs/lab/julia/notebooks/simons-viruscope/viruscope/test_data/prodigal/AG-892-P18_proteins.fasta',\n",
       " '/mnt/scgc/scgc_nfs/lab/julia/notebooks/simons-viruscope/viruscope/test_data/prodigal/AG-893-J23_proteins.fasta',\n",
       " '/mnt/scgc/scgc_nfs/lab/julia/notebooks/simons-viruscope/viruscope/test_data/prodigal/AG-894-C07_proteins.fasta',\n",
       " '/mnt/scgc/scgc_nfs/lab/julia/notebooks/simons-viruscope/viruscope/test_data/prodigal/AG-895-P08_proteins.fasta',\n",
       " '/mnt/scgc/scgc_nfs/lab/julia/notebooks/simons-viruscope/viruscope/test_data/prodigal/AG-897-A15_proteins.fasta',\n",
       " '/mnt/scgc/scgc_nfs/lab/julia/notebooks/simons-viruscope/viruscope/test_data/prodigal/AG-903-F19_proteins.fasta',\n",
       " '/mnt/scgc/scgc_nfs/lab/julia/notebooks/simons-viruscope/viruscope/test_data/prodigal/AG-903-I06_proteins.fasta',\n",
       " '/mnt/scgc/scgc_nfs/lab/julia/notebooks/simons-viruscope/viruscope/test_data/prodigal/AG-904-O13_proteins.fasta',\n",
       " '/mnt/scgc/scgc_nfs/lab/julia/notebooks/simons-viruscope/viruscope/test_data/prodigal/AG-907-C19_proteins.fasta',\n",
       " '/mnt/scgc/scgc_nfs/lab/julia/notebooks/simons-viruscope/viruscope/test_data/prodigal/AG-907-I10_proteins.fasta',\n",
       " '/mnt/scgc/scgc_nfs/lab/julia/notebooks/simons-viruscope/viruscope/test_data/prodigal/AG-908-F15_proteins.fasta',\n",
       " '/mnt/scgc/scgc_nfs/lab/julia/notebooks/simons-viruscope/viruscope/test_data/prodigal/AG-909-A05_proteins.fasta',\n",
       " '/mnt/scgc/scgc_nfs/lab/julia/notebooks/simons-viruscope/viruscope/test_data/prodigal/AG-910-E05_proteins.fasta',\n",
       " '/mnt/scgc/scgc_nfs/lab/julia/notebooks/simons-viruscope/viruscope/test_data/prodigal/AG-912-O18_proteins.fasta',\n",
       " '/mnt/scgc/scgc_nfs/lab/julia/notebooks/simons-viruscope/viruscope/test_data/prodigal/AG-913-C05_proteins.fasta',\n",
       " '/mnt/scgc/scgc_nfs/lab/julia/notebooks/simons-viruscope/viruscope/test_data/prodigal/AG-913-C17_proteins.fasta']"
      ]
     },
     "execution_count": 9,
     "metadata": {},
     "output_type": "execute_result"
    }
   ],
   "source": [
    "prods = run_batch_prodigal(falist, wd)"
   ]
  },
  {
   "cell_type": "code",
   "execution_count": 5,
   "metadata": {},
   "outputs": [],
   "source": [
    "prods = glob.glob(op.join(wd, 'prodigal','*_proteins.fasta'))"
   ]
  },
  {
   "cell_type": "code",
   "execution_count": 3,
   "metadata": {
    "collapsed": true
   },
   "outputs": [],
   "source": [
    "from viruscope.orf_setup import concat_orfs, run_cd_hit"
   ]
  },
  {
   "cell_type": "code",
   "execution_count": 4,
   "metadata": {},
   "outputs": [],
   "source": [
    "clustdir = safe_makedir(op.join(wd, 'clustering'))"
   ]
  },
  {
   "cell_type": "code",
   "execution_count": 6,
   "metadata": {
    "collapsed": true
   },
   "outputs": [],
   "source": [
    "all_orfs = concat_orfs(op.join(wd, 'prodigal'), outfile = op.join(clustdir, \"all_orfs.fasta\"))"
   ]
  },
  {
   "cell_type": "code",
   "execution_count": 7,
   "metadata": {},
   "outputs": [
    {
     "name": "stdout",
     "output_type": "stream",
     "text": [
      "12116\r\n"
     ]
    }
   ],
   "source": [
    "assert op.exists(all_orfs)\n",
    "!grep -c \">\" {all_orfs}"
   ]
  },
  {
   "cell_type": "code",
   "execution_count": 8,
   "metadata": {},
   "outputs": [
    {
     "name": "stderr",
     "output_type": "stream",
     "text": [
      "Running CD-HIT on /mnt/scgc/scgc_nfs/lab/julia/notebooks/simons-viruscope/viruscope/test_data/clustering/all_orfs.fasta\n"
     ]
    }
   ],
   "source": [
    "cd_hit_out = run_cd_hit(all_orfs, all_orfs.replace(\".fasta\",\"_clust90.fasta\"), c=0.9, d=0)"
   ]
  },
  {
   "cell_type": "code",
   "execution_count": 9,
   "metadata": {},
   "outputs": [
    {
     "data": {
      "text/plain": [
       "['/mnt/scgc/scgc_nfs/lab/julia/notebooks/simons-viruscope/viruscope/test_data/clustering/all_orfs_clust90.fasta',\n",
       " '/mnt/scgc/scgc_nfs/lab/julia/notebooks/simons-viruscope/viruscope/test_data/clustering/all_orfs_clust90.fasta.clstr']"
      ]
     },
     "execution_count": 9,
     "metadata": {},
     "output_type": "execute_result"
    }
   ],
   "source": [
    "cd_hit_out"
   ]
  },
  {
   "cell_type": "code",
   "execution_count": 10,
   "metadata": {},
   "outputs": [],
   "source": [
    "for i in cd_hit_out:\n",
    "    assert op.exists(i)"
   ]
  },
  {
   "cell_type": "markdown",
   "metadata": {},
   "source": [
    "# Post clustering functions"
   ]
  },
  {
   "cell_type": "code",
   "execution_count": 2,
   "metadata": {
    "collapsed": true
   },
   "outputs": [],
   "source": [
    "from viruscope.orf_setup import id_added_seeds"
   ]
  },
  {
   "cell_type": "code",
   "execution_count": 3,
   "metadata": {
    "collapsed": true
   },
   "outputs": [],
   "source": [
    "cd_hit_out = ['/mnt/scgc/scgc_nfs/lab/julia/notebooks/simons-viruscope/viruscope/test_data/clustering/all_orfs_clust90.fasta',\n",
    " '/mnt/scgc/scgc_nfs/lab/julia/notebooks/simons-viruscope/viruscope/test_data/clustering/all_orfs_clust90.fasta.clstr']"
   ]
  },
  {
   "cell_type": "code",
   "execution_count": 4,
   "metadata": {},
   "outputs": [
    {
     "name": "stdout",
     "output_type": "stream",
     "text": [
      "there are 10502 new seeds\n",
      "there are 0 old seeds\n",
      "there are 0 old seeds included in sequence clusters that will serve as the cluster seed\n"
     ]
    }
   ],
   "source": [
    "seedout = id_added_seeds(cd_hit_out[1], None)"
   ]
  },
  {
   "cell_type": "code",
   "execution_count": 5,
   "metadata": {},
   "outputs": [
    {
     "data": {
      "text/plain": [
       "'/mnt/scgc/scgc_nfs/lab/julia/notebooks/simons-viruscope/viruscope/test_data/clustering/seed_map90.tsv'"
      ]
     },
     "execution_count": 5,
     "metadata": {},
     "output_type": "execute_result"
    }
   ],
   "source": [
    "clust_map = seedout[0]\n",
    "cmap_file = op.join(wd, \"clustering\",\"seed_map90.tsv\")\n",
    "cmap_file"
   ]
  },
  {
   "cell_type": "code",
   "execution_count": 5,
   "metadata": {
    "collapsed": true
   },
   "outputs": [],
   "source": [
    "from viruscope.orf_setup import write_cluster_map"
   ]
  },
  {
   "cell_type": "code",
   "execution_count": null,
   "metadata": {
    "collapsed": true
   },
   "outputs": [],
   "source": [
    "out = write_cluster_map(clust_map, cmap_file)"
   ]
  },
  {
   "cell_type": "code",
   "execution_count": 16,
   "metadata": {},
   "outputs": [
    {
     "data": {
      "text/plain": [
       "'/mnt/scgc/scgc_nfs/lab/julia/notebooks/simons-viruscope/viruscope/test_data/clustering/for_mica'"
      ]
     },
     "execution_count": 16,
     "metadata": {},
     "output_type": "execute_result"
    }
   ],
   "source": [
    "out"
   ]
  },
  {
   "cell_type": "code",
   "execution_count": 6,
   "metadata": {
    "collapsed": true
   },
   "outputs": [],
   "source": [
    "from viruscope.orf_setup import read_cluster_map"
   ]
  },
  {
   "cell_type": "code",
   "execution_count": 7,
   "metadata": {},
   "outputs": [],
   "source": [
    "cmap = read_cluster_map(cmap_file)"
   ]
  },
  {
   "cell_type": "code",
   "execution_count": 8,
   "metadata": {
    "collapsed": true
   },
   "outputs": [],
   "source": [
    "from viruscope.orf_setup import write_new_seeds"
   ]
  },
  {
   "cell_type": "code",
   "execution_count": 9,
   "metadata": {
    "collapsed": true
   },
   "outputs": [],
   "source": [
    "new_seeds = op.join(wd, \"clustering\", \"new_seeds.fasta\")"
   ]
  },
  {
   "cell_type": "code",
   "execution_count": 10,
   "metadata": {},
   "outputs": [
    {
     "name": "stderr",
     "output_type": "stream",
     "text": [
      "new seed fasta file already exists, skipping.\n"
     ]
    }
   ],
   "source": [
    "res = write_new_seeds(new_seeds, cd_hit_out[0], seedout[1])"
   ]
  },
  {
   "cell_type": "code",
   "execution_count": 11,
   "metadata": {},
   "outputs": [
    {
     "name": "stdout",
     "output_type": "stream",
     "text": [
      "10502\r\n"
     ]
    }
   ],
   "source": [
    "!grep -c \">\" {res}"
   ]
  },
  {
   "cell_type": "code",
   "execution_count": 12,
   "metadata": {
    "collapsed": true
   },
   "outputs": [],
   "source": [
    "for_mica = op.join(wd, \"clustering\", \"for_mica\")\n",
    "for_mica = safe_makedir(for_mica)"
   ]
  },
  {
   "cell_type": "code",
   "execution_count": 13,
   "metadata": {},
   "outputs": [],
   "source": [
    "from viruscope.orf_setup import cluster_split_fa"
   ]
  },
  {
   "cell_type": "code",
   "execution_count": 15,
   "metadata": {},
   "outputs": [
    {
     "name": "stdout",
     "output_type": "stream",
     "text": [
      "there are 8905 new seeds\n",
      "there are 0 old seeds\n",
      "there are 0 old seeds included in sequence clusters that will serve as the cluster seed\n",
      "10 files created\n"
     ]
    }
   ],
   "source": [
    "out = cluster_split_fa(new_seeds, for_mica)"
   ]
  },
  {
   "cell_type": "code",
   "execution_count": 18,
   "metadata": {},
   "outputs": [
    {
     "name": "stdout",
     "output_type": "stream",
     "text": [
      "subset_0.fasta\t subset_2.fasta  subset_5.fasta  subset_8.fasta\r\n",
      "subset_10.fasta  subset_3.fasta  subset_6.fasta  subset_9.fasta\r\n",
      "subset_1.fasta\t subset_4.fasta  subset_7.fasta\r\n"
     ]
    }
   ],
   "source": [
    "!ls {for_mica}"
   ]
  },
  {
   "cell_type": "code",
   "execution_count": 17,
   "metadata": {
    "collapsed": true
   },
   "outputs": [],
   "source": [
    "# all functions together:"
   ]
  },
  {
   "cell_type": "code",
   "execution_count": null,
   "metadata": {
    "collapsed": true
   },
   "outputs": [],
   "source": [
    "import os\n",
    "import os.path as op\n",
    "import shutil\n",
    "from viruscope.tools import safe_makedir\n",
    "from viruscope.orf_setup import (run_batch_prodigal, concat_orfs, run_cd_hit, id_added_seeds, write_cluster_map,\n",
    "                                swap_cluster_map, write_new_seeds, cluster_split_fa)"
   ]
  },
  {
   "cell_type": "code",
   "execution_count": null,
   "metadata": {
    "collapsed": true
   },
   "outputs": [],
   "source": [
    "falist = [op.abspath(i) for i in glob.glob(op.join(wd, 'contigs',\"*.fasta\"))]\n",
    "wd = op.abspath(\"../test_data/\")\n",
    "old_seeds = []"
   ]
  },
  {
   "cell_type": "code",
   "execution_count": null,
   "metadata": {
    "collapsed": true
   },
   "outputs": [],
   "source": [
    "def prep_contigs(falist, wd='./', old_seeds=[]):\n",
    "    clustdir = safe_makedir(op.join(wd, 'clustering'))\n",
    "    for_mica = safe_makedir(clustdir, \"for_mica\")\n",
    "    \n",
    "    cmap_file = op.join(clustdir,\"seed_map90.tsv\")\n",
    "    new_seeds = op.join(clustdir, \"new_seeds.fasta\")\n",
    "    \n",
    "\n",
    "    prods = run_batch_prodigal(falist, wd)\n",
    "    all_orfs = concat_orfs(op.join(wd, 'prodigal'), other_fastas=[old_seeds], outfile = op.join(clustdir, \"all_orfs.fasta\"))\n",
    "    cd_hit_out = run_cd_hit(all_orfs, all_orfs.replace(\".fasta\",\"_clust90.fasta\"), c=0.9, d=0)\n",
    "    seedout = id_added_seeds(cd_hit_out[1], old_seeds)\n",
    "    out = write_cluster_map(seedout[0], cmap_file)\n",
    "    cmap = swap_cluster_map(seedout[0])\n",
    "\n",
    "    new_seeds = write_new_seeds(new_seeds, cd_hit_out[0], seedout[1])\n",
    "    for_mica = cluster_split_fa(new_seeds, for_mica)\n",
    "    return clustdir"
   ]
  }
 ],
 "metadata": {
  "kernelspec": {
   "display_name": "Python 3",
   "language": "python",
   "name": "python3"
  },
  "language_info": {
   "codemirror_mode": {
    "name": "ipython",
    "version": 3
   },
   "file_extension": ".py",
   "mimetype": "text/x-python",
   "name": "python",
   "nbconvert_exporter": "python",
   "pygments_lexer": "ipython3",
   "version": "3.5.3"
  }
 },
 "nbformat": 4,
 "nbformat_minor": 1
}
