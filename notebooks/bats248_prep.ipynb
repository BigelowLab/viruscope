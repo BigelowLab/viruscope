{
 "cells": [
  {
   "cell_type": "code",
   "execution_count": 4,
   "metadata": {
    "collapsed": true
   },
   "outputs": [],
   "source": [
    "import pandas as pd\n",
    "import os.path as op\n",
    "import os\n",
    "import shutil\n",
    "from collections import Counter\n",
    "from nb_tools import prodigal"
   ]
  },
  {
   "cell_type": "code",
   "execution_count": 2,
   "metadata": {
    "collapsed": true
   },
   "outputs": [],
   "source": [
    "df = pd.concat([pd.read_csv(i) for i in ['/mnt/scgc/simon/simonsproject/info/BATS248_keepers_coassembly_stats_171221.csv',\n",
    "                                        '/mnt/scgc/simon/simonsproject/info/BATS248_keeper_extracellular_171221.csv']])"
   ]
  },
  {
   "cell_type": "code",
   "execution_count": 3,
   "metadata": {},
   "outputs": [
    {
     "data": {
      "text/plain": [
       "6397"
      ]
     },
     "execution_count": 3,
     "metadata": {},
     "output_type": "execute_result"
    }
   ],
   "source": [
    "len(df)"
   ]
  },
  {
   "cell_type": "code",
   "execution_count": 12,
   "metadata": {},
   "outputs": [
    {
     "name": "stdout",
     "output_type": "stream",
     "text": [
      "/mnt/scgc_raw/results/nextseq/170615_NB502014_0026_AHLT7HAFXX/AG-921-A02/AG-921-A02_functional_annotation/Prokka/AG-921-A02.faa\n"
     ]
    }
   ],
   "source": [
    "Counter(df['run_id']).most_common()\n",
    "for i,l in df.iterrows():\n",
    "    \n",
    "    if len(l['run_id']) == 6:\n",
    "        orfs = \"/mnt/scgc/simon/results/postlocos/stepanauskas_2016_simons/{run}/{sag}/{sag}_functional_annotation/Prokka/{sag}.faa\".format(run=l['run_id'],sag=l['sample'])\n",
    "    else:\n",
    "        orfs = \"/mnt/scgc_raw/results/nextseq/{runid}/{sag}/{sag}_functional_annotation/Prokka/{sag}.faa\".format(runid=l['run_id'],sag=l['sample'])\n",
    "    try:\n",
    "        assert(op.exists(orfs))\n",
    "    except:\n",
    "        print(orfs)\n",
    "        break"
   ]
  },
  {
   "cell_type": "code",
   "execution_count": 6,
   "metadata": {},
   "outputs": [],
   "source": [
    "# prodigal options:\n",
    "#viruscope command:\n",
    "\n",
    "fasta = \"/mnt/scgc/simon/simonsproject/bats248_contigs/coassemblies/AG-359/AG-359-A02_contigs.fasta\"\n",
    "name = op.basename(fasta).split(\"_\")[0]\n",
    "output = \"./outputs/prod/\"\n",
    "verbose = False\n",
    "\n",
    "p_proteins, p_genes, p_gff, p_score = prodigal(\n",
    "        fasta, [os.path.join(output, \"prodigal\", name + \"_proteins.fasta\"),\n",
    "                os.path.join(output, \"prodigal\", name + \"_genes.fasta\"),\n",
    "                os.path.join(output, \"prodigal\", name + \".gff\"),\n",
    "                os.path.join(output, \"prodigal\", name + \".scores\")], verbose)\n",
    "\n"
   ]
  },
  {
   "cell_type": "code",
   "execution_count": 15,
   "metadata": {},
   "outputs": [],
   "source": [
    "coassemblies = df[df['run_id'].str.contains(\"AG\")]"
   ]
  },
  {
   "cell_type": "code",
   "execution_count": null,
   "metadata": {},
   "outputs": [],
   "source": [
    "for s in coassemblies['sample']:\n",
    "    plate = \"-\".join(s.split(\"-\")[:2])\n",
    "    contig = \"/mnt/scgc/simon/simonsproject/bats248_contigs/coassemblies/{plate}/{s}_contigs.fasta\".format(plate=plate,s=s)\n",
    "    proteins = \"/mnt/scgc/simon/simonsproject/bats248_vs/prodigal/proteins/{}_proteins.fasta\".format(s)\n",
    "    genes = \"/mnt/scgc/simon/simonsproject/bats248_vs/prodigal/genes/{}_genes.fasta\".format(s)\n",
    "    gff = \"/mnt/scgc/simon/simonsproject/bats248_vs/prodigal/gff/{}.gff\".format(s)\n",
    "    scores = \"/mnt/scgc/simon/simonsproject/bats248_vs/prodigal/scores/{}.scores\".format(s)\n",
    "    prots, genes, gff, score = prodigal(contig, [proteins, genes, gff, scores])"
   ]
  },
  {
   "cell_type": "code",
   "execution_count": null,
   "metadata": {
    "collapsed": true
   },
   "outputs": [],
   "source": []
  }
 ],
 "metadata": {
  "kernelspec": {
   "display_name": "Python 3",
   "language": "python",
   "name": "python3"
  },
  "language_info": {
   "codemirror_mode": {
    "name": "ipython",
    "version": 3
   },
   "file_extension": ".py",
   "mimetype": "text/x-python",
   "name": "python",
   "nbconvert_exporter": "python",
   "pygments_lexer": "ipython3",
   "version": "3.5.3"
  }
 },
 "nbformat": 4,
 "nbformat_minor": 1
}
