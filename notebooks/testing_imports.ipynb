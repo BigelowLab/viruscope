{
 "cells": [
  {
   "cell_type": "code",
   "execution_count": 1,
   "metadata": {},
   "outputs": [],
   "source": [
    "from viruscope.orf_setup import (prodigal, run_prodigal, run_batch_prodigal, concat_orfs,\n",
    "    run_cd_hit, id_added_seeds, write_cluster_map, read_cluster_map, swap_cluster_map,\n",
    "    write_new_seeds, cluster_split_fa)"
   ]
  },
  {
   "cell_type": "code",
   "execution_count": 2,
   "metadata": {
    "collapsed": true
   },
   "outputs": [],
   "source": [
    "from viruscope.tools import (file_transaction, remove_tmpdirs, remove_files,\n",
    "    safe_makedir, file_exists, tmp_dir, check_dependencies, name_from_path, readfa,\n",
    "    format_fasta_record, write_fa_record)"
   ]
  },
  {
   "cell_type": "code",
   "execution_count": 3,
   "metadata": {
    "collapsed": true
   },
   "outputs": [],
   "source": [
    "from viruscope.phage_count import (map_clstr_raw, run_mica, run_blast, id_virus_orfs, orf_map_fa,\n",
    "    phage_contig_table)"
   ]
  },
  {
   "cell_type": "code",
   "execution_count": 4,
   "metadata": {
    "collapsed": true
   },
   "outputs": [],
   "source": [
    "from viruscope.recruit import (read_count, make_diamond_db, diamond_blastx, diamond_view, import_diamond_tsv,\n",
    "    summarize_by_contig, contig_lengths, compute_fr, orf_map, map_orfs_to_contigs,\n",
    "    construct_recruit_tbl, run_recruitment)"
   ]
  },
  {
   "cell_type": "code",
   "execution_count": 5,
   "metadata": {
    "collapsed": true
   },
   "outputs": [],
   "source": [
    "from viruscope.summary import virus_class, merge_all"
   ]
  },
  {
   "cell_type": "code",
   "execution_count": null,
   "metadata": {
    "collapsed": true
   },
   "outputs": [],
   "source": []
  }
 ],
 "metadata": {
  "kernelspec": {
   "display_name": "Python 3",
   "language": "python",
   "name": "python3"
  },
  "language_info": {
   "codemirror_mode": {
    "name": "ipython",
    "version": 3
   },
   "file_extension": ".py",
   "mimetype": "text/x-python",
   "name": "python",
   "nbconvert_exporter": "python",
   "pygments_lexer": "ipython3",
   "version": "3.5.3"
  }
 },
 "nbformat": 4,
 "nbformat_minor": 1
}
