{
 "cells": [
  {
   "cell_type": "code",
   "execution_count": 1,
   "metadata": {
    "collapsed": true
   },
   "outputs": [],
   "source": [
    "from __future__ import print_function\n",
    "\n",
    "import argparse\n",
    "import contextlib\n",
    "import fileinput\n",
    "import gzip\n",
    "import itertools\n",
    "import os\n",
    "import shutil\n",
    "import subprocess\n",
    "import six\n",
    "import sys\n",
    "import tempfile\n",
    "import time\n",
    "from collections import defaultdict\n",
    "from distutils.spawn import find_executable"
   ]
  },
  {
   "cell_type": "code",
   "execution_count": 2,
   "metadata": {
    "collapsed": true
   },
   "outputs": [],
   "source": [
    "# basic functions"
   ]
  },
  {
   "cell_type": "code",
   "execution_count": 9,
   "metadata": {
    "collapsed": true
   },
   "outputs": [],
   "source": [
    "@contextlib.contextmanager\n",
    "def file_transaction(*rollback_files):\n",
    "    \"\"\"\n",
    "    Wrap file generation in a transaction, moving to output if finishes.\n",
    "    \"\"\"\n",
    "    safe_names, orig_names = _flatten_plus_safe(rollback_files)\n",
    "    # remove any half-finished transactions\n",
    "    remove_files(safe_names)\n",
    "    try:\n",
    "        if len(safe_names) == 1:\n",
    "            yield safe_names[0]\n",
    "        else:\n",
    "            yield tuple(safe_names)\n",
    "    # failure -- delete any temporary files\n",
    "    except:\n",
    "        remove_files(safe_names)\n",
    "        remove_tmpdirs(safe_names)\n",
    "        raise\n",
    "    # worked -- move the temporary files to permanent location\n",
    "    else:\n",
    "        for safe, orig in zip(safe_names, orig_names):\n",
    "            if os.path.exists(safe):\n",
    "                shutil.move(safe, orig)\n",
    "        remove_tmpdirs(safe_names)\n",
    "\n",
    "\n",
    "def remove_tmpdirs(fnames):\n",
    "    for x in fnames:\n",
    "        xdir = os.path.dirname(os.path.abspath(x))\n",
    "        if xdir and os.path.exists(xdir):\n",
    "            shutil.rmtree(xdir, ignore_errors=True)\n",
    "\n",
    "\n",
    "def remove_files(fnames):\n",
    "    for x in fnames:\n",
    "        if x and os.path.exists(x):\n",
    "            if os.path.isfile(x):\n",
    "                os.remove(x)\n",
    "            elif os.path.isdir(x):\n",
    "                shutil.rmtree(x, ignore_errors=True)\n",
    "\n",
    "\n",
    "def _flatten_plus_safe(rollback_files):\n",
    "    \"\"\"\n",
    "    Flatten names of files and create temporary file names.\n",
    "    \"\"\"\n",
    "    tx_files, orig_files = [], []\n",
    "    for fnames in rollback_files:\n",
    "        if isinstance(fnames, six.string_types):\n",
    "            fnames = [fnames]\n",
    "        for fname in fnames:\n",
    "            basedir = safe_makedir(os.path.dirname(fname))\n",
    "            tmpdir = safe_makedir(tempfile.mkdtemp(dir=basedir))\n",
    "            tx_file = os.path.join(tmpdir, os.path.basename(fname))\n",
    "            tx_files.append(tx_file)\n",
    "            orig_files.append(fname)\n",
    "    return tx_files, orig_files\n",
    "\n",
    "\n",
    "def safe_makedir(dname):\n",
    "    \"\"\"\n",
    "    Make a directory if it doesn't exist, handling concurrent race conditions.\n",
    "    \"\"\"\n",
    "    if not dname:\n",
    "        return dname\n",
    "    num_tries = 0\n",
    "    max_tries = 5\n",
    "    while not os.path.exists(dname):\n",
    "        try:\n",
    "            os.makedirs(dname)\n",
    "        except OSError:\n",
    "            if num_tries > max_tries:\n",
    "                raise\n",
    "            num_tries += 1\n",
    "            time.sleep(2)\n",
    "    return dname\n",
    "\n",
    "\n",
    "def file_exists(fnames):\n",
    "    \"\"\"\n",
    "    Check if a file or files exist and are non-empty.\n",
    "\n",
    "    parameters\n",
    "        fnames : file path as string or paths as list; if list, all must exist\n",
    "\n",
    "    returns\n",
    "        boolean\n",
    "    \"\"\"\n",
    "    if isinstance(fnames, six.string_types):\n",
    "        fnames = [fnames]\n",
    "    for f in fnames:\n",
    "        if not os.path.exists(f) or os.path.getsize(f) == 0:\n",
    "            return False\n",
    "    return True\n",
    "\n",
    "\n",
    "def check_dependencies(executables):\n",
    "    exes = []\n",
    "    for exe in executables:\n",
    "        if not find_executable(exe):\n",
    "            exes.append(exe)\n",
    "    if len(exes) > 0:\n",
    "        for exe in exes:\n",
    "            print(\"`%s` not found in PATH.\" % exe)\n",
    "        sys.exit(1)\n",
    "\n",
    "\n",
    "def name_from_path(path):\n",
    "    file, ext = os.path.splitext(os.path.basename(path))\n",
    "    if ext == \".gz\":\n",
    "        file, ext = os.path.splitext(file)\n",
    "    return file\n",
    "\n",
    "def readfa(fh):\n",
    "    for header, group in itertools.groupby(fh, lambda line: line[0] == '>'):\n",
    "        if header:\n",
    "            line = next(group)\n",
    "            name = line[1:].strip()\n",
    "        else:\n",
    "            seq = ''.join(line.strip() for line in group)\n",
    "            yield name, seq\n",
    "            \n",
    "def format_fasta_record(name, seq, wrap=100):\n",
    "    \"\"\"Fasta __str__ method.\n",
    "\n",
    "    Convert fasta name and sequence into wrapped fasta format.\n",
    "\n",
    "    Args:\n",
    "        name (str): name of the record\n",
    "        seq (str): sequence of the record\n",
    "        wrap (int): length of sequence per line\n",
    "\n",
    "    Returns:\n",
    "        tuple: name, sequence\n",
    "\n",
    "    >>> format_fasta_record(\"seq1\", \"ACTG\")\n",
    "    \">seq1\\nACTG\"\n",
    "    \"\"\"\n",
    "    record = \">{name}\\n\".format(name=name)\n",
    "    if wrap:\n",
    "        for i in range(0, len(seq), wrap):\n",
    "            record += seq[i:i+wrap] + \"\\n\"\n",
    "    else:\n",
    "        record += seq + \"\\n\"\n",
    "    return record.strip()"
   ]
  },
  {
   "cell_type": "code",
   "execution_count": 91,
   "metadata": {
    "collapsed": true
   },
   "outputs": [],
   "source": [
    "def run_cd_hit(input_fa, output_fa, c=0.9, G=1, b=20, M=800,\n",
    "    T=1, n=5, l=10, t=2, d=20, s=0.0, S=999999, aL=0.0, AL=99999999, aS=0.0,\n",
    "    AS=99999999, A=0, uL=1.0, uS=1.0, U=99999999, g=1, sc=0, sf=0):\n",
    "    \"\"\"Run CD-HIT to cluster input FASTA.\n",
    "\n",
    "    Args:\n",
    "        input_fa (str): File path to fasta.\n",
    "        output_fa (str): File path of output fasta.\n",
    "        c (Optional[float]): sequence identity threshold, default 0.9\n",
    " \t        this is the default cd-hit's \"global sequence identity\" calculated as:\n",
    " \t        number of identical amino acids in alignment\n",
    "            divided by the full length of the shorter sequence\n",
    "        G (Optional[int]): use global sequence identity, default 1\n",
    " \t        if set to 0, then use local sequence identity, calculated as :\n",
    "            number of identical amino acids in alignment\n",
    " \t        divided by the length of the alignment\n",
    " \t        NOTE!!! don't use -G 0 unless you use alignment coverage controls\n",
    " \t        see options -aL, -AL, -aS, -AS\n",
    "        b (Optional[int]): band_width of alignment, default 20\n",
    "        M (Optional[int]): memory limit (in MB) for the program, default 800; 0 for unlimited\n",
    "        T (Optional[int]): number of threads, default 1; with 0, all CPUs will be used\n",
    "        n (Optional[int]): word_length, default 5, see user's guide for choosing it\n",
    "        l (Optional[int]): length of throw_away_sequences, default 10\n",
    "        t (Optional[int]): tolerance for redundance, default 2\n",
    "        d (Optional[int]): length of description in .clstr file, default 20\n",
    " \t        if set to 0, it takes the fasta defline and stops at first space\n",
    "        s (Optional[float]): length difference cutoff, default 0.0\n",
    " \t        if set to 0.9, the shorter sequences need to be\n",
    "            at least 90% length of the representative of the cluster\n",
    "        S (Optional[int]): length difference cutoff in amino acid, default 999999\n",
    " \t        if set to 60, the length difference between the shorter sequences\n",
    " \t        and the representative of the cluster can not be bigger than 60\n",
    "        aL (Optional[float]): alignment coverage for the longer sequence, default 0.0\n",
    " \t        if set to 0.9, the alignment must covers 90% of the sequence\n",
    "        AL (Optional[int]): alignment coverage control for the longer sequence, default 99999999\n",
    " \t        if set to 60, and the length of the sequence is 400,\n",
    " \t        then the alignment must be >= 340 (400-60) residues\n",
    "        aS (Optional[float]): alignment coverage for the shorter sequence, default 0.0\n",
    "        \tif set to 0.9, the alignment must covers 90% of the sequence\n",
    "        AS (Optional[int]): alignment coverage control for the shorter sequence, default 99999999\n",
    "        \tif set to 60, and the length of the sequence is 400,\n",
    "        \tthen the alignment must be >= 340 (400-60) residues\n",
    "        A (Optional[int]): minimal alignment coverage control for the both sequences, default 0\n",
    "        \talignment must cover >= this value for both sequences\n",
    "        uL (Optional[float]): maximum unmatched percentage for the longer sequence, default 1.0\n",
    "        \tif set to 0.1, the unmatched region (excluding leading and tailing gaps)\n",
    "        \tmust not be more than 10% of the sequence\n",
    "        uS (Optional[float]): maximum unmatched percentage for the shorter sequence, default 1.0\n",
    "        \tif set to 0.1, the unmatched region (excluding leading and tailing gaps)\n",
    "        \tmust not be more than 10% of the sequence\n",
    "        U (Optional[int]): maximum unmatched length, default 99999999\n",
    "        \tif set to 10, the unmatched region (excluding leading and tailing gaps)\n",
    "        \tmust not be more than 10 bases\n",
    "        g (Optional[int]): 1 or 0, default 1\n",
    "        \twhen 0 a sequence is clustered to the first\n",
    "        \tcluster that meet the threshold (fast cluster). If set to 1, the program\n",
    "        \twill cluster it into the most similar cluster that meet the threshold\n",
    "        \t(accurate but slow mode)\n",
    "        \tbut either 1 or 0 won't change the representatives of final clusters\n",
    "        sc (Optional[int]): sort clusters by size (number of sequences), default 0, output clusters by decreasing length\n",
    "        \tif set to 1, output clusters by decreasing size\n",
    "        sf (Optional[int]): sort fasta/fastq by cluster size (number of sequences), default 0, no sorting\n",
    "        \tif set to 1, output sequences by decreasing cluster size\n",
    "\n",
    "    Returns:\n",
    "        list, [file path of output fasta, file path of output cluster definitions]\n",
    "\n",
    "    \"\"\"\n",
    "    output_clstr = \"{fa}.clstr\".format(fa=output_fa)\n",
    "    output_files = [output_fa, output_clstr]\n",
    "    if file_exists(output_files):\n",
    "        return output_files\n",
    "\n",
    "    print(\"Running CD-HIT on {fa}\".format(fa=input_fa), file=sys.stderr)\n",
    "\n",
    "    contig_name_map = {}\n",
    "    tmp_fasta = \"{fa}.rename.tmp\".format(fa=input_fa)\n",
    "    with open(input_fa) as f_in, open(tmp_fasta, \"w\") as f_out:\n",
    "        for i, (name, seq) in enumerate(readfa(f_in), start=1):\n",
    "            contig_name_map[\"%d\" % i] = name\n",
    "            print(format_fasta_record(i, seq), file=f_out)\n",
    "\n",
    "    with file_transaction(output_files) as tx_out_files:\n",
    "        cmd = (\"cd-hit -i {input_fasta} -o {output_fasta} -c {c} \"\n",
    "                \"-G {G} -b {b} -M {M} -T {T} -n {n} -l {l} -t {t} \"\n",
    "                \"-d {d} -s {s} -S {S} -aL {aL} -AL {AL} -aS {aS} \"\n",
    "                \"-AS {AS} -A {A} -uL {uL} -uS {uS} -U {U} \"\n",
    "                \"-p 1 -g {g} -sc {sc} -sf {sf}\").format(input_fasta=tmp_fasta,\n",
    "                                                        output_fasta=tx_out_files[0],\n",
    "                                                        **locals())\n",
    "        subprocess.check_call(cmd, shell=True)\n",
    "        # copy the clstr output to its temp file location; let file_transaction clean up\n",
    "        shutil.copyfile(\"{fa}.clstr\".format(fa=tx_out_files[0]), tx_out_files[1])\n",
    "\n",
    "        # edit the output files in place back to their original names\n",
    "        # changes the format of the cluster file\n",
    "\n",
    "        # update change the contig names in the cluster file back to original\n",
    "        for line in fileinput.input(tx_out_files[0], inplace=True):\n",
    "            line = line.strip()\n",
    "            if line.startswith(\">\"):\n",
    "                name = contig_name_map[line.strip(\">\")]\n",
    "                print(\">{name}\".format(name=name))\n",
    "            else:\n",
    "                print(line)\n",
    "\n",
    "        # change the contig names in the cluster file\n",
    "        for line in fileinput.input(tx_out_files[1], inplace=True):\n",
    "            line = line.strip()\n",
    "            if not line.startswith(\">\"):\n",
    "                # changes:\n",
    "                # 1\t382aa, >6... at 1:382:1:382/100.00%\n",
    "                # to just the original contig name\n",
    "                if \"*\" in line:\n",
    "                    print('{}*'.format(contig_name_map[line.partition(\">\")[-1].partition(\"...\")[0]]))\n",
    "                else:\n",
    "                    print(contig_name_map[line.partition(\">\")[-1].partition(\"...\")[0]])\n",
    "            else:\n",
    "                # this is the cluster ID\n",
    "                print(line)\n",
    "\n",
    "    if file_exists(tmp_fasta):\n",
    "        os.remove(tmp_fasta)\n",
    "\n",
    "    return output_files"
   ]
  },
  {
   "cell_type": "code",
   "execution_count": 92,
   "metadata": {},
   "outputs": [
    {
     "name": "stderr",
     "output_type": "stream",
     "text": [
      "Running CD-HIT on /mnt/scgc_nfs/lab/julia/notebooks/simons-viruscope/viruscope/data/AG-919-G14_AG-910-A04.faa\n"
     ]
    }
   ],
   "source": [
    "input_fa = \"/mnt/scgc_nfs/lab/julia/notebooks/simons-viruscope/viruscope/data/AG-919-G14_AG-910-A04.faa\"\n",
    "output_fa = \"./outputs/AG-919-G14_AG-910-A04_clusters.faa\"\n",
    "\n",
    "outs = run_cd_hit(input_fa, output_fa)"
   ]
  },
  {
   "cell_type": "code",
   "execution_count": 93,
   "metadata": {},
   "outputs": [
    {
     "data": {
      "text/plain": [
       "['./outputs/AG-919-G14_AG-910-A04_clusters.faa',\n",
       " './outputs/AG-919-G14_AG-910-A04_clusters.faa.clstr']"
      ]
     },
     "execution_count": 93,
     "metadata": {},
     "output_type": "execute_result"
    }
   ],
   "source": [
    "outs"
   ]
  },
  {
   "cell_type": "code",
   "execution_count": 94,
   "metadata": {},
   "outputs": [
    {
     "name": "stdout",
     "output_type": "stream",
     "text": [
      ">Cluster 0\r\n",
      "AG-919-G14_00862 hypothetical protein\r\n",
      "AG-910-A04_00192 hypothetical protein*\r\n",
      ">Cluster 1\r\n",
      "AG-919-G14_01049 Ferredoxin-dependent glutamate synthase 2*\r\n",
      "AG-910-A04_00156 Ferredoxin-dependent glutamate synthase 2\r\n",
      ">Cluster 2\r\n",
      "AG-919-G14_00914 DNA-directed RNA polymerase subunit beta'*\r\n",
      ">Cluster 3\r\n",
      "AG-919-G14_00442 DNA polymerase III subunit alpha*\r\n"
     ]
    }
   ],
   "source": [
    "!head {outs[1]}"
   ]
  },
  {
   "cell_type": "code",
   "execution_count": 95,
   "metadata": {},
   "outputs": [
    {
     "name": "stdout",
     "output_type": "stream",
     "text": [
      ">AG-919-G14_00001 Trk system potassium uptake protein TrkA\r\n",
      "MKVIIVGAHGEARQLINRISTGWNISVIDMDQEKLRNFNPNRQIEKYQGDGTSTLVLKKAGIENASALVTLTNDDEVNLEILKIAKENNIFRLSSIVNED\r\n",
      "KNSQQYKDLDVEVVDPDVLIGRRLEHILEPRRVVSQAFAGGRAEAIELEINSDSPARGKKLKDIGSDFFIVGALLRKGNVVIPHGDTELETGDLVTIVLQ\r\n",
      "SGAFSNVINLFSGSESRFPLEFGKNVAVFLKNEDELKNLSEAEYFIRNTKADKLEILTSGDIFPDQKEDQTDTYKAIMKDQDFELYNVQKSLLKEIETNK\r\n",
      "DSFSIGTVLIPFDEKEITKSKLKTYINFSNKNNIPLLFSRSSFPYKKIGILVSDDFSDNSPVNIAFDLASTLSADVTALNISQPKFLQPEHASLSNKNTE\r\n",
      "RIQDLALSNEVQCEIVNDEGNEAKVFSSFTDKIDLSIVSQTSQSNWQGKKIAEFILKNAKSSVLYIPN\r\n",
      ">AG-919-G14_00002 Na(+)/H(+)-K(+) antiporter GerN\r\n",
      "MENFDALSLVIISLGAFLLPLIAQRISIPSIVLEIAYGILVGPVLGIVKISEFISGLAIFGFMLLMFLSGFEIELDTFREKGLKTLSIPLAIYIATVATS\r\n",
      "FYLIITLDYPMFLALVLCTTSVDIVITVLRSDDTIKTNYGQSLFMSALIADIFTLIGVTVFASLQHSEGFSISNLNVILYFLIVILILRIIRRVAWWNPQ\r\n",
      "IFSRMFDGNDPEEMGIRSSIALMLTLVGVAVLFDIEYILGAFLAGTLFAFTFPNRGSLENSLKGFSYGFLIPIFFINIGLNYDIEVFKNTEFYIQVLSLL\r\n"
     ]
    }
   ],
   "source": [
    "!head {outs[0]}"
   ]
  },
  {
   "cell_type": "code",
   "execution_count": 96,
   "metadata": {
    "collapsed": true
   },
   "outputs": [],
   "source": [
    "clstr = \"./outputs/AG-919-G14_AG-910-A04_clusters.faa.clstr\""
   ]
  },
  {
   "cell_type": "code",
   "execution_count": 101,
   "metadata": {
    "collapsed": true
   },
   "outputs": [],
   "source": [
    "def cluster_map(clstr):\n",
    "    cluster_map = defaultdict(list)\n",
    "    with open(clstr) as fh:\n",
    "        for cluster_start, group in itertools.groupby(fh, lambda l: l[0] == '>'):\n",
    "            members = []\n",
    "            if not cluster_start: \n",
    "                for line in group:\n",
    "                    if \"*\" in line: \n",
    "                        rep_seq = line.strip().replace(\"*\", \"\")\n",
    "                    else:\n",
    "                        members.append(line.strip())\n",
    "            if len(members) > 0:\n",
    "                cluster_map[rep_seq] = members\n",
    "    return cluster_map"
   ]
  },
  {
   "cell_type": "code",
   "execution_count": 102,
   "metadata": {},
   "outputs": [
    {
     "data": {
      "text/plain": [
       "472"
      ]
     },
     "execution_count": 102,
     "metadata": {},
     "output_type": "execute_result"
    }
   ],
   "source": [
    "len(cluster_map)"
   ]
  },
  {
   "cell_type": "code",
   "execution_count": null,
   "metadata": {
    "collapsed": true
   },
   "outputs": [],
   "source": []
  },
  {
   "cell_type": "code",
   "execution_count": 84,
   "metadata": {
    "collapsed": true
   },
   "outputs": [],
   "source": [
    "fanames = []\n",
    "\n",
    "for name, seq in readfa(open(output_fa)):\n",
    "    fanames.append(name)"
   ]
  },
  {
   "cell_type": "code",
   "execution_count": 85,
   "metadata": {},
   "outputs": [
    {
     "data": {
      "text/plain": [
       "472"
      ]
     },
     "execution_count": 85,
     "metadata": {},
     "output_type": "execute_result"
    }
   ],
   "source": [
    "len(set(list(cluster_map.keys())).intersection(fanames))"
   ]
  },
  {
   "cell_type": "code",
   "execution_count": 1,
   "metadata": {
    "collapsed": true
   },
   "outputs": [],
   "source": [
    "fasta=\"/mnt/scgc/scgc_nfs/lab/julia/notebooks/simons-viruscope/notebooks/outputs/AG-919-G14_AG-910-A04_clusters.faa\"\n",
    "clstr=\"/mnt/scgc/scgc_nfs/lab/julia/notebooks/simons-viruscope/notebooks/outputs/AG-919-G14_AG-910-A04_clusters.faa.clstr\"\n",
    "out_file=\"/mnt/scgc/scgc_nfs/lab/julia/notebooks/simons-viruscope/notebooks/outputs/AG-919-G14_AG-910-A04_mica_blast.out\"\n",
    "db = \"/mnt/scgc/simon/databases/mica/nr-20150620-mica\"\n",
    "num_alignments=10\n",
    "evalue=0.001\n",
    "threads=60\n",
    "fields = [\"qseqid\", \"sseqid\", \"pident\", \"length\", \"mismatch\",\n",
    "                  \"gapopen\", \"qstart\", \"qend\", \"sstart\", \"send\", \"evalue\",\n",
    "                  \"bitscore\", \"sallseqid\", \"score\", \"nident\", \"positive\",\n",
    "                  \"gaps\", \"ppos\", \"qframe\", \"sframe\", \"qseq\", \"sseq\", \"qlen\",\n",
    "                  \"slen\", \"salltitles\"]\n",
    "\n",
    "\n",
    "cmd = (\"mica-search --p='{threads}' --blastp 'blastp' {db} {query} \"\n",
    "                   \"--blast-args -outfmt '\\\"6 {fields}\\\"' \"\n",
    "                   \"-num_alignments {alignments} -evalue {evalue} -out {out}\").format(db=db,\n",
    "                                                      query=fasta,\n",
    "                                                      fields=\" \".join(fields),\n",
    "                                                      threads=threads,\n",
    "                                                      alignments=num_alignments,\n",
    "                                                      evalue=evalue,\n",
    "                                                      out=out_file)"
   ]
  },
  {
   "cell_type": "code",
   "execution_count": 18,
   "metadata": {
    "collapsed": true
   },
   "outputs": [],
   "source": [
    "fasta='/mnt/scgc_nfs/lab/julia/notebooks/simons-viruscope/viruscope/data/uniprot-test-set.faa'\n",
    "clstr=\"/mnt/scgc/scgc_nfs/lab/julia/notebooks/simons-viruscope/notebooks/outputs/AG-919-G14_AG-910-A04_clusters.faa.clstr\"\n",
    "out_file=\"/mnt/scgc_nfs/lab/julia/notebooks/simons-viruscope/notebooks/outputs/uniprot-test-set_mica_blast.out\"\n",
    "db = \"/mnt/scgc/simon/databases/mica/nr-20150620-mica\"\n",
    "num_alignments=10\n",
    "evalue=0.001\n",
    "threads=20\n",
    "fields = [\"qseqid\", \"sseqid\", \"pident\", \"length\", \"mismatch\",\n",
    "                  \"gapopen\", \"qstart\", \"qend\", \"sstart\", \"send\", \"evalue\",\n",
    "                  \"bitscore\", \"sallseqid\", \"score\", \"nident\", \"positive\",\n",
    "                  \"gaps\", \"ppos\", \"qframe\", \"sframe\", \"qseq\", \"sseq\", \"qlen\",\n",
    "                  \"slen\", \"salltitles\"]\n",
    "\n",
    "\n",
    "cmd = (\"mica-search --p='{threads}' --blastp 'blastp' {db} {query} \"\n",
    "                   \"--blast-args -outfmt '6 {fields}' \"\n",
    "                   \"-num_alignments {alignments} -evalue {evalue} -out {out}\").format(db=db,\n",
    "                                                      query=fasta,\n",
    "                                                      fields=\" \".join(fields),\n",
    "                                                      threads=threads,\n",
    "                                                      alignments=num_alignments,\n",
    "                                                      evalue=evalue,\n",
    "                                                      out=out_file)"
   ]
  },
  {
   "cell_type": "code",
   "execution_count": 19,
   "metadata": {},
   "outputs": [
    {
     "name": "stdout",
     "output_type": "stream",
     "text": [
      "mica-search --p='20' --blastp 'blastp' /mnt/scgc/simon/databases/mica/nr-20150620-mica /mnt/scgc_nfs/lab/julia/notebooks/simons-viruscope/viruscope/data/uniprot-test-set.faa --blast-args -outfmt '6 qseqid sseqid pident length mismatch gapopen qstart qend sstart send evalue bitscore sallseqid score nident positive gaps ppos qframe sframe qseq sseq qlen slen salltitles' -num_alignments 10 -evalue 0.001 -out /mnt/scgc_nfs/lab/julia/notebooks/simons-viruscope/notebooks/outputs/uniprot-test-set_mica_blast.out\n"
     ]
    }
   ],
   "source": [
    "print(cmd)"
   ]
  },
  {
   "cell_type": "code",
   "execution_count": 10,
   "metadata": {},
   "outputs": [
    {
     "data": {
      "text/plain": [
       "'/mnt/scgc_nfs/lab/julia/notebooks/simons-viruscope/notebooks'"
      ]
     },
     "execution_count": 10,
     "metadata": {},
     "output_type": "execute_result"
    }
   ],
   "source": [
    "pwd"
   ]
  },
  {
   "cell_type": "code",
   "execution_count": 20,
   "metadata": {},
   "outputs": [
    {
     "name": "stdout",
     "output_type": "stream",
     "text": [
      "echo 'mica-search --p='20' --blastp 'blastp' /mnt/scgc/simon/databases/mica/nr-20150620-mica /mnt/scgc_nfs/lab/julia/notebooks/simons-viruscope/viruscope/data/uniprot-test-set.faa --blast-args -outfmt '6 qseqid sseqid pident length mismatch gapopen qstart qend sstart send evalue bitscore sallseqid score nident positive gaps ppos qframe sframe qseq sseq qlen slen salltitles' -num_alignments 10 -evalue 0.001 -out /mnt/scgc_nfs/lab/julia/notebooks/simons-viruscope/notebooks/outputs/uniprot-test-set_mica_blast.out' | qsub -N mica_test -q route -V -l walltime=1:00:00,ncpus=20,mem=150G -j oe -o /home/julia/out/171219_mica.out\n"
     ]
    }
   ],
   "source": [
    "print(\"echo '{cmd}' | qsub -N mica_test -q route -V -l walltime=1:00:00,ncpus=20,mem=150G -j oe -o /home/julia/out/171219_mica.out\".format(cmd = cmd))"
   ]
  },
  {
   "cell_type": "markdown",
   "metadata": {},
   "source": [
    "blastp -db /dev/shm/mica-fine-search-db552529519/blastdb-fine -dbsize 24387073819 -num_threads 60 -outfmt 6 qseqid sseqid pident length mismatch gapopen qstart qend sstart send evalue bitscore sallseqid score nident positive gaps ppos qframe sframe qseq sseq qlen slen salltitles -num_alignments 10 -evalue 0.001 -out AAA164-A21_vs_nr_mica_blastp.out"
   ]
  },
  {
   "cell_type": "markdown",
   "metadata": {},
   "source": [
    "blastp -db /dev/shm/mica-fine-search-db027200658/blastdb-fine -dbsize 24387073819 -num_threads 20 -outfmt 6 qseqid sseqid pident length mismatch gapopen qstart qend sstart send evalue bitscore sallseqid score nident positive gaps ppos qframe sframe qseq sseq qlen slen salltitles -num_alignments 10 -evalue 0.001 -out /mnt/scgc/scgc_nfs/lab/julia/notebooks/simons-viruscope/notebooks/outputs/uniprot-test-set_mica_blast.out"
   ]
  },
  {
   "cell_type": "code",
   "execution_count": 126,
   "metadata": {},
   "outputs": [
    {
     "name": "stdout",
     "output_type": "stream",
     "text": [
      "1158\r\n"
     ]
    }
   ],
   "source": [
    "!grep -c \">\" {output_fa}"
   ]
  },
  {
   "cell_type": "code",
   "execution_count": 129,
   "metadata": {},
   "outputs": [
    {
     "name": "stdout",
     "output_type": "stream",
     "text": [
      "diamond makedb --in ./outputs/AG-919-G14_AG-910-A04_clusters.faa -d ./outputs/AG-919-G14_AG-910-A04_clusters.faa.dmnd -p 40\n"
     ]
    }
   ],
   "source": [
    "print('diamond makedb --in {output_fa} -d {output_fa}.dmnd -p {threads}'.format(output_fa = output_fa, threads=40))"
   ]
  },
  {
   "cell_type": "code",
   "execution_count": 132,
   "metadata": {
    "collapsed": true
   },
   "outputs": [],
   "source": [
    "def make_diamond_db(fasta, db, threads=1, verbose=False):\n",
    "    out_file = db + \".dmnd\"\n",
    "    if file_exists(out_file):\n",
    "        return db\n",
    "\n",
    "    if verbose:\n",
    "        print(\"Creating DIAMOND database for\", fasta, file=sys.stderr)\n",
    "\n",
    "    with file_transaction(out_file) as tx_out_file:\n",
    "        cmd = (\"diamond makedb --in {fasta} -d {db} \"\n",
    "               \"-p {threads}\").format(fasta=fasta,\n",
    "                                      db=tx_out_file,\n",
    "                                      threads=threads)\n",
    "        subprocess.check_call(cmd, shell=True)\n",
    "    return db\n",
    "\n",
    "\n",
    "def diamond_blastx(fasta, out_file, db, threads=1, verbose=False):\n",
    "    if file_exists(out_file):\n",
    "        return out_file\n",
    "\n",
    "    if verbose:\n",
    "        print(\"Running DIAMOND BLASTX on %s across %s\" %\n",
    "              (os.path.basename(fasta), os.path.basename(db)),\n",
    "              file=sys.stderr)\n",
    "\n",
    "    with file_transaction(out_file) as tx_out_file:\n",
    "        cmd = (\"diamond blastx -d {db} -q {fasta} \"\n",
    "               \"-a {out} -p {threads} -t {tmpdir}\").format(db=db,\n",
    "                                                           fasta=fasta,\n",
    "                                                           out=tx_out_file,\n",
    "                                                           threads=threads,\n",
    "                                                           tmpdir=tempfile.gettempdir())\n",
    "        subprocess.check_call(cmd, shell=True)\n",
    "    return out_file\n",
    "\n",
    "\n",
    "def diamond_view(daa, out_file, verbose=False):\n",
    "    if file_exists(out_file):\n",
    "        return out_file\n",
    "\n",
    "    if verbose:\n",
    "        print(\"Converting DIAMOND database %s to tabular (%s)\" %\n",
    "              (os.path.basename(daa), os.path.basename(out_file)),\n",
    "              file=sys.stderr)\n",
    "\n",
    "    with file_transaction(out_file) as tx_out_file:\n",
    "        nongz = tx_out_file.rpartition(\".\")[0]\n",
    "        subprocess.check_call([\"diamond\", \"view\", \"-a\", daa, \"-o\", nongz])\n",
    "        subprocess.check_call([\"gzip\", nongz])\n",
    "    return out_file\n",
    "\n",
    "def _sam_to_bam(sam, idx, out_file, threads=8):\n",
    "    cmd = (\"samtools view -@ {t} -bSht {index} {sam} 2> /dev/null \"\n",
    "           \"| samtools sort -@ {t} -m 2G - > {bam} 2> /dev/null\"\n",
    "          ).format(t=threads,\n",
    "                   index=idx,\n",
    "                   sam=sam,\n",
    "                   bam=out_file.rpartition(\".\")[0] + \".bam\")\n",
    "    subprocess.check_call(cmd, shell=True)\n",
    "    return out_file"
   ]
  },
  {
   "cell_type": "code",
   "execution_count": 133,
   "metadata": {
    "collapsed": true
   },
   "outputs": [],
   "source": [
    "daa_out = \"./outputs/AG-919-G14_AG-910-A04_vs_POV.daa\"\n",
    "sam_out = \"./outputs/AG-919-G14_AG-910-A04_vs_POV.sam\""
   ]
  },
  {
   "cell_type": "code",
   "execution_count": 135,
   "metadata": {
    "collapsed": true
   },
   "outputs": [],
   "source": [
    "import pysam\n",
    "\n",
    "def read_overlap_pctid(l, pctid, min_len, overlap=0):\n",
    "    ''' looks at pysam.AligmentFile line and determines if mapping matches input parms'''\n",
    "    real_len = l.infer_query_length()\n",
    "    aln_len = l.query_alignment_length\n",
    "    mismatch = l.get_tag(\"NM\")\n",
    "\n",
    "    aln_overlap = (aln_len / real_len) * 100\n",
    "    aln_pctid = ((aln_len - mismatch) / aln_len) * 100\n",
    "    if aln_overlap >= overlap and aln_pctid >= pctid and aln_len >= min_len:\n",
    "        return True\n",
    "    else:\n",
    "        return False"
   ]
  },
  {
   "cell_type": "code",
   "execution_count": null,
   "metadata": {
    "collapsed": true
   },
   "outputs": [],
   "source": [
    "!samtools view -@ 5 -bSht"
   ]
  },
  {
   "cell_type": "code",
   "execution_count": 137,
   "metadata": {},
   "outputs": [
    {
     "ename": "NotImplementedError",
     "evalue": "can not iterate over samfile without header",
     "output_type": "error",
     "traceback": [
      "\u001b[1;31m---------------------------------------------------------------------------\u001b[0m",
      "\u001b[1;31mNotImplementedError\u001b[0m                       Traceback (most recent call last)",
      "\u001b[1;32m<ipython-input-137-125377a4a40f>\u001b[0m in \u001b[0;36m<module>\u001b[1;34m()\u001b[0m\n\u001b[0;32m      7\u001b[0m     \u001b[0mgood_bp\u001b[0m \u001b[1;33m=\u001b[0m \u001b[1;36m0\u001b[0m\u001b[1;33m\u001b[0m\u001b[0m\n\u001b[0;32m      8\u001b[0m     \u001b[0mtotal\u001b[0m \u001b[1;33m=\u001b[0m \u001b[1;36m0\u001b[0m\u001b[1;33m\u001b[0m\u001b[0m\n\u001b[1;32m----> 9\u001b[1;33m     \u001b[1;32mfor\u001b[0m \u001b[0mi\u001b[0m\u001b[1;33m,\u001b[0m \u001b[0ml\u001b[0m \u001b[1;32min\u001b[0m \u001b[0menumerate\u001b[0m\u001b[1;33m(\u001b[0m\u001b[0mih\u001b[0m\u001b[1;33m)\u001b[0m\u001b[1;33m:\u001b[0m\u001b[1;33m\u001b[0m\u001b[0m\n\u001b[0m\u001b[0;32m     10\u001b[0m         \u001b[1;32mif\u001b[0m \u001b[0ml\u001b[0m\u001b[1;33m.\u001b[0m\u001b[0mis_duplicate\u001b[0m\u001b[1;33m:\u001b[0m\u001b[1;33m\u001b[0m\u001b[0m\n\u001b[0;32m     11\u001b[0m             \u001b[1;32mcontinue\u001b[0m\u001b[1;33m\u001b[0m\u001b[0m\n",
      "\u001b[1;32mpysam/calignmentfile.pyx\u001b[0m in \u001b[0;36mpysam.calignmentfile.AlignmentFile.__iter__ (pysam/calignmentfile.c:16559)\u001b[1;34m()\u001b[0m\n",
      "\u001b[1;31mNotImplementedError\u001b[0m: can not iterate over samfile without header"
     ]
    }
   ],
   "source": [
    "umcount = 0\n",
    "good_ct = 0\n",
    "bad_ct = 0\n",
    "\n",
    "with pysam.AlignmentFile(sam_out, \"rb\", check_sq=False) as ih:\n",
    "    good = 0\n",
    "    good_bp = 0\n",
    "    total = 0\n",
    "    for i, l in enumerate(ih):\n",
    "        if l.is_duplicate:\n",
    "            continue\n",
    "\n",
    "        total += 1\n",
    "        print(l.infer_query_length())\n",
    "        if l.is_unmapped():\n",
    "            umcount += 1\n",
    "            continue\n",
    "            \n",
    "        if read_overlap_pctid(l, 95, 100):\n",
    "            good_ct += 1\n",
    "        else:\n",
    "            bad_ct += 1"
   ]
  },
  {
   "cell_type": "code",
   "execution_count": null,
   "metadata": {
    "collapsed": true
   },
   "outputs": [],
   "source": []
  }
 ],
 "metadata": {
  "kernelspec": {
   "display_name": "Python 3",
   "language": "python",
   "name": "python3"
  },
  "language_info": {
   "codemirror_mode": {
    "name": "ipython",
    "version": 3
   },
   "file_extension": ".py",
   "mimetype": "text/x-python",
   "name": "python",
   "nbconvert_exporter": "python",
   "pygments_lexer": "ipython3",
   "version": "3.5.3"
  }
 },
 "nbformat": 4,
 "nbformat_minor": 1
}
