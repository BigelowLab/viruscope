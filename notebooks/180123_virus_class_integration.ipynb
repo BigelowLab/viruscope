{
 "cells": [
  {
   "cell_type": "code",
   "execution_count": 1,
   "metadata": {
    "collapsed": true
   },
   "outputs": [],
   "source": [
    "import pandas as pd\n",
    "import glob\n",
    "import os\n",
    "import os.path as op\n",
    "from collections import Counter\n",
    "\n",
    "from bisect import bisect_left\n",
    "import numpy as np\n",
    "from sklearn import neighbors\n",
    "import pandas as pd\n",
    "from math import log\n",
    "\n",
    "from phage_count_table import phage_contig_table, map_clstr_raw\n",
    "from nb_tools import readfa, swap_cluster_map"
   ]
  },
  {
   "cell_type": "code",
   "execution_count": 2,
   "metadata": {
    "collapsed": true
   },
   "outputs": [],
   "source": [
    "clstr = \"/mnt/scgc/simon/simonsproject/bats248_annotations/bats248_all_orfs_cdhit_c90.fasta.clstr\"\n",
    "input_fa = \"/mnt/scgc/simon/simonsproject/bats248_annotations/bats248_all_orfs.fasta\"\n",
    "phage_hits = \"/mnt/scgc/simon/simonsproject/bats248_vs/phage_hits.csv\""
   ]
  },
  {
   "cell_type": "code",
   "execution_count": 3,
   "metadata": {
    "collapsed": true
   },
   "outputs": [],
   "source": [
    "#objects needed for generating the phage contig table per SAG in batch:\n",
    "\n",
    "phage_hits_df = pd.read_csv(phage_hits)\n",
    "cmap = swap_cluster_map(map_clstr_raw(clstr))"
   ]
  },
  {
   "cell_type": "code",
   "execution_count": 4,
   "metadata": {
    "collapsed": true
   },
   "outputs": [],
   "source": [
    "recruits = glob.glob(\"/mnt/scgc/simon/simonsproject/bats248_vs/diamond/pergenome/*.csv\")"
   ]
  },
  {
   "cell_type": "code",
   "execution_count": 5,
   "metadata": {
    "collapsed": true
   },
   "outputs": [],
   "source": [
    "to_start =  '''AG−891−A17\n",
    "AG−892−P18\n",
    "AG−893−J23\n",
    "AG−894−C07\n",
    "AG−895−P08\n",
    "AG−897−A15  \n",
    "AG−903−F19\n",
    "AG−903−I06\n",
    "AG−904−O13\n",
    "AG−907−C19\n",
    "AG−907−I10\n",
    "AG−908−F15\n",
    "AG-909-A05\n",
    "AG−910−E05\n",
    "AG−912−O18\n",
    "AG−913−C05\n",
    "AG−913−C17'''.replace(\"−\",\"-\").split()\n",
    "\n",
    "recruits = [i for i in recruits if op.basename(i).split(\"_\")[0] in to_start]"
   ]
  },
  {
   "cell_type": "code",
   "execution_count": 6,
   "metadata": {
    "collapsed": true
   },
   "outputs": [],
   "source": [
    "# SAG-specific files required:\n",
    "\n",
    "ex_recruit = recruits[0]\n",
    "ex_sag = op.basename(ex_recruit).split(\"_\")[0]\n",
    "ex_gff = \"/mnt/scgc/simon/simonsproject/bats248_annotations/gff/{}.gff\".format(ex_sag)\n",
    "ex_faa = \"/mnt/scgc/simon/simonsproject/bats248_annotations/faa/{}.faa\".format(ex_sag)\n",
    "assert op.exists(ex_gff)\n",
    "assert op.exists(ex_faa)"
   ]
  },
  {
   "cell_type": "code",
   "execution_count": 7,
   "metadata": {
    "collapsed": true
   },
   "outputs": [],
   "source": [
    "rdf = pd.read_csv(ex_recruit).fillna(0)\n",
    "\n",
    "# phage_contig_table(clstr_map, gff, phage_hits_df, outfile=None)\n",
    "mdf = phage_contig_table(cmap, ex_gff, phage_hits_df).reset_index().fillna(0)"
   ]
  },
  {
   "cell_type": "code",
   "execution_count": 8,
   "metadata": {
    "collapsed": true
   },
   "outputs": [],
   "source": [
    "vsdf = pd.merge(mdf, rdf, on='contig', how='outer')"
   ]
  },
  {
   "cell_type": "code",
   "execution_count": 9,
   "metadata": {
    "collapsed": true
   },
   "outputs": [],
   "source": [
    "vsdf['ratio_virus_bacteria'] = vsdf['fr_mg-vir'] / vsdf['fr_mg-bac']"
   ]
  },
  {
   "cell_type": "code",
   "execution_count": null,
   "metadata": {
    "collapsed": true
   },
   "outputs": [],
   "source": []
  },
  {
   "cell_type": "code",
   "execution_count": 11,
   "metadata": {
    "collapsed": true
   },
   "outputs": [],
   "source": [
    "training_file = '/mnt/scgc_nfs/opt/viruscope/virus-training.csv'"
   ]
  },
  {
   "cell_type": "code",
   "execution_count": 85,
   "metadata": {},
   "outputs": [
    {
     "data": {
      "text/plain": [
       "KNeighborsClassifier(algorithm='auto', leaf_size=30, metric='minkowski',\n",
       "           metric_params=None, n_jobs=1, n_neighbors=27, p=2,\n",
       "           weights='distance')"
      ]
     },
     "execution_count": 85,
     "metadata": {},
     "output_type": "execute_result"
    }
   ],
   "source": [
    "k = 27\n",
    "train_in = pd.read_table(training_file, sep = ',').dropna(axis = 0, how = 'any').reset_index()\n",
    "train_label = list(train_in.iloc[:,-1].values)\n",
    "train = train_in.loc[:,'viral_phage_gene_fraction':'ratio.virus.bacteria']\n",
    "train.columns = ['viral_phage_gene_fraction','ratio_virus_bacteria']\n",
    "# make the classifier and fit the trainign the data\n",
    "clf = neighbors.KNeighborsClassifier(k, weights='distance')\n",
    "clf.fit(train, train_label)"
   ]
  },
  {
   "cell_type": "code",
   "execution_count": 86,
   "metadata": {
    "collapsed": true
   },
   "outputs": [],
   "source": [
    "for_vclass = vsdf[['contig','viral_phage_gene_fraction','ratio_virus_bacteria']]\n",
    "test = for_vclass.dropna()"
   ]
  },
  {
   "cell_type": "code",
   "execution_count": 87,
   "metadata": {},
   "outputs": [
    {
     "name": "stderr",
     "output_type": "stream",
     "text": [
      "/mnt/scgc_nfs/opt/common/anaconda3/4.0.0/lib/python3.5/site-packages/ipykernel/__main__.py:2: SettingWithCopyWarning: \n",
      "A value is trying to be set on a copy of a slice from a DataFrame.\n",
      "Try using .loc[row_indexer,col_indexer] = value instead\n",
      "\n",
      "See the caveats in the documentation: http://pandas.pydata.org/pandas-docs/stable/indexing.html#indexing-view-versus-copy\n",
      "  from ipykernel import kernelapp as app\n"
     ]
    }
   ],
   "source": [
    "# make the prediction (aka classify)\n",
    "test['virus_class'] = clf.predict(test[['viral_phage_gene_fraction','ratio_virus_bacteria']])\n",
    "probs = clf.predict_proba(test[['viral_phage_gene_fraction','ratio_virus_bacteria']])"
   ]
  },
  {
   "cell_type": "code",
   "execution_count": 88,
   "metadata": {},
   "outputs": [
    {
     "name": "stderr",
     "output_type": "stream",
     "text": [
      "/mnt/scgc_nfs/opt/common/anaconda3/4.0.0/lib/python3.5/site-packages/ipykernel/__main__.py:1: SettingWithCopyWarning: \n",
      "A value is trying to be set on a copy of a slice from a DataFrame.\n",
      "Try using .loc[row_indexer,col_indexer] = value instead\n",
      "\n",
      "See the caveats in the documentation: http://pandas.pydata.org/pandas-docs/stable/indexing.html#indexing-view-versus-copy\n",
      "  if __name__ == '__main__':\n",
      "/mnt/scgc_nfs/opt/common/anaconda3/4.0.0/lib/python3.5/site-packages/ipykernel/__main__.py:2: SettingWithCopyWarning: \n",
      "A value is trying to be set on a copy of a slice from a DataFrame.\n",
      "Try using .loc[row_indexer,col_indexer] = value instead\n",
      "\n",
      "See the caveats in the documentation: http://pandas.pydata.org/pandas-docs/stable/indexing.html#indexing-view-versus-copy\n",
      "  from ipykernel import kernelapp as app\n"
     ]
    }
   ],
   "source": [
    "test['prob 0'] = [i[0] for i in probs]\n",
    "test['prob 1'] = [i[1] for i in probs]"
   ]
  },
  {
   "cell_type": "code",
   "execution_count": 99,
   "metadata": {
    "collapsed": true
   },
   "outputs": [],
   "source": [
    "def pval_by_count(clf, test_set, training_df, \n",
    "                  test_cols=['viral_phage_gene_fraction','ratio_virus_bacteria'],\n",
    "                 score_col='score'):\n",
    "    ns = clf.kneighbors(test[test_cols], return_distance=False)\n",
    "    pvals = []\n",
    "    \n",
    "    for l in ns:\n",
    "        ndf = training_df.loc[l,:]\n",
    "        pvals.append(Counter(ndf['score']).most_common()[0][1] / len(ndf))\n",
    "    return pvals"
   ]
  },
  {
   "cell_type": "code",
   "execution_count": 100,
   "metadata": {},
   "outputs": [
    {
     "data": {
      "text/plain": [
       "[1.0,\n",
       " 1.0,\n",
       " 1.0,\n",
       " 1.0,\n",
       " 1.0,\n",
       " 1.0,\n",
       " 1.0,\n",
       " 1.0,\n",
       " 1.0,\n",
       " 1.0,\n",
       " 1.0,\n",
       " 1.0,\n",
       " 1.0,\n",
       " 1.0,\n",
       " 1.0,\n",
       " 1.0,\n",
       " 1.0,\n",
       " 1.0,\n",
       " 1.0,\n",
       " 1.0,\n",
       " 1.0,\n",
       " 1.0,\n",
       " 1.0,\n",
       " 1.0,\n",
       " 1.0,\n",
       " 1.0,\n",
       " 1.0,\n",
       " 1.0,\n",
       " 1.0,\n",
       " 1.0,\n",
       " 1.0,\n",
       " 0.8888888888888888,\n",
       " 1.0,\n",
       " 1.0,\n",
       " 1.0,\n",
       " 1.0,\n",
       " 1.0,\n",
       " 0.8518518518518519]"
      ]
     },
     "execution_count": 100,
     "metadata": {},
     "output_type": "execute_result"
    }
   ],
   "source": [
    "pval_by_count(clf, test, train_in)"
   ]
  },
  {
   "cell_type": "code",
   "execution_count": 104,
   "metadata": {},
   "outputs": [
    {
     "data": {
      "text/html": [
       "<div>\n",
       "<table border=\"1\" class=\"dataframe\">\n",
       "  <thead>\n",
       "    <tr style=\"text-align: right;\">\n",
       "      <th></th>\n",
       "      <th>contig</th>\n",
       "      <th>viral_phage_gene_fraction</th>\n",
       "      <th>ratio_virus_bacteria</th>\n",
       "      <th>virus_class</th>\n",
       "      <th>prob 0</th>\n",
       "      <th>prob 1</th>\n",
       "    </tr>\n",
       "  </thead>\n",
       "  <tbody>\n",
       "    <tr>\n",
       "      <th>0</th>\n",
       "      <td>AG-891-A17_NODE_1</td>\n",
       "      <td>0.006024</td>\n",
       "      <td>0.135173</td>\n",
       "      <td>0.0</td>\n",
       "      <td>1.000000</td>\n",
       "      <td>0.000000</td>\n",
       "    </tr>\n",
       "    <tr>\n",
       "      <th>1</th>\n",
       "      <td>AG-891-A17_NODE_10</td>\n",
       "      <td>0.000000</td>\n",
       "      <td>0.181883</td>\n",
       "      <td>0.0</td>\n",
       "      <td>1.000000</td>\n",
       "      <td>0.000000</td>\n",
       "    </tr>\n",
       "    <tr>\n",
       "      <th>2</th>\n",
       "      <td>AG-891-A17_NODE_11</td>\n",
       "      <td>0.000000</td>\n",
       "      <td>0.118777</td>\n",
       "      <td>0.0</td>\n",
       "      <td>1.000000</td>\n",
       "      <td>0.000000</td>\n",
       "    </tr>\n",
       "    <tr>\n",
       "      <th>3</th>\n",
       "      <td>AG-891-A17_NODE_12</td>\n",
       "      <td>0.000000</td>\n",
       "      <td>0.076512</td>\n",
       "      <td>0.0</td>\n",
       "      <td>1.000000</td>\n",
       "      <td>0.000000</td>\n",
       "    </tr>\n",
       "    <tr>\n",
       "      <th>4</th>\n",
       "      <td>AG-891-A17_NODE_13</td>\n",
       "      <td>0.000000</td>\n",
       "      <td>0.160627</td>\n",
       "      <td>0.0</td>\n",
       "      <td>1.000000</td>\n",
       "      <td>0.000000</td>\n",
       "    </tr>\n",
       "    <tr>\n",
       "      <th>5</th>\n",
       "      <td>AG-891-A17_NODE_14</td>\n",
       "      <td>0.000000</td>\n",
       "      <td>0.125048</td>\n",
       "      <td>0.0</td>\n",
       "      <td>1.000000</td>\n",
       "      <td>0.000000</td>\n",
       "    </tr>\n",
       "    <tr>\n",
       "      <th>6</th>\n",
       "      <td>AG-891-A17_NODE_15</td>\n",
       "      <td>0.000000</td>\n",
       "      <td>0.093360</td>\n",
       "      <td>0.0</td>\n",
       "      <td>1.000000</td>\n",
       "      <td>0.000000</td>\n",
       "    </tr>\n",
       "    <tr>\n",
       "      <th>7</th>\n",
       "      <td>AG-891-A17_NODE_16</td>\n",
       "      <td>0.000000</td>\n",
       "      <td>0.094583</td>\n",
       "      <td>0.0</td>\n",
       "      <td>1.000000</td>\n",
       "      <td>0.000000</td>\n",
       "    </tr>\n",
       "    <tr>\n",
       "      <th>8</th>\n",
       "      <td>AG-891-A17_NODE_17</td>\n",
       "      <td>0.000000</td>\n",
       "      <td>0.362696</td>\n",
       "      <td>0.0</td>\n",
       "      <td>1.000000</td>\n",
       "      <td>0.000000</td>\n",
       "    </tr>\n",
       "    <tr>\n",
       "      <th>9</th>\n",
       "      <td>AG-891-A17_NODE_18</td>\n",
       "      <td>0.000000</td>\n",
       "      <td>0.051818</td>\n",
       "      <td>0.0</td>\n",
       "      <td>1.000000</td>\n",
       "      <td>0.000000</td>\n",
       "    </tr>\n",
       "    <tr>\n",
       "      <th>10</th>\n",
       "      <td>AG-891-A17_NODE_19</td>\n",
       "      <td>0.000000</td>\n",
       "      <td>0.131205</td>\n",
       "      <td>0.0</td>\n",
       "      <td>1.000000</td>\n",
       "      <td>0.000000</td>\n",
       "    </tr>\n",
       "    <tr>\n",
       "      <th>11</th>\n",
       "      <td>AG-891-A17_NODE_2</td>\n",
       "      <td>0.000000</td>\n",
       "      <td>0.136925</td>\n",
       "      <td>0.0</td>\n",
       "      <td>1.000000</td>\n",
       "      <td>0.000000</td>\n",
       "    </tr>\n",
       "    <tr>\n",
       "      <th>12</th>\n",
       "      <td>AG-891-A17_NODE_20</td>\n",
       "      <td>0.000000</td>\n",
       "      <td>0.160842</td>\n",
       "      <td>0.0</td>\n",
       "      <td>1.000000</td>\n",
       "      <td>0.000000</td>\n",
       "    </tr>\n",
       "    <tr>\n",
       "      <th>13</th>\n",
       "      <td>AG-891-A17_NODE_21</td>\n",
       "      <td>0.000000</td>\n",
       "      <td>0.356785</td>\n",
       "      <td>0.0</td>\n",
       "      <td>1.000000</td>\n",
       "      <td>0.000000</td>\n",
       "    </tr>\n",
       "    <tr>\n",
       "      <th>14</th>\n",
       "      <td>AG-891-A17_NODE_22</td>\n",
       "      <td>0.000000</td>\n",
       "      <td>0.108304</td>\n",
       "      <td>0.0</td>\n",
       "      <td>1.000000</td>\n",
       "      <td>0.000000</td>\n",
       "    </tr>\n",
       "    <tr>\n",
       "      <th>15</th>\n",
       "      <td>AG-891-A17_NODE_23</td>\n",
       "      <td>0.000000</td>\n",
       "      <td>0.092550</td>\n",
       "      <td>0.0</td>\n",
       "      <td>1.000000</td>\n",
       "      <td>0.000000</td>\n",
       "    </tr>\n",
       "    <tr>\n",
       "      <th>16</th>\n",
       "      <td>AG-891-A17_NODE_24</td>\n",
       "      <td>0.000000</td>\n",
       "      <td>0.242279</td>\n",
       "      <td>0.0</td>\n",
       "      <td>1.000000</td>\n",
       "      <td>0.000000</td>\n",
       "    </tr>\n",
       "    <tr>\n",
       "      <th>17</th>\n",
       "      <td>AG-891-A17_NODE_25</td>\n",
       "      <td>0.000000</td>\n",
       "      <td>0.077782</td>\n",
       "      <td>0.0</td>\n",
       "      <td>1.000000</td>\n",
       "      <td>0.000000</td>\n",
       "    </tr>\n",
       "    <tr>\n",
       "      <th>18</th>\n",
       "      <td>AG-891-A17_NODE_26</td>\n",
       "      <td>0.000000</td>\n",
       "      <td>0.076175</td>\n",
       "      <td>0.0</td>\n",
       "      <td>1.000000</td>\n",
       "      <td>0.000000</td>\n",
       "    </tr>\n",
       "    <tr>\n",
       "      <th>19</th>\n",
       "      <td>AG-891-A17_NODE_27</td>\n",
       "      <td>0.000000</td>\n",
       "      <td>0.066667</td>\n",
       "      <td>0.0</td>\n",
       "      <td>1.000000</td>\n",
       "      <td>0.000000</td>\n",
       "    </tr>\n",
       "    <tr>\n",
       "      <th>20</th>\n",
       "      <td>AG-891-A17_NODE_28</td>\n",
       "      <td>0.000000</td>\n",
       "      <td>0.207578</td>\n",
       "      <td>0.0</td>\n",
       "      <td>1.000000</td>\n",
       "      <td>0.000000</td>\n",
       "    </tr>\n",
       "    <tr>\n",
       "      <th>21</th>\n",
       "      <td>AG-891-A17_NODE_29</td>\n",
       "      <td>0.000000</td>\n",
       "      <td>0.089833</td>\n",
       "      <td>0.0</td>\n",
       "      <td>1.000000</td>\n",
       "      <td>0.000000</td>\n",
       "    </tr>\n",
       "    <tr>\n",
       "      <th>22</th>\n",
       "      <td>AG-891-A17_NODE_3</td>\n",
       "      <td>0.000000</td>\n",
       "      <td>0.212010</td>\n",
       "      <td>0.0</td>\n",
       "      <td>1.000000</td>\n",
       "      <td>0.000000</td>\n",
       "    </tr>\n",
       "    <tr>\n",
       "      <th>23</th>\n",
       "      <td>AG-891-A17_NODE_30</td>\n",
       "      <td>0.000000</td>\n",
       "      <td>0.442389</td>\n",
       "      <td>0.0</td>\n",
       "      <td>1.000000</td>\n",
       "      <td>0.000000</td>\n",
       "    </tr>\n",
       "    <tr>\n",
       "      <th>24</th>\n",
       "      <td>AG-891-A17_NODE_31</td>\n",
       "      <td>0.000000</td>\n",
       "      <td>0.084246</td>\n",
       "      <td>0.0</td>\n",
       "      <td>1.000000</td>\n",
       "      <td>0.000000</td>\n",
       "    </tr>\n",
       "    <tr>\n",
       "      <th>25</th>\n",
       "      <td>AG-891-A17_NODE_32</td>\n",
       "      <td>0.000000</td>\n",
       "      <td>0.093698</td>\n",
       "      <td>0.0</td>\n",
       "      <td>1.000000</td>\n",
       "      <td>0.000000</td>\n",
       "    </tr>\n",
       "    <tr>\n",
       "      <th>26</th>\n",
       "      <td>AG-891-A17_NODE_33</td>\n",
       "      <td>0.000000</td>\n",
       "      <td>1.279046</td>\n",
       "      <td>0.0</td>\n",
       "      <td>1.000000</td>\n",
       "      <td>0.000000</td>\n",
       "    </tr>\n",
       "    <tr>\n",
       "      <th>27</th>\n",
       "      <td>AG-891-A17_NODE_34</td>\n",
       "      <td>0.000000</td>\n",
       "      <td>0.121568</td>\n",
       "      <td>0.0</td>\n",
       "      <td>1.000000</td>\n",
       "      <td>0.000000</td>\n",
       "    </tr>\n",
       "    <tr>\n",
       "      <th>28</th>\n",
       "      <td>AG-891-A17_NODE_35</td>\n",
       "      <td>0.000000</td>\n",
       "      <td>0.154265</td>\n",
       "      <td>0.0</td>\n",
       "      <td>1.000000</td>\n",
       "      <td>0.000000</td>\n",
       "    </tr>\n",
       "    <tr>\n",
       "      <th>29</th>\n",
       "      <td>AG-891-A17_NODE_36</td>\n",
       "      <td>0.000000</td>\n",
       "      <td>0.000000</td>\n",
       "      <td>0.0</td>\n",
       "      <td>1.000000</td>\n",
       "      <td>0.000000</td>\n",
       "    </tr>\n",
       "    <tr>\n",
       "      <th>30</th>\n",
       "      <td>AG-891-A17_NODE_37</td>\n",
       "      <td>0.000000</td>\n",
       "      <td>0.124516</td>\n",
       "      <td>0.0</td>\n",
       "      <td>1.000000</td>\n",
       "      <td>0.000000</td>\n",
       "    </tr>\n",
       "    <tr>\n",
       "      <th>31</th>\n",
       "      <td>AG-891-A17_NODE_38</td>\n",
       "      <td>0.833333</td>\n",
       "      <td>373.609693</td>\n",
       "      <td>1.0</td>\n",
       "      <td>0.086519</td>\n",
       "      <td>0.913481</td>\n",
       "    </tr>\n",
       "    <tr>\n",
       "      <th>33</th>\n",
       "      <td>AG-891-A17_NODE_4</td>\n",
       "      <td>0.000000</td>\n",
       "      <td>0.232697</td>\n",
       "      <td>0.0</td>\n",
       "      <td>1.000000</td>\n",
       "      <td>0.000000</td>\n",
       "    </tr>\n",
       "    <tr>\n",
       "      <th>34</th>\n",
       "      <td>AG-891-A17_NODE_5</td>\n",
       "      <td>0.000000</td>\n",
       "      <td>0.166067</td>\n",
       "      <td>0.0</td>\n",
       "      <td>1.000000</td>\n",
       "      <td>0.000000</td>\n",
       "    </tr>\n",
       "    <tr>\n",
       "      <th>35</th>\n",
       "      <td>AG-891-A17_NODE_6</td>\n",
       "      <td>0.000000</td>\n",
       "      <td>0.118311</td>\n",
       "      <td>0.0</td>\n",
       "      <td>1.000000</td>\n",
       "      <td>0.000000</td>\n",
       "    </tr>\n",
       "    <tr>\n",
       "      <th>36</th>\n",
       "      <td>AG-891-A17_NODE_7</td>\n",
       "      <td>0.000000</td>\n",
       "      <td>0.118510</td>\n",
       "      <td>0.0</td>\n",
       "      <td>1.000000</td>\n",
       "      <td>0.000000</td>\n",
       "    </tr>\n",
       "    <tr>\n",
       "      <th>37</th>\n",
       "      <td>AG-891-A17_NODE_8</td>\n",
       "      <td>0.000000</td>\n",
       "      <td>0.131797</td>\n",
       "      <td>0.0</td>\n",
       "      <td>1.000000</td>\n",
       "      <td>0.000000</td>\n",
       "    </tr>\n",
       "    <tr>\n",
       "      <th>38</th>\n",
       "      <td>AG-891-A17_NODE_9</td>\n",
       "      <td>0.863636</td>\n",
       "      <td>110.496064</td>\n",
       "      <td>1.0</td>\n",
       "      <td>0.034462</td>\n",
       "      <td>0.965538</td>\n",
       "    </tr>\n",
       "  </tbody>\n",
       "</table>\n",
       "</div>"
      ],
      "text/plain": [
       "                contig  viral_phage_gene_fraction  ratio_virus_bacteria  \\\n",
       "0    AG-891-A17_NODE_1                   0.006024              0.135173   \n",
       "1   AG-891-A17_NODE_10                   0.000000              0.181883   \n",
       "2   AG-891-A17_NODE_11                   0.000000              0.118777   \n",
       "3   AG-891-A17_NODE_12                   0.000000              0.076512   \n",
       "4   AG-891-A17_NODE_13                   0.000000              0.160627   \n",
       "5   AG-891-A17_NODE_14                   0.000000              0.125048   \n",
       "6   AG-891-A17_NODE_15                   0.000000              0.093360   \n",
       "7   AG-891-A17_NODE_16                   0.000000              0.094583   \n",
       "8   AG-891-A17_NODE_17                   0.000000              0.362696   \n",
       "9   AG-891-A17_NODE_18                   0.000000              0.051818   \n",
       "10  AG-891-A17_NODE_19                   0.000000              0.131205   \n",
       "11   AG-891-A17_NODE_2                   0.000000              0.136925   \n",
       "12  AG-891-A17_NODE_20                   0.000000              0.160842   \n",
       "13  AG-891-A17_NODE_21                   0.000000              0.356785   \n",
       "14  AG-891-A17_NODE_22                   0.000000              0.108304   \n",
       "15  AG-891-A17_NODE_23                   0.000000              0.092550   \n",
       "16  AG-891-A17_NODE_24                   0.000000              0.242279   \n",
       "17  AG-891-A17_NODE_25                   0.000000              0.077782   \n",
       "18  AG-891-A17_NODE_26                   0.000000              0.076175   \n",
       "19  AG-891-A17_NODE_27                   0.000000              0.066667   \n",
       "20  AG-891-A17_NODE_28                   0.000000              0.207578   \n",
       "21  AG-891-A17_NODE_29                   0.000000              0.089833   \n",
       "22   AG-891-A17_NODE_3                   0.000000              0.212010   \n",
       "23  AG-891-A17_NODE_30                   0.000000              0.442389   \n",
       "24  AG-891-A17_NODE_31                   0.000000              0.084246   \n",
       "25  AG-891-A17_NODE_32                   0.000000              0.093698   \n",
       "26  AG-891-A17_NODE_33                   0.000000              1.279046   \n",
       "27  AG-891-A17_NODE_34                   0.000000              0.121568   \n",
       "28  AG-891-A17_NODE_35                   0.000000              0.154265   \n",
       "29  AG-891-A17_NODE_36                   0.000000              0.000000   \n",
       "30  AG-891-A17_NODE_37                   0.000000              0.124516   \n",
       "31  AG-891-A17_NODE_38                   0.833333            373.609693   \n",
       "33   AG-891-A17_NODE_4                   0.000000              0.232697   \n",
       "34   AG-891-A17_NODE_5                   0.000000              0.166067   \n",
       "35   AG-891-A17_NODE_6                   0.000000              0.118311   \n",
       "36   AG-891-A17_NODE_7                   0.000000              0.118510   \n",
       "37   AG-891-A17_NODE_8                   0.000000              0.131797   \n",
       "38   AG-891-A17_NODE_9                   0.863636            110.496064   \n",
       "\n",
       "    virus_class    prob 0    prob 1  \n",
       "0           0.0  1.000000  0.000000  \n",
       "1           0.0  1.000000  0.000000  \n",
       "2           0.0  1.000000  0.000000  \n",
       "3           0.0  1.000000  0.000000  \n",
       "4           0.0  1.000000  0.000000  \n",
       "5           0.0  1.000000  0.000000  \n",
       "6           0.0  1.000000  0.000000  \n",
       "7           0.0  1.000000  0.000000  \n",
       "8           0.0  1.000000  0.000000  \n",
       "9           0.0  1.000000  0.000000  \n",
       "10          0.0  1.000000  0.000000  \n",
       "11          0.0  1.000000  0.000000  \n",
       "12          0.0  1.000000  0.000000  \n",
       "13          0.0  1.000000  0.000000  \n",
       "14          0.0  1.000000  0.000000  \n",
       "15          0.0  1.000000  0.000000  \n",
       "16          0.0  1.000000  0.000000  \n",
       "17          0.0  1.000000  0.000000  \n",
       "18          0.0  1.000000  0.000000  \n",
       "19          0.0  1.000000  0.000000  \n",
       "20          0.0  1.000000  0.000000  \n",
       "21          0.0  1.000000  0.000000  \n",
       "22          0.0  1.000000  0.000000  \n",
       "23          0.0  1.000000  0.000000  \n",
       "24          0.0  1.000000  0.000000  \n",
       "25          0.0  1.000000  0.000000  \n",
       "26          0.0  1.000000  0.000000  \n",
       "27          0.0  1.000000  0.000000  \n",
       "28          0.0  1.000000  0.000000  \n",
       "29          0.0  1.000000  0.000000  \n",
       "30          0.0  1.000000  0.000000  \n",
       "31          1.0  0.086519  0.913481  \n",
       "33          0.0  1.000000  0.000000  \n",
       "34          0.0  1.000000  0.000000  \n",
       "35          0.0  1.000000  0.000000  \n",
       "36          0.0  1.000000  0.000000  \n",
       "37          0.0  1.000000  0.000000  \n",
       "38          1.0  0.034462  0.965538  "
      ]
     },
     "execution_count": 104,
     "metadata": {},
     "output_type": "execute_result"
    }
   ],
   "source": [
    "test"
   ]
  },
  {
   "cell_type": "code",
   "execution_count": 98,
   "metadata": {
    "collapsed": true
   },
   "outputs": [],
   "source": [
    "?clf.kneighbors"
   ]
  },
  {
   "cell_type": "code",
   "execution_count": null,
   "metadata": {
    "collapsed": true
   },
   "outputs": [],
   "source": []
  },
  {
   "cell_type": "code",
   "execution_count": null,
   "metadata": {
    "collapsed": true
   },
   "outputs": [],
   "source": []
  },
  {
   "cell_type": "code",
   "execution_count": 51,
   "metadata": {},
   "outputs": [
    {
     "data": {
      "text/html": [
       "<div>\n",
       "<table border=\"1\" class=\"dataframe\">\n",
       "  <thead>\n",
       "    <tr style=\"text-align: right;\">\n",
       "      <th></th>\n",
       "      <th>viral_phage_gene_fraction</th>\n",
       "      <th>ratio_virus_bacteria</th>\n",
       "    </tr>\n",
       "  </thead>\n",
       "  <tbody>\n",
       "    <tr>\n",
       "      <th>31</th>\n",
       "      <td>0.833333</td>\n",
       "      <td>373.609693</td>\n",
       "    </tr>\n",
       "  </tbody>\n",
       "</table>\n",
       "</div>"
      ],
      "text/plain": [
       "    viral_phage_gene_fraction  ratio_virus_bacteria\n",
       "31                   0.833333            373.609693"
      ]
     },
     "execution_count": 51,
     "metadata": {},
     "output_type": "execute_result"
    }
   ],
   "source": [
    "test[['viral_phage_gene_fraction','ratio_virus_bacteria']][31:32]"
   ]
  },
  {
   "cell_type": "code",
   "execution_count": 58,
   "metadata": {},
   "outputs": [
    {
     "data": {
      "text/plain": [
       "array([2484, 2485, 2487, 2477, 2483, 2468,    9, 2488, 2476, 2472, 2463,\n",
       "       2499, 2481, 2455, 2470, 2489, 2482, 2493, 2496, 2480, 2192, 2467,\n",
       "       2471, 2464, 2501, 2420, 2492])"
      ]
     },
     "execution_count": 58,
     "metadata": {},
     "output_type": "execute_result"
    }
   ],
   "source": [
    "neighs[31]"
   ]
  },
  {
   "cell_type": "code",
   "execution_count": 24,
   "metadata": {},
   "outputs": [
    {
     "ename": "ValueError",
     "evalue": "Expected 2D array, got 1D array instead:\narray=[ 0.0060241   0.13517296].\nReshape your data either using array.reshape(-1, 1) if your data has a single feature or array.reshape(1, -1) if it contains a single sample.",
     "output_type": "error",
     "traceback": [
      "\u001b[1;31m---------------------------------------------------------------------------\u001b[0m",
      "\u001b[1;31mValueError\u001b[0m                                Traceback (most recent call last)",
      "\u001b[1;32m<ipython-input-24-c11f3aed981c>\u001b[0m in \u001b[0;36m<module>\u001b[1;34m()\u001b[0m\n\u001b[0;32m      1\u001b[0m \u001b[1;32mfor\u001b[0m \u001b[0mi\u001b[0m\u001b[1;33m,\u001b[0m \u001b[0ml\u001b[0m \u001b[1;32min\u001b[0m \u001b[0mtest\u001b[0m\u001b[1;33m.\u001b[0m\u001b[0miterrows\u001b[0m\u001b[1;33m(\u001b[0m\u001b[1;33m)\u001b[0m\u001b[1;33m:\u001b[0m\u001b[1;33m\u001b[0m\u001b[0m\n\u001b[1;32m----> 2\u001b[1;33m     \u001b[0mprint\u001b[0m\u001b[1;33m(\u001b[0m\u001b[0mclf\u001b[0m\u001b[1;33m.\u001b[0m\u001b[0mkneighbors\u001b[0m\u001b[1;33m(\u001b[0m\u001b[1;33m[\u001b[0m\u001b[0ml\u001b[0m\u001b[1;33m[\u001b[0m\u001b[1;34m'viral_phage_gene_fraction'\u001b[0m\u001b[1;33m]\u001b[0m\u001b[1;33m,\u001b[0m \u001b[0ml\u001b[0m\u001b[1;33m[\u001b[0m\u001b[1;34m'ratio_virus_bacteria'\u001b[0m\u001b[1;33m]\u001b[0m\u001b[1;33m]\u001b[0m\u001b[1;33m)\u001b[0m\u001b[1;33m)\u001b[0m\u001b[1;33m\u001b[0m\u001b[0m\n\u001b[0m\u001b[0;32m      3\u001b[0m     \u001b[1;32mif\u001b[0m \u001b[0mi\u001b[0m \u001b[1;33m==\u001b[0m \u001b[1;36m3\u001b[0m\u001b[1;33m:\u001b[0m\u001b[1;33m\u001b[0m\u001b[0m\n\u001b[0;32m      4\u001b[0m         \u001b[1;32mbreak\u001b[0m\u001b[1;33m\u001b[0m\u001b[0m\n",
      "\u001b[1;32m/mnt/scgc_nfs/opt/common/anaconda3/4.0.0/lib/python3.5/site-packages/sklearn/neighbors/base.py\u001b[0m in \u001b[0;36mkneighbors\u001b[1;34m(self, X, n_neighbors, return_distance)\u001b[0m\n\u001b[0;32m    332\u001b[0m         \u001b[1;32mif\u001b[0m \u001b[0mX\u001b[0m \u001b[1;32mis\u001b[0m \u001b[1;32mnot\u001b[0m \u001b[1;32mNone\u001b[0m\u001b[1;33m:\u001b[0m\u001b[1;33m\u001b[0m\u001b[0m\n\u001b[0;32m    333\u001b[0m             \u001b[0mquery_is_train\u001b[0m \u001b[1;33m=\u001b[0m \u001b[1;32mFalse\u001b[0m\u001b[1;33m\u001b[0m\u001b[0m\n\u001b[1;32m--> 334\u001b[1;33m             \u001b[0mX\u001b[0m \u001b[1;33m=\u001b[0m \u001b[0mcheck_array\u001b[0m\u001b[1;33m(\u001b[0m\u001b[0mX\u001b[0m\u001b[1;33m,\u001b[0m \u001b[0maccept_sparse\u001b[0m\u001b[1;33m=\u001b[0m\u001b[1;34m'csr'\u001b[0m\u001b[1;33m)\u001b[0m\u001b[1;33m\u001b[0m\u001b[0m\n\u001b[0m\u001b[0;32m    335\u001b[0m         \u001b[1;32melse\u001b[0m\u001b[1;33m:\u001b[0m\u001b[1;33m\u001b[0m\u001b[0m\n\u001b[0;32m    336\u001b[0m             \u001b[0mquery_is_train\u001b[0m \u001b[1;33m=\u001b[0m \u001b[1;32mTrue\u001b[0m\u001b[1;33m\u001b[0m\u001b[0m\n",
      "\u001b[1;32m/mnt/scgc_nfs/opt/common/anaconda3/4.0.0/lib/python3.5/site-packages/sklearn/utils/validation.py\u001b[0m in \u001b[0;36mcheck_array\u001b[1;34m(array, accept_sparse, dtype, order, copy, force_all_finite, ensure_2d, allow_nd, ensure_min_samples, ensure_min_features, warn_on_dtype, estimator)\u001b[0m\n\u001b[0;32m    439\u001b[0m                     \u001b[1;34m\"Reshape your data either using array.reshape(-1, 1) if \"\u001b[0m\u001b[1;33m\u001b[0m\u001b[0m\n\u001b[0;32m    440\u001b[0m                     \u001b[1;34m\"your data has a single feature or array.reshape(1, -1) \"\u001b[0m\u001b[1;33m\u001b[0m\u001b[0m\n\u001b[1;32m--> 441\u001b[1;33m                     \"if it contains a single sample.\".format(array))\n\u001b[0m\u001b[0;32m    442\u001b[0m             \u001b[0marray\u001b[0m \u001b[1;33m=\u001b[0m \u001b[0mnp\u001b[0m\u001b[1;33m.\u001b[0m\u001b[0matleast_2d\u001b[0m\u001b[1;33m(\u001b[0m\u001b[0marray\u001b[0m\u001b[1;33m)\u001b[0m\u001b[1;33m\u001b[0m\u001b[0m\n\u001b[0;32m    443\u001b[0m             \u001b[1;31m# To ensure that array flags are maintained\u001b[0m\u001b[1;33m\u001b[0m\u001b[1;33m\u001b[0m\u001b[0m\n",
      "\u001b[1;31mValueError\u001b[0m: Expected 2D array, got 1D array instead:\narray=[ 0.0060241   0.13517296].\nReshape your data either using array.reshape(-1, 1) if your data has a single feature or array.reshape(1, -1) if it contains a single sample."
     ]
    }
   ],
   "source": [
    "for i, l in test.iterrows():\n",
    "    print(clf.kneighbors([l['viral_phage_gene_fraction'], l['ratio_virus_bacteria']]))\n",
    "    if i == 3:\n",
    "        break"
   ]
  },
  {
   "cell_type": "code",
   "execution_count": 123,
   "metadata": {},
   "outputs": [
    {
     "name": "stderr",
     "output_type": "stream",
     "text": [
      "/mnt/scgc_nfs/opt/common/anaconda3/4.0.0/lib/python3.5/site-packages/ipykernel/__main__.py:1: SettingWithCopyWarning: \n",
      "A value is trying to be set on a copy of a slice from a DataFrame.\n",
      "Try using .loc[row_indexer,col_indexer] = value instead\n",
      "\n",
      "See the caveats in the documentation: http://pandas.pydata.org/pandas-docs/stable/indexing.html#indexing-view-versus-copy\n",
      "  if __name__ == '__main__':\n"
     ]
    }
   ],
   "source": [
    "test['prob_all'] = [l['prob 0'] if l['virus_class'] == 0 else l['prob 1'] for i, l in test.iterrows()]"
   ]
  },
  {
   "cell_type": "code",
   "execution_count": 224,
   "metadata": {
    "collapsed": true
   },
   "outputs": [],
   "source": [
    "def virus_class(vsdf, test_cols = ['viral_phage_gene_fraction','ratio_virus_bacteria'], \n",
    "                training_file = '/mnt/scgc_nfs/opt/viruscope/virus-training.csv', \n",
    "                k = 27, score_col='score'):\n",
    "    ''' function for determining virus class using KNeighborsClassifier\n",
    "    Args:\n",
    "        vsdf (pandas.DataFrame): viruscope dataframe having the the two calculated test columns and a contigs column included\n",
    "        test_cols (list): list of names for test columns to be used for KNeighbors Classifier\n",
    "        training_file (path): path to the training file for the knn algorithm\n",
    "        k (int): number of nearest neighbors\n",
    "        score_col(str): name of score column to use for training\n",
    "    Returns:\n",
    "        dataframe with columns: contig, virus_class, probability\n",
    "    '''\n",
    "    def _pval_by_count(clf, test_set, training_df, \n",
    "                  test_cols=['viral_phage_gene_fraction','ratio_virus_bacteria'],\n",
    "                 score_col='score'):\n",
    "        \n",
    "        ''' \n",
    "        function for calculating probability that matches the previously used R function \n",
    "        \n",
    "        Args:\n",
    "            clf: KNeighborsClassifier object\n",
    "            test_set: dataframe used to test knn algorithm on\n",
    "            training_df: dataframe used to train knn\n",
    "            test_cols: columns in above dataframes used to train the knn algorithm\n",
    "            score_col: column in training algorithm that reports the score\n",
    "        Returns: \n",
    "            list of pvalues in same order as rows in test_set dataframe\n",
    "        '''\n",
    "        \n",
    "        ns = clf.kneighbors(test[test_cols], return_distance=False)\n",
    "        pvals = []\n",
    "\n",
    "        for l in ns:\n",
    "            ndf = training_df.loc[l,:]\n",
    "            pvals.append(Counter(ndf['score']).most_common()[0][1] / len(ndf))\n",
    "        return pvals\n",
    "    \n",
    "    train_in = pd.read_table(training_file, sep = ',').dropna(axis = 0, how = 'any').reset_index()\n",
    "    train_in.rename(columns={'ratio.virus.bacteria':'ratio_virus_bacteria'}, inplace=True)\n",
    "    train_in[test_cols[0]] = np.log10(train_in[test_cols[0]] + .001)\n",
    "    train_in[test_cols[1]] = np.log10(train_in[test_cols[1]])\n",
    "    train_label = list(train_in.iloc[:,-1].values)\n",
    "    in_train = train_in[test_cols]\n",
    "    in_train.columns = test_cols\n",
    "    \n",
    "    # make the classifier and fit the training the data\n",
    "    \n",
    "    clf = neighbors.KNeighborsClassifier(k, weights='distance', algorithm='auto')\n",
    "    clf.fit(in_train, train_label)\n",
    "    \n",
    "    test = vsdf[['contig'] + test_cols].dropna()\n",
    "    test[test_cols[0]] = np.log10(test[test_cols[0]] + .001)\n",
    "    test[test_cols[1]] = np.log10(test[test_cols[1]])\n",
    "    \n",
    "    test['virus_class'] = clf.predict(test[test_cols])\n",
    "    probs = clf.predict_proba(test[test_cols])\n",
    "    # built in probability function\n",
    "    #test['prob 0'] = [i[0] for i in probs]\n",
    "    #test['prob 1'] = [i[1] for i in probs]\n",
    "    #test['prob_all'] = [l['prob 0'] if l['virus_class'] == 0 else l['prob 1'] for i, l in test.iterrows()]\n",
    "    \n",
    "    test['virus_prob'] = _pval_by_count(clf, test, train_in, test_cols, score_col)\n",
    "    \n",
    "    return test[['contig','virus_class','virus_prob']]"
   ]
  },
  {
   "cell_type": "code",
   "execution_count": 225,
   "metadata": {
    "collapsed": true
   },
   "outputs": [],
   "source": [
    "test_df = pd.read_csv(\"/mnt/scgc/simon/simonsproject/jb_vs_test/AG-891/AG-891-A17/summary/AG-891-A17_contigs-summary.csv.gz\")\n",
    "\n",
    "test_df.rename(columns={'Unnamed: 0':'contig'}, inplace=True)"
   ]
  },
  {
   "cell_type": "code",
   "execution_count": 226,
   "metadata": {},
   "outputs": [
    {
     "data": {
      "text/html": [
       "<div>\n",
       "<table border=\"1\" class=\"dataframe\">\n",
       "  <thead>\n",
       "    <tr style=\"text-align: right;\">\n",
       "      <th></th>\n",
       "      <th>contig</th>\n",
       "      <th>virus_class</th>\n",
       "      <th>virus_prob</th>\n",
       "    </tr>\n",
       "  </thead>\n",
       "  <tbody>\n",
       "    <tr>\n",
       "      <th>0</th>\n",
       "      <td>AG-891-A17_NODE_1</td>\n",
       "      <td>0.0</td>\n",
       "      <td>1.000000</td>\n",
       "    </tr>\n",
       "    <tr>\n",
       "      <th>1</th>\n",
       "      <td>AG-891-A17_NODE_2</td>\n",
       "      <td>0.0</td>\n",
       "      <td>1.000000</td>\n",
       "    </tr>\n",
       "    <tr>\n",
       "      <th>2</th>\n",
       "      <td>AG-891-A17_NODE_3</td>\n",
       "      <td>0.0</td>\n",
       "      <td>1.000000</td>\n",
       "    </tr>\n",
       "    <tr>\n",
       "      <th>3</th>\n",
       "      <td>AG-891-A17_NODE_4</td>\n",
       "      <td>0.0</td>\n",
       "      <td>1.000000</td>\n",
       "    </tr>\n",
       "    <tr>\n",
       "      <th>4</th>\n",
       "      <td>AG-891-A17_NODE_5</td>\n",
       "      <td>0.0</td>\n",
       "      <td>1.000000</td>\n",
       "    </tr>\n",
       "    <tr>\n",
       "      <th>5</th>\n",
       "      <td>AG-891-A17_NODE_6</td>\n",
       "      <td>0.0</td>\n",
       "      <td>1.000000</td>\n",
       "    </tr>\n",
       "    <tr>\n",
       "      <th>6</th>\n",
       "      <td>AG-891-A17_NODE_7</td>\n",
       "      <td>0.0</td>\n",
       "      <td>1.000000</td>\n",
       "    </tr>\n",
       "    <tr>\n",
       "      <th>7</th>\n",
       "      <td>AG-891-A17_NODE_8</td>\n",
       "      <td>0.0</td>\n",
       "      <td>1.000000</td>\n",
       "    </tr>\n",
       "    <tr>\n",
       "      <th>8</th>\n",
       "      <td>AG-891-A17_NODE_9</td>\n",
       "      <td>1.0</td>\n",
       "      <td>0.962963</td>\n",
       "    </tr>\n",
       "    <tr>\n",
       "      <th>9</th>\n",
       "      <td>AG-891-A17_NODE_10</td>\n",
       "      <td>0.0</td>\n",
       "      <td>1.000000</td>\n",
       "    </tr>\n",
       "    <tr>\n",
       "      <th>10</th>\n",
       "      <td>AG-891-A17_NODE_11</td>\n",
       "      <td>0.0</td>\n",
       "      <td>1.000000</td>\n",
       "    </tr>\n",
       "    <tr>\n",
       "      <th>11</th>\n",
       "      <td>AG-891-A17_NODE_12</td>\n",
       "      <td>0.0</td>\n",
       "      <td>1.000000</td>\n",
       "    </tr>\n",
       "    <tr>\n",
       "      <th>12</th>\n",
       "      <td>AG-891-A17_NODE_13</td>\n",
       "      <td>0.0</td>\n",
       "      <td>1.000000</td>\n",
       "    </tr>\n",
       "    <tr>\n",
       "      <th>13</th>\n",
       "      <td>AG-891-A17_NODE_14</td>\n",
       "      <td>0.0</td>\n",
       "      <td>1.000000</td>\n",
       "    </tr>\n",
       "    <tr>\n",
       "      <th>14</th>\n",
       "      <td>AG-891-A17_NODE_15</td>\n",
       "      <td>0.0</td>\n",
       "      <td>1.000000</td>\n",
       "    </tr>\n",
       "    <tr>\n",
       "      <th>15</th>\n",
       "      <td>AG-891-A17_NODE_16</td>\n",
       "      <td>0.0</td>\n",
       "      <td>1.000000</td>\n",
       "    </tr>\n",
       "    <tr>\n",
       "      <th>16</th>\n",
       "      <td>AG-891-A17_NODE_17</td>\n",
       "      <td>0.0</td>\n",
       "      <td>1.000000</td>\n",
       "    </tr>\n",
       "    <tr>\n",
       "      <th>17</th>\n",
       "      <td>AG-891-A17_NODE_18</td>\n",
       "      <td>0.0</td>\n",
       "      <td>1.000000</td>\n",
       "    </tr>\n",
       "    <tr>\n",
       "      <th>18</th>\n",
       "      <td>AG-891-A17_NODE_19</td>\n",
       "      <td>0.0</td>\n",
       "      <td>1.000000</td>\n",
       "    </tr>\n",
       "    <tr>\n",
       "      <th>19</th>\n",
       "      <td>AG-891-A17_NODE_20</td>\n",
       "      <td>0.0</td>\n",
       "      <td>1.000000</td>\n",
       "    </tr>\n",
       "    <tr>\n",
       "      <th>20</th>\n",
       "      <td>AG-891-A17_NODE_21</td>\n",
       "      <td>0.0</td>\n",
       "      <td>1.000000</td>\n",
       "    </tr>\n",
       "    <tr>\n",
       "      <th>21</th>\n",
       "      <td>AG-891-A17_NODE_22</td>\n",
       "      <td>0.0</td>\n",
       "      <td>1.000000</td>\n",
       "    </tr>\n",
       "    <tr>\n",
       "      <th>22</th>\n",
       "      <td>AG-891-A17_NODE_23</td>\n",
       "      <td>0.0</td>\n",
       "      <td>1.000000</td>\n",
       "    </tr>\n",
       "    <tr>\n",
       "      <th>23</th>\n",
       "      <td>AG-891-A17_NODE_24</td>\n",
       "      <td>0.0</td>\n",
       "      <td>1.000000</td>\n",
       "    </tr>\n",
       "    <tr>\n",
       "      <th>24</th>\n",
       "      <td>AG-891-A17_NODE_25</td>\n",
       "      <td>0.0</td>\n",
       "      <td>1.000000</td>\n",
       "    </tr>\n",
       "    <tr>\n",
       "      <th>25</th>\n",
       "      <td>AG-891-A17_NODE_26</td>\n",
       "      <td>0.0</td>\n",
       "      <td>1.000000</td>\n",
       "    </tr>\n",
       "    <tr>\n",
       "      <th>26</th>\n",
       "      <td>AG-891-A17_NODE_27</td>\n",
       "      <td>0.0</td>\n",
       "      <td>1.000000</td>\n",
       "    </tr>\n",
       "    <tr>\n",
       "      <th>27</th>\n",
       "      <td>AG-891-A17_NODE_29</td>\n",
       "      <td>0.0</td>\n",
       "      <td>1.000000</td>\n",
       "    </tr>\n",
       "    <tr>\n",
       "      <th>28</th>\n",
       "      <td>AG-891-A17_NODE_30</td>\n",
       "      <td>0.0</td>\n",
       "      <td>1.000000</td>\n",
       "    </tr>\n",
       "    <tr>\n",
       "      <th>29</th>\n",
       "      <td>AG-891-A17_NODE_28</td>\n",
       "      <td>0.0</td>\n",
       "      <td>1.000000</td>\n",
       "    </tr>\n",
       "    <tr>\n",
       "      <th>30</th>\n",
       "      <td>AG-891-A17_NODE_31</td>\n",
       "      <td>0.0</td>\n",
       "      <td>1.000000</td>\n",
       "    </tr>\n",
       "    <tr>\n",
       "      <th>31</th>\n",
       "      <td>AG-891-A17_NODE_32</td>\n",
       "      <td>0.0</td>\n",
       "      <td>1.000000</td>\n",
       "    </tr>\n",
       "    <tr>\n",
       "      <th>32</th>\n",
       "      <td>AG-891-A17_NODE_33</td>\n",
       "      <td>0.0</td>\n",
       "      <td>1.000000</td>\n",
       "    </tr>\n",
       "    <tr>\n",
       "      <th>33</th>\n",
       "      <td>AG-891-A17_NODE_34</td>\n",
       "      <td>0.0</td>\n",
       "      <td>1.000000</td>\n",
       "    </tr>\n",
       "    <tr>\n",
       "      <th>34</th>\n",
       "      <td>AG-891-A17_NODE_35</td>\n",
       "      <td>0.0</td>\n",
       "      <td>1.000000</td>\n",
       "    </tr>\n",
       "    <tr>\n",
       "      <th>35</th>\n",
       "      <td>AG-891-A17_NODE_36</td>\n",
       "      <td>0.0</td>\n",
       "      <td>1.000000</td>\n",
       "    </tr>\n",
       "    <tr>\n",
       "      <th>36</th>\n",
       "      <td>AG-891-A17_NODE_37</td>\n",
       "      <td>0.0</td>\n",
       "      <td>1.000000</td>\n",
       "    </tr>\n",
       "    <tr>\n",
       "      <th>37</th>\n",
       "      <td>AG-891-A17_NODE_38</td>\n",
       "      <td>1.0</td>\n",
       "      <td>0.962963</td>\n",
       "    </tr>\n",
       "  </tbody>\n",
       "</table>\n",
       "</div>"
      ],
      "text/plain": [
       "                contig  virus_class  virus_prob\n",
       "0    AG-891-A17_NODE_1          0.0    1.000000\n",
       "1    AG-891-A17_NODE_2          0.0    1.000000\n",
       "2    AG-891-A17_NODE_3          0.0    1.000000\n",
       "3    AG-891-A17_NODE_4          0.0    1.000000\n",
       "4    AG-891-A17_NODE_5          0.0    1.000000\n",
       "5    AG-891-A17_NODE_6          0.0    1.000000\n",
       "6    AG-891-A17_NODE_7          0.0    1.000000\n",
       "7    AG-891-A17_NODE_8          0.0    1.000000\n",
       "8    AG-891-A17_NODE_9          1.0    0.962963\n",
       "9   AG-891-A17_NODE_10          0.0    1.000000\n",
       "10  AG-891-A17_NODE_11          0.0    1.000000\n",
       "11  AG-891-A17_NODE_12          0.0    1.000000\n",
       "12  AG-891-A17_NODE_13          0.0    1.000000\n",
       "13  AG-891-A17_NODE_14          0.0    1.000000\n",
       "14  AG-891-A17_NODE_15          0.0    1.000000\n",
       "15  AG-891-A17_NODE_16          0.0    1.000000\n",
       "16  AG-891-A17_NODE_17          0.0    1.000000\n",
       "17  AG-891-A17_NODE_18          0.0    1.000000\n",
       "18  AG-891-A17_NODE_19          0.0    1.000000\n",
       "19  AG-891-A17_NODE_20          0.0    1.000000\n",
       "20  AG-891-A17_NODE_21          0.0    1.000000\n",
       "21  AG-891-A17_NODE_22          0.0    1.000000\n",
       "22  AG-891-A17_NODE_23          0.0    1.000000\n",
       "23  AG-891-A17_NODE_24          0.0    1.000000\n",
       "24  AG-891-A17_NODE_25          0.0    1.000000\n",
       "25  AG-891-A17_NODE_26          0.0    1.000000\n",
       "26  AG-891-A17_NODE_27          0.0    1.000000\n",
       "27  AG-891-A17_NODE_29          0.0    1.000000\n",
       "28  AG-891-A17_NODE_30          0.0    1.000000\n",
       "29  AG-891-A17_NODE_28          0.0    1.000000\n",
       "30  AG-891-A17_NODE_31          0.0    1.000000\n",
       "31  AG-891-A17_NODE_32          0.0    1.000000\n",
       "32  AG-891-A17_NODE_33          0.0    1.000000\n",
       "33  AG-891-A17_NODE_34          0.0    1.000000\n",
       "34  AG-891-A17_NODE_35          0.0    1.000000\n",
       "35  AG-891-A17_NODE_36          0.0    1.000000\n",
       "36  AG-891-A17_NODE_37          0.0    1.000000\n",
       "37  AG-891-A17_NODE_38          1.0    0.962963"
      ]
     },
     "execution_count": 226,
     "metadata": {},
     "output_type": "execute_result"
    }
   ],
   "source": [
    "test_out = virus_class(test_df, test_cols = ['viral_phage_gene_fraction','ratio_virus_bacteria'])\n",
    "test_out"
   ]
  },
  {
   "cell_type": "code",
   "execution_count": null,
   "metadata": {
    "collapsed": true
   },
   "outputs": [],
   "source": []
  },
  {
   "cell_type": "code",
   "execution_count": null,
   "metadata": {
    "collapsed": true
   },
   "outputs": [],
   "source": []
  },
  {
   "cell_type": "code",
   "execution_count": null,
   "metadata": {
    "collapsed": true
   },
   "outputs": [],
   "source": []
  },
  {
   "cell_type": "code",
   "execution_count": null,
   "metadata": {
    "collapsed": true
   },
   "outputs": [],
   "source": []
  },
  {
   "cell_type": "code",
   "execution_count": null,
   "metadata": {
    "collapsed": true
   },
   "outputs": [],
   "source": []
  },
  {
   "cell_type": "code",
   "execution_count": null,
   "metadata": {
    "collapsed": true
   },
   "outputs": [],
   "source": []
  },
  {
   "cell_type": "code",
   "execution_count": 174,
   "metadata": {
    "collapsed": true
   },
   "outputs": [],
   "source": [
    "%load_ext rpy2.ipython"
   ]
  },
  {
   "cell_type": "code",
   "execution_count": 175,
   "metadata": {},
   "outputs": [
    {
     "name": "stderr",
     "output_type": "stream",
     "text": [
      "/mnt/scgc_nfs/opt/common/anaconda3/4.0.0/lib/python3.5/site-packages/rpy2/rinterface/__init__.py:186: RRuntimeWarning: \n",
      "Attaching package: ‘dplyr’\n",
      "\n",
      "\n",
      "  warnings.warn(x, RRuntimeWarning)\n",
      "/mnt/scgc_nfs/opt/common/anaconda3/4.0.0/lib/python3.5/site-packages/rpy2/rinterface/__init__.py:186: RRuntimeWarning: The following objects are masked from ‘package:stats’:\n",
      "\n",
      "    filter, lag\n",
      "\n",
      "\n",
      "  warnings.warn(x, RRuntimeWarning)\n",
      "/mnt/scgc_nfs/opt/common/anaconda3/4.0.0/lib/python3.5/site-packages/rpy2/rinterface/__init__.py:186: RRuntimeWarning: The following objects are masked from ‘package:base’:\n",
      "\n",
      "    intersect, setdiff, setequal, union\n",
      "\n",
      "\n",
      "  warnings.warn(x, RRuntimeWarning)\n"
     ]
    },
    {
     "data": {
      "text/plain": [
       "array(['class', 'dplyr', 'tools', 'stats', 'graphics', 'grDevices',\n",
       "       'utils', 'datasets', 'methods', 'base'], \n",
       "      dtype='<U9')"
      ]
     },
     "execution_count": 175,
     "metadata": {},
     "output_type": "execute_result"
    }
   ],
   "source": [
    "%R library(dplyr); library(class)"
   ]
  },
  {
   "cell_type": "code",
   "execution_count": 182,
   "metadata": {
    "collapsed": true
   },
   "outputs": [],
   "source": [
    "%%R -i test_df -i train_in\n",
    "trainin <- train_in[,c('viral_phage_gene_fraction','ratio.virus.bacteria')]\n",
    "scores <- train_in[,c('score')]"
   ]
  },
  {
   "cell_type": "code",
   "execution_count": 186,
   "metadata": {},
   "outputs": [
    {
     "data": {
      "text/plain": [
       "Index(['contig', 'contig_length', 'gene_count', 'viral_phage_gene_count',\n",
       "       'viral_phage_gene_fraction', 'viral2_phage_gene_count',\n",
       "       'viral2_phage_gene_fraction', 'Similarity_1.LineP.all.fr',\n",
       "       'Similarity_1.POV.fr', 'ratio_virus_bacteria', 'virus_class',\n",
       "       'virus_prob'],\n",
       "      dtype='object')"
      ]
     },
     "execution_count": 186,
     "metadata": {},
     "output_type": "execute_result"
    }
   ],
   "source": [
    "test_df.columns"
   ]
  },
  {
   "cell_type": "code",
   "execution_count": 198,
   "metadata": {
    "collapsed": true
   },
   "outputs": [],
   "source": [
    "%%R\n",
    "to_test <- na.omit(test_df[,c('contig','viral_phage_gene_fraction','ratio_virus_bacteria')])"
   ]
  },
  {
   "cell_type": "code",
   "execution_count": 200,
   "metadata": {},
   "outputs": [
    {
     "data": {
      "text/plain": [
       " [1] 0 0 0 0 0 0 0 0 1 0 0 0 0 0 0 0 0 0 0 0 0 0 0 0 0 0 0 0 0 0 0 0 0 0 0 0 0 1\n",
       "attr(,\"prob\")\n",
       " [1] 1.0000000 1.0000000 1.0000000 1.0000000 1.0000000 1.0000000 1.0000000\n",
       " [8] 1.0000000 0.8518519 1.0000000 1.0000000 1.0000000 1.0000000 1.0000000\n",
       "[15] 1.0000000 1.0000000 1.0000000 1.0000000 1.0000000 1.0000000 1.0000000\n",
       "[22] 1.0000000 1.0000000 1.0000000 1.0000000 1.0000000 1.0000000 1.0000000\n",
       "[29] 1.0000000 1.0000000 1.0000000 1.0000000 1.0000000 1.0000000 1.0000000\n",
       "[36] 1.0000000 1.0000000 0.8888889\n",
       "Levels: 0 1\n"
      ]
     },
     "metadata": {},
     "output_type": "display_data"
    }
   ],
   "source": [
    "%%R\n",
    "knn(trainin, to_test[,c('viral_phage_gene_fraction','ratio_virus_bacteria')], scores, k=27, prob=TRUE)"
   ]
  },
  {
   "cell_type": "markdown",
   "metadata": {},
   "source": [
    "Great.  These values are the same as the neighbor rank approach!  weird that it differs from the values calculated from the viruscope output... something to look into."
   ]
  },
  {
   "cell_type": "markdown",
   "metadata": {
    "collapsed": true
   },
   "source": [
    "NOTE from the future: ... talked to Ben about this and looked back at R source, found that he and Nick input the log10 of the training values into the knn algorithm.  "
   ]
  },
  {
   "cell_type": "code",
   "execution_count": null,
   "metadata": {
    "collapsed": true
   },
   "outputs": [],
   "source": []
  }
 ],
 "metadata": {
  "kernelspec": {
   "display_name": "Python 3",
   "language": "python",
   "name": "python3"
  },
  "language_info": {
   "codemirror_mode": {
    "name": "ipython",
    "version": 3
   },
   "file_extension": ".py",
   "mimetype": "text/x-python",
   "name": "python",
   "nbconvert_exporter": "python",
   "pygments_lexer": "ipython3",
   "version": "3.5.3"
  }
 },
 "nbformat": 4,
 "nbformat_minor": 1
}
