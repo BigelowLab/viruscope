{
 "cells": [
  {
   "cell_type": "code",
   "execution_count": 1,
   "metadata": {},
   "outputs": [
    {
     "name": "stdout",
     "output_type": "stream",
     "text": [
      "AG-891-A17 AG-892-P18 AG-893-J23 AG-894-C07 AG-895-P08 AG-897-A15 AG-903-F19 AG-903-I06 AG-904-O13 AG-907-C19 AG-907-I10 AG-908-F15 AG-909-A05 AG-910-E05 AG-912-O18 AG-913-C05 AG-913-C17\n"
     ]
    }
   ],
   "source": [
    "viruses = '''AG−891−A17\n",
    "\n",
    "AG−892−P18\n",
    "\n",
    "AG−893−J23\n",
    "\n",
    "AG−894−C07\n",
    "\n",
    "AG−895−P08\n",
    "\n",
    "AG−897−A15  \n",
    "\n",
    "AG−903−F19\n",
    "\n",
    "AG−903−I06\n",
    "\n",
    "AG−904−O13\n",
    "\n",
    "AG−907−C19\n",
    "\n",
    "AG−907−I10\n",
    "\n",
    "AG−908−F15\n",
    "\n",
    "AG-909-A05\n",
    "\n",
    "AG−910−E05\n",
    "\n",
    "AG−912−O18\n",
    "\n",
    "AG−913−C05\n",
    "\n",
    "AG−913−C17'''.replace(\"−\",\"-\").split()\n",
    "print(\" \".join(viruses))"
   ]
  },
  {
   "cell_type": "code",
   "execution_count": 2,
   "metadata": {
    "collapsed": true
   },
   "outputs": [],
   "source": [
    "import os\n",
    "import os.path as op\n",
    "import pandas as pd\n",
    "import numpy as np\n",
    "from nb_tools import write_fa_record, readfa, run_mica"
   ]
  },
  {
   "cell_type": "code",
   "execution_count": 3,
   "metadata": {
    "collapsed": true
   },
   "outputs": [],
   "source": [
    "if op.exists(\"outputs/vir_tests/\") == False:\n",
    "    os.mkdir(\"./outputs/vir_tests/\")"
   ]
  },
  {
   "cell_type": "code",
   "execution_count": 4,
   "metadata": {
    "collapsed": true
   },
   "outputs": [],
   "source": [
    "anns = [op.join(\"/mnt/scgc/simon/simonsproject/bats248_annotations/faa/{i}.faa\".format(i=i)) for i in viruses]"
   ]
  },
  {
   "cell_type": "code",
   "execution_count": 5,
   "metadata": {},
   "outputs": [
    {
     "data": {
      "text/plain": [
       "[True,\n",
       " True,\n",
       " True,\n",
       " True,\n",
       " True,\n",
       " True,\n",
       " True,\n",
       " True,\n",
       " True,\n",
       " True,\n",
       " True,\n",
       " True,\n",
       " True,\n",
       " True,\n",
       " True,\n",
       " True,\n",
       " True]"
      ]
     },
     "execution_count": 5,
     "metadata": {},
     "output_type": "execute_result"
    }
   ],
   "source": [
    "[op.exists(i) for i in anns]"
   ]
  },
  {
   "cell_type": "code",
   "execution_count": 6,
   "metadata": {},
   "outputs": [
    {
     "data": {
      "text/plain": [
       "['/mnt/scgc/simon/simonsproject/bats248_annotations/faa/AG-891-A17.faa',\n",
       " '/mnt/scgc/simon/simonsproject/bats248_annotations/faa/AG-892-P18.faa',\n",
       " '/mnt/scgc/simon/simonsproject/bats248_annotations/faa/AG-893-J23.faa',\n",
       " '/mnt/scgc/simon/simonsproject/bats248_annotations/faa/AG-894-C07.faa',\n",
       " '/mnt/scgc/simon/simonsproject/bats248_annotations/faa/AG-895-P08.faa',\n",
       " '/mnt/scgc/simon/simonsproject/bats248_annotations/faa/AG-897-A15.faa',\n",
       " '/mnt/scgc/simon/simonsproject/bats248_annotations/faa/AG-903-F19.faa',\n",
       " '/mnt/scgc/simon/simonsproject/bats248_annotations/faa/AG-903-I06.faa',\n",
       " '/mnt/scgc/simon/simonsproject/bats248_annotations/faa/AG-904-O13.faa',\n",
       " '/mnt/scgc/simon/simonsproject/bats248_annotations/faa/AG-907-C19.faa',\n",
       " '/mnt/scgc/simon/simonsproject/bats248_annotations/faa/AG-907-I10.faa',\n",
       " '/mnt/scgc/simon/simonsproject/bats248_annotations/faa/AG-908-F15.faa',\n",
       " '/mnt/scgc/simon/simonsproject/bats248_annotations/faa/AG-909-A05.faa',\n",
       " '/mnt/scgc/simon/simonsproject/bats248_annotations/faa/AG-910-E05.faa',\n",
       " '/mnt/scgc/simon/simonsproject/bats248_annotations/faa/AG-912-O18.faa',\n",
       " '/mnt/scgc/simon/simonsproject/bats248_annotations/faa/AG-913-C05.faa',\n",
       " '/mnt/scgc/simon/simonsproject/bats248_annotations/faa/AG-913-C17.faa']"
      ]
     },
     "execution_count": 6,
     "metadata": {},
     "output_type": "execute_result"
    }
   ],
   "source": [
    "anns"
   ]
  },
  {
   "cell_type": "code",
   "execution_count": 8,
   "metadata": {
    "collapsed": true
   },
   "outputs": [],
   "source": [
    "!cat {\" \".join(anns)} > ./outputs/vir_tests/mp_allorfs.faa"
   ]
  },
  {
   "cell_type": "code",
   "execution_count": 6,
   "metadata": {
    "collapsed": true
   },
   "outputs": [],
   "source": [
    "from nb_tools import run_cd_hit"
   ]
  },
  {
   "cell_type": "code",
   "execution_count": 7,
   "metadata": {
    "collapsed": true
   },
   "outputs": [],
   "source": [
    "ofa = \"./outputs/vir_tests/mp_allorfs.faa\"\n",
    "cfa = \"./outputs/vir_tests/mp_allorfs_cdhit9.faa\"\n",
    "outs = run_cd_hit(ofa, cfa, c=0.9)"
   ]
  },
  {
   "cell_type": "code",
   "execution_count": 12,
   "metadata": {},
   "outputs": [
    {
     "data": {
      "text/plain": [
       "['./outputs/vir_tests/mp_allorfs_cdhit9.faa',\n",
       " './outputs/vir_tests/mp_allorfs_cdhit9.faa.clstr']"
      ]
     },
     "execution_count": 12,
     "metadata": {},
     "output_type": "execute_result"
    }
   ],
   "source": [
    "outs"
   ]
  },
  {
   "cell_type": "code",
   "execution_count": 13,
   "metadata": {},
   "outputs": [
    {
     "name": "stdout",
     "output_type": "stream",
     "text": [
      "10227\r\n"
     ]
    }
   ],
   "source": [
    "!grep -c \">\" {cfa}"
   ]
  },
  {
   "cell_type": "code",
   "execution_count": 14,
   "metadata": {},
   "outputs": [
    {
     "name": "stdout",
     "output_type": "stream",
     "text": [
      "11736\r\n"
     ]
    }
   ],
   "source": [
    "!grep -c \">\" {ofa}"
   ]
  },
  {
   "cell_type": "code",
   "execution_count": 8,
   "metadata": {},
   "outputs": [
    {
     "name": "stdout",
     "output_type": "stream",
     "text": [
      "mica-search --p='20' --blastp 'blastp' /mnt/scgc/simon/databases/mica/nr-20150620-mica ./outputs/vir_tests/mp_allorfs.faa --blast-args -outfmt '6 qseqid sseqid pident length mismatch gapopen qstart qend sstart send evalue bitscore sallseqid score nident positive gaps ppos qframe sframe qseq sseq qlen slen salltitles' -num_alignments 10 -evalue 0.001 -out ./outputs/vir_tests/mp_allorfs_mica.out\n"
     ]
    }
   ],
   "source": [
    "cmd = run_mica(ofa, ofa.replace(\".faa\",\"_mica.out\"))"
   ]
  },
  {
   "cell_type": "code",
   "execution_count": 14,
   "metadata": {},
   "outputs": [
    {
     "name": "stdout",
     "output_type": "stream",
     "text": [
      "AG-891/AG-891-A17 AG-892/AG-892-P18 AG-893/AG-893-J23 AG-894/AG-894-C07 AG-895/AG-895-P08 AG-897/AG-897-A15 AG-903/AG-903-F19 AG-903/AG-903-I06 AG-904/AG-904-O13 AG-907/AG-907-C19 AG-907/AG-907-I10 AG-908/AG-908-F15 AG-909/AG-909-A05 AG-910/AG-910-E05 AG-912/AG-912-O18 AG-913/AG-913-C05 AG-913/AG-913-C17\n"
     ]
    }
   ],
   "source": [
    "print(\" \".join(['{}/{}'.format(\"-\".join(i.split(\"-\")[:2]), i) for i in viruses]))"
   ]
  },
  {
   "cell_type": "code",
   "execution_count": 15,
   "metadata": {},
   "outputs": [
    {
     "data": {
      "text/plain": [
       "17"
      ]
     },
     "execution_count": 15,
     "metadata": {},
     "output_type": "execute_result"
    }
   ],
   "source": [
    "len(viruses)"
   ]
  },
  {
   "cell_type": "code",
   "execution_count": null,
   "metadata": {
    "collapsed": true
   },
   "outputs": [],
   "source": []
  }
 ],
 "metadata": {
  "kernelspec": {
   "display_name": "Python 3",
   "language": "python",
   "name": "python3"
  },
  "language_info": {
   "codemirror_mode": {
    "name": "ipython",
    "version": 3
   },
   "file_extension": ".py",
   "mimetype": "text/x-python",
   "name": "python",
   "nbconvert_exporter": "python",
   "pygments_lexer": "ipython3",
   "version": "3.5.3"
  }
 },
 "nbformat": 4,
 "nbformat_minor": 1
}
