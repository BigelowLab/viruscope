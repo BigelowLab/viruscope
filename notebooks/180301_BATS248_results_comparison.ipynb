{
 "cells": [
  {
   "cell_type": "code",
   "execution_count": 1,
   "metadata": {
    "collapsed": true
   },
   "outputs": [],
   "source": [
    "import pandas as pd\n",
    "import os.path as op\n",
    "import os\n",
    "from collections import Counter\n",
    "import glob"
   ]
  },
  {
   "cell_type": "code",
   "execution_count": 2,
   "metadata": {
    "collapsed": true
   },
   "outputs": [],
   "source": [
    "old_vs_summaries = glob.glob(\"/mnt/scgc/simon/simonsproject/jb_vs_test/*/*/summary/*_contigs-summary.csv.gz\")"
   ]
  },
  {
   "cell_type": "code",
   "execution_count": 90,
   "metadata": {},
   "outputs": [
    {
     "data": {
      "text/plain": [
       "16"
      ]
     },
     "execution_count": 90,
     "metadata": {},
     "output_type": "execute_result"
    }
   ],
   "source": [
    "len(old_vs_summaries)"
   ]
  },
  {
   "cell_type": "code",
   "execution_count": 5,
   "metadata": {
    "collapsed": true
   },
   "outputs": [],
   "source": [
    "sags = [op.basename(i).split('_')[0] for i in old_vs_summaries]"
   ]
  },
  {
   "cell_type": "code",
   "execution_count": 35,
   "metadata": {},
   "outputs": [],
   "source": [
    "new_summaries = []\n",
    "\n",
    "for s in old_vs_summaries:\n",
    "    sag = op.basename(s).split('_')[0]\n",
    "    new_summary = \"/mnt/scgc/simon/simonsproject/bats248_vs/summary/{}_summary.csv\".format(sag)\n",
    "    new_summaries.append(new_summary)"
   ]
  },
  {
   "cell_type": "code",
   "execution_count": 7,
   "metadata": {
    "collapsed": true
   },
   "outputs": [],
   "source": [
    "s = old_vs_summaries[0]"
   ]
  },
  {
   "cell_type": "code",
   "execution_count": 8,
   "metadata": {
    "collapsed": true
   },
   "outputs": [],
   "source": [
    "sag = op.basename(s).split('_')[0]\n",
    "ns = \"/mnt/scgc/simon/simonsproject/bats248_vs/summary/{}_summary.csv\".format(sag)\n",
    "    "
   ]
  },
  {
   "cell_type": "code",
   "execution_count": 24,
   "metadata": {
    "collapsed": true
   },
   "outputs": [],
   "source": [
    "sdf = pd.read_csv(s)\n",
    "nsdf = pd.read_csv(ns)"
   ]
  },
  {
   "cell_type": "code",
   "execution_count": 25,
   "metadata": {},
   "outputs": [
    {
     "data": {
      "text/plain": [
       "Index(['Unnamed: 0', 'contig_length', 'gene_count', 'viral_phage_gene_count',\n",
       "       'viral_phage_gene_fraction', 'viral2_phage_gene_count',\n",
       "       'viral2_phage_gene_fraction', 'Similarity_1.LineP.all.fr',\n",
       "       'Similarity_1.POV.fr', 'ratio_virus_bacteria', 'virus_class',\n",
       "       'virus_prob'],\n",
       "      dtype='object')"
      ]
     },
     "execution_count": 25,
     "metadata": {},
     "output_type": "execute_result"
    }
   ],
   "source": [
    "sdf.columns"
   ]
  },
  {
   "cell_type": "code",
   "execution_count": 30,
   "metadata": {},
   "outputs": [
    {
     "data": {
      "text/plain": [
       "Index(['contig', 'contig_length_R', 'gene_count_R', 'viral_phage_gene_count_R',\n",
       "       'viral_phage_gene_fraction_R', 'viral2_phage_gene_count_R',\n",
       "       'viral2_phage_gene_fraction_R', 'Similarity_1.LineP.all.fr_R',\n",
       "       'Similarity_1.POV.fr_R', 'ratio_virus_bacteria_R', 'virus_class_R',\n",
       "       'virus_prob_R'],\n",
       "      dtype='object')"
      ]
     },
     "execution_count": 30,
     "metadata": {},
     "output_type": "execute_result"
    }
   ],
   "source": [
    "sdf_new_cols = ['contig'] + [\"{}_R\".format(i) for i in ['contig_length', 'gene_count', 'viral_phage_gene_count',\n",
    "       'viral_phage_gene_fraction', 'viral2_phage_gene_count',\n",
    "       'viral2_phage_gene_fraction', 'Similarity_1.LineP.all.fr',\n",
    "       'Similarity_1.POV.fr', 'ratio_virus_bacteria', 'virus_class',\n",
    "       'virus_prob']]\n",
    "sdf.rename(columns = dict(zip(sdf.columns, sdf_new_cols)), inplace=True)\n",
    "sdf.columns"
   ]
  },
  {
   "cell_type": "code",
   "execution_count": 12,
   "metadata": {},
   "outputs": [],
   "source": [
    "nsdf_short = nsdf[['contig','virus_class','virus_prob']]"
   ]
  },
  {
   "cell_type": "code",
   "execution_count": 19,
   "metadata": {},
   "outputs": [],
   "source": [
    "sdf = sdf.rename(columns={'Unnamed: 0':'contig', 'virus_class':'virus_class_R', 'virus_prob':'virus_prob_R'})"
   ]
  },
  {
   "cell_type": "code",
   "execution_count": 20,
   "metadata": {},
   "outputs": [],
   "source": [
    "sdf_short = sdf[['contig', 'virus_class_R', 'virus_prob_R']]"
   ]
  },
  {
   "cell_type": "code",
   "execution_count": 21,
   "metadata": {
    "collapsed": true
   },
   "outputs": [],
   "source": [
    "comp = pd.merge(nsdf_short, sdf_short, on='contig', how='outer')"
   ]
  },
  {
   "cell_type": "code",
   "execution_count": 91,
   "metadata": {},
   "outputs": [
    {
     "data": {
      "text/plain": [
       "35"
      ]
     },
     "execution_count": 91,
     "metadata": {},
     "output_type": "execute_result"
    }
   ],
   "source": [
    "len(comp)"
   ]
  },
  {
   "cell_type": "code",
   "execution_count": 31,
   "metadata": {
    "collapsed": true
   },
   "outputs": [],
   "source": [
    "comp_long = pd.merge(sdf, nsdf, on='contig')"
   ]
  },
  {
   "cell_type": "code",
   "execution_count": 34,
   "metadata": {},
   "outputs": [
    {
     "data": {
      "text/plain": [
       "Index(['contig', 'contig_length_R', 'gene_count_R', 'viral_phage_gene_count_R',\n",
       "       'viral_phage_gene_fraction_R', 'viral2_phage_gene_count_R',\n",
       "       'viral2_phage_gene_fraction_R', 'Similarity_1.LineP.all.fr_R',\n",
       "       'Similarity_1.POV.fr_R', 'ratio_virus_bacteria_R', 'virus_class_R',\n",
       "       'virus_prob_R', 'hit_mg-bac', 'hit_mg-vir', 'reads_mg-vir',\n",
       "       'reads_mg-bac', 'contig_length', 'fr_mg-bac', 'fr_mg-vir',\n",
       "       'ratio_virus_bacteria', 'p1', 'p2', 'total_orfs',\n",
       "       'viral_phage_gene_fraction', 'viral2_phage_gene_fraction',\n",
       "       'virus_class', 'virus_prob', 'virus_prob_new'],\n",
       "      dtype='object')"
      ]
     },
     "execution_count": 34,
     "metadata": {},
     "output_type": "execute_result"
    }
   ],
   "source": [
    "comp_long.reindex_axis(sorted(comp_long.columns), axis=1)\n",
    "comp_long.columns"
   ]
  },
  {
   "cell_type": "code",
   "execution_count": 67,
   "metadata": {
    "collapsed": true
   },
   "outputs": [],
   "source": [
    "odf = pd.concat([pd.read_csv(i) for i in old_vs_summaries])\n",
    "ndf = pd.concat([pd.read_csv(i) for i in new_summaries])"
   ]
  },
  {
   "cell_type": "code",
   "execution_count": 68,
   "metadata": {
    "collapsed": true
   },
   "outputs": [],
   "source": [
    "odf_new_cols = ['contig'] + [\"{}_R\".format(i) for i in ['contig_length', 'gene_count', 'viral_phage_gene_count',\n",
    "       'viral_phage_gene_fraction', 'viral2_phage_gene_count',\n",
    "       'viral2_phage_gene_fraction', 'Similarity_1.LineP.all.fr',\n",
    "       'Similarity_1.POV.fr', 'ratio_virus_bacteria', 'virus_class',\n",
    "       'virus_prob']]"
   ]
  },
  {
   "cell_type": "code",
   "execution_count": 69,
   "metadata": {
    "collapsed": true
   },
   "outputs": [],
   "source": [
    "odf.rename(columns = dict(zip(odf.columns, odf_new_cols)), inplace=True)"
   ]
  },
  {
   "cell_type": "code",
   "execution_count": 70,
   "metadata": {},
   "outputs": [],
   "source": [
    "df = pd.merge(odf, ndf, on='contig', how='outer')"
   ]
  },
  {
   "cell_type": "code",
   "execution_count": 41,
   "metadata": {},
   "outputs": [
    {
     "data": {
      "text/plain": [
       "457"
      ]
     },
     "execution_count": 41,
     "metadata": {},
     "output_type": "execute_result"
    }
   ],
   "source": [
    "len(df)"
   ]
  },
  {
   "cell_type": "code",
   "execution_count": 43,
   "metadata": {},
   "outputs": [
    {
     "data": {
      "text/plain": [
       "456"
      ]
     },
     "execution_count": 43,
     "metadata": {},
     "output_type": "execute_result"
    }
   ],
   "source": [
    "len(ndf)"
   ]
  },
  {
   "cell_type": "code",
   "execution_count": 48,
   "metadata": {},
   "outputs": [
    {
     "data": {
      "text/plain": [
       "Index(['contig', 'contig_length_R', 'gene_count_R', 'viral_phage_gene_count_R',\n",
       "       'viral_phage_gene_fraction_R', 'viral2_phage_gene_count_R',\n",
       "       'viral2_phage_gene_fraction_R', 'Similarity_1.LineP.all.fr_R',\n",
       "       'Similarity_1.POV.fr_R', 'ratio_virus_bacteria_R', 'virus_class_R',\n",
       "       'virus_prob_R', 'hit_mg-bac', 'hit_mg-vir', 'reads_mg-vir',\n",
       "       'reads_mg-bac', 'contig_length', 'fr_mg-bac', 'fr_mg-vir',\n",
       "       'ratio_virus_bacteria', 'p1', 'p2', 'total_orfs',\n",
       "       'viral_phage_gene_fraction', 'viral2_phage_gene_fraction',\n",
       "       'virus_class', 'virus_prob', 'virus_prob_new'],\n",
       "      dtype='object')"
      ]
     },
     "execution_count": 48,
     "metadata": {},
     "output_type": "execute_result"
    }
   ],
   "source": [
    "df.columns"
   ]
  },
  {
   "cell_type": "code",
   "execution_count": 47,
   "metadata": {},
   "outputs": [],
   "source": [
    "%matplotlib inline  \n",
    "\n",
    "import matplotlib\n",
    "import scipy.cluster.hierarchy as sch\n",
    "import numpy\n",
    "import scipy\n",
    "import matplotlib.pyplot as plt\n",
    "import seaborn as sns"
   ]
  },
  {
   "cell_type": "code",
   "execution_count": 61,
   "metadata": {},
   "outputs": [
    {
     "data": {
      "text/plain": [
       "<matplotlib.text.Text at 0x7f744be8b588>"
      ]
     },
     "execution_count": 61,
     "metadata": {},
     "output_type": "execute_result"
    },
    {
     "data": {
      "image/png": "[encoded data removed]",
      "text/plain": [
       "<matplotlib.figure.Figure at 0x7f744befd8d0>"
      ]
     },
     "metadata": {},
     "output_type": "display_data"
    }
   ],
   "source": [
    "plt.scatter(df['ratio_virus_bacteria_R'],df['ratio_virus_bacteria'])\n",
    "plt.ylabel('python')\n",
    "plt.xlabel('R')"
   ]
  },
  {
   "cell_type": "code",
   "execution_count": 62,
   "metadata": {},
   "outputs": [
    {
     "data": {
      "text/plain": [
       "<matplotlib.text.Text at 0x7f744bf04eb8>"
      ]
     },
     "execution_count": 62,
     "metadata": {},
     "output_type": "execute_result"
    },
    {
     "data": {
      "image/png": "[encoded data removed]",
      "text/plain": [
       "<matplotlib.figure.Figure at 0x7f744bef5b38>"
      ]
     },
     "metadata": {},
     "output_type": "display_data"
    }
   ],
   "source": [
    "plt.scatter(df['viral_phage_gene_fraction_R'], df['viral_phage_gene_fraction'])\n",
    "plt.ylabel('python')\n",
    "plt.xlabel('R')"
   ]
  },
  {
   "cell_type": "code",
   "execution_count": 95,
   "metadata": {},
   "outputs": [
    {
     "data": {
      "text/plain": [
       "<matplotlib.text.Text at 0x7f744bdba1d0>"
      ]
     },
     "execution_count": 95,
     "metadata": {},
     "output_type": "execute_result"
    },
    {
     "data": {
      "image/png": "[encoded data removed]",
      "text/plain": [
       "<matplotlib.figure.Figure at 0x7f744bd77208>"
      ]
     },
     "metadata": {},
     "output_type": "display_data"
    }
   ],
   "source": [
    "tdf = df[df['virus_prob_R'] != -1 ]\n",
    "\n",
    "plt.scatter(tdf['virus_prob_R'], tdf['virus_prob'])\n",
    "plt.ylabel('python')\n",
    "plt.xlabel('R')"
   ]
  },
  {
   "cell_type": "code",
   "execution_count": 98,
   "metadata": {},
   "outputs": [
    {
     "data": {
      "text/plain": [
       "<matplotlib.text.Text at 0x7f744c16af28>"
      ]
     },
     "execution_count": 98,
     "metadata": {},
     "output_type": "execute_result"
    },
    {
     "data": {
      "image/png": "[encoded data removed]",
      "text/plain": [
       "<matplotlib.figure.Figure at 0x7f744bc7a4a8>"
      ]
     },
     "metadata": {},
     "output_type": "display_data"
    }
   ],
   "source": [
    "tdf = df[df['virus_prob_R'] != -1 ]\n",
    "\n",
    "plt.scatter(tdf['virus_prob_new'], tdf['virus_prob'])\n",
    "plt.plot(1,1)\n",
    "plt.ylabel('python')\n",
    "plt.xlabel('python new')"
   ]
  },
  {
   "cell_type": "code",
   "execution_count": 60,
   "metadata": {},
   "outputs": [
    {
     "data": {
      "text/html": [
       "<div>\n",
       "<table border=\"1\" class=\"dataframe\">\n",
       "  <thead>\n",
       "    <tr style=\"text-align: right;\">\n",
       "      <th></th>\n",
       "      <th>contig</th>\n",
       "      <th>contig_length_R</th>\n",
       "      <th>gene_count_R</th>\n",
       "      <th>viral_phage_gene_fraction_R</th>\n",
       "      <th>total_orfs</th>\n",
       "      <th>viral_phage_gene_fraction</th>\n",
       "    </tr>\n",
       "  </thead>\n",
       "  <tbody>\n",
       "    <tr>\n",
       "      <th>140</th>\n",
       "      <td>AG-894-C07_NODE_30</td>\n",
       "      <td>5036</td>\n",
       "      <td>4.0</td>\n",
       "      <td>0.250000</td>\n",
       "      <td>4.0</td>\n",
       "      <td>0.000000</td>\n",
       "    </tr>\n",
       "    <tr>\n",
       "      <th>200</th>\n",
       "      <td>AG-903-I06_NODE_12</td>\n",
       "      <td>10602</td>\n",
       "      <td>2.0</td>\n",
       "      <td>0.500000</td>\n",
       "      <td>2.0</td>\n",
       "      <td>1.000000</td>\n",
       "    </tr>\n",
       "    <tr>\n",
       "      <th>310</th>\n",
       "      <td>AG-908-F15_NODE_42</td>\n",
       "      <td>6188</td>\n",
       "      <td>9.0</td>\n",
       "      <td>0.111111</td>\n",
       "      <td>9.0</td>\n",
       "      <td>0.333333</td>\n",
       "    </tr>\n",
       "    <tr>\n",
       "      <th>412</th>\n",
       "      <td>AG-913-C05_NODE_11</td>\n",
       "      <td>7363</td>\n",
       "      <td>7.0</td>\n",
       "      <td>0.571429</td>\n",
       "      <td>7.0</td>\n",
       "      <td>0.428571</td>\n",
       "    </tr>\n",
       "    <tr>\n",
       "      <th>421</th>\n",
       "      <td>AG-913-C05_NODE_21</td>\n",
       "      <td>2984</td>\n",
       "      <td>4.0</td>\n",
       "      <td>0.750000</td>\n",
       "      <td>4.0</td>\n",
       "      <td>0.500000</td>\n",
       "    </tr>\n",
       "    <tr>\n",
       "      <th>425</th>\n",
       "      <td>AG-913-C05_NODE_24</td>\n",
       "      <td>2062</td>\n",
       "      <td>3.0</td>\n",
       "      <td>0.666667</td>\n",
       "      <td>3.0</td>\n",
       "      <td>1.000000</td>\n",
       "    </tr>\n",
       "    <tr>\n",
       "      <th>439</th>\n",
       "      <td>AG-913-C17_NODE_14</td>\n",
       "      <td>6826</td>\n",
       "      <td>6.0</td>\n",
       "      <td>0.833333</td>\n",
       "      <td>6.0</td>\n",
       "      <td>0.666667</td>\n",
       "    </tr>\n",
       "    <tr>\n",
       "      <th>451</th>\n",
       "      <td>AG-913-C17_NODE_26</td>\n",
       "      <td>2620</td>\n",
       "      <td>1.0</td>\n",
       "      <td>1.000000</td>\n",
       "      <td>1.0</td>\n",
       "      <td>0.000000</td>\n",
       "    </tr>\n",
       "  </tbody>\n",
       "</table>\n",
       "</div>"
      ],
      "text/plain": [
       "                 contig  contig_length_R  gene_count_R  \\\n",
       "140  AG-894-C07_NODE_30             5036           4.0   \n",
       "200  AG-903-I06_NODE_12            10602           2.0   \n",
       "310  AG-908-F15_NODE_42             6188           9.0   \n",
       "412  AG-913-C05_NODE_11             7363           7.0   \n",
       "421  AG-913-C05_NODE_21             2984           4.0   \n",
       "425  AG-913-C05_NODE_24             2062           3.0   \n",
       "439  AG-913-C17_NODE_14             6826           6.0   \n",
       "451  AG-913-C17_NODE_26             2620           1.0   \n",
       "\n",
       "     viral_phage_gene_fraction_R  total_orfs  viral_phage_gene_fraction  \n",
       "140                     0.250000         4.0                   0.000000  \n",
       "200                     0.500000         2.0                   1.000000  \n",
       "310                     0.111111         9.0                   0.333333  \n",
       "412                     0.571429         7.0                   0.428571  \n",
       "421                     0.750000         4.0                   0.500000  \n",
       "425                     0.666667         3.0                   1.000000  \n",
       "439                     0.833333         6.0                   0.666667  \n",
       "451                     1.000000         1.0                   0.000000  "
      ]
     },
     "execution_count": 60,
     "metadata": {},
     "output_type": "execute_result"
    }
   ],
   "source": [
    "df[abs(df['viral_phage_gene_fraction_R'] - df['viral_phage_gene_fraction']) > 0.1][['contig', 'contig_length_R', 'gene_count_R', 'viral_phage_gene_fraction_R', 'total_orfs',\n",
    "       'viral_phage_gene_fraction']]"
   ]
  },
  {
   "cell_type": "code",
   "execution_count": 59,
   "metadata": {},
   "outputs": [
    {
     "data": {
      "text/plain": [
       "Index(['contig', 'contig_length_R', 'gene_count_R', 'viral_phage_gene_count_R',\n",
       "       'viral_phage_gene_fraction_R', 'viral2_phage_gene_count_R',\n",
       "       'viral2_phage_gene_fraction_R', 'Similarity_1.LineP.all.fr_R',\n",
       "       'Similarity_1.POV.fr_R', 'ratio_virus_bacteria_R', 'virus_class_R',\n",
       "       'virus_prob_R', 'hit_mg-bac', 'hit_mg-vir', 'reads_mg-vir',\n",
       "       'reads_mg-bac', 'contig_length', 'fr_mg-bac', 'fr_mg-vir',\n",
       "       'ratio_virus_bacteria', 'p1', 'p2', 'total_orfs',\n",
       "       'viral_phage_gene_fraction', 'viral2_phage_gene_fraction',\n",
       "       'virus_class', 'virus_prob', 'virus_prob_new'],\n",
       "      dtype='object')"
      ]
     },
     "execution_count": 59,
     "metadata": {},
     "output_type": "execute_result"
    }
   ],
   "source": [
    "df.columns"
   ]
  },
  {
   "cell_type": "code",
   "execution_count": null,
   "metadata": {
    "collapsed": true
   },
   "outputs": [],
   "source": [
    "['contig', 'contig_length_R', 'gene_count_R', 'viral_phage_gene_fraction_R', 'total_orfs',\n",
    "       'viral_phage_gene_fraction']"
   ]
  },
  {
   "cell_type": "code",
   "execution_count": 87,
   "metadata": {},
   "outputs": [],
   "source": [
    "df['virus_class_R_val'] = [1 if str(i) in ['TRUE','True'] else 0 for i in df['virus_class_R']]"
   ]
  },
  {
   "cell_type": "code",
   "execution_count": 89,
   "metadata": {},
   "outputs": [
    {
     "name": "stdout",
     "output_type": "stream",
     "text": [
      "                 contig  contig_length_R  gene_count_R  \\\n",
      "140  AG-894-C07_NODE_30             5036           4.0   \n",
      "198  AG-903-I06_NODE_10            12198          14.0   \n",
      "\n",
      "     viral_phage_gene_fraction_R  total_orfs  viral_phage_gene_fraction  \\\n",
      "140                     0.250000         4.0                   0.000000   \n",
      "198                     0.071429        14.0                   0.071429   \n",
      "\n",
      "     ratio_virus_bacteria  ratio_virus_bacteria_R  virus_class virus_class_R  \\\n",
      "140              71.49908                71.49908          0.0          True   \n",
      "198               9.85276                 9.85276          0.0          TRUE   \n",
      "\n",
      "     virus_class_R_val  virus_prob  virus_prob_R  \n",
      "140                  1    1.000000      0.925926  \n",
      "198                  1    0.518519      0.518519  \n"
     ]
    }
   ],
   "source": [
    "print(df[df['virus_class'] != df['virus_class_R_val']][['contig', 'contig_length_R', 'gene_count_R', 'viral_phage_gene_fraction_R', 'total_orfs',\n",
    "       'viral_phage_gene_fraction','ratio_virus_bacteria','ratio_virus_bacteria_R','virus_class','virus_class_R','virus_class_R_val','virus_prob','virus_prob_R']].dropna())"
   ]
  },
  {
   "cell_type": "code",
   "execution_count": 92,
   "metadata": {},
   "outputs": [
    {
     "data": {
      "text/plain": [
       "457"
      ]
     },
     "execution_count": 92,
     "metadata": {},
     "output_type": "execute_result"
    }
   ],
   "source": [
    "len(df)"
   ]
  },
  {
   "cell_type": "code",
   "execution_count": 93,
   "metadata": {},
   "outputs": [
    {
     "data": {
      "text/plain": [
       "Counter({0.0: 426,\n",
       "         1.0: 24,\n",
       "         nan: 1,\n",
       "         nan: 1,\n",
       "         nan: 1,\n",
       "         nan: 1,\n",
       "         nan: 1,\n",
       "         nan: 1,\n",
       "         nan: 1})"
      ]
     },
     "execution_count": 93,
     "metadata": {},
     "output_type": "execute_result"
    }
   ],
   "source": [
    "Counter(df['virus_class'])"
   ]
  },
  {
   "cell_type": "code",
   "execution_count": null,
   "metadata": {
    "collapsed": true
   },
   "outputs": [],
   "source": []
  }
 ],
 "metadata": {
  "kernelspec": {
   "display_name": "Python 3",
   "language": "python",
   "name": "python3"
  },
  "language_info": {
   "codemirror_mode": {
    "name": "ipython",
    "version": 3
   },
   "file_extension": ".py",
   "mimetype": "text/x-python",
   "name": "python",
   "nbconvert_exporter": "python",
   "pygments_lexer": "ipython3",
   "version": "3.5.3"
  }
 },
 "nbformat": 4,
 "nbformat_minor": 1
}
