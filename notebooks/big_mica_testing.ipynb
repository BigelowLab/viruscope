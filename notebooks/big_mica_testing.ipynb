{
 "cells": [
  {
   "cell_type": "code",
   "execution_count": 1,
   "metadata": {
    "collapsed": true
   },
   "outputs": [],
   "source": [
    "big_fasta = \"/mnt/scgc/simon/simonsproject/bats248_annotations/bats248_all_orfs_cdhit_c90.faa\""
   ]
  },
  {
   "cell_type": "code",
   "execution_count": 2,
   "metadata": {
    "collapsed": true
   },
   "outputs": [],
   "source": [
    "from nb_tools import run_cd_hit, cluster_map\n",
    "import os.path as op\n",
    "import os\n",
    "import numpy as np\n",
    "from collections import defaultdict\n",
    "import itertools\n",
    "import pandas as pd"
   ]
  },
  {
   "cell_type": "code",
   "execution_count": 3,
   "metadata": {},
   "outputs": [
    {
     "data": {
      "text/plain": [
       "'/mnt/scgc/simon/simonsproject/bats248_annotations/bats248_all_orfs_cdhit_c90_c70.faa'"
      ]
     },
     "execution_count": 3,
     "metadata": {},
     "output_type": "execute_result"
    }
   ],
   "source": [
    "out_fasta = big_fasta.replace(\".faa\",\"_c70.faa\")\n",
    "out_fasta"
   ]
  },
  {
   "cell_type": "code",
   "execution_count": 7,
   "metadata": {},
   "outputs": [
    {
     "name": "stderr",
     "output_type": "stream",
     "text": [
      "Running CD-HIT on /mnt/scgc/simon/simonsproject/bats248_annotations/bats248_all_orfs_cdhit_c90.faa\n"
     ]
    }
   ],
   "source": [
    "[out_fasta, clstr] = run_cd_hit(big_fasta, out_fasta, c=0.7)"
   ]
  },
  {
   "cell_type": "code",
   "execution_count": 2,
   "metadata": {
    "collapsed": true
   },
   "outputs": [],
   "source": [
    "clstr = \"/mnt/scgc/simon/simonsproject/bats248_annotations/bats248_all_orfs_cdhit_c90_c50.faa.clstr\""
   ]
  },
  {
   "cell_type": "code",
   "execution_count": 4,
   "metadata": {},
   "outputs": [
    {
     "name": "stdout",
     "output_type": "stream",
     "text": [
      ">Cluster 0\r\n",
      "AG-908-B04_00191 hypothetical protein*\r\n",
      ">Cluster 1\r\n",
      "AG-913-A08_00038 hypothetical protein*\r\n",
      ">Cluster 2\r\n",
      "AG-892-O04_00030 hypothetical protein\r\n",
      "AG-893-I07_00998 Pesticidal crystal protein Cry22Aa*\r\n",
      ">Cluster 3\r\n",
      "AG-913-A08_00040 hypothetical protein*\r\n",
      ">Cluster 4\r\n"
     ]
    }
   ],
   "source": [
    "!head {clstr}"
   ]
  },
  {
   "cell_type": "code",
   "execution_count": 3,
   "metadata": {
    "collapsed": true
   },
   "outputs": [],
   "source": [
    "singles = True\n",
    "cluster_map = defaultdict(list)\n",
    "with open(clstr) as fh:\n",
    "    for cluster_start, group in itertools.groupby(fh, lambda l: l[0] == '>'):\n",
    "        members = []\n",
    "        rep_seq = ''\n",
    "        if not cluster_start: \n",
    "            for line in group:\n",
    "                if \"*\" in line: \n",
    "                    rep_seq = line.strip().replace(\"*\", \"\")\n",
    "                else:\n",
    "                    members.append(line.strip())\n",
    "        if singles:\n",
    "            cluster_map[rep_seq] = members\n",
    "        elif len(members) > 0:\n",
    "            cluster_map[rep_seq] = members\n",
    "        else:\n",
    "            continue"
   ]
  },
  {
   "cell_type": "code",
   "execution_count": 4,
   "metadata": {
    "collapsed": true
   },
   "outputs": [],
   "source": [
    "cm = cluster_map"
   ]
  },
  {
   "cell_type": "code",
   "execution_count": 5,
   "metadata": {},
   "outputs": [
    {
     "data": {
      "text/plain": [
       "469107"
      ]
     },
     "execution_count": 5,
     "metadata": {},
     "output_type": "execute_result"
    }
   ],
   "source": [
    "len(cm)"
   ]
  },
  {
   "cell_type": "code",
   "execution_count": 17,
   "metadata": {
    "collapsed": true
   },
   "outputs": [],
   "source": [
    "max_len = 0\n",
    "\n",
    "\n",
    "for k in cm:\n",
    "    if len(cm[k]) > max_len:\n",
    "        max_len = len(cm[k])\n",
    "        largest = k"
   ]
  },
  {
   "cell_type": "code",
   "execution_count": 18,
   "metadata": {},
   "outputs": [
    {
     "data": {
      "text/plain": [
       "'AG-900-L05_00507 1-(5-phosphoribosyl)-5-[(5-phosphoribosylamino)methylideneamino] imidazole-4-carboxamide isomerase'"
      ]
     },
     "execution_count": 18,
     "metadata": {},
     "output_type": "execute_result"
    }
   ],
   "source": [
    "largest"
   ]
  },
  {
   "cell_type": "code",
   "execution_count": 19,
   "metadata": {},
   "outputs": [
    {
     "data": {
      "text/plain": [
       "236"
      ]
     },
     "execution_count": 19,
     "metadata": {},
     "output_type": "execute_result"
    }
   ],
   "source": [
    "len(cm[largest])"
   ]
  },
  {
   "cell_type": "code",
   "execution_count": 21,
   "metadata": {},
   "outputs": [
    {
     "name": "stdout",
     "output_type": "stream",
     "text": [
      "resetting count 1\n",
      "resetting count 2\n",
      "resetting count 3\n",
      "resetting count 4\n",
      "resetting count 5\n",
      "resetting count 6\n",
      "resetting count 7\n",
      "resetting count 8\n",
      "resetting count 9\n",
      "resetting count 10\n",
      "resetting count 11\n",
      "resetting count 12\n",
      "resetting count 13\n",
      "resetting count 14\n",
      "resetting count 15\n",
      "resetting count 16\n"
     ]
    }
   ],
   "source": [
    "count = 0\n",
    "number = 0\n",
    "\n",
    "for k in cm:\n",
    "    seqs = [k] + cm[k]\n",
    "    count += len(seqs)\n",
    "    with open(\"./outputs/bats248_cdhit90_group{}.txt\".format(number), \"a\") as oh:\n",
    "        print(\"\\n\".join(seqs), file=oh)\n",
    "    \n",
    "    if count > 50000:\n",
    "        count = 0\n",
    "        number += 1\n",
    "        print(\"resetting count\", number)"
   ]
  },
  {
   "cell_type": "code",
   "execution_count": 18,
   "metadata": {
    "collapsed": true
   },
   "outputs": [],
   "source": [
    "lengths = {k:len(cm[k]) + 1 for k in cm}"
   ]
  },
  {
   "cell_type": "code",
   "execution_count": 19,
   "metadata": {
    "collapsed": true
   },
   "outputs": [],
   "source": [
    "df = pd.DataFrame.from_dict(lengths, orient='index').reset_index()"
   ]
  },
  {
   "cell_type": "code",
   "execution_count": 20,
   "metadata": {
    "collapsed": true
   },
   "outputs": [],
   "source": [
    "df.rename(columns={'index':'seed',0:'count'}, inplace=True)"
   ]
  },
  {
   "cell_type": "code",
   "execution_count": 21,
   "metadata": {
    "collapsed": true
   },
   "outputs": [],
   "source": [
    "singles = df[df['count'] == 1]"
   ]
  },
  {
   "cell_type": "code",
   "execution_count": 6,
   "metadata": {
    "collapsed": true
   },
   "outputs": [],
   "source": [
    "from pyfaidx import Fasta\n",
    "from nb_tools import write_fa_record"
   ]
  },
  {
   "cell_type": "code",
   "execution_count": 7,
   "metadata": {
    "collapsed": true
   },
   "outputs": [],
   "source": [
    "fa = Fasta(\"/mnt/scgc/simon/simonsproject/bats248_annotations/bats248_all_orfs_cdhit_c90.faa\")"
   ]
  },
  {
   "cell_type": "code",
   "execution_count": 8,
   "metadata": {
    "collapsed": true
   },
   "outputs": [],
   "source": [
    "rec = fa['AG-915-A01_01267']"
   ]
  },
  {
   "cell_type": "code",
   "execution_count": 15,
   "metadata": {},
   "outputs": [
    {
     "data": {
      "text/plain": [
       "'MKSIFFYTVGKYLNYLLLFVRGILLAATFDYATYASWGIVMYVLSYFPIFGLGIPNIVLTNLKDFEVNSDECAKLAGSSILFIIYLCGIYLSIVFLLQITSFLQLDIINYYVLTLLVALYLIVDVLRNVARYSNRYLAIWTTEFFAIIPLLLLLVFKPVEITLNLSVSVITISTLLGMFILLKATRVIFKINDFVPFVRLIWKLGIPLLLYNYASYLLFLILRYFVLYSYDDTTVANFNFGWLIANGVILGLNIINWYFYPSLLKNLSAKNDPKFRISQKEIFAIQFLIAAVVLGLIPLIFEFLVTGYFTKYQYSITHFKYLLTSQLIFYLAYYPSTLLVVEERNRVLIKSGLMVSGIFAITIWVNNSIGGQIELFLLYSLLIVSTILFYFYLSYSTIWKGPRLPFFISIVSLLLLGLINNPWYKIVVFGVVLIIGVLWIDQIKSFMKKIKYELGSI'"
      ]
     },
     "execution_count": 15,
     "metadata": {},
     "output_type": "execute_result"
    }
   ],
   "source": [
    "str(rec)"
   ]
  },
  {
   "cell_type": "code",
   "execution_count": 27,
   "metadata": {
    "collapsed": true
   },
   "outputs": [],
   "source": [
    "missing = []\n",
    "\n",
    "with open('./outputs/10_seqs.fasta', \"w\") as oh1, \\\n",
    "    open(\"./outputs/100_seqs.fasta\",\"w\") as oh2, \\\n",
    "    open(\"./outputs/1000_seqs.fasta\",\"w\") as oh3, \\\n",
    "    open(\"./outputs/10000_seqs.fasta\",\"w\") as oh4, \\\n",
    "    open(\"./outputs/100000_seqs.fasta\",\"w\") as oh5:\n",
    "        for i, l in singles.iterrows():\n",
    "        \n",
    "            try:\n",
    "                rec = fa[l['seed'].split()[0]]\n",
    "            except:\n",
    "                missing.append(l['seed'])\n",
    "                continue\n",
    "                \n",
    "            if i < 13:\n",
    "                write_fa_record(rec.long_name, str(rec), oh1)\n",
    "            if i < 130:\n",
    "                write_fa_record(rec.long_name, str(rec), oh2)\n",
    "            if i < 1300:\n",
    "                write_fa_record(rec.long_name, str(rec), oh3)\n",
    "            if i < 13000:\n",
    "                write_fa_record(rec.long_name, str(rec), oh4)\n",
    "            if i < 130000:\n",
    "                write_fa_record(rec.long_name, str(rec), oh5)\n",
    "            else:\n",
    "                break\n",
    "            \n"
   ]
  },
  {
   "cell_type": "code",
   "execution_count": 24,
   "metadata": {},
   "outputs": [
    {
     "data": {
      "text/html": [
       "<div>\n",
       "<table border=\"1\" class=\"dataframe\">\n",
       "  <thead>\n",
       "    <tr style=\"text-align: right;\">\n",
       "      <th></th>\n",
       "      <th>seed</th>\n",
       "      <th>count</th>\n",
       "    </tr>\n",
       "  </thead>\n",
       "  <tbody>\n",
       "    <tr>\n",
       "      <th>0</th>\n",
       "      <td></td>\n",
       "      <td>1</td>\n",
       "    </tr>\n",
       "    <tr>\n",
       "      <th>1</th>\n",
       "      <td>AG-903-I02_00478 hypothetical protein</td>\n",
       "      <td>1</td>\n",
       "    </tr>\n",
       "    <tr>\n",
       "      <th>2</th>\n",
       "      <td>AG-919-L02_00037 hypothetical protein</td>\n",
       "      <td>1</td>\n",
       "    </tr>\n",
       "    <tr>\n",
       "      <th>4</th>\n",
       "      <td>AG-907-C13_00842 hypothetical protein</td>\n",
       "      <td>1</td>\n",
       "    </tr>\n",
       "    <tr>\n",
       "      <th>6</th>\n",
       "      <td>AG-916-B09_01209 UDP-4-amino-4,6-dideoxy-N-ace...</td>\n",
       "      <td>1</td>\n",
       "    </tr>\n",
       "    <tr>\n",
       "      <th>7</th>\n",
       "      <td>AG-915-O18_00162 hypothetical protein</td>\n",
       "      <td>1</td>\n",
       "    </tr>\n",
       "    <tr>\n",
       "      <th>8</th>\n",
       "      <td>AG-915-L04_00200 Methionyl-tRNA formyltransferase</td>\n",
       "      <td>1</td>\n",
       "    </tr>\n",
       "    <tr>\n",
       "      <th>9</th>\n",
       "      <td>AG-918-O17_00099 hypothetical protein</td>\n",
       "      <td>1</td>\n",
       "    </tr>\n",
       "    <tr>\n",
       "      <th>10</th>\n",
       "      <td>AG-359-K08_00266 hypothetical protein</td>\n",
       "      <td>1</td>\n",
       "    </tr>\n",
       "    <tr>\n",
       "      <th>11</th>\n",
       "      <td>AG-895-F08_00105 hypothetical protein</td>\n",
       "      <td>1</td>\n",
       "    </tr>\n",
       "    <tr>\n",
       "      <th>12</th>\n",
       "      <td>AG-904-G19_00612 hypothetical protein</td>\n",
       "      <td>1</td>\n",
       "    </tr>\n",
       "    <tr>\n",
       "      <th>13</th>\n",
       "      <td>AG-913-I06_00633 N-acetylmuramoyl-L-alanine am...</td>\n",
       "      <td>1</td>\n",
       "    </tr>\n",
       "    <tr>\n",
       "      <th>15</th>\n",
       "      <td>AG-918-L05_00445 hypothetical protein</td>\n",
       "      <td>1</td>\n",
       "    </tr>\n",
       "    <tr>\n",
       "      <th>17</th>\n",
       "      <td>AG-901-B10_00306 hypothetical protein</td>\n",
       "      <td>1</td>\n",
       "    </tr>\n",
       "    <tr>\n",
       "      <th>18</th>\n",
       "      <td>AG-914-D21_00133 hypothetical protein</td>\n",
       "      <td>1</td>\n",
       "    </tr>\n",
       "    <tr>\n",
       "      <th>19</th>\n",
       "      <td>AG-917-P21_00684 hypothetical protein</td>\n",
       "      <td>1</td>\n",
       "    </tr>\n",
       "    <tr>\n",
       "      <th>20</th>\n",
       "      <td>AG-897-B23_01525 hypothetical protein</td>\n",
       "      <td>1</td>\n",
       "    </tr>\n",
       "    <tr>\n",
       "      <th>21</th>\n",
       "      <td>AG-892-E04_00017 hypothetical protein</td>\n",
       "      <td>1</td>\n",
       "    </tr>\n",
       "    <tr>\n",
       "      <th>23</th>\n",
       "      <td>AG-898-P13_00584 hypothetical protein</td>\n",
       "      <td>1</td>\n",
       "    </tr>\n",
       "    <tr>\n",
       "      <th>24</th>\n",
       "      <td>AG-911-N10_00088 Ribosomal RNA small subunit m...</td>\n",
       "      <td>1</td>\n",
       "    </tr>\n",
       "    <tr>\n",
       "      <th>26</th>\n",
       "      <td>AG-893-J18_00373 hypothetical protein</td>\n",
       "      <td>1</td>\n",
       "    </tr>\n",
       "    <tr>\n",
       "      <th>27</th>\n",
       "      <td>AG-893-J11_01090 hypothetical protein</td>\n",
       "      <td>1</td>\n",
       "    </tr>\n",
       "    <tr>\n",
       "      <th>28</th>\n",
       "      <td>AG-915-M18_00390 dTDP-4-dehydrorhamnose reductase</td>\n",
       "      <td>1</td>\n",
       "    </tr>\n",
       "    <tr>\n",
       "      <th>29</th>\n",
       "      <td>AG-915-G04_01357 hypothetical protein</td>\n",
       "      <td>1</td>\n",
       "    </tr>\n",
       "    <tr>\n",
       "      <th>30</th>\n",
       "      <td>AG-908-F13_00242 hypothetical protein</td>\n",
       "      <td>1</td>\n",
       "    </tr>\n",
       "    <tr>\n",
       "      <th>32</th>\n",
       "      <td>AG-893-M05_00714 Cytochrome bo(3) ubiquinol ox...</td>\n",
       "      <td>1</td>\n",
       "    </tr>\n",
       "    <tr>\n",
       "      <th>33</th>\n",
       "      <td>AG-892-F19_00728 Penicillin-binding protein 1A</td>\n",
       "      <td>1</td>\n",
       "    </tr>\n",
       "    <tr>\n",
       "      <th>34</th>\n",
       "      <td>AG-893-J18_00644 6-phosphogluconolactonase</td>\n",
       "      <td>1</td>\n",
       "    </tr>\n",
       "    <tr>\n",
       "      <th>35</th>\n",
       "      <td>AG-920-F02_00024 hypothetical protein</td>\n",
       "      <td>1</td>\n",
       "    </tr>\n",
       "    <tr>\n",
       "      <th>36</th>\n",
       "      <td>AG-360-A14_00385 hypothetical protein</td>\n",
       "      <td>1</td>\n",
       "    </tr>\n",
       "    <tr>\n",
       "      <th>...</th>\n",
       "      <td>...</td>\n",
       "      <td>...</td>\n",
       "    </tr>\n",
       "    <tr>\n",
       "      <th>469066</th>\n",
       "      <td>AG-892-B03_00635 Ribosomal RNA small subunit m...</td>\n",
       "      <td>1</td>\n",
       "    </tr>\n",
       "    <tr>\n",
       "      <th>469067</th>\n",
       "      <td>AG-917-P21_00767 hypothetical protein</td>\n",
       "      <td>1</td>\n",
       "    </tr>\n",
       "    <tr>\n",
       "      <th>469068</th>\n",
       "      <td>AG-361-K23_00004 hypothetical protein</td>\n",
       "      <td>1</td>\n",
       "    </tr>\n",
       "    <tr>\n",
       "      <th>469069</th>\n",
       "      <td>AG-892-G06_00214 GDP-perosamine synthase</td>\n",
       "      <td>1</td>\n",
       "    </tr>\n",
       "    <tr>\n",
       "      <th>469070</th>\n",
       "      <td>AG-896-I22_00090 hypothetical protein</td>\n",
       "      <td>1</td>\n",
       "    </tr>\n",
       "    <tr>\n",
       "      <th>469071</th>\n",
       "      <td>AG-361-L15_00145 hypothetical protein</td>\n",
       "      <td>1</td>\n",
       "    </tr>\n",
       "    <tr>\n",
       "      <th>469072</th>\n",
       "      <td>AG-919-L13_00927 General stress protein 69</td>\n",
       "      <td>1</td>\n",
       "    </tr>\n",
       "    <tr>\n",
       "      <th>469075</th>\n",
       "      <td>AG-892-K19_00124 hypothetical protein</td>\n",
       "      <td>1</td>\n",
       "    </tr>\n",
       "    <tr>\n",
       "      <th>469076</th>\n",
       "      <td>AG-920-O19_00991 hypothetical protein</td>\n",
       "      <td>1</td>\n",
       "    </tr>\n",
       "    <tr>\n",
       "      <th>469080</th>\n",
       "      <td>AG-907-E16_01204 hypothetical protein</td>\n",
       "      <td>1</td>\n",
       "    </tr>\n",
       "    <tr>\n",
       "      <th>469081</th>\n",
       "      <td>AG-893-E14_00036 hypothetical protein</td>\n",
       "      <td>1</td>\n",
       "    </tr>\n",
       "    <tr>\n",
       "      <th>469083</th>\n",
       "      <td>AG-900-G13_00100 hypothetical protein</td>\n",
       "      <td>1</td>\n",
       "    </tr>\n",
       "    <tr>\n",
       "      <th>469084</th>\n",
       "      <td>AG-917-K10_00442 hypothetical protein</td>\n",
       "      <td>1</td>\n",
       "    </tr>\n",
       "    <tr>\n",
       "      <th>469086</th>\n",
       "      <td>AG-894-B09_00367 hypothetical protein</td>\n",
       "      <td>1</td>\n",
       "    </tr>\n",
       "    <tr>\n",
       "      <th>469087</th>\n",
       "      <td>AG-895-B18_00340 Glucose--fructose oxidoreductase</td>\n",
       "      <td>1</td>\n",
       "    </tr>\n",
       "    <tr>\n",
       "      <th>469089</th>\n",
       "      <td>AG-894-J09_02623 hypothetical protein</td>\n",
       "      <td>1</td>\n",
       "    </tr>\n",
       "    <tr>\n",
       "      <th>469090</th>\n",
       "      <td>AG-895-B20_00415 N-acetyl-gamma-glutamyl-phosp...</td>\n",
       "      <td>1</td>\n",
       "    </tr>\n",
       "    <tr>\n",
       "      <th>469091</th>\n",
       "      <td>AG-895-F04_01154 hypothetical protein</td>\n",
       "      <td>1</td>\n",
       "    </tr>\n",
       "    <tr>\n",
       "      <th>469092</th>\n",
       "      <td>AG-909-D10_00925 putative ABC transporter ATP-...</td>\n",
       "      <td>1</td>\n",
       "    </tr>\n",
       "    <tr>\n",
       "      <th>469093</th>\n",
       "      <td>AG-916-J14_00359 AI-2 transport protein TqsA</td>\n",
       "      <td>1</td>\n",
       "    </tr>\n",
       "    <tr>\n",
       "      <th>469094</th>\n",
       "      <td>AG-892-C10_00377 Phosphoribosylformylglycinami...</td>\n",
       "      <td>1</td>\n",
       "    </tr>\n",
       "    <tr>\n",
       "      <th>469095</th>\n",
       "      <td>AG-904-B13_00312 UDP-N-acetylenolpyruvoylgluco...</td>\n",
       "      <td>1</td>\n",
       "    </tr>\n",
       "    <tr>\n",
       "      <th>469096</th>\n",
       "      <td>AG-918-G21_00112 tRNA (guanine-N(7)-)-methyltr...</td>\n",
       "      <td>1</td>\n",
       "    </tr>\n",
       "    <tr>\n",
       "      <th>469097</th>\n",
       "      <td>AG-919-E04_00119 hypothetical protein</td>\n",
       "      <td>1</td>\n",
       "    </tr>\n",
       "    <tr>\n",
       "      <th>469098</th>\n",
       "      <td>AG-912-G23_00737 hypothetical protein</td>\n",
       "      <td>1</td>\n",
       "    </tr>\n",
       "    <tr>\n",
       "      <th>469100</th>\n",
       "      <td>AG-913-B08_00166 hypothetical protein</td>\n",
       "      <td>1</td>\n",
       "    </tr>\n",
       "    <tr>\n",
       "      <th>469101</th>\n",
       "      <td>AG-903-E05_00642 L-fucose isomerase</td>\n",
       "      <td>1</td>\n",
       "    </tr>\n",
       "    <tr>\n",
       "      <th>469103</th>\n",
       "      <td>AG-901-B14_00542 hypothetical protein</td>\n",
       "      <td>1</td>\n",
       "    </tr>\n",
       "    <tr>\n",
       "      <th>469104</th>\n",
       "      <td>AG-898-L04_00271 hypothetical protein</td>\n",
       "      <td>1</td>\n",
       "    </tr>\n",
       "    <tr>\n",
       "      <th>469106</th>\n",
       "      <td>AG-896-K16_01085 hypothetical protein</td>\n",
       "      <td>1</td>\n",
       "    </tr>\n",
       "  </tbody>\n",
       "</table>\n",
       "<p>351691 rows × 2 columns</p>\n",
       "</div>"
      ],
      "text/plain": [
       "                                                     seed  count\n",
       "0                                                              1\n",
       "1                   AG-903-I02_00478 hypothetical protein      1\n",
       "2                   AG-919-L02_00037 hypothetical protein      1\n",
       "4                   AG-907-C13_00842 hypothetical protein      1\n",
       "6       AG-916-B09_01209 UDP-4-amino-4,6-dideoxy-N-ace...      1\n",
       "7                   AG-915-O18_00162 hypothetical protein      1\n",
       "8       AG-915-L04_00200 Methionyl-tRNA formyltransferase      1\n",
       "9                   AG-918-O17_00099 hypothetical protein      1\n",
       "10                  AG-359-K08_00266 hypothetical protein      1\n",
       "11                  AG-895-F08_00105 hypothetical protein      1\n",
       "12                  AG-904-G19_00612 hypothetical protein      1\n",
       "13      AG-913-I06_00633 N-acetylmuramoyl-L-alanine am...      1\n",
       "15                  AG-918-L05_00445 hypothetical protein      1\n",
       "17                  AG-901-B10_00306 hypothetical protein      1\n",
       "18                  AG-914-D21_00133 hypothetical protein      1\n",
       "19                  AG-917-P21_00684 hypothetical protein      1\n",
       "20                  AG-897-B23_01525 hypothetical protein      1\n",
       "21                  AG-892-E04_00017 hypothetical protein      1\n",
       "23                  AG-898-P13_00584 hypothetical protein      1\n",
       "24      AG-911-N10_00088 Ribosomal RNA small subunit m...      1\n",
       "26                  AG-893-J18_00373 hypothetical protein      1\n",
       "27                  AG-893-J11_01090 hypothetical protein      1\n",
       "28      AG-915-M18_00390 dTDP-4-dehydrorhamnose reductase      1\n",
       "29                  AG-915-G04_01357 hypothetical protein      1\n",
       "30                  AG-908-F13_00242 hypothetical protein      1\n",
       "32      AG-893-M05_00714 Cytochrome bo(3) ubiquinol ox...      1\n",
       "33         AG-892-F19_00728 Penicillin-binding protein 1A      1\n",
       "34             AG-893-J18_00644 6-phosphogluconolactonase      1\n",
       "35                  AG-920-F02_00024 hypothetical protein      1\n",
       "36                  AG-360-A14_00385 hypothetical protein      1\n",
       "...                                                   ...    ...\n",
       "469066  AG-892-B03_00635 Ribosomal RNA small subunit m...      1\n",
       "469067              AG-917-P21_00767 hypothetical protein      1\n",
       "469068              AG-361-K23_00004 hypothetical protein      1\n",
       "469069           AG-892-G06_00214 GDP-perosamine synthase      1\n",
       "469070              AG-896-I22_00090 hypothetical protein      1\n",
       "469071              AG-361-L15_00145 hypothetical protein      1\n",
       "469072         AG-919-L13_00927 General stress protein 69      1\n",
       "469075              AG-892-K19_00124 hypothetical protein      1\n",
       "469076              AG-920-O19_00991 hypothetical protein      1\n",
       "469080              AG-907-E16_01204 hypothetical protein      1\n",
       "469081              AG-893-E14_00036 hypothetical protein      1\n",
       "469083              AG-900-G13_00100 hypothetical protein      1\n",
       "469084              AG-917-K10_00442 hypothetical protein      1\n",
       "469086              AG-894-B09_00367 hypothetical protein      1\n",
       "469087  AG-895-B18_00340 Glucose--fructose oxidoreductase      1\n",
       "469089              AG-894-J09_02623 hypothetical protein      1\n",
       "469090  AG-895-B20_00415 N-acetyl-gamma-glutamyl-phosp...      1\n",
       "469091              AG-895-F04_01154 hypothetical protein      1\n",
       "469092  AG-909-D10_00925 putative ABC transporter ATP-...      1\n",
       "469093       AG-916-J14_00359 AI-2 transport protein TqsA      1\n",
       "469094  AG-892-C10_00377 Phosphoribosylformylglycinami...      1\n",
       "469095  AG-904-B13_00312 UDP-N-acetylenolpyruvoylgluco...      1\n",
       "469096  AG-918-G21_00112 tRNA (guanine-N(7)-)-methyltr...      1\n",
       "469097              AG-919-E04_00119 hypothetical protein      1\n",
       "469098              AG-912-G23_00737 hypothetical protein      1\n",
       "469100              AG-913-B08_00166 hypothetical protein      1\n",
       "469101                AG-903-E05_00642 L-fucose isomerase      1\n",
       "469103              AG-901-B14_00542 hypothetical protein      1\n",
       "469104              AG-898-L04_00271 hypothetical protein      1\n",
       "469106              AG-896-K16_01085 hypothetical protein      1\n",
       "\n",
       "[351691 rows x 2 columns]"
      ]
     },
     "execution_count": 24,
     "metadata": {},
     "output_type": "execute_result"
    }
   ],
   "source": [
    "singles"
   ]
  },
  {
   "cell_type": "code",
   "execution_count": null,
   "metadata": {
    "collapsed": true
   },
   "outputs": [],
   "source": []
  }
 ],
 "metadata": {
  "kernelspec": {
   "display_name": "Python 3",
   "language": "python",
   "name": "python3"
  },
  "language_info": {
   "codemirror_mode": {
    "name": "ipython",
    "version": 3
   },
   "file_extension": ".py",
   "mimetype": "text/x-python",
   "name": "python",
   "nbconvert_exporter": "python",
   "pygments_lexer": "ipython3",
   "version": "3.5.3"
  }
 },
 "nbformat": 4,
 "nbformat_minor": 1
}
