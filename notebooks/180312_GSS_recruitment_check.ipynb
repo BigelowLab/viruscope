{
 "cells": [
  {
   "cell_type": "code",
   "execution_count": 2,
   "metadata": {
    "collapsed": true
   },
   "outputs": [],
   "source": [
    "import os\n",
    "import os.path as op\n",
    "import glob\n",
    "import pandas as pd\n",
    "\n",
    "wd = \"/mnt/scgc/simon/simonsproject/gss_vs/diamond/\""
   ]
  },
  {
   "cell_type": "code",
   "execution_count": 3,
   "metadata": {
    "collapsed": true
   },
   "outputs": [],
   "source": [
    "final_results = glob.glob(op.join(wd, '*_tbl.csv'))"
   ]
  },
  {
   "cell_type": "code",
   "execution_count": 4,
   "metadata": {},
   "outputs": [
    {
     "data": {
      "text/plain": [
       "5015"
      ]
     },
     "execution_count": 4,
     "metadata": {},
     "output_type": "execute_result"
    }
   ],
   "source": [
    "len(final_results)"
   ]
  },
  {
   "cell_type": "code",
   "execution_count": 5,
   "metadata": {
    "collapsed": true
   },
   "outputs": [],
   "source": [
    "intermediates = glob.glob(op.join(wd, \"*LineP-all.daa\"))"
   ]
  },
  {
   "cell_type": "code",
   "execution_count": 36,
   "metadata": {},
   "outputs": [
    {
     "data": {
      "text/plain": [
       "56"
      ]
     },
     "execution_count": 36,
     "metadata": {},
     "output_type": "execute_result"
    }
   ],
   "source": [
    "len(intermediates) - len(final_results)"
   ]
  },
  {
   "cell_type": "code",
   "execution_count": 6,
   "metadata": {
    "collapsed": true
   },
   "outputs": [],
   "source": [
    "isags = [op.basename(i).split(\"_\")[0] for i in intermediates]\n",
    "fsags = [op.basename(i).split(\"_\")[0] for i in final_results]"
   ]
  },
  {
   "cell_type": "code",
   "execution_count": 7,
   "metadata": {
    "collapsed": true
   },
   "outputs": [],
   "source": [
    "incomplete = [i for i in isags if i not in fsags]"
   ]
  },
  {
   "cell_type": "code",
   "execution_count": 8,
   "metadata": {
    "collapsed": true
   },
   "outputs": [],
   "source": [
    "from viruscope.recruit import read_count, construct_recruit_tbl"
   ]
  },
  {
   "cell_type": "code",
   "execution_count": 9,
   "metadata": {
    "collapsed": true
   },
   "outputs": [],
   "source": [
    "vir_mg='/mnt/scgc_nfs/ref/viral_dbs/POV.fasta.gz'\n",
    "bac_mg='/mnt/scgc_nfs/ref/viral_dbs/LineP-all.fasta.gz'"
   ]
  },
  {
   "cell_type": "code",
   "execution_count": 10,
   "metadata": {
    "collapsed": true
   },
   "outputs": [],
   "source": [
    "read_count_dict = {}\n",
    "read_count_dict['vir_reads'] = read_count(vir_mg)\n",
    "read_count_dict['bac_reads'] = read_count(bac_mg)"
   ]
  },
  {
   "cell_type": "code",
   "execution_count": 11,
   "metadata": {},
   "outputs": [
    {
     "data": {
      "text/plain": [
       "{'bac_reads': '8279226', 'vir_reads': '5922080'}"
      ]
     },
     "execution_count": 11,
     "metadata": {},
     "output_type": "execute_result"
    }
   ],
   "source": [
    "read_count_dict"
   ]
  },
  {
   "cell_type": "code",
   "execution_count": 12,
   "metadata": {
    "collapsed": true
   },
   "outputs": [],
   "source": [
    "protfile = lambda sag: op.join(\"/mnt/scgc/simon/simonsproject/gss_vs/prodigal/\",'{sag}_proteins.fasta'.format(sag=sag))    \n",
    "contigfile = lambda sag: op.join(\"/mnt/scgc/simon/simonsproject/gss_contigs/\",\"contigs\",'{sag}_contigs.fasta'.format(sag=sag))\n",
    "rtsv = lambda sag, mg: op.join(\"/mnt/scgc/simon/simonsproject/gss_vs/diamond/{sag}_proteins_vs_{mg}.tsv.gz\".format(sag=sag, mg=mg))\n",
    "btsv = lambda sag: rtsv(sag, \"LineP-all\")\n",
    "vtsv = lambda sag: rtsv(sag, \"POV\")"
   ]
  },
  {
   "cell_type": "code",
   "execution_count": 13,
   "metadata": {
    "collapsed": true
   },
   "outputs": [],
   "source": [
    "exsag = incomplete[0]"
   ]
  },
  {
   "cell_type": "code",
   "execution_count": 16,
   "metadata": {},
   "outputs": [
    {
     "name": "stdout",
     "output_type": "stream",
     "text": [
      "doesn't look like input contig file is in gff format.  Will assume that contig name is embedded in the ORF name.\n",
      "looks like input config fiel is in fasta format.\n"
     ]
    },
    {
     "ename": "KeyError",
     "evalue": "'AG-414-G13_NODE_10_length_4263_cov_13.1659_ID_19'",
     "output_type": "error",
     "traceback": [
      "\u001b[1;31m---------------------------------------------------------------------------\u001b[0m",
      "\u001b[1;31mKeyError\u001b[0m                                  Traceback (most recent call last)",
      "\u001b[1;32m<ipython-input-16-c38b4d83f929>\u001b[0m in \u001b[0;36m<module>\u001b[1;34m()\u001b[0m\n\u001b[1;32m----> 1\u001b[1;33m \u001b[0mexdf\u001b[0m \u001b[1;33m=\u001b[0m \u001b[0mconstruct_recruit_tbl\u001b[0m\u001b[1;33m(\u001b[0m\u001b[0mvtsv\u001b[0m\u001b[1;33m(\u001b[0m\u001b[0mexsag\u001b[0m\u001b[1;33m)\u001b[0m\u001b[1;33m,\u001b[0m \u001b[0mbtsv\u001b[0m\u001b[1;33m(\u001b[0m\u001b[0mexsag\u001b[0m\u001b[1;33m)\u001b[0m\u001b[1;33m,\u001b[0m \u001b[0mread_count_dict\u001b[0m\u001b[1;33m,\u001b[0m \u001b[0mcontigfile\u001b[0m\u001b[1;33m(\u001b[0m\u001b[0mexsag\u001b[0m\u001b[1;33m)\u001b[0m\u001b[1;33m)\u001b[0m\u001b[1;33m\u001b[0m\u001b[0m\n\u001b[0m",
      "\u001b[1;32m/mnt/scgc_nfs/opt/common/anaconda3/4.0.0/lib/python3.5/site-packages/viruscope-.-py3.5.egg/viruscope/recruit.py\u001b[0m in \u001b[0;36mconstruct_recruit_tbl\u001b[1;34m(vir_tsv, bac_tsv, read_count_dict, contig_file)\u001b[0m\n\u001b[0;32m    220\u001b[0m     \u001b[0mclens\u001b[0m \u001b[1;33m=\u001b[0m \u001b[0mcontig_lengths\u001b[0m\u001b[1;33m(\u001b[0m\u001b[0mcontig_file\u001b[0m\u001b[1;33m)\u001b[0m\u001b[1;33m\u001b[0m\u001b[0m\n\u001b[0;32m    221\u001b[0m \u001b[1;33m\u001b[0m\u001b[0m\n\u001b[1;32m--> 222\u001b[1;33m     \u001b[0mout_tbl\u001b[0m \u001b[1;33m=\u001b[0m \u001b[0mcompute_fr\u001b[0m\u001b[1;33m(\u001b[0m\u001b[0mchits\u001b[0m\u001b[1;33m.\u001b[0m\u001b[0mreset_index\u001b[0m\u001b[1;33m(\u001b[0m\u001b[1;33m)\u001b[0m\u001b[1;33m,\u001b[0m \u001b[0mclens\u001b[0m\u001b[1;33m,\u001b[0m \u001b[0mmult\u001b[0m\u001b[1;33m=\u001b[0m\u001b[1;36m1e6\u001b[0m\u001b[1;33m)\u001b[0m\u001b[1;33m\u001b[0m\u001b[0m\n\u001b[0m\u001b[0;32m    223\u001b[0m     \u001b[0mout_tbl\u001b[0m\u001b[1;33m[\u001b[0m\u001b[1;34m'ratio_virus_bacteria'\u001b[0m\u001b[1;33m]\u001b[0m \u001b[1;33m=\u001b[0m \u001b[0mout_tbl\u001b[0m\u001b[1;33m[\u001b[0m\u001b[1;34m'fr_mg-vir'\u001b[0m\u001b[1;33m]\u001b[0m \u001b[1;33m/\u001b[0m \u001b[0mout_tbl\u001b[0m\u001b[1;33m[\u001b[0m\u001b[1;34m'fr_mg-bac'\u001b[0m\u001b[1;33m]\u001b[0m\u001b[1;33m\u001b[0m\u001b[0m\n\u001b[0;32m    224\u001b[0m     \u001b[0mout_tbl\u001b[0m\u001b[1;33m[\u001b[0m\u001b[1;34m'ratio_virus_bacteria'\u001b[0m\u001b[1;33m]\u001b[0m \u001b[1;33m=\u001b[0m \u001b[1;33m[\u001b[0m\u001b[1;36m1000\u001b[0m \u001b[1;32mif\u001b[0m \u001b[0mi\u001b[0m \u001b[1;33m==\u001b[0m \u001b[0mfloat\u001b[0m\u001b[1;33m(\u001b[0m\u001b[1;34m'inf'\u001b[0m\u001b[1;33m)\u001b[0m \u001b[1;32melse\u001b[0m \u001b[0mi\u001b[0m \u001b[1;32mfor\u001b[0m \u001b[0mi\u001b[0m \u001b[1;32min\u001b[0m \u001b[0mout_tbl\u001b[0m\u001b[1;33m[\u001b[0m\u001b[1;34m'ratio_virus_bacteria'\u001b[0m\u001b[1;33m]\u001b[0m\u001b[1;33m]\u001b[0m\u001b[1;33m\u001b[0m\u001b[0m\n",
      "\u001b[1;32m/mnt/scgc_nfs/opt/common/anaconda3/4.0.0/lib/python3.5/site-packages/viruscope-.-py3.5.egg/viruscope/recruit.py\u001b[0m in \u001b[0;36mcompute_fr\u001b[1;34m(tbl, clens, mult)\u001b[0m\n\u001b[0;32m    160\u001b[0m     '''\n\u001b[0;32m    161\u001b[0m \u001b[1;33m\u001b[0m\u001b[0m\n\u001b[1;32m--> 162\u001b[1;33m     \u001b[0mtbl\u001b[0m\u001b[1;33m[\u001b[0m\u001b[1;34m'contig_length'\u001b[0m\u001b[1;33m]\u001b[0m \u001b[1;33m=\u001b[0m \u001b[1;33m[\u001b[0m\u001b[0mfloat\u001b[0m\u001b[1;33m(\u001b[0m\u001b[0mclens\u001b[0m\u001b[1;33m[\u001b[0m\u001b[0mi\u001b[0m\u001b[1;33m]\u001b[0m\u001b[1;33m)\u001b[0m \u001b[1;32mfor\u001b[0m \u001b[0mi\u001b[0m \u001b[1;32min\u001b[0m \u001b[0mtbl\u001b[0m\u001b[1;33m[\u001b[0m\u001b[1;34m'contig'\u001b[0m\u001b[1;33m]\u001b[0m\u001b[1;33m]\u001b[0m\u001b[1;33m\u001b[0m\u001b[0m\n\u001b[0m\u001b[0;32m    163\u001b[0m \u001b[1;33m\u001b[0m\u001b[0m\n\u001b[0;32m    164\u001b[0m     \u001b[0mhits_cols\u001b[0m \u001b[1;33m=\u001b[0m \u001b[1;33m[\u001b[0m\u001b[0mi\u001b[0m \u001b[1;32mfor\u001b[0m \u001b[0mi\u001b[0m \u001b[1;32min\u001b[0m \u001b[0mtbl\u001b[0m\u001b[1;33m.\u001b[0m\u001b[0mcolumns\u001b[0m \u001b[1;32mif\u001b[0m \u001b[1;34m'hit'\u001b[0m \u001b[1;32min\u001b[0m \u001b[0mi\u001b[0m\u001b[1;33m]\u001b[0m\u001b[1;33m\u001b[0m\u001b[0m\n",
      "\u001b[1;32m/mnt/scgc_nfs/opt/common/anaconda3/4.0.0/lib/python3.5/site-packages/viruscope-.-py3.5.egg/viruscope/recruit.py\u001b[0m in \u001b[0;36m<listcomp>\u001b[1;34m(.0)\u001b[0m\n\u001b[0;32m    160\u001b[0m     '''\n\u001b[0;32m    161\u001b[0m \u001b[1;33m\u001b[0m\u001b[0m\n\u001b[1;32m--> 162\u001b[1;33m     \u001b[0mtbl\u001b[0m\u001b[1;33m[\u001b[0m\u001b[1;34m'contig_length'\u001b[0m\u001b[1;33m]\u001b[0m \u001b[1;33m=\u001b[0m \u001b[1;33m[\u001b[0m\u001b[0mfloat\u001b[0m\u001b[1;33m(\u001b[0m\u001b[0mclens\u001b[0m\u001b[1;33m[\u001b[0m\u001b[0mi\u001b[0m\u001b[1;33m]\u001b[0m\u001b[1;33m)\u001b[0m \u001b[1;32mfor\u001b[0m \u001b[0mi\u001b[0m \u001b[1;32min\u001b[0m \u001b[0mtbl\u001b[0m\u001b[1;33m[\u001b[0m\u001b[1;34m'contig'\u001b[0m\u001b[1;33m]\u001b[0m\u001b[1;33m]\u001b[0m\u001b[1;33m\u001b[0m\u001b[0m\n\u001b[0m\u001b[0;32m    163\u001b[0m \u001b[1;33m\u001b[0m\u001b[0m\n\u001b[0;32m    164\u001b[0m     \u001b[0mhits_cols\u001b[0m \u001b[1;33m=\u001b[0m \u001b[1;33m[\u001b[0m\u001b[0mi\u001b[0m \u001b[1;32mfor\u001b[0m \u001b[0mi\u001b[0m \u001b[1;32min\u001b[0m \u001b[0mtbl\u001b[0m\u001b[1;33m.\u001b[0m\u001b[0mcolumns\u001b[0m \u001b[1;32mif\u001b[0m \u001b[1;34m'hit'\u001b[0m \u001b[1;32min\u001b[0m \u001b[0mi\u001b[0m\u001b[1;33m]\u001b[0m\u001b[1;33m\u001b[0m\u001b[0m\n",
      "\u001b[1;31mKeyError\u001b[0m: 'AG-414-G13_NODE_10_length_4263_cov_13.1659_ID_19'"
     ]
    }
   ],
   "source": [
    "exdf = construct_recruit_tbl(vtsv(exsag), btsv(exsag), read_count_dict, contigfile(exsag))"
   ]
  },
  {
   "cell_type": "code",
   "execution_count": 20,
   "metadata": {
    "collapsed": true
   },
   "outputs": [],
   "source": [
    "from __future__ import print_function\n",
    "\n",
    "\n",
    "import os\n",
    "import os.path as op\n",
    "import subprocess\n",
    "import sys\n",
    "import tempfile\n",
    "import pandas as pd\n",
    "from pysam import FastxFile\n",
    "from viruscope.tools import file_transaction, file_exists\n",
    "\n",
    "from viruscope.recruit import import_diamond_tsv, map_orfs_to_contigs, summarize_by_contig, contig_lengths, compute_fr"
   ]
  },
  {
   "cell_type": "code",
   "execution_count": 33,
   "metadata": {
    "collapsed": true
   },
   "outputs": [],
   "source": [
    "vir_tsv = vtsv(exsag)\n",
    "bac_tsv = btsv(exsag)\n",
    "contig_file = contigfile(exsag)\n",
    "prot_file = protfile(exsag)"
   ]
  },
  {
   "cell_type": "code",
   "execution_count": 22,
   "metadata": {},
   "outputs": [],
   "source": [
    "cnames = \"qseqid sseqid pident length mismatch gapopen qstart qend sstart send evalue bitscore\".split()\n",
    "bac_df = import_diamond_tsv(bac_tsv)\n",
    "vir_df = import_diamond_tsv(vir_tsv)"
   ]
  },
  {
   "cell_type": "code",
   "execution_count": 25,
   "metadata": {},
   "outputs": [],
   "source": [
    "bac_sum = pd.Series(bac_df.groupby('sseqid')['qseqid'].count(), name='hit_mg-bac')\n",
    "vir_sum = pd.Series(vir_df.groupby('sseqid')['qseqid'].count(), name='hit_mg-vir')"
   ]
  },
  {
   "cell_type": "code",
   "execution_count": 26,
   "metadata": {},
   "outputs": [
    {
     "name": "stdout",
     "output_type": "stream",
     "text": [
      "doesn't look like input contig file is in gff format.  Will assume that contig name is embedded in the ORF name.\n"
     ]
    }
   ],
   "source": [
    "orfhits = pd.concat([bac_sum, vir_sum], axis=1).reset_index().rename(columns={'index':'orf'})\n",
    "orfhits = map_orfs_to_contigs(orfhits, contig_file)"
   ]
  },
  {
   "cell_type": "code",
   "execution_count": 28,
   "metadata": {},
   "outputs": [],
   "source": [
    "chits = pd.concat([summarize_by_contig(orfhits, 'hit_mg-bac'), summarize_by_contig(orfhits, 'hit_mg-vir')], axis=1)\n",
    "chits['reads_mg-vir'] = float(read_count_dict['vir_reads'])\n",
    "chits['reads_mg-bac'] = float(read_count_dict['bac_reads'])"
   ]
  },
  {
   "cell_type": "code",
   "execution_count": 29,
   "metadata": {},
   "outputs": [
    {
     "name": "stdout",
     "output_type": "stream",
     "text": [
      "looks like input config fiel is in fasta format.\n"
     ]
    }
   ],
   "source": [
    "clens = contig_lengths(contig_file)"
   ]
  },
  {
   "cell_type": "code",
   "execution_count": 32,
   "metadata": {},
   "outputs": [
    {
     "name": "stdout",
     "output_type": "stream",
     "text": [
      ">AG-414-G13_AG-414-G13_NODE_1\r\n",
      "TGCAATCCCTATCCAAATAAATGTTTGTGATGTAGATATTGCAAAAGTATCAAATCCCTCATCACTCAATGCTTGAATCA\r\n",
      "GACTCCATGCAAAAAAGATTCCTAAACCAGTTCCTAAAACGGCTCCAAATATTGAGATAATTGAAGATTCTATAAATATC\r\n",
      "ATTCTCCTTATTTGTTTTCTATAGGTACCAATTGCTCTCATTAAACCTATTTCTCTTGTTCTTTCATAAACAGAAAGAGA\r\n",
      "AAGTGTGTTTGTTATTCCAAATAATGCAACAAAAATTGATATTGATAAAAATCCGTAAATAACATTTAGAAGCTGTTGTA\r\n",
      "TTTGAGTATTTGCTTCCTCAACTAAACCATCTTGATCTCTTAATTTAGCACCAGGATAGTCAGAAACAATTTGGTCTAAT\r\n",
      "TTTGCTTGAGTTGATTCATTTTTTTCTTTTACATTAAAATAAATTTCTGTATCTAAAGATTCTTCTGAAAAGAATGAATA\r\n",
      "ATTTTCTAATAGTAAAAAGAATTCAGCAGGAGGAGGGGTTGTCCAATCAAAAATATATTCAATAGTAAAGGTTCTTTTCC\r\n",
      "CTTCTTCTGGGATTGTTAAGATTATCTCATCTCCAATACCAAGATTGTCTCTTTCTGCTTTCTGTTTAAGAACACCCATA\r\n",
      "GCGTTTGGTTTCAAAAACTCTTCTTTTGAGCCAGCTATATTTTCTGTTTTTATTAAATCAAATATATCTTCATCAACCGC\r\n"
     ]
    }
   ],
   "source": [
    "!head {contig_file}"
   ]
  },
  {
   "cell_type": "code",
   "execution_count": 34,
   "metadata": {},
   "outputs": [
    {
     "name": "stdout",
     "output_type": "stream",
     "text": [
      ">AG-414-G13_NODE_1_length_335221_cov_44.5995_ID_1_1 # 1 # 2568 # -1 # ID=1_1;partial=10;start_type=ATG;rbs_motif=None;rbs_spacer=None;gc_cont=0.346\r\n",
      "MLGFTKRPLFLIAWKNLKTYPVRILLTTSSIILGVSVIIASSIFSESNKSAFDNLFSGIY\r\n",
      "EGIDLVVNPVQEDFAEGFGDSRGQGPLSFELKKIPDKRVQEVKDLPGVKDAWGEVFGFAQ\r\n",
      "YIKIVRTECRSHSYERDCTETIFISNGFAPTFGGSWDTSPYAKQWELIDGKAPENNKEVV\r\n",
      "MDRTTAENNNYSVGDRVTVLAGATPASFSIVGIADFANVGSPGGATFALFELKTAQTLLD\r\n",
      "SRGQVDLINVVIEDNADIEAVRASIENIDKGTLDVINAQEAAAEQADGIKQGLNFFNTIL\r\n",
      "NVFAGIALFVGAFIIQNTFRILLLQRTKELSLLRALGTSKNQIYRLVLSESIFMSLIGSG\r\n",
      "LGIGLGIGLAVAVKEGLKYFEFGLPDGPLVLTTEAAISGAIVGITVTILSSLLPARKASQ\r\n",
      "VSPMEAIRESTLTPKRKSLIKRLIFGTTVTTFGFAMLFGVLYDFLDLPTLSGLQQVGLGA\r\n",
      "GVIFIGVSIITPSITKPFVFLFDKLYEIAFGILGKLSTENSKRTPRRTASTASALMIGLT\r\n"
     ]
    }
   ],
   "source": [
    "!head {prot_file}"
   ]
  },
  {
   "cell_type": "code",
   "execution_count": 30,
   "metadata": {},
   "outputs": [
    {
     "ename": "KeyError",
     "evalue": "'AG-414-G13_NODE_10_length_4263_cov_13.1659_ID_19'",
     "output_type": "error",
     "traceback": [
      "\u001b[1;31m---------------------------------------------------------------------------\u001b[0m",
      "\u001b[1;31mKeyError\u001b[0m                                  Traceback (most recent call last)",
      "\u001b[1;32m<ipython-input-30-b9f52dafcaf4>\u001b[0m in \u001b[0;36m<module>\u001b[1;34m()\u001b[0m\n\u001b[1;32m----> 1\u001b[1;33m \u001b[0mout_tbl\u001b[0m \u001b[1;33m=\u001b[0m \u001b[0mcompute_fr\u001b[0m\u001b[1;33m(\u001b[0m\u001b[0mchits\u001b[0m\u001b[1;33m.\u001b[0m\u001b[0mreset_index\u001b[0m\u001b[1;33m(\u001b[0m\u001b[1;33m)\u001b[0m\u001b[1;33m,\u001b[0m \u001b[0mclens\u001b[0m\u001b[1;33m,\u001b[0m \u001b[0mmult\u001b[0m\u001b[1;33m=\u001b[0m\u001b[1;36m1e6\u001b[0m\u001b[1;33m)\u001b[0m\u001b[1;33m\u001b[0m\u001b[0m\n\u001b[0m",
      "\u001b[1;32m/mnt/scgc_nfs/opt/common/anaconda3/4.0.0/lib/python3.5/site-packages/viruscope-.-py3.5.egg/viruscope/recruit.py\u001b[0m in \u001b[0;36mcompute_fr\u001b[1;34m(tbl, clens, mult)\u001b[0m\n\u001b[0;32m    160\u001b[0m     '''\n\u001b[0;32m    161\u001b[0m \u001b[1;33m\u001b[0m\u001b[0m\n\u001b[1;32m--> 162\u001b[1;33m     \u001b[0mtbl\u001b[0m\u001b[1;33m[\u001b[0m\u001b[1;34m'contig_length'\u001b[0m\u001b[1;33m]\u001b[0m \u001b[1;33m=\u001b[0m \u001b[1;33m[\u001b[0m\u001b[0mfloat\u001b[0m\u001b[1;33m(\u001b[0m\u001b[0mclens\u001b[0m\u001b[1;33m[\u001b[0m\u001b[0mi\u001b[0m\u001b[1;33m]\u001b[0m\u001b[1;33m)\u001b[0m \u001b[1;32mfor\u001b[0m \u001b[0mi\u001b[0m \u001b[1;32min\u001b[0m \u001b[0mtbl\u001b[0m\u001b[1;33m[\u001b[0m\u001b[1;34m'contig'\u001b[0m\u001b[1;33m]\u001b[0m\u001b[1;33m]\u001b[0m\u001b[1;33m\u001b[0m\u001b[0m\n\u001b[0m\u001b[0;32m    163\u001b[0m \u001b[1;33m\u001b[0m\u001b[0m\n\u001b[0;32m    164\u001b[0m     \u001b[0mhits_cols\u001b[0m \u001b[1;33m=\u001b[0m \u001b[1;33m[\u001b[0m\u001b[0mi\u001b[0m \u001b[1;32mfor\u001b[0m \u001b[0mi\u001b[0m \u001b[1;32min\u001b[0m \u001b[0mtbl\u001b[0m\u001b[1;33m.\u001b[0m\u001b[0mcolumns\u001b[0m \u001b[1;32mif\u001b[0m \u001b[1;34m'hit'\u001b[0m \u001b[1;32min\u001b[0m \u001b[0mi\u001b[0m\u001b[1;33m]\u001b[0m\u001b[1;33m\u001b[0m\u001b[0m\n",
      "\u001b[1;32m/mnt/scgc_nfs/opt/common/anaconda3/4.0.0/lib/python3.5/site-packages/viruscope-.-py3.5.egg/viruscope/recruit.py\u001b[0m in \u001b[0;36m<listcomp>\u001b[1;34m(.0)\u001b[0m\n\u001b[0;32m    160\u001b[0m     '''\n\u001b[0;32m    161\u001b[0m \u001b[1;33m\u001b[0m\u001b[0m\n\u001b[1;32m--> 162\u001b[1;33m     \u001b[0mtbl\u001b[0m\u001b[1;33m[\u001b[0m\u001b[1;34m'contig_length'\u001b[0m\u001b[1;33m]\u001b[0m \u001b[1;33m=\u001b[0m \u001b[1;33m[\u001b[0m\u001b[0mfloat\u001b[0m\u001b[1;33m(\u001b[0m\u001b[0mclens\u001b[0m\u001b[1;33m[\u001b[0m\u001b[0mi\u001b[0m\u001b[1;33m]\u001b[0m\u001b[1;33m)\u001b[0m \u001b[1;32mfor\u001b[0m \u001b[0mi\u001b[0m \u001b[1;32min\u001b[0m \u001b[0mtbl\u001b[0m\u001b[1;33m[\u001b[0m\u001b[1;34m'contig'\u001b[0m\u001b[1;33m]\u001b[0m\u001b[1;33m]\u001b[0m\u001b[1;33m\u001b[0m\u001b[0m\n\u001b[0m\u001b[0;32m    163\u001b[0m \u001b[1;33m\u001b[0m\u001b[0m\n\u001b[0;32m    164\u001b[0m     \u001b[0mhits_cols\u001b[0m \u001b[1;33m=\u001b[0m \u001b[1;33m[\u001b[0m\u001b[0mi\u001b[0m \u001b[1;32mfor\u001b[0m \u001b[0mi\u001b[0m \u001b[1;32min\u001b[0m \u001b[0mtbl\u001b[0m\u001b[1;33m.\u001b[0m\u001b[0mcolumns\u001b[0m \u001b[1;32mif\u001b[0m \u001b[1;34m'hit'\u001b[0m \u001b[1;32min\u001b[0m \u001b[0mi\u001b[0m\u001b[1;33m]\u001b[0m\u001b[1;33m\u001b[0m\u001b[0m\n",
      "\u001b[1;31mKeyError\u001b[0m: 'AG-414-G13_NODE_10_length_4263_cov_13.1659_ID_19'"
     ]
    }
   ],
   "source": [
    "out_tbl = compute_fr(chits.reset_index(), clens, mult=1e6)"
   ]
  },
  {
   "cell_type": "code",
   "execution_count": null,
   "metadata": {
    "collapsed": true
   },
   "outputs": [],
   "source": [
    "def compute_fr(tbl, clens, mult=1e6):\n",
    "    '''\n",
    "    Args:\n",
    "        tbl: output stats table with mg hit and read counts from diamond recruitment\n",
    "        clens: dict of contig lengths\n",
    "        mult: factor to multiply fraction by to make readiable\n",
    "\n",
    "    Outputs:\n",
    "        pandas DataFrame with mg_fr values calculated\n",
    "    '''\n",
    "    try:\n",
    "        tbl['contig_length'] = [float(clens[i]) for i in tbl['contig']]\n",
    "    except:\n",
    "        tbl['contig_length'] = float(clens[\"_\".join(i.split(\"_\")[])])\n",
    "\n",
    "    hits_cols = [i for i in tbl.columns if 'hit' in i]\n",
    "    count_cols = [\"_\".join([\"reads\",i.split(\"_\")[1]]) for i in hits_cols]\n",
    "\n",
    "    for h, c in zip(hits_cols, count_cols):\n",
    "        fr = tbl[h]/(tbl[c] * tbl['contig_length']) * mult\n",
    "        tbl[h.replace(\"hit_\",\"fr_\")] = fr\n",
    "    return tbl"
   ]
  },
  {
   "cell_type": "code",
   "execution_count": 31,
   "metadata": {},
   "outputs": [
    {
     "data": {
      "text/plain": [
       "{'AG-414-G13_AG-414-G13_NODE_1': 335021,\n",
       " 'AG-414-G13_AG-414-G13_NODE_10': 4063,\n",
       " 'AG-414-G13_AG-414-G13_NODE_11': 3460,\n",
       " 'AG-414-G13_AG-414-G13_NODE_2': 304226,\n",
       " 'AG-414-G13_AG-414-G13_NODE_3': 179074,\n",
       " 'AG-414-G13_AG-414-G13_NODE_4': 100922,\n",
       " 'AG-414-G13_AG-414-G13_NODE_5': 79580,\n",
       " 'AG-414-G13_AG-414-G13_NODE_6': 51285,\n",
       " 'AG-414-G13_AG-414-G13_NODE_7': 39754,\n",
       " 'AG-414-G13_AG-414-G13_NODE_8': 9181,\n",
       " 'AG-414-G13_AG-414-G13_NODE_9': 4234}"
      ]
     },
     "execution_count": 31,
     "metadata": {},
     "output_type": "execute_result"
    }
   ],
   "source": [
    "clens"
   ]
  },
  {
   "cell_type": "code",
   "execution_count": null,
   "metadata": {
    "collapsed": true
   },
   "outputs": [],
   "source": []
  },
  {
   "cell_type": "code",
   "execution_count": null,
   "metadata": {
    "collapsed": true
   },
   "outputs": [],
   "source": [
    "def construct_recruit_tbl(vir_tsv, bac_tsv, read_count_dict, contig_file):\n",
    "    '''\n",
    "    Args:\n",
    "        vir_tsv: diamond recruitment converted to tsv for vir metagenome\n",
    "        bac_tsv: diamond recruitment converted to tsv for bac metagenome\n",
    "        read_count_dict: dict of mg read counts with two keys -- 'vir_reads' and 'bac_reads'\n",
    "        contig_file: path to a file with sag contigs in it; either in fasta or gff format\n",
    "    Returns:\n",
    "        pandas dataframe with mg fraction calculated\n",
    "    '''\n",
    "    cnames = \"qseqid sseqid pident length mismatch gapopen qstart qend sstart send evalue bitscore\".split()\n",
    "    bac_df = import_diamond_tsv(bac_tsv)\n",
    "    vir_df = import_diamond_tsv(vir_tsv)\n",
    "\n",
    "    bac_sum = pd.Series(bac_df.groupby('sseqid')['qseqid'].count(), name='hit_mg-bac')\n",
    "    vir_sum = pd.Series(vir_df.groupby('sseqid')['qseqid'].count(), name='hit_mg-vir')\n",
    "\n",
    "    orfhits = pd.concat([bac_sum, vir_sum], axis=1).reset_index().rename(columns={'index':'orf'})\n",
    "    orfhits = map_orfs_to_contigs(orfhits, contig_file)\n",
    "\n",
    "    chits = pd.concat([summarize_by_contig(orfhits, 'hit_mg-bac'), summarize_by_contig(orfhits, 'hit_mg-vir')], axis=1)\n",
    "    chits['reads_mg-vir'] = float(read_count_dict['vir_reads'])\n",
    "    chits['reads_mg-bac'] = float(read_count_dict['bac_reads'])\n",
    "\n",
    "    clens = contig_lengths(contig_file)\n",
    "\n",
    "    out_tbl = compute_fr(chits.reset_index(), clens, mult=1e6)\n",
    "    out_tbl['ratio_virus_bacteria'] = out_tbl['fr_mg-vir'] / out_tbl['fr_mg-bac']\n",
    "    out_tbl['ratio_virus_bacteria'] = [1000 if i == float('inf') else i for i in out_tbl['ratio_virus_bacteria']]\n",
    "\n",
    "    return out_tbl"
   ]
  },
  {
   "cell_type": "code",
   "execution_count": null,
   "metadata": {
    "collapsed": true
   },
   "outputs": [],
   "source": [
    "cnames = \"qseqid sseqid pident length mismatch gapopen qstart qend sstart send evalue bitscore\".split()\n",
    "bac_df = import_diamond_tsv(bac_tsv)\n",
    "vir_df = import_diamond_tsv(vir_tsv)"
   ]
  }
 ],
 "metadata": {
  "kernelspec": {
   "display_name": "Python 3",
   "language": "python",
   "name": "python3"
  },
  "language_info": {
   "codemirror_mode": {
    "name": "ipython",
    "version": 3
   },
   "file_extension": ".py",
   "mimetype": "text/x-python",
   "name": "python",
   "nbconvert_exporter": "python",
   "pygments_lexer": "ipython3",
   "version": "3.5.3"
  }
 },
 "nbformat": 4,
 "nbformat_minor": 1
}
