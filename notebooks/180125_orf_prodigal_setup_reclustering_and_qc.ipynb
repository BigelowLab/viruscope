{
 "cells": [
  {
   "cell_type": "markdown",
   "metadata": {},
   "source": [
    "After getting all the functions together and running"
   ]
  },
  {
   "cell_type": "code",
   "execution_count": 3,
   "metadata": {
    "collapsed": true
   },
   "outputs": [],
   "source": [
    "import subprocess\n",
    "from nb_tools import file_transaction, file_exists\n",
    "from orf_setup import prodigal\n",
    "import os\n",
    "import os.path as op\n",
    "import glob\n",
    "import pandas as pd"
   ]
  },
  {
   "cell_type": "code",
   "execution_count": 4,
   "metadata": {
    "collapsed": true
   },
   "outputs": [],
   "source": [
    "wd = \"/mnt/scgc/simon/simonsproject/bats248_vs\""
   ]
  },
  {
   "cell_type": "code",
   "execution_count": 4,
   "metadata": {
    "collapsed": true
   },
   "outputs": [],
   "source": [
    "os.mkdir(op.join(wd, \"prodigal/\")"
   ]
  },
  {
   "cell_type": "code",
   "execution_count": 5,
   "metadata": {
    "collapsed": true
   },
   "outputs": [],
   "source": [
    "exesag = \"AG-903-I06\"\n",
    "name = exesag\n",
    "plate = \"-\".join(exesag.split(\"-\")[:2])\n",
    "contigfa = \"/mnt/scgc/simon/simonsproject/bats248_contigs/coassemblies/{plate}/{sag}_contigs.fasta\".format(plate=plate, sag=exesag)\n",
    "output = \"/mnt/scgc/simon/simonsproject/bats248_vs\""
   ]
  },
  {
   "cell_type": "code",
   "execution_count": 6,
   "metadata": {
    "collapsed": true
   },
   "outputs": [],
   "source": [
    "outfiles = [os.path.join(output, \"prodigal\", name + \"_proteins.fasta\"),\n",
    "                os.path.join(output, \"prodigal\", name + \"_genes.fasta\"),\n",
    "                os.path.join(output, \"prodigal\", name + \".gbk\"),\n",
    "                os.path.join(output, \"prodigal\", name + \".scores\")]"
   ]
  },
  {
   "cell_type": "code",
   "execution_count": 19,
   "metadata": {},
   "outputs": [
    {
     "name": "stderr",
     "output_type": "stream",
     "text": [
      "Running Prodigal on /mnt/scgc/simon/simonsproject/bats248_contigs/coassemblies/AG-903/AG-903-I06_contigs.fasta\n"
     ]
    },
    {
     "name": "stdout",
     "output_type": "stream",
     "text": [
      "CPU times: user 6 ms, sys: 21 ms, total: 27 ms\n",
      "Wall time: 835 ms\n"
     ]
    },
    {
     "data": {
      "text/plain": [
       "['/mnt/scgc/simon/simonsproject/bats248_vs/prodigal/AG-903-I06_proteins.fasta',\n",
       " '/mnt/scgc/simon/simonsproject/bats248_vs/prodigal/AG-903-I06_genes.fasta',\n",
       " '/mnt/scgc/simon/simonsproject/bats248_vs/prodigal/AG-903-I06.gbk',\n",
       " '/mnt/scgc/simon/simonsproject/bats248_vs/prodigal/AG-903-I06.scores']"
      ]
     },
     "execution_count": 19,
     "metadata": {},
     "output_type": "execute_result"
    }
   ],
   "source": [
    "%%time\n",
    "prodigal(contigfa, outfiles, verbose=True)"
   ]
  },
  {
   "cell_type": "code",
   "execution_count": 3,
   "metadata": {
    "collapsed": true
   },
   "outputs": [],
   "source": [
    "contigs = glob.glob(\"/mnt/scgc/simon/simonsproject/bats248_contigs/coassemblies/*/*_contigs.fasta\") + glob.glob(\"/mnt/scgc/simon/simonsproject/bats248_contigs/*/*_contigs.fasta\")"
   ]
  },
  {
   "cell_type": "code",
   "execution_count": null,
   "metadata": {
    "collapsed": true
   },
   "outputs": [],
   "source": [
    "# loop to run prodigal, i was lazy and just let this run overnight in my interactive session\n",
    "# should've submitted a job array instead\n",
    "\n",
    "out_proteins = []\n",
    "err_prots = []\n",
    "\n",
    "\n",
    "for c in contigs:\n",
    "    #break inserted so that i don't accidentally rerun this.\n",
    "    break\n",
    "    exesag = op.basename(c).split(\"_\")[0]\n",
    "    name = exesag\n",
    "    plate = \"-\".join(exesag.split(\"-\")[:2])\n",
    "    output = \"/mnt/scgc/simon/simonsproject/bats248_vs\"\n",
    "    outfiles = [os.path.join(output, \"prodigal\", name + \"_proteins.fasta\"),\n",
    "                os.path.join(output, \"prodigal\", name + \"_genes.fasta\"),\n",
    "                os.path.join(output, \"prodigal\", name + \".gbk\"),\n",
    "                os.path.join(output, \"prodigal\", name + \".scores\")]\n",
    "    try:\n",
    "        p_proteins, p_genes, p_genbank, p_score = prodigal(c, outfiles, verbose=True)\n",
    "    except Exception as inst:\n",
    "        print(inst)\n",
    "        err_prots.append(exesag)\n",
    "        continue\n",
    "    out_proteins.append(p_proteins)"
   ]
  },
  {
   "cell_type": "code",
   "execution_count": 8,
   "metadata": {},
   "outputs": [
    {
     "data": {
      "text/plain": [
       "6397"
      ]
     },
     "execution_count": 8,
     "metadata": {},
     "output_type": "execute_result"
    }
   ],
   "source": [
    "len(out_proteins)"
   ]
  },
  {
   "cell_type": "markdown",
   "metadata": {
    "collapsed": true
   },
   "source": [
    "All ORFs into one file next:"
   ]
  },
  {
   "cell_type": "code",
   "execution_count": 10,
   "metadata": {
    "collapsed": true
   },
   "outputs": [],
   "source": [
    "# !cat /mnt/scgc/simon/simonsproject/bats248_vs/prodigal/*proteins.fasta > /mnt/scgc/simon/simonsproject/bats248_vs/batch_prots.fasta\n",
    "!cat /mnt/scgc/simon/simonsproject/bats248_vs/batch_prots.fasta /mnt/scgc/simon/simonsproject/bats248_annotations/bats248_all_orfs_cdhit_c90.fasta > /mnt/scgc/simon/simonsproject/bats248_vs/clustering/cdhit_in.fasta"
   ]
  },
  {
   "cell_type": "code",
   "execution_count": 12,
   "metadata": {
    "collapsed": true
   },
   "outputs": [],
   "source": [
    "in_fasta = '/mnt/scgc/simon/simonsproject/bats248_vs/clustering/cdhit_in.fasta'\n",
    "out_fasta = '/mnt/scgc/simon/simonsproject/bats248_vs/clustering/cdhit_out.fasta'"
   ]
  },
  {
   "cell_type": "code",
   "execution_count": 52,
   "metadata": {},
   "outputs": [
    {
     "name": "stdout",
     "output_type": "stream",
     "text": [
      "echo 'cd-hit -i /mnt/scgc/simon/simonsproject/bats248_vs/clustering/cdhit_in.fasta -p 1 -c 0.90 -o /mnt/scgc/simon/simonsproject/bats248_vs/clustering/cdhit_out.fasta -T 50 -M 150000 -d 0' | qsub -N cdhit -q scgc-route -V -l walltime=10:00:00,ncpus=50,mem=150G -j oe -o /home/julia/out/180125_cdhit.out\n"
     ]
    }
   ],
   "source": [
    "cmd = \"cd-hit -i {in_fa} -p 1 -c 0.90 -o {out_fa} -T 50 -M 150000 -d 0\".format(in_fa = in_fasta, out_fa = out_fasta)\n",
    "outlog = \"/home/julia/out/180125_cdhit.out\"\n",
    "\n",
    "print(\"echo '{cmd}' | qsub -N cdhit -q scgc-route -V -l walltime=10:00:00,ncpus=50,mem=150G -j oe -o {log}\".format(cmd = cmd, log=outlog))\n"
   ]
  },
  {
   "cell_type": "markdown",
   "metadata": {},
   "source": [
    "ID ORFs that already fall into characterized clusters, and others that will need to be analyzed"
   ]
  },
  {
   "cell_type": "code",
   "execution_count": 68,
   "metadata": {
    "collapsed": true
   },
   "outputs": [],
   "source": [
    "from nb_tools import readfa\n",
    "from collections import defaultdict\n",
    "import itertools"
   ]
  },
  {
   "cell_type": "code",
   "execution_count": 75,
   "metadata": {
    "collapsed": true
   },
   "outputs": [],
   "source": [
    "seed_fa = '/mnt/scgc/simon/simonsproject/bats248_annotations/bats248_all_orfs_cdhit_c90.fasta'\n",
    "seeds = set()\n",
    "\n",
    "for name, seq in readfa(open(seed_fa)):\n",
    "    seeds.add(name.split()[0])\n",
    "    \n",
    "clstr = '/mnt/scgc/simon/simonsproject/bats248_vs/clustering/cdhit_out.fasta.clstr'\n",
    "cluster_map = defaultdict(list)\n",
    "new_seeds = []\n",
    "member_seeds = 0\n",
    "old_seeds = 0\n",
    "\n",
    "with open(clstr) as fh:\n",
    "    for cluster_start, group in itertools.groupby(fh, lambda l: l[0] == '>'):\n",
    "        members = []\n",
    "        rep_seq = ''\n",
    "        if not cluster_start: \n",
    "            for line in group:\n",
    "                if \"*\" in line: \n",
    "                    rep_seq = line.split(\",\")[1].split(\"...\")[0].replace(\">\",'').replace(\" \",\"\")\n",
    "                \n",
    "                members.append(line.split(\",\")[1].split(\"...\")[0].replace(\">\",'').replace(\" \",\"\"))\n",
    "        \n",
    "        if len(rep_seq) == 0:\n",
    "            continue\n",
    "        \n",
    "        seed_seq = None\n",
    "        \n",
    "        if rep_seq in seeds:\n",
    "            seed_seq = rep_seq\n",
    "            members.remove(rep_seq)\n",
    "            old_seeds += 1\n",
    "        else: \n",
    "            for m in members:\n",
    "                if m in seeds:\n",
    "                    seed_seq = m\n",
    "                    member_seeds += 1\n",
    "                    members.remove(m)\n",
    "                    break\n",
    "        \n",
    "        if seed_seq is None:\n",
    "            seed_seq = rep_seq\n",
    "            members.remove(rep_seq)\n",
    "            new_seeds.append(rep_seq)\n",
    "        \n",
    "        cluster_map[seed_seq] = members"
   ]
  },
  {
   "cell_type": "code",
   "execution_count": 76,
   "metadata": {},
   "outputs": [
    {
     "name": "stdout",
     "output_type": "stream",
     "text": [
      "there are 54393 new seeds\n",
      "there are 70018 old seeds\n",
      "there are 742502 old seeds included in sequence clusters that will serve as the cluster seed\n"
     ]
    }
   ],
   "source": [
    "print('there are', len(new_seeds), 'new seeds')\n",
    "print('there are', old_seeds, 'old seeds')\n",
    "print('there are', member_seeds, 'old seeds included in sequence clusters that will serve as the cluster seed')"
   ]
  },
  {
   "cell_type": "code",
   "execution_count": 77,
   "metadata": {},
   "outputs": [
    {
     "data": {
      "text/plain": [
       "866913"
      ]
     },
     "execution_count": 77,
     "metadata": {},
     "output_type": "execute_result"
    }
   ],
   "source": [
    "len(cluster_map)"
   ]
  },
  {
   "cell_type": "markdown",
   "metadata": {},
   "source": [
    "Write out cluster map to file for future reference:"
   ]
  },
  {
   "cell_type": "code",
   "execution_count": 79,
   "metadata": {},
   "outputs": [],
   "source": [
    "out_map = \"/mnt/scgc/simon/simonsproject/bats248_vs/clustering/cluster_map.txt\"\n",
    "\n",
    "def write_cluster_map(cmap, out_map):\n",
    "    count = 0\n",
    "    with open(out_map, \"w\") as oh:\n",
    "        for k in cluster_map:\n",
    "            print(k, k, sep = \"\\t\", file=oh)\n",
    "            for val in cluster_map[k]:\n",
    "                print(val, k, sep=\"\\t\", file=oh)\n",
    "                \n",
    "def read_cluster_map(out_map):\n",
    "    cmap = {}\n",
    "    with open(\"/mnt/scgc/simon/simonsproject/bats248_vs/clustering/cluster_map.txt\") as ih:\n",
    "        for l in ih:\n",
    "            vec = l.strip().split(\"\\t\")\n",
    "            cmap[vec[0]] = vec[1]\n",
    "    return cmap"
   ]
  },
  {
   "cell_type": "markdown",
   "metadata": {},
   "source": [
    "Write new seeds to a new fasta:"
   ]
  },
  {
   "cell_type": "code",
   "execution_count": 63,
   "metadata": {
    "collapsed": true
   },
   "outputs": [],
   "source": [
    "new_seed_fa = \"/mnt/scgc/simon/simonsproject/bats248_vs/clustering/new_seeds.fasta\"\n",
    "\n",
    "with open(new_seed_fa, \"w\") as oh:\n",
    "    for name, seq in readfa(open(clstr.replace(\".clstr\",''))):\n",
    "        if name.split()[0] in new_seeds:\n",
    "            print(\">{}\".format(name), file=oh)\n",
    "            for i in range(0, len(seq), 60):\n",
    "                print(seq[i:i+60], file=oh)"
   ]
  },
  {
   "cell_type": "markdown",
   "metadata": {},
   "source": [
    "ID Similarity Groups for clustering to make mica run faster."
   ]
  },
  {
   "cell_type": "code",
   "execution_count": 66,
   "metadata": {},
   "outputs": [
    {
     "data": {
      "text/plain": [
       "'/mnt/scgc/simon/simonsproject/bats248_vs/clustering/new_seeds_c70.fasta'"
      ]
     },
     "execution_count": 66,
     "metadata": {},
     "output_type": "execute_result"
    }
   ],
   "source": [
    "out70_fasta = new_seed_fa.replace(\".fasta\",\"_c70.fasta\")\n",
    "out70_fasta"
   ]
  },
  {
   "cell_type": "code",
   "execution_count": 67,
   "metadata": {
    "collapsed": true
   },
   "outputs": [],
   "source": [
    "def print_cdhit_sub(in_fasta, out_fasta, outlog, similarity=0.9):\n",
    "\n",
    "    cmd = \"cd-hit -i {in_fa} -p 1 -c {similarity} -o {out_fa} -T 50 -M 150000 -d 0\".format(in_fa = in_fasta, out_fa = out_fasta, similarity=similarity)\n",
    "    print(\"echo '{cmd}' | qsub -N cdhit -q scgc-route -V -l walltime=10:00:00,ncpus=50,mem=150G -j oe -o {log}\".format(cmd = cmd, log=outlog))\n"
   ]
  },
  {
   "cell_type": "code",
   "execution_count": 68,
   "metadata": {},
   "outputs": [
    {
     "name": "stdout",
     "output_type": "stream",
     "text": [
      "echo 'cd-hit -i /mnt/scgc/simon/simonsproject/bats248_vs/clustering/new_seeds.fasta -p 1 -c 0.7 -o /mnt/scgc/simon/simonsproject/bats248_vs/clustering/new_seeds_c70.fasta -T 50 -M 150000 -d 0' | qsub -N cdhit -q scgc-route -V -l walltime=10:00:00,ncpus=50,mem=150G -j oe -o 180126_cdhit70.out\n"
     ]
    }
   ],
   "source": [
    "print_cdhit_sub(new_seed_fa, out70_fasta, '180126_cdhit70.out', similarity=0.7)"
   ]
  },
  {
   "cell_type": "code",
   "execution_count": 73,
   "metadata": {
    "collapsed": true
   },
   "outputs": [],
   "source": [
    "from phage_count_table import map_clstr_raw"
   ]
  },
  {
   "cell_type": "code",
   "execution_count": 78,
   "metadata": {
    "collapsed": true
   },
   "outputs": [],
   "source": [
    "clstr = \"{}.clstr\".format(out70_fasta)\n",
    "\n",
    "cluster_map = map_clstr_raw(clstr, singles=True)"
   ]
  },
  {
   "cell_type": "code",
   "execution_count": 70,
   "metadata": {
    "collapsed": true
   },
   "outputs": [],
   "source": [
    "try:\n",
    "    os.mkdir(\"/mnt/scgc/simon/simonsproject/bats248_vs/clustering/new_seed_groups/\")\n",
    "except:\n",
    "    print(\"oh well\")"
   ]
  },
  {
   "cell_type": "code",
   "execution_count": 80,
   "metadata": {},
   "outputs": [
    {
     "name": "stdout",
     "output_type": "stream",
     "text": [
      "54 files created\n"
     ]
    }
   ],
   "source": [
    "from pyfaidx import Fasta\n",
    "from nb_tools import write_fa_record\n",
    "\n",
    "fa = Fasta(new_seed_fa)\n",
    "count = 0\n",
    "number = 0\n",
    "missing = []\n",
    "\n",
    "for k in cluster_map:\n",
    "    seqs = [k] + cluster_map[k]\n",
    "    count += len(seqs)\n",
    "    with open(\"/mnt/scgc/simon/simonsproject/bats248_vs/clustering/new_seed_groups/newseeds_{}.fasta\".format(number), \"a\") as oh:\n",
    "        for s in seqs:\n",
    "            try:\n",
    "                rec = fa[s]\n",
    "            except:\n",
    "                missing.append(s)\n",
    "                continue\n",
    "                \n",
    "            write_fa_record(rec.long_name, str(rec), oh)          \n",
    "\n",
    "    if count > 1000:\n",
    "        count = 0\n",
    "        number += 1\n",
    "print(number, \"files created\")"
   ]
  },
  {
   "cell_type": "code",
   "execution_count": 81,
   "metadata": {
    "collapsed": true
   },
   "outputs": [],
   "source": [
    "try:\n",
    "    os.mkdir(op.join(wd, \"blastout\",\"new_seeds\"))\n",
    "except:\n",
    "    \"oh well\""
   ]
  },
  {
   "cell_type": "code",
   "execution_count": 1,
   "metadata": {},
   "outputs": [
    {
     "name": "stdout",
     "output_type": "stream",
     "text": [
      "#!/bin/bash                                                                                                             \r\n",
      "\r\n",
      "## set name of PBS job                                                                                                  \r\n",
      "#PBS -N newseeds_mica\r\n",
      "\r\n",
      "## set the job array variable                                                                                           \r\n",
      "#PBS -J 1-55                                                                                               \r\n",
      "\r\n",
      "## send the environment variables with job                                                                              \r\n",
      "#PBS -V\r\n",
      "\r\n",
      "## set the queue                                                                                                        \r\n",
      "#PBS -q scgc-route\r\n",
      "#PBS -l walltime=24:00:00                                                                                               \r\n",
      "\r\n",
      "#PBS -l ncpus=20                                                                           \r\n",
      "                                                 \r\n",
      "#PBS -j oe                                                                                              \r\n",
      "#PBS -o /home/julia/out/180126_array.out\r\n",
      "\r\n",
      "module load mica\r\n",
      "\r\n",
      "num=$(($PBS_ARRAY_INDEX-1))\r\n",
      "\r\n",
      "echo \"My job index is: $PBS_ARRAY_INDEX\"\r\n",
      "\r\n",
      "echo $PBS_ARRAY_INDEX\r\n",
      "echo $num\r\n",
      "\r\n",
      "echo running mica $num\r\n",
      "\r\n",
      "mica-search --p='20' --blastp 'blastp' /mnt/scgc/simon/databases/mica/nr-20150620-mica \\\r\n",
      "/mnt/scgc/simon/simonsproject/bats248_vs/clustering/new_seed_groups/newseeds_${num}.fasta \\\r\n",
      "--blast-args -outfmt \\\r\n",
      "'6 qseqid sseqid pident length mismatch gapopen qstart qend sstart send evalue bitscore sallseqid score nident positive gaps ppos qframe sframe qseq sseq qlen slen salltitles' \\\r\n",
      "-num_alignments 10 -evalue 0.001 \\\r\n",
      "-out /mnt/scgc/simon/simonsproject/bats248_vs/blastout/new_seeds/newseeds_${num}.out"
     ]
    }
   ],
   "source": [
    "# Mica array submitted to pbs here: /mnt/stepanauskas_nfs/julia/pbs_subs/180126_newseeds_mica.sh\n",
    "!cat /mnt/stepanauskas_nfs/julia/pbs_subs/180126_newseeds_mica.sh"
   ]
  },
  {
   "cell_type": "markdown",
   "metadata": {},
   "source": [
    "Job array ran overnight.  Wooo.  Now construct new phage table:"
   ]
  },
  {
   "cell_type": "code",
   "execution_count": 2,
   "metadata": {
    "collapsed": true
   },
   "outputs": [],
   "source": [
    "from nb_tools import id_virus_orfs, readfa, swap_cluster_map"
   ]
  },
  {
   "cell_type": "code",
   "execution_count": 9,
   "metadata": {},
   "outputs": [],
   "source": [
    "micas = glob.glob(op.join(wd, \"blastout\",\"new_seeds\",'*'))"
   ]
  },
  {
   "cell_type": "code",
   "execution_count": 10,
   "metadata": {},
   "outputs": [],
   "source": [
    "new_micas\n",
    "\n",
    "tbls = []\n",
    "\n",
    "for m in micas:\n",
    "    tbls.append(id_virus_orfs(m))\n",
    "    \n",
    "cluster_calls = pd.concat(tbls)"
   ]
  },
  {
   "cell_type": "code",
   "execution_count": 37,
   "metadata": {},
   "outputs": [],
   "source": [
    "cluster_calls.to_csv(op.join(wd, \"phage_hits_newseeds.csv\"), index=False)"
   ]
  },
  {
   "cell_type": "markdown",
   "metadata": {},
   "source": [
    "Import the cluster map I made earlier:"
   ]
  },
  {
   "cell_type": "code",
   "execution_count": 124,
   "metadata": {},
   "outputs": [],
   "source": [
    "cmap = {}\n",
    "with open(\"/mnt/scgc/simon/simonsproject/bats248_vs/clustering/cluster_map.txt\") as ih:\n",
    "    for l in ih:\n",
    "        vec = l.strip().split(\"\\t\")\n",
    "        cmap[vec[0]] = vec[1]"
   ]
  },
  {
   "cell_type": "code",
   "execution_count": 81,
   "metadata": {},
   "outputs": [
    {
     "data": {
      "text/plain": [
       "5323974"
      ]
     },
     "execution_count": 81,
     "metadata": {},
     "output_type": "execute_result"
    }
   ],
   "source": [
    "len(cmap)"
   ]
  },
  {
   "cell_type": "markdown",
   "metadata": {},
   "source": [
    "import phage hits tables"
   ]
  },
  {
   "cell_type": "code",
   "execution_count": 38,
   "metadata": {
    "collapsed": true
   },
   "outputs": [],
   "source": [
    "phage_hits = pd.concat([pd.read_csv(i) for i in glob.glob(op.join(wd, \"phage_hits*\"))])"
   ]
  },
  {
   "cell_type": "code",
   "execution_count": 44,
   "metadata": {},
   "outputs": [
    {
     "data": {
      "text/plain": [
       "Counter({0: 732303, 1: 23851})"
      ]
     },
     "execution_count": 44,
     "metadata": {},
     "output_type": "execute_result"
    }
   ],
   "source": [
    "from collections import Counter\n",
    "Counter(phage_hits['p1'])"
   ]
  },
  {
   "cell_type": "code",
   "execution_count": null,
   "metadata": {
    "collapsed": true
   },
   "outputs": [],
   "source": [
    "from phage_count_table import phage_contig_table\n",
    "from recruitment_for_vs import summarize_by_contig\n",
    "from summary import virus_class"
   ]
  },
  {
   "cell_type": "code",
   "execution_count": 45,
   "metadata": {
    "collapsed": true
   },
   "outputs": [],
   "source": [
    "to_start =  '''AG−891−A17\n",
    "AG−892−P18\n",
    "AG−893−J23\n",
    "AG−894−C07\n",
    "AG−895−P08\n",
    "AG−897−A15  \n",
    "AG−903−F19\n",
    "AG−903−I06\n",
    "AG−904−O13\n",
    "AG−907−C19\n",
    "AG−907−I10\n",
    "AG−908−F15\n",
    "AG-909-A05\n",
    "AG−910−E05\n",
    "AG−912−O18\n",
    "AG−913−C05\n",
    "AG−913−C17'''.replace(\"−\",\"-\").split()"
   ]
  },
  {
   "cell_type": "code",
   "execution_count": 128,
   "metadata": {},
   "outputs": [],
   "source": [
    "sag = to_start[0]\n",
    "\n",
    "for sag in to_start:\n",
    "    plate = \"-\".join(sag.split(\"-\")[:-1])\n",
    "    prot_fasta = op.join(wd, 'prodigal','{}_proteins.fasta'.format(sag))\n",
    "    old_tbl = \"/mnt/scgc/simon/simonsproject/jb_vs_test/{plate}/{sag}/summary/{sag}_contigs-summary.csv.gz\".format(sag=sag, plate=plate)\n",
    "    if op.exists(old_tbl) == False:\n",
    "        continue\n",
    "    out_tbl = phage_contig_table(cmap, prot_fasta, phage_hits, outfile=None)\n",
    "    old = pd.read_csv(old_tbl).rename(columns={'Unnamed: 0':'contig'})\n",
    "    recruit = pd.read_csv(op.join(wd, \"diamond\",\"pergenome\",'{sag}_proteins_mg_diamond_recruitment_tbl.csv'.format(sag=sag)))\n",
    "    merged = recruit.merge(out_tbl.reset_index(), on='contig', how='outer')\n",
    "    result = merged.merge(virus_class(merged), on='contig', how='outer')\n",
    "    comparison = pd.merge(old[['contig','virus_class','virus_prob']], result[['contig','virus_class','virus_prob']], on='contig')\n",
    "    comparison.rename(columns = {'virus_class_x':'virus_class_old','virus_prob_x':'virus_prob_old', 'virus_class_y':'virus_class_new','virus_prob_y':'virus_prob_new'}, inplace=True)\n",
    "    comparison.to_csv(\"/mnt/scgc/simon/simonsproject/jb_vs_test/{}_old_new_comp.csv\".format(sag), index=False)"
   ]
  },
  {
   "cell_type": "code",
   "execution_count": 130,
   "metadata": {
    "collapsed": true
   },
   "outputs": [],
   "source": [
    "different = ['AG-910-E05','AG-897-A15','AG-894-C07']"
   ]
  },
  {
   "cell_type": "code",
   "execution_count": 151,
   "metadata": {
    "scrolled": true
   },
   "outputs": [
    {
     "data": {
      "text/html": [
       "<div>\n",
       "<table border=\"1\" class=\"dataframe\">\n",
       "  <thead>\n",
       "    <tr style=\"text-align: right;\">\n",
       "      <th></th>\n",
       "      <th>contig</th>\n",
       "      <th>ratio_virus_bacteria_x</th>\n",
       "      <th>ratio_virus_bacteria_y</th>\n",
       "      <th>viral_phage_gene_fraction_x</th>\n",
       "      <th>viral_phage_gene_fraction_y</th>\n",
       "    </tr>\n",
       "  </thead>\n",
       "  <tbody>\n",
       "    <tr>\n",
       "      <th>0</th>\n",
       "      <td>AG-894-C07_NODE_1</td>\n",
       "      <td>0.144910</td>\n",
       "      <td>0.144283</td>\n",
       "      <td>0.007812</td>\n",
       "      <td>0.007812</td>\n",
       "    </tr>\n",
       "    <tr>\n",
       "      <th>1</th>\n",
       "      <td>AG-894-C07_NODE_10</td>\n",
       "      <td>0.091033</td>\n",
       "      <td>0.091213</td>\n",
       "      <td>0.000000</td>\n",
       "      <td>0.000000</td>\n",
       "    </tr>\n",
       "    <tr>\n",
       "      <th>2</th>\n",
       "      <td>AG-894-C07_NODE_11</td>\n",
       "      <td>0.274637</td>\n",
       "      <td>0.275056</td>\n",
       "      <td>0.000000</td>\n",
       "      <td>0.041667</td>\n",
       "    </tr>\n",
       "    <tr>\n",
       "      <th>3</th>\n",
       "      <td>AG-894-C07_NODE_12</td>\n",
       "      <td>0.071383</td>\n",
       "      <td>0.071383</td>\n",
       "      <td>0.000000</td>\n",
       "      <td>0.000000</td>\n",
       "    </tr>\n",
       "    <tr>\n",
       "      <th>4</th>\n",
       "      <td>AG-894-C07_NODE_13</td>\n",
       "      <td>0.175954</td>\n",
       "      <td>0.175954</td>\n",
       "      <td>0.000000</td>\n",
       "      <td>0.000000</td>\n",
       "    </tr>\n",
       "    <tr>\n",
       "      <th>5</th>\n",
       "      <td>AG-894-C07_NODE_14</td>\n",
       "      <td>0.491748</td>\n",
       "      <td>0.489716</td>\n",
       "      <td>0.000000</td>\n",
       "      <td>0.000000</td>\n",
       "    </tr>\n",
       "    <tr>\n",
       "      <th>6</th>\n",
       "      <td>AG-894-C07_NODE_15</td>\n",
       "      <td>0.075027</td>\n",
       "      <td>0.075012</td>\n",
       "      <td>0.000000</td>\n",
       "      <td>0.000000</td>\n",
       "    </tr>\n",
       "    <tr>\n",
       "      <th>7</th>\n",
       "      <td>AG-894-C07_NODE_16</td>\n",
       "      <td>0.145047</td>\n",
       "      <td>0.145047</td>\n",
       "      <td>0.000000</td>\n",
       "      <td>0.000000</td>\n",
       "    </tr>\n",
       "    <tr>\n",
       "      <th>8</th>\n",
       "      <td>AG-894-C07_NODE_17</td>\n",
       "      <td>0.082751</td>\n",
       "      <td>0.082781</td>\n",
       "      <td>0.000000</td>\n",
       "      <td>0.000000</td>\n",
       "    </tr>\n",
       "    <tr>\n",
       "      <th>9</th>\n",
       "      <td>AG-894-C07_NODE_18</td>\n",
       "      <td>0.126723</td>\n",
       "      <td>0.126723</td>\n",
       "      <td>0.000000</td>\n",
       "      <td>0.000000</td>\n",
       "    </tr>\n",
       "    <tr>\n",
       "      <th>10</th>\n",
       "      <td>AG-894-C07_NODE_19</td>\n",
       "      <td>0.090481</td>\n",
       "      <td>0.090481</td>\n",
       "      <td>0.000000</td>\n",
       "      <td>0.000000</td>\n",
       "    </tr>\n",
       "    <tr>\n",
       "      <th>11</th>\n",
       "      <td>AG-894-C07_NODE_2</td>\n",
       "      <td>0.117014</td>\n",
       "      <td>0.117152</td>\n",
       "      <td>0.000000</td>\n",
       "      <td>0.000000</td>\n",
       "    </tr>\n",
       "    <tr>\n",
       "      <th>12</th>\n",
       "      <td>AG-894-C07_NODE_20</td>\n",
       "      <td>0.611069</td>\n",
       "      <td>0.611430</td>\n",
       "      <td>0.000000</td>\n",
       "      <td>0.000000</td>\n",
       "    </tr>\n",
       "    <tr>\n",
       "      <th>13</th>\n",
       "      <td>AG-894-C07_NODE_21</td>\n",
       "      <td>0.119963</td>\n",
       "      <td>0.120095</td>\n",
       "      <td>0.000000</td>\n",
       "      <td>0.000000</td>\n",
       "    </tr>\n",
       "    <tr>\n",
       "      <th>14</th>\n",
       "      <td>AG-894-C07_NODE_22</td>\n",
       "      <td>0.053360</td>\n",
       "      <td>0.053360</td>\n",
       "      <td>0.000000</td>\n",
       "      <td>0.000000</td>\n",
       "    </tr>\n",
       "    <tr>\n",
       "      <th>15</th>\n",
       "      <td>AG-894-C07_NODE_23</td>\n",
       "      <td>0.230518</td>\n",
       "      <td>0.230518</td>\n",
       "      <td>0.000000</td>\n",
       "      <td>0.000000</td>\n",
       "    </tr>\n",
       "    <tr>\n",
       "      <th>16</th>\n",
       "      <td>AG-894-C07_NODE_24</td>\n",
       "      <td>0.058471</td>\n",
       "      <td>0.058488</td>\n",
       "      <td>0.000000</td>\n",
       "      <td>0.000000</td>\n",
       "    </tr>\n",
       "    <tr>\n",
       "      <th>17</th>\n",
       "      <td>AG-894-C07_NODE_25</td>\n",
       "      <td>0.077773</td>\n",
       "      <td>0.077773</td>\n",
       "      <td>0.000000</td>\n",
       "      <td>0.000000</td>\n",
       "    </tr>\n",
       "    <tr>\n",
       "      <th>18</th>\n",
       "      <td>AG-894-C07_NODE_26</td>\n",
       "      <td>0.101533</td>\n",
       "      <td>0.101533</td>\n",
       "      <td>0.000000</td>\n",
       "      <td>0.000000</td>\n",
       "    </tr>\n",
       "    <tr>\n",
       "      <th>19</th>\n",
       "      <td>AG-894-C07_NODE_27</td>\n",
       "      <td>0.337856</td>\n",
       "      <td>0.337856</td>\n",
       "      <td>0.000000</td>\n",
       "      <td>0.000000</td>\n",
       "    </tr>\n",
       "    <tr>\n",
       "      <th>20</th>\n",
       "      <td>AG-894-C07_NODE_28</td>\n",
       "      <td>0.699013</td>\n",
       "      <td>0.699013</td>\n",
       "      <td>0.000000</td>\n",
       "      <td>0.000000</td>\n",
       "    </tr>\n",
       "    <tr>\n",
       "      <th>21</th>\n",
       "      <td>AG-894-C07_NODE_29</td>\n",
       "      <td>0.057792</td>\n",
       "      <td>0.057792</td>\n",
       "      <td>0.000000</td>\n",
       "      <td>0.000000</td>\n",
       "    </tr>\n",
       "    <tr>\n",
       "      <th>22</th>\n",
       "      <td>AG-894-C07_NODE_3</td>\n",
       "      <td>0.214865</td>\n",
       "      <td>0.215595</td>\n",
       "      <td>0.011765</td>\n",
       "      <td>0.011765</td>\n",
       "    </tr>\n",
       "    <tr>\n",
       "      <th>23</th>\n",
       "      <td>AG-894-C07_NODE_30</td>\n",
       "      <td>71.499080</td>\n",
       "      <td>71.499080</td>\n",
       "      <td>0.000000</td>\n",
       "      <td>0.250000</td>\n",
       "    </tr>\n",
       "    <tr>\n",
       "      <th>24</th>\n",
       "      <td>AG-894-C07_NODE_31</td>\n",
       "      <td>1.083471</td>\n",
       "      <td>1.083471</td>\n",
       "      <td>0.000000</td>\n",
       "      <td>0.000000</td>\n",
       "    </tr>\n",
       "    <tr>\n",
       "      <th>25</th>\n",
       "      <td>AG-894-C07_NODE_32</td>\n",
       "      <td>0.233004</td>\n",
       "      <td>0.233004</td>\n",
       "      <td>0.000000</td>\n",
       "      <td>0.000000</td>\n",
       "    </tr>\n",
       "    <tr>\n",
       "      <th>26</th>\n",
       "      <td>AG-894-C07_NODE_33</td>\n",
       "      <td>0.054825</td>\n",
       "      <td>0.054825</td>\n",
       "      <td>0.000000</td>\n",
       "      <td>0.000000</td>\n",
       "    </tr>\n",
       "    <tr>\n",
       "      <th>27</th>\n",
       "      <td>AG-894-C07_NODE_34</td>\n",
       "      <td>0.063547</td>\n",
       "      <td>0.063547</td>\n",
       "      <td>0.000000</td>\n",
       "      <td>0.000000</td>\n",
       "    </tr>\n",
       "    <tr>\n",
       "      <th>28</th>\n",
       "      <td>AG-894-C07_NODE_35</td>\n",
       "      <td>0.236824</td>\n",
       "      <td>0.236824</td>\n",
       "      <td>0.000000</td>\n",
       "      <td>0.000000</td>\n",
       "    </tr>\n",
       "    <tr>\n",
       "      <th>29</th>\n",
       "      <td>AG-894-C07_NODE_4</td>\n",
       "      <td>0.089765</td>\n",
       "      <td>0.089679</td>\n",
       "      <td>0.009615</td>\n",
       "      <td>0.000000</td>\n",
       "    </tr>\n",
       "    <tr>\n",
       "      <th>30</th>\n",
       "      <td>AG-894-C07_NODE_5</td>\n",
       "      <td>0.148653</td>\n",
       "      <td>0.148746</td>\n",
       "      <td>0.000000</td>\n",
       "      <td>0.000000</td>\n",
       "    </tr>\n",
       "    <tr>\n",
       "      <th>31</th>\n",
       "      <td>AG-894-C07_NODE_6</td>\n",
       "      <td>0.171040</td>\n",
       "      <td>0.171636</td>\n",
       "      <td>0.037037</td>\n",
       "      <td>0.018519</td>\n",
       "    </tr>\n",
       "    <tr>\n",
       "      <th>32</th>\n",
       "      <td>AG-894-C07_NODE_7</td>\n",
       "      <td>0.559694</td>\n",
       "      <td>0.558913</td>\n",
       "      <td>0.000000</td>\n",
       "      <td>0.000000</td>\n",
       "    </tr>\n",
       "    <tr>\n",
       "      <th>33</th>\n",
       "      <td>AG-894-C07_NODE_8</td>\n",
       "      <td>0.187587</td>\n",
       "      <td>0.187953</td>\n",
       "      <td>0.000000</td>\n",
       "      <td>0.000000</td>\n",
       "    </tr>\n",
       "    <tr>\n",
       "      <th>34</th>\n",
       "      <td>AG-894-C07_NODE_9</td>\n",
       "      <td>0.314204</td>\n",
       "      <td>0.314658</td>\n",
       "      <td>0.000000</td>\n",
       "      <td>0.000000</td>\n",
       "    </tr>\n",
       "  </tbody>\n",
       "</table>\n",
       "</div>"
      ],
      "text/plain": [
       "                contig  ratio_virus_bacteria_x  ratio_virus_bacteria_y  \\\n",
       "0    AG-894-C07_NODE_1                0.144910                0.144283   \n",
       "1   AG-894-C07_NODE_10                0.091033                0.091213   \n",
       "2   AG-894-C07_NODE_11                0.274637                0.275056   \n",
       "3   AG-894-C07_NODE_12                0.071383                0.071383   \n",
       "4   AG-894-C07_NODE_13                0.175954                0.175954   \n",
       "5   AG-894-C07_NODE_14                0.491748                0.489716   \n",
       "6   AG-894-C07_NODE_15                0.075027                0.075012   \n",
       "7   AG-894-C07_NODE_16                0.145047                0.145047   \n",
       "8   AG-894-C07_NODE_17                0.082751                0.082781   \n",
       "9   AG-894-C07_NODE_18                0.126723                0.126723   \n",
       "10  AG-894-C07_NODE_19                0.090481                0.090481   \n",
       "11   AG-894-C07_NODE_2                0.117014                0.117152   \n",
       "12  AG-894-C07_NODE_20                0.611069                0.611430   \n",
       "13  AG-894-C07_NODE_21                0.119963                0.120095   \n",
       "14  AG-894-C07_NODE_22                0.053360                0.053360   \n",
       "15  AG-894-C07_NODE_23                0.230518                0.230518   \n",
       "16  AG-894-C07_NODE_24                0.058471                0.058488   \n",
       "17  AG-894-C07_NODE_25                0.077773                0.077773   \n",
       "18  AG-894-C07_NODE_26                0.101533                0.101533   \n",
       "19  AG-894-C07_NODE_27                0.337856                0.337856   \n",
       "20  AG-894-C07_NODE_28                0.699013                0.699013   \n",
       "21  AG-894-C07_NODE_29                0.057792                0.057792   \n",
       "22   AG-894-C07_NODE_3                0.214865                0.215595   \n",
       "23  AG-894-C07_NODE_30               71.499080               71.499080   \n",
       "24  AG-894-C07_NODE_31                1.083471                1.083471   \n",
       "25  AG-894-C07_NODE_32                0.233004                0.233004   \n",
       "26  AG-894-C07_NODE_33                0.054825                0.054825   \n",
       "27  AG-894-C07_NODE_34                0.063547                0.063547   \n",
       "28  AG-894-C07_NODE_35                0.236824                0.236824   \n",
       "29   AG-894-C07_NODE_4                0.089765                0.089679   \n",
       "30   AG-894-C07_NODE_5                0.148653                0.148746   \n",
       "31   AG-894-C07_NODE_6                0.171040                0.171636   \n",
       "32   AG-894-C07_NODE_7                0.559694                0.558913   \n",
       "33   AG-894-C07_NODE_8                0.187587                0.187953   \n",
       "34   AG-894-C07_NODE_9                0.314204                0.314658   \n",
       "\n",
       "    viral_phage_gene_fraction_x  viral_phage_gene_fraction_y  \n",
       "0                      0.007812                     0.007812  \n",
       "1                      0.000000                     0.000000  \n",
       "2                      0.000000                     0.041667  \n",
       "3                      0.000000                     0.000000  \n",
       "4                      0.000000                     0.000000  \n",
       "5                      0.000000                     0.000000  \n",
       "6                      0.000000                     0.000000  \n",
       "7                      0.000000                     0.000000  \n",
       "8                      0.000000                     0.000000  \n",
       "9                      0.000000                     0.000000  \n",
       "10                     0.000000                     0.000000  \n",
       "11                     0.000000                     0.000000  \n",
       "12                     0.000000                     0.000000  \n",
       "13                     0.000000                     0.000000  \n",
       "14                     0.000000                     0.000000  \n",
       "15                     0.000000                     0.000000  \n",
       "16                     0.000000                     0.000000  \n",
       "17                     0.000000                     0.000000  \n",
       "18                     0.000000                     0.000000  \n",
       "19                     0.000000                     0.000000  \n",
       "20                     0.000000                     0.000000  \n",
       "21                     0.000000                     0.000000  \n",
       "22                     0.011765                     0.011765  \n",
       "23                     0.000000                     0.250000  \n",
       "24                     0.000000                     0.000000  \n",
       "25                     0.000000                     0.000000  \n",
       "26                     0.000000                     0.000000  \n",
       "27                     0.000000                     0.000000  \n",
       "28                     0.000000                     0.000000  \n",
       "29                     0.009615                     0.000000  \n",
       "30                     0.000000                     0.000000  \n",
       "31                     0.037037                     0.018519  \n",
       "32                     0.000000                     0.000000  \n",
       "33                     0.000000                     0.000000  \n",
       "34                     0.000000                     0.000000  "
      ]
     },
     "execution_count": 151,
     "metadata": {},
     "output_type": "execute_result"
    }
   ],
   "source": [
    "sag = different[2]\n",
    "plate = \"-\".join(sag.split(\"-\")[:-1])\n",
    "prot_fasta = op.join(wd, 'prodigal','{}_proteins.fasta'.format(sag))\n",
    "old_tbl = \"/mnt/scgc/simon/simonsproject/jb_vs_test/{plate}/{sag}/summary/{sag}_contigs-summary.csv.gz\".format(sag=sag, plate=plate)\n",
    "out_tbl = phage_contig_table(cmap, prot_fasta, phage_hits, outfile=None)\n",
    "old = pd.read_csv(old_tbl).rename(columns={'Unnamed: 0':'contig'})\n",
    "recruit = pd.read_csv(op.join(wd, \"diamond\",\"pergenome\",'{sag}_proteins_mg_diamond_recruitment_tbl.csv'.format(sag=sag)))\n",
    "merged = recruit.merge(out_tbl.reset_index(), on='contig', how='outer')\n",
    "result = merged.merge(virus_class(merged), on='contig', how='outer')\n",
    "result.merge(old, on='contig')[['contig','ratio_virus_bacteria_x','ratio_virus_bacteria_y','viral_phage_gene_fraction_x','viral_phage_gene_fraction_y']]"
   ]
  },
  {
   "cell_type": "markdown",
   "metadata": {},
   "source": [
    "Small fraction of outputs from "
   ]
  },
  {
   "cell_type": "code",
   "execution_count": 152,
   "metadata": {},
   "outputs": [
    {
     "data": {
      "text/html": [
       "<div>\n",
       "<table border=\"1\" class=\"dataframe\">\n",
       "  <thead>\n",
       "    <tr style=\"text-align: right;\">\n",
       "      <th></th>\n",
       "      <th>contig</th>\n",
       "      <th>hit_mg-bac</th>\n",
       "      <th>hit_mg-vir</th>\n",
       "      <th>reads_mg-vir</th>\n",
       "      <th>reads_mg-bac</th>\n",
       "      <th>contig_length</th>\n",
       "      <th>fr_mg-bac</th>\n",
       "      <th>fr_mg-vir</th>\n",
       "      <th>ratio_virus_bacteria</th>\n",
       "      <th>p1</th>\n",
       "      <th>p2</th>\n",
       "      <th>total_orfs</th>\n",
       "      <th>viral_phage_gene_fraction</th>\n",
       "      <th>viral2_phage_gene_fraction</th>\n",
       "      <th>virus_class</th>\n",
       "      <th>virus_prob</th>\n",
       "    </tr>\n",
       "  </thead>\n",
       "  <tbody>\n",
       "    <tr>\n",
       "      <th>22</th>\n",
       "      <td>AG-894-C07_NODE_3</td>\n",
       "      <td>10456.0</td>\n",
       "      <td>1607.0</td>\n",
       "      <td>5922080.0</td>\n",
       "      <td>8279226.0</td>\n",
       "      <td>98135.0</td>\n",
       "      <td>0.012869</td>\n",
       "      <td>0.002765</td>\n",
       "      <td>0.214865</td>\n",
       "      <td>1.0</td>\n",
       "      <td>1.0</td>\n",
       "      <td>85</td>\n",
       "      <td>0.011765</td>\n",
       "      <td>0.011765</td>\n",
       "      <td>0.0</td>\n",
       "      <td>1.0</td>\n",
       "    </tr>\n",
       "    <tr>\n",
       "      <th>23</th>\n",
       "      <td>AG-894-C07_NODE_30</td>\n",
       "      <td>14.0</td>\n",
       "      <td>716.0</td>\n",
       "      <td>5922080.0</td>\n",
       "      <td>8279226.0</td>\n",
       "      <td>5036.0</td>\n",
       "      <td>0.000336</td>\n",
       "      <td>0.024008</td>\n",
       "      <td>71.499080</td>\n",
       "      <td>0.0</td>\n",
       "      <td>0.0</td>\n",
       "      <td>4</td>\n",
       "      <td>0.000000</td>\n",
       "      <td>0.000000</td>\n",
       "      <td>0.0</td>\n",
       "      <td>1.0</td>\n",
       "    </tr>\n",
       "    <tr>\n",
       "      <th>24</th>\n",
       "      <td>AG-894-C07_NODE_31</td>\n",
       "      <td>40.0</td>\n",
       "      <td>31.0</td>\n",
       "      <td>5922080.0</td>\n",
       "      <td>8279226.0</td>\n",
       "      <td>4954.0</td>\n",
       "      <td>0.000975</td>\n",
       "      <td>0.001057</td>\n",
       "      <td>1.083471</td>\n",
       "      <td>0.0</td>\n",
       "      <td>0.0</td>\n",
       "      <td>2</td>\n",
       "      <td>0.000000</td>\n",
       "      <td>0.000000</td>\n",
       "      <td>0.0</td>\n",
       "      <td>1.0</td>\n",
       "    </tr>\n",
       "    <tr>\n",
       "      <th>25</th>\n",
       "      <td>AG-894-C07_NODE_32</td>\n",
       "      <td>666.0</td>\n",
       "      <td>111.0</td>\n",
       "      <td>5922080.0</td>\n",
       "      <td>8279226.0</td>\n",
       "      <td>3613.0</td>\n",
       "      <td>0.022265</td>\n",
       "      <td>0.005188</td>\n",
       "      <td>0.233004</td>\n",
       "      <td>0.0</td>\n",
       "      <td>0.0</td>\n",
       "      <td>4</td>\n",
       "      <td>0.000000</td>\n",
       "      <td>0.000000</td>\n",
       "      <td>0.0</td>\n",
       "      <td>1.0</td>\n",
       "    </tr>\n",
       "    <tr>\n",
       "      <th>26</th>\n",
       "      <td>AG-894-C07_NODE_33</td>\n",
       "      <td>255.0</td>\n",
       "      <td>10.0</td>\n",
       "      <td>5922080.0</td>\n",
       "      <td>8279226.0</td>\n",
       "      <td>2749.0</td>\n",
       "      <td>0.011204</td>\n",
       "      <td>0.000614</td>\n",
       "      <td>0.054825</td>\n",
       "      <td>0.0</td>\n",
       "      <td>0.0</td>\n",
       "      <td>3</td>\n",
       "      <td>0.000000</td>\n",
       "      <td>0.000000</td>\n",
       "      <td>0.0</td>\n",
       "      <td>1.0</td>\n",
       "    </tr>\n",
       "    <tr>\n",
       "      <th>27</th>\n",
       "      <td>AG-894-C07_NODE_34</td>\n",
       "      <td>44.0</td>\n",
       "      <td>2.0</td>\n",
       "      <td>5922080.0</td>\n",
       "      <td>8279226.0</td>\n",
       "      <td>2670.0</td>\n",
       "      <td>0.001990</td>\n",
       "      <td>0.000126</td>\n",
       "      <td>0.063547</td>\n",
       "      <td>0.0</td>\n",
       "      <td>0.0</td>\n",
       "      <td>3</td>\n",
       "      <td>0.000000</td>\n",
       "      <td>0.000000</td>\n",
       "      <td>0.0</td>\n",
       "      <td>1.0</td>\n",
       "    </tr>\n",
       "    <tr>\n",
       "      <th>28</th>\n",
       "      <td>AG-894-C07_NODE_35</td>\n",
       "      <td>549.0</td>\n",
       "      <td>93.0</td>\n",
       "      <td>5922080.0</td>\n",
       "      <td>8279226.0</td>\n",
       "      <td>2283.0</td>\n",
       "      <td>0.029045</td>\n",
       "      <td>0.006879</td>\n",
       "      <td>0.236824</td>\n",
       "      <td>0.0</td>\n",
       "      <td>0.0</td>\n",
       "      <td>4</td>\n",
       "      <td>0.000000</td>\n",
       "      <td>0.000000</td>\n",
       "      <td>0.0</td>\n",
       "      <td>1.0</td>\n",
       "    </tr>\n",
       "  </tbody>\n",
       "</table>\n",
       "</div>"
      ],
      "text/plain": [
       "                contig  hit_mg-bac  hit_mg-vir  reads_mg-vir  reads_mg-bac  \\\n",
       "22   AG-894-C07_NODE_3     10456.0      1607.0     5922080.0     8279226.0   \n",
       "23  AG-894-C07_NODE_30        14.0       716.0     5922080.0     8279226.0   \n",
       "24  AG-894-C07_NODE_31        40.0        31.0     5922080.0     8279226.0   \n",
       "25  AG-894-C07_NODE_32       666.0       111.0     5922080.0     8279226.0   \n",
       "26  AG-894-C07_NODE_33       255.0        10.0     5922080.0     8279226.0   \n",
       "27  AG-894-C07_NODE_34        44.0         2.0     5922080.0     8279226.0   \n",
       "28  AG-894-C07_NODE_35       549.0        93.0     5922080.0     8279226.0   \n",
       "\n",
       "    contig_length  fr_mg-bac  fr_mg-vir  ratio_virus_bacteria   p1   p2  \\\n",
       "22        98135.0   0.012869   0.002765              0.214865  1.0  1.0   \n",
       "23         5036.0   0.000336   0.024008             71.499080  0.0  0.0   \n",
       "24         4954.0   0.000975   0.001057              1.083471  0.0  0.0   \n",
       "25         3613.0   0.022265   0.005188              0.233004  0.0  0.0   \n",
       "26         2749.0   0.011204   0.000614              0.054825  0.0  0.0   \n",
       "27         2670.0   0.001990   0.000126              0.063547  0.0  0.0   \n",
       "28         2283.0   0.029045   0.006879              0.236824  0.0  0.0   \n",
       "\n",
       "    total_orfs  viral_phage_gene_fraction  viral2_phage_gene_fraction  \\\n",
       "22          85                   0.011765                    0.011765   \n",
       "23           4                   0.000000                    0.000000   \n",
       "24           2                   0.000000                    0.000000   \n",
       "25           4                   0.000000                    0.000000   \n",
       "26           3                   0.000000                    0.000000   \n",
       "27           3                   0.000000                    0.000000   \n",
       "28           4                   0.000000                    0.000000   \n",
       "\n",
       "    virus_class  virus_prob  \n",
       "22          0.0         1.0  \n",
       "23          0.0         1.0  \n",
       "24          0.0         1.0  \n",
       "25          0.0         1.0  \n",
       "26          0.0         1.0  \n",
       "27          0.0         1.0  \n",
       "28          0.0         1.0  "
      ]
     },
     "execution_count": 152,
     "metadata": {},
     "output_type": "execute_result"
    }
   ],
   "source": [
    "result[result['contig'].str.contains('AG-894-C07_NODE_3')]"
   ]
  },
  {
   "cell_type": "code",
   "execution_count": 143,
   "metadata": {},
   "outputs": [],
   "source": [
    "from recruitment_for_vs import construct_recruit_tbl"
   ]
  },
  {
   "cell_type": "code",
   "execution_count": 144,
   "metadata": {},
   "outputs": [
    {
     "name": "stdout",
     "output_type": "stream",
     "text": [
      "doesn't look like input contig file is in gff format.  Will assume that contig name is embedded in the ORF name.\n",
      "looks like input config fiel is in fasta format.\n"
     ]
    }
   ],
   "source": [
    "vir_tsv = \"/mnt/scgc/simon/simonsproject/jb_vs_test/AG-894/AG-894-C07/diamond/POV.tsv.gz\"\n",
    "bac_tsv = \"/mnt/scgc/simon/simonsproject/jb_vs_test/AG-894/AG-894-C07/diamond/LineP-all.tsv.gz\"\n",
    "read_count_dict = {'vir_reads':5922080, 'bac_reads':8279226}\n",
    "contig_file = \"/mnt/scgc/simon/simonsproject/bats248_contigs/coassemblies/AG-894/AG-894-C07_contigs.fasta\"\n",
    "result2 = construct_recruit_tbl(vir_tsv, bac_tsv, read_count_dict, contig_file)"
   ]
  },
  {
   "cell_type": "code",
   "execution_count": 148,
   "metadata": {},
   "outputs": [
    {
     "data": {
      "text/html": [
       "<div>\n",
       "<table border=\"1\" class=\"dataframe\">\n",
       "  <thead>\n",
       "    <tr style=\"text-align: right;\">\n",
       "      <th></th>\n",
       "      <th>contig</th>\n",
       "      <th>hit_mg-bac</th>\n",
       "      <th>hit_mg-vir</th>\n",
       "      <th>reads_mg-vir</th>\n",
       "      <th>reads_mg-bac</th>\n",
       "      <th>contig_length</th>\n",
       "      <th>fr_mg-bac</th>\n",
       "      <th>fr_mg-vir</th>\n",
       "      <th>ratio_virus_bacteria</th>\n",
       "    </tr>\n",
       "  </thead>\n",
       "  <tbody>\n",
       "    <tr>\n",
       "      <th>22</th>\n",
       "      <td>AG-894-C07_NODE_3</td>\n",
       "      <td>10456.0</td>\n",
       "      <td>1607.0</td>\n",
       "      <td>5922080.0</td>\n",
       "      <td>8279226.0</td>\n",
       "      <td>98135.0</td>\n",
       "      <td>0.012869</td>\n",
       "      <td>0.002765</td>\n",
       "      <td>0.214865</td>\n",
       "    </tr>\n",
       "    <tr>\n",
       "      <th>23</th>\n",
       "      <td>AG-894-C07_NODE_30</td>\n",
       "      <td>14.0</td>\n",
       "      <td>716.0</td>\n",
       "      <td>5922080.0</td>\n",
       "      <td>8279226.0</td>\n",
       "      <td>5036.0</td>\n",
       "      <td>0.000336</td>\n",
       "      <td>0.024008</td>\n",
       "      <td>71.499080</td>\n",
       "    </tr>\n",
       "    <tr>\n",
       "      <th>24</th>\n",
       "      <td>AG-894-C07_NODE_31</td>\n",
       "      <td>40.0</td>\n",
       "      <td>31.0</td>\n",
       "      <td>5922080.0</td>\n",
       "      <td>8279226.0</td>\n",
       "      <td>4954.0</td>\n",
       "      <td>0.000975</td>\n",
       "      <td>0.001057</td>\n",
       "      <td>1.083471</td>\n",
       "    </tr>\n",
       "    <tr>\n",
       "      <th>25</th>\n",
       "      <td>AG-894-C07_NODE_32</td>\n",
       "      <td>666.0</td>\n",
       "      <td>111.0</td>\n",
       "      <td>5922080.0</td>\n",
       "      <td>8279226.0</td>\n",
       "      <td>3613.0</td>\n",
       "      <td>0.022265</td>\n",
       "      <td>0.005188</td>\n",
       "      <td>0.233004</td>\n",
       "    </tr>\n",
       "    <tr>\n",
       "      <th>26</th>\n",
       "      <td>AG-894-C07_NODE_33</td>\n",
       "      <td>255.0</td>\n",
       "      <td>10.0</td>\n",
       "      <td>5922080.0</td>\n",
       "      <td>8279226.0</td>\n",
       "      <td>2749.0</td>\n",
       "      <td>0.011204</td>\n",
       "      <td>0.000614</td>\n",
       "      <td>0.054825</td>\n",
       "    </tr>\n",
       "    <tr>\n",
       "      <th>27</th>\n",
       "      <td>AG-894-C07_NODE_34</td>\n",
       "      <td>44.0</td>\n",
       "      <td>2.0</td>\n",
       "      <td>5922080.0</td>\n",
       "      <td>8279226.0</td>\n",
       "      <td>2670.0</td>\n",
       "      <td>0.001990</td>\n",
       "      <td>0.000126</td>\n",
       "      <td>0.063547</td>\n",
       "    </tr>\n",
       "    <tr>\n",
       "      <th>28</th>\n",
       "      <td>AG-894-C07_NODE_35</td>\n",
       "      <td>549.0</td>\n",
       "      <td>93.0</td>\n",
       "      <td>5922080.0</td>\n",
       "      <td>8279226.0</td>\n",
       "      <td>2283.0</td>\n",
       "      <td>0.029045</td>\n",
       "      <td>0.006879</td>\n",
       "      <td>0.236824</td>\n",
       "    </tr>\n",
       "  </tbody>\n",
       "</table>\n",
       "</div>"
      ],
      "text/plain": [
       "                contig  hit_mg-bac  hit_mg-vir  reads_mg-vir  reads_mg-bac  \\\n",
       "22   AG-894-C07_NODE_3     10456.0      1607.0     5922080.0     8279226.0   \n",
       "23  AG-894-C07_NODE_30        14.0       716.0     5922080.0     8279226.0   \n",
       "24  AG-894-C07_NODE_31        40.0        31.0     5922080.0     8279226.0   \n",
       "25  AG-894-C07_NODE_32       666.0       111.0     5922080.0     8279226.0   \n",
       "26  AG-894-C07_NODE_33       255.0        10.0     5922080.0     8279226.0   \n",
       "27  AG-894-C07_NODE_34        44.0         2.0     5922080.0     8279226.0   \n",
       "28  AG-894-C07_NODE_35       549.0        93.0     5922080.0     8279226.0   \n",
       "\n",
       "    contig_length  fr_mg-bac  fr_mg-vir  ratio_virus_bacteria  \n",
       "22        98135.0   0.012869   0.002765              0.214865  \n",
       "23         5036.0   0.000336   0.024008             71.499080  \n",
       "24         4954.0   0.000975   0.001057              1.083471  \n",
       "25         3613.0   0.022265   0.005188              0.233004  \n",
       "26         2749.0   0.011204   0.000614              0.054825  \n",
       "27         2670.0   0.001990   0.000126              0.063547  \n",
       "28         2283.0   0.029045   0.006879              0.236824  "
      ]
     },
     "execution_count": 148,
     "metadata": {},
     "output_type": "execute_result"
    }
   ],
   "source": [
    "result2[result2['contig'].str.contains('AG-894-C07_NODE_3')]"
   ]
  },
  {
   "cell_type": "code",
   "execution_count": 117,
   "metadata": {
    "collapsed": true
   },
   "outputs": [],
   "source": []
  },
  {
   "cell_type": "code",
   "execution_count": 122,
   "metadata": {},
   "outputs": [],
   "source": []
  },
  {
   "cell_type": "code",
   "execution_count": 123,
   "metadata": {},
   "outputs": [
    {
     "data": {
      "text/html": [
       "<div>\n",
       "<table border=\"1\" class=\"dataframe\">\n",
       "  <thead>\n",
       "    <tr style=\"text-align: right;\">\n",
       "      <th></th>\n",
       "      <th>contig</th>\n",
       "      <th>virus_class_x</th>\n",
       "      <th>virus_prob_x</th>\n",
       "      <th>virus_class_y</th>\n",
       "      <th>virus_prob_y</th>\n",
       "    </tr>\n",
       "  </thead>\n",
       "  <tbody>\n",
       "    <tr>\n",
       "      <th>0</th>\n",
       "      <td>AG-891-A17_NODE_1</td>\n",
       "      <td>FALSE</td>\n",
       "      <td>1.000000</td>\n",
       "      <td>0.0</td>\n",
       "      <td>1.000000</td>\n",
       "    </tr>\n",
       "    <tr>\n",
       "      <th>1</th>\n",
       "      <td>AG-891-A17_NODE_2</td>\n",
       "      <td>FALSE</td>\n",
       "      <td>1.000000</td>\n",
       "      <td>0.0</td>\n",
       "      <td>1.000000</td>\n",
       "    </tr>\n",
       "    <tr>\n",
       "      <th>2</th>\n",
       "      <td>AG-891-A17_NODE_3</td>\n",
       "      <td>FALSE</td>\n",
       "      <td>1.000000</td>\n",
       "      <td>0.0</td>\n",
       "      <td>1.000000</td>\n",
       "    </tr>\n",
       "    <tr>\n",
       "      <th>3</th>\n",
       "      <td>AG-891-A17_NODE_4</td>\n",
       "      <td>FALSE</td>\n",
       "      <td>1.000000</td>\n",
       "      <td>0.0</td>\n",
       "      <td>1.000000</td>\n",
       "    </tr>\n",
       "    <tr>\n",
       "      <th>4</th>\n",
       "      <td>AG-891-A17_NODE_5</td>\n",
       "      <td>FALSE</td>\n",
       "      <td>1.000000</td>\n",
       "      <td>0.0</td>\n",
       "      <td>1.000000</td>\n",
       "    </tr>\n",
       "    <tr>\n",
       "      <th>5</th>\n",
       "      <td>AG-891-A17_NODE_6</td>\n",
       "      <td>FALSE</td>\n",
       "      <td>1.000000</td>\n",
       "      <td>0.0</td>\n",
       "      <td>1.000000</td>\n",
       "    </tr>\n",
       "    <tr>\n",
       "      <th>6</th>\n",
       "      <td>AG-891-A17_NODE_7</td>\n",
       "      <td>FALSE</td>\n",
       "      <td>1.000000</td>\n",
       "      <td>0.0</td>\n",
       "      <td>1.000000</td>\n",
       "    </tr>\n",
       "    <tr>\n",
       "      <th>7</th>\n",
       "      <td>AG-891-A17_NODE_8</td>\n",
       "      <td>FALSE</td>\n",
       "      <td>1.000000</td>\n",
       "      <td>0.0</td>\n",
       "      <td>1.000000</td>\n",
       "    </tr>\n",
       "    <tr>\n",
       "      <th>8</th>\n",
       "      <td>AG-891-A17_NODE_9</td>\n",
       "      <td>TRUE</td>\n",
       "      <td>0.962963</td>\n",
       "      <td>1.0</td>\n",
       "      <td>0.962963</td>\n",
       "    </tr>\n",
       "    <tr>\n",
       "      <th>9</th>\n",
       "      <td>AG-891-A17_NODE_10</td>\n",
       "      <td>FALSE</td>\n",
       "      <td>1.000000</td>\n",
       "      <td>0.0</td>\n",
       "      <td>1.000000</td>\n",
       "    </tr>\n",
       "    <tr>\n",
       "      <th>10</th>\n",
       "      <td>AG-891-A17_NODE_11</td>\n",
       "      <td>FALSE</td>\n",
       "      <td>1.000000</td>\n",
       "      <td>0.0</td>\n",
       "      <td>1.000000</td>\n",
       "    </tr>\n",
       "    <tr>\n",
       "      <th>11</th>\n",
       "      <td>AG-891-A17_NODE_12</td>\n",
       "      <td>FALSE</td>\n",
       "      <td>1.000000</td>\n",
       "      <td>0.0</td>\n",
       "      <td>1.000000</td>\n",
       "    </tr>\n",
       "    <tr>\n",
       "      <th>12</th>\n",
       "      <td>AG-891-A17_NODE_13</td>\n",
       "      <td>FALSE</td>\n",
       "      <td>1.000000</td>\n",
       "      <td>0.0</td>\n",
       "      <td>1.000000</td>\n",
       "    </tr>\n",
       "    <tr>\n",
       "      <th>13</th>\n",
       "      <td>AG-891-A17_NODE_14</td>\n",
       "      <td>FALSE</td>\n",
       "      <td>1.000000</td>\n",
       "      <td>0.0</td>\n",
       "      <td>1.000000</td>\n",
       "    </tr>\n",
       "    <tr>\n",
       "      <th>14</th>\n",
       "      <td>AG-891-A17_NODE_15</td>\n",
       "      <td>FALSE</td>\n",
       "      <td>1.000000</td>\n",
       "      <td>0.0</td>\n",
       "      <td>1.000000</td>\n",
       "    </tr>\n",
       "    <tr>\n",
       "      <th>15</th>\n",
       "      <td>AG-891-A17_NODE_16</td>\n",
       "      <td>FALSE</td>\n",
       "      <td>1.000000</td>\n",
       "      <td>0.0</td>\n",
       "      <td>1.000000</td>\n",
       "    </tr>\n",
       "    <tr>\n",
       "      <th>16</th>\n",
       "      <td>AG-891-A17_NODE_17</td>\n",
       "      <td>FALSE</td>\n",
       "      <td>1.000000</td>\n",
       "      <td>0.0</td>\n",
       "      <td>1.000000</td>\n",
       "    </tr>\n",
       "    <tr>\n",
       "      <th>17</th>\n",
       "      <td>AG-891-A17_NODE_18</td>\n",
       "      <td>FALSE</td>\n",
       "      <td>1.000000</td>\n",
       "      <td>0.0</td>\n",
       "      <td>1.000000</td>\n",
       "    </tr>\n",
       "    <tr>\n",
       "      <th>18</th>\n",
       "      <td>AG-891-A17_NODE_19</td>\n",
       "      <td>FALSE</td>\n",
       "      <td>1.000000</td>\n",
       "      <td>0.0</td>\n",
       "      <td>1.000000</td>\n",
       "    </tr>\n",
       "    <tr>\n",
       "      <th>19</th>\n",
       "      <td>AG-891-A17_NODE_20</td>\n",
       "      <td>FALSE</td>\n",
       "      <td>1.000000</td>\n",
       "      <td>0.0</td>\n",
       "      <td>1.000000</td>\n",
       "    </tr>\n",
       "    <tr>\n",
       "      <th>20</th>\n",
       "      <td>AG-891-A17_NODE_21</td>\n",
       "      <td>FALSE</td>\n",
       "      <td>1.000000</td>\n",
       "      <td>0.0</td>\n",
       "      <td>1.000000</td>\n",
       "    </tr>\n",
       "    <tr>\n",
       "      <th>21</th>\n",
       "      <td>AG-891-A17_NODE_22</td>\n",
       "      <td>FALSE</td>\n",
       "      <td>1.000000</td>\n",
       "      <td>0.0</td>\n",
       "      <td>1.000000</td>\n",
       "    </tr>\n",
       "    <tr>\n",
       "      <th>22</th>\n",
       "      <td>AG-891-A17_NODE_23</td>\n",
       "      <td>FALSE</td>\n",
       "      <td>1.000000</td>\n",
       "      <td>0.0</td>\n",
       "      <td>1.000000</td>\n",
       "    </tr>\n",
       "    <tr>\n",
       "      <th>23</th>\n",
       "      <td>AG-891-A17_NODE_24</td>\n",
       "      <td>FALSE</td>\n",
       "      <td>1.000000</td>\n",
       "      <td>0.0</td>\n",
       "      <td>1.000000</td>\n",
       "    </tr>\n",
       "    <tr>\n",
       "      <th>24</th>\n",
       "      <td>AG-891-A17_NODE_25</td>\n",
       "      <td>FALSE</td>\n",
       "      <td>1.000000</td>\n",
       "      <td>0.0</td>\n",
       "      <td>1.000000</td>\n",
       "    </tr>\n",
       "    <tr>\n",
       "      <th>25</th>\n",
       "      <td>AG-891-A17_NODE_26</td>\n",
       "      <td>FALSE</td>\n",
       "      <td>1.000000</td>\n",
       "      <td>0.0</td>\n",
       "      <td>1.000000</td>\n",
       "    </tr>\n",
       "    <tr>\n",
       "      <th>26</th>\n",
       "      <td>AG-891-A17_NODE_27</td>\n",
       "      <td>FALSE</td>\n",
       "      <td>1.000000</td>\n",
       "      <td>0.0</td>\n",
       "      <td>1.000000</td>\n",
       "    </tr>\n",
       "    <tr>\n",
       "      <th>27</th>\n",
       "      <td>AG-891-A17_NODE_29</td>\n",
       "      <td>FALSE</td>\n",
       "      <td>1.000000</td>\n",
       "      <td>0.0</td>\n",
       "      <td>1.000000</td>\n",
       "    </tr>\n",
       "    <tr>\n",
       "      <th>28</th>\n",
       "      <td>AG-891-A17_NODE_30</td>\n",
       "      <td>FALSE</td>\n",
       "      <td>1.000000</td>\n",
       "      <td>0.0</td>\n",
       "      <td>1.000000</td>\n",
       "    </tr>\n",
       "    <tr>\n",
       "      <th>29</th>\n",
       "      <td>AG-891-A17_NODE_28</td>\n",
       "      <td>FALSE</td>\n",
       "      <td>1.000000</td>\n",
       "      <td>0.0</td>\n",
       "      <td>1.000000</td>\n",
       "    </tr>\n",
       "    <tr>\n",
       "      <th>30</th>\n",
       "      <td>AG-891-A17_NODE_31</td>\n",
       "      <td>FALSE</td>\n",
       "      <td>1.000000</td>\n",
       "      <td>0.0</td>\n",
       "      <td>1.000000</td>\n",
       "    </tr>\n",
       "    <tr>\n",
       "      <th>31</th>\n",
       "      <td>AG-891-A17_NODE_32</td>\n",
       "      <td>FALSE</td>\n",
       "      <td>1.000000</td>\n",
       "      <td>0.0</td>\n",
       "      <td>1.000000</td>\n",
       "    </tr>\n",
       "    <tr>\n",
       "      <th>32</th>\n",
       "      <td>AG-891-A17_NODE_33</td>\n",
       "      <td>FALSE</td>\n",
       "      <td>1.000000</td>\n",
       "      <td>0.0</td>\n",
       "      <td>1.000000</td>\n",
       "    </tr>\n",
       "    <tr>\n",
       "      <th>33</th>\n",
       "      <td>AG-891-A17_NODE_34</td>\n",
       "      <td>FALSE</td>\n",
       "      <td>1.000000</td>\n",
       "      <td>0.0</td>\n",
       "      <td>1.000000</td>\n",
       "    </tr>\n",
       "    <tr>\n",
       "      <th>34</th>\n",
       "      <td>AG-891-A17_NODE_35</td>\n",
       "      <td>FALSE</td>\n",
       "      <td>1.000000</td>\n",
       "      <td>0.0</td>\n",
       "      <td>1.000000</td>\n",
       "    </tr>\n",
       "    <tr>\n",
       "      <th>35</th>\n",
       "      <td>AG-891-A17_NODE_36</td>\n",
       "      <td>FALSE</td>\n",
       "      <td>1.000000</td>\n",
       "      <td>0.0</td>\n",
       "      <td>1.000000</td>\n",
       "    </tr>\n",
       "    <tr>\n",
       "      <th>36</th>\n",
       "      <td>AG-891-A17_NODE_37</td>\n",
       "      <td>FALSE</td>\n",
       "      <td>1.000000</td>\n",
       "      <td>0.0</td>\n",
       "      <td>1.000000</td>\n",
       "    </tr>\n",
       "    <tr>\n",
       "      <th>37</th>\n",
       "      <td>AG-891-A17_NODE_38</td>\n",
       "      <td>TRUE</td>\n",
       "      <td>0.962963</td>\n",
       "      <td>1.0</td>\n",
       "      <td>0.962963</td>\n",
       "    </tr>\n",
       "  </tbody>\n",
       "</table>\n",
       "</div>"
      ],
      "text/plain": [
       "                contig virus_class_x  virus_prob_x  virus_class_y  \\\n",
       "0    AG-891-A17_NODE_1         FALSE      1.000000            0.0   \n",
       "1    AG-891-A17_NODE_2         FALSE      1.000000            0.0   \n",
       "2    AG-891-A17_NODE_3         FALSE      1.000000            0.0   \n",
       "3    AG-891-A17_NODE_4         FALSE      1.000000            0.0   \n",
       "4    AG-891-A17_NODE_5         FALSE      1.000000            0.0   \n",
       "5    AG-891-A17_NODE_6         FALSE      1.000000            0.0   \n",
       "6    AG-891-A17_NODE_7         FALSE      1.000000            0.0   \n",
       "7    AG-891-A17_NODE_8         FALSE      1.000000            0.0   \n",
       "8    AG-891-A17_NODE_9          TRUE      0.962963            1.0   \n",
       "9   AG-891-A17_NODE_10         FALSE      1.000000            0.0   \n",
       "10  AG-891-A17_NODE_11         FALSE      1.000000            0.0   \n",
       "11  AG-891-A17_NODE_12         FALSE      1.000000            0.0   \n",
       "12  AG-891-A17_NODE_13         FALSE      1.000000            0.0   \n",
       "13  AG-891-A17_NODE_14         FALSE      1.000000            0.0   \n",
       "14  AG-891-A17_NODE_15         FALSE      1.000000            0.0   \n",
       "15  AG-891-A17_NODE_16         FALSE      1.000000            0.0   \n",
       "16  AG-891-A17_NODE_17         FALSE      1.000000            0.0   \n",
       "17  AG-891-A17_NODE_18         FALSE      1.000000            0.0   \n",
       "18  AG-891-A17_NODE_19         FALSE      1.000000            0.0   \n",
       "19  AG-891-A17_NODE_20         FALSE      1.000000            0.0   \n",
       "20  AG-891-A17_NODE_21         FALSE      1.000000            0.0   \n",
       "21  AG-891-A17_NODE_22         FALSE      1.000000            0.0   \n",
       "22  AG-891-A17_NODE_23         FALSE      1.000000            0.0   \n",
       "23  AG-891-A17_NODE_24         FALSE      1.000000            0.0   \n",
       "24  AG-891-A17_NODE_25         FALSE      1.000000            0.0   \n",
       "25  AG-891-A17_NODE_26         FALSE      1.000000            0.0   \n",
       "26  AG-891-A17_NODE_27         FALSE      1.000000            0.0   \n",
       "27  AG-891-A17_NODE_29         FALSE      1.000000            0.0   \n",
       "28  AG-891-A17_NODE_30         FALSE      1.000000            0.0   \n",
       "29  AG-891-A17_NODE_28         FALSE      1.000000            0.0   \n",
       "30  AG-891-A17_NODE_31         FALSE      1.000000            0.0   \n",
       "31  AG-891-A17_NODE_32         FALSE      1.000000            0.0   \n",
       "32  AG-891-A17_NODE_33         FALSE      1.000000            0.0   \n",
       "33  AG-891-A17_NODE_34         FALSE      1.000000            0.0   \n",
       "34  AG-891-A17_NODE_35         FALSE      1.000000            0.0   \n",
       "35  AG-891-A17_NODE_36         FALSE      1.000000            0.0   \n",
       "36  AG-891-A17_NODE_37         FALSE      1.000000            0.0   \n",
       "37  AG-891-A17_NODE_38          TRUE      0.962963            1.0   \n",
       "\n",
       "    virus_prob_y  \n",
       "0       1.000000  \n",
       "1       1.000000  \n",
       "2       1.000000  \n",
       "3       1.000000  \n",
       "4       1.000000  \n",
       "5       1.000000  \n",
       "6       1.000000  \n",
       "7       1.000000  \n",
       "8       0.962963  \n",
       "9       1.000000  \n",
       "10      1.000000  \n",
       "11      1.000000  \n",
       "12      1.000000  \n",
       "13      1.000000  \n",
       "14      1.000000  \n",
       "15      1.000000  \n",
       "16      1.000000  \n",
       "17      1.000000  \n",
       "18      1.000000  \n",
       "19      1.000000  \n",
       "20      1.000000  \n",
       "21      1.000000  \n",
       "22      1.000000  \n",
       "23      1.000000  \n",
       "24      1.000000  \n",
       "25      1.000000  \n",
       "26      1.000000  \n",
       "27      1.000000  \n",
       "28      1.000000  \n",
       "29      1.000000  \n",
       "30      1.000000  \n",
       "31      1.000000  \n",
       "32      1.000000  \n",
       "33      1.000000  \n",
       "34      1.000000  \n",
       "35      1.000000  \n",
       "36      1.000000  \n",
       "37      0.962963  "
      ]
     },
     "execution_count": 123,
     "metadata": {},
     "output_type": "execute_result"
    }
   ],
   "source": []
  },
  {
   "cell_type": "code",
   "execution_count": null,
   "metadata": {
    "collapsed": true
   },
   "outputs": [],
   "source": []
  }
 ],
 "metadata": {
  "kernelspec": {
   "display_name": "Python 3",
   "language": "python",
   "name": "python3"
  },
  "language_info": {
   "codemirror_mode": {
    "name": "ipython",
    "version": 3
   },
   "file_extension": ".py",
   "mimetype": "text/x-python",
   "name": "python",
   "nbconvert_exporter": "python",
   "pygments_lexer": "ipython3",
   "version": "3.5.3"
  }
 },
 "nbformat": 4,
 "nbformat_minor": 1
}
