{
 "cells": [
  {
   "cell_type": "code",
   "execution_count": 2,
   "metadata": {
    "collapsed": true
   },
   "outputs": [],
   "source": [
    "import pandas as pd\n",
    "import numpy as np\n",
    "from collections import Counter, defaultdict\n",
    "import os.path as op\n",
    "import os\n",
    "import glob\n",
    "import itertools\n",
    "from nb_tools import id_virus_orfs, readfa, swap_cluster_map"
   ]
  },
  {
   "cell_type": "code",
   "execution_count": 7,
   "metadata": {
    "collapsed": true
   },
   "outputs": [],
   "source": [
    "micas = glob.glob(\"/mnt/scgc/simon/simonsproject/bats248_vs/blastout/*.out.gz\")\n",
    "clstr = \"/mnt/scgc/simon/simonsproject/bats248_annotations/bats248_all_orfs_cdhit_c90.fasta.clstr\"\n",
    "input_fa = \"/mnt/scgc/simon/simonsproject/bats248_annotations/bats248_all_orfs.fasta\""
   ]
  },
  {
   "cell_type": "code",
   "execution_count": 8,
   "metadata": {},
   "outputs": [
    {
     "data": {
      "text/plain": [
       "812"
      ]
     },
     "execution_count": 8,
     "metadata": {},
     "output_type": "execute_result"
    }
   ],
   "source": [
    "len(micas)"
   ]
  },
  {
   "cell_type": "markdown",
   "metadata": {
    "collapsed": true
   },
   "source": [
    "Going to construct one large data table with all orf assignments included."
   ]
  },
  {
   "cell_type": "code",
   "execution_count": 12,
   "metadata": {
    "collapsed": true
   },
   "outputs": [],
   "source": [
    "tbls = []\n",
    "\n",
    "for m in micas:\n",
    "    tbls.append(id_virus_orfs(m))"
   ]
  },
  {
   "cell_type": "code",
   "execution_count": 14,
   "metadata": {
    "collapsed": true
   },
   "outputs": [],
   "source": [
    "cluster_calls = pd.concat(tbls)\n",
    "cluster_calls.to_csv(\"/mnt/scgc/simon/simonsproject/bats248_vs/phage_hits.csv\", index=False)"
   ]
  },
  {
   "cell_type": "markdown",
   "metadata": {
    "collapsed": true
   },
   "source": [
    "Now calculate the number of phage genes per contig per genome..."
   ]
  },
  {
   "cell_type": "code",
   "execution_count": 3,
   "metadata": {
    "collapsed": true
   },
   "outputs": [],
   "source": [
    "to_start =  '''AG−891−A17\n",
    "AG−892−P18\n",
    "AG−893−J23\n",
    "AG−894−C07\n",
    "AG−895−P08\n",
    "AG−897−A15  \n",
    "AG−903−F19\n",
    "AG−903−I06\n",
    "AG−904−O13\n",
    "AG−907−C19\n",
    "AG−907−I10\n",
    "AG−908−F15\n",
    "AG-909-A05\n",
    "AG−910−E05\n",
    "AG−912−O18\n",
    "AG−913−C05\n",
    "AG−913−C17'''.replace(\"−\",\"-\").split()"
   ]
  },
  {
   "cell_type": "code",
   "execution_count": 13,
   "metadata": {},
   "outputs": [
    {
     "name": "stdout",
     "output_type": "stream",
     "text": [
      ">Cluster 0\r\n",
      "0\t4505aa, >AG-891-C06_00787... at 1:4505:8885:13389/97.54%\r\n",
      "1\t2378aa, >AG-895-B10_00908... at 1:2378:11012:13389/96.38%\r\n",
      "2\t694aa, >AG-895-B10_01107... at 1:694:7969:8662/96.97%\r\n",
      "3\t2756aa, >AG-897-L14_00730... at 1:2756:10634:13389/99.38%\r\n",
      "4\t2537aa, >AG-907-L11_00957... at 1:2537:10853:13389/98.74%\r\n",
      "5\t13389aa, >AG-908-B04_00191... *\r\n",
      ">Cluster 1\r\n",
      "0\t8694aa, >AG-913-A08_00038... *\r\n",
      ">Cluster 2\r\n"
     ]
    }
   ],
   "source": [
    "!head {clstr}"
   ]
  },
  {
   "cell_type": "code",
   "execution_count": 9,
   "metadata": {
    "collapsed": true
   },
   "outputs": [],
   "source": [
    "def map_clstr_raw(clstr, singles=False):\n",
    "    cluster_map = defaultdict(list)\n",
    "    with open(clstr) as fh:\n",
    "        for cluster_start, group in itertools.groupby(fh, lambda l: l[0] == '>'):\n",
    "            members = []\n",
    "            rep_seq = ''\n",
    "            if not cluster_start: \n",
    "                for line in group:\n",
    "                    if \"*\" in line: \n",
    "                        rep_seq = line.split(\",\")[1].split(\"...\")[0].replace(\">\",'').replace(\" \",\"\")\n",
    "                    else:\n",
    "                        members.append(line.split(\",\")[1].split(\"...\")[0].replace(\">\",'').replace(\" \",\"\"))\n",
    "            if len(rep_seq) == 0:\n",
    "                continue\n",
    "\n",
    "            if singles:\n",
    "                cluster_map[rep_seq] = members\n",
    "            elif len(members) > 0:\n",
    "                cluster_map[rep_seq] = members\n",
    "            else:\n",
    "                continue\n",
    "    return cluster_map"
   ]
  },
  {
   "cell_type": "code",
   "execution_count": 11,
   "metadata": {},
   "outputs": [],
   "source": [
    "cmap_raw = map_clstr_raw(clstr)"
   ]
  },
  {
   "cell_type": "code",
   "execution_count": 12,
   "metadata": {},
   "outputs": [
    {
     "data": {
      "text/plain": [
       "369008"
      ]
     },
     "execution_count": 12,
     "metadata": {},
     "output_type": "execute_result"
    }
   ],
   "source": [
    "len(cmap_raw)"
   ]
  },
  {
   "cell_type": "code",
   "execution_count": 13,
   "metadata": {
    "collapsed": true
   },
   "outputs": [],
   "source": [
    "scm = swap_cluster_map(cmap_raw)"
   ]
  },
  {
   "cell_type": "code",
   "execution_count": 15,
   "metadata": {},
   "outputs": [
    {
     "data": {
      "text/plain": [
       "3536875"
      ]
     },
     "execution_count": 15,
     "metadata": {},
     "output_type": "execute_result"
    }
   ],
   "source": [
    "len(scm)"
   ]
  },
  {
   "cell_type": "code",
   "execution_count": 30,
   "metadata": {
    "collapsed": true
   },
   "outputs": [],
   "source": [
    "sag = to_start[0]"
   ]
  },
  {
   "cell_type": "code",
   "execution_count": 34,
   "metadata": {
    "collapsed": true
   },
   "outputs": [],
   "source": [
    "sag\n",
    "gff = \"/mnt/scgc/simon/simonsproject/bats248_annotations/gff/{}.gff\".format(sag)\n",
    "faa = \"/mnt/scgc/simon/simonsproject/bats248_annotations/faa/{}.faa\".format(sag)"
   ]
  },
  {
   "cell_type": "code",
   "execution_count": 37,
   "metadata": {
    "collapsed": true
   },
   "outputs": [],
   "source": [
    "from nb_tools import orf_map"
   ]
  },
  {
   "cell_type": "code",
   "execution_count": 38,
   "metadata": {
    "collapsed": true
   },
   "outputs": [],
   "source": [
    "om = orf_map(gff)"
   ]
  },
  {
   "cell_type": "code",
   "execution_count": 43,
   "metadata": {
    "collapsed": true
   },
   "outputs": [],
   "source": [
    "om['lookup'] = [scm.get(i, i) for i in om['id']]"
   ]
  },
  {
   "cell_type": "code",
   "execution_count": 44,
   "metadata": {
    "collapsed": true
   },
   "outputs": [],
   "source": [
    "phage_counts = pd.read_csv(\"/mnt/scgc/simon/simonsproject/bats248_vs/phage_hits.csv\")"
   ]
  },
  {
   "cell_type": "code",
   "execution_count": 45,
   "metadata": {},
   "outputs": [
    {
     "data": {
      "text/plain": [
       "720345"
      ]
     },
     "execution_count": 45,
     "metadata": {},
     "output_type": "execute_result"
    }
   ],
   "source": [
    "len(phage_counts)"
   ]
  },
  {
   "cell_type": "code",
   "execution_count": 49,
   "metadata": {
    "collapsed": true
   },
   "outputs": [],
   "source": [
    "sag_pcounts = pd.merge(phage_counts, om, left_on='orf', right_on='lookup', how='right').fillna(0)"
   ]
  },
  {
   "cell_type": "code",
   "execution_count": 50,
   "metadata": {
    "collapsed": true
   },
   "outputs": [],
   "source": [
    "omp = sag_pcounts[['contig','id','p1','p2','len']]"
   ]
  },
  {
   "cell_type": "code",
   "execution_count": 54,
   "metadata": {
    "collapsed": true
   },
   "outputs": [],
   "source": [
    "from recruitment_for_vs import summarize_by_contig"
   ]
  },
  {
   "cell_type": "code",
   "execution_count": 70,
   "metadata": {
    "collapsed": true
   },
   "outputs": [],
   "source": [
    "p1 = summarize_by_contig(omp, 'p1')\n",
    "p2 = summarize_by_contig(omp, 'p2')\n",
    "orf_count = pd.DataFrame(om.groupby('contig')['id'].count()).rename(columns={'id':'total_orfs'})"
   ]
  },
  {
   "cell_type": "code",
   "execution_count": 71,
   "metadata": {
    "collapsed": true
   },
   "outputs": [],
   "source": [
    "csum = pd.concat([p1, p2, orf_count], axis=1)"
   ]
  },
  {
   "cell_type": "code",
   "execution_count": 72,
   "metadata": {
    "collapsed": true
   },
   "outputs": [],
   "source": [
    "csum['viral_phage_gene_fraction'] = csum['p1'] / csum['total_orfs']\n",
    "csum['viral2_phage_gene_fraction'] = csum['p2'] / csum['total_orfs']"
   ]
  },
  {
   "cell_type": "code",
   "execution_count": 73,
   "metadata": {},
   "outputs": [
    {
     "data": {
      "text/html": [
       "<div>\n",
       "<table border=\"1\" class=\"dataframe\">\n",
       "  <thead>\n",
       "    <tr style=\"text-align: right;\">\n",
       "      <th></th>\n",
       "      <th>p1</th>\n",
       "      <th>p2</th>\n",
       "      <th>total_orfs</th>\n",
       "      <th>viral_phage_gene_fraction</th>\n",
       "      <th>viral2_phage_gene_fraction</th>\n",
       "    </tr>\n",
       "    <tr>\n",
       "      <th>contig</th>\n",
       "      <th></th>\n",
       "      <th></th>\n",
       "      <th></th>\n",
       "      <th></th>\n",
       "      <th></th>\n",
       "    </tr>\n",
       "  </thead>\n",
       "  <tbody>\n",
       "    <tr>\n",
       "      <th>AG-891-A17_NODE_1</th>\n",
       "      <td>3.0</td>\n",
       "      <td>0.0</td>\n",
       "      <td>166</td>\n",
       "      <td>0.018072</td>\n",
       "      <td>0.000000</td>\n",
       "    </tr>\n",
       "    <tr>\n",
       "      <th>AG-891-A17_NODE_10</th>\n",
       "      <td>0.0</td>\n",
       "      <td>0.0</td>\n",
       "      <td>38</td>\n",
       "      <td>0.000000</td>\n",
       "      <td>0.000000</td>\n",
       "    </tr>\n",
       "    <tr>\n",
       "      <th>AG-891-A17_NODE_11</th>\n",
       "      <td>0.0</td>\n",
       "      <td>0.0</td>\n",
       "      <td>20</td>\n",
       "      <td>0.000000</td>\n",
       "      <td>0.000000</td>\n",
       "    </tr>\n",
       "    <tr>\n",
       "      <th>AG-891-A17_NODE_12</th>\n",
       "      <td>0.0</td>\n",
       "      <td>0.0</td>\n",
       "      <td>22</td>\n",
       "      <td>0.000000</td>\n",
       "      <td>0.000000</td>\n",
       "    </tr>\n",
       "    <tr>\n",
       "      <th>AG-891-A17_NODE_13</th>\n",
       "      <td>0.0</td>\n",
       "      <td>0.0</td>\n",
       "      <td>29</td>\n",
       "      <td>0.000000</td>\n",
       "      <td>0.000000</td>\n",
       "    </tr>\n",
       "    <tr>\n",
       "      <th>AG-891-A17_NODE_14</th>\n",
       "      <td>0.0</td>\n",
       "      <td>0.0</td>\n",
       "      <td>22</td>\n",
       "      <td>0.000000</td>\n",
       "      <td>0.000000</td>\n",
       "    </tr>\n",
       "    <tr>\n",
       "      <th>AG-891-A17_NODE_15</th>\n",
       "      <td>0.0</td>\n",
       "      <td>0.0</td>\n",
       "      <td>13</td>\n",
       "      <td>0.000000</td>\n",
       "      <td>0.000000</td>\n",
       "    </tr>\n",
       "    <tr>\n",
       "      <th>AG-891-A17_NODE_16</th>\n",
       "      <td>0.0</td>\n",
       "      <td>0.0</td>\n",
       "      <td>14</td>\n",
       "      <td>0.000000</td>\n",
       "      <td>0.000000</td>\n",
       "    </tr>\n",
       "    <tr>\n",
       "      <th>AG-891-A17_NODE_17</th>\n",
       "      <td>0.0</td>\n",
       "      <td>0.0</td>\n",
       "      <td>11</td>\n",
       "      <td>0.000000</td>\n",
       "      <td>0.000000</td>\n",
       "    </tr>\n",
       "    <tr>\n",
       "      <th>AG-891-A17_NODE_18</th>\n",
       "      <td>0.0</td>\n",
       "      <td>0.0</td>\n",
       "      <td>14</td>\n",
       "      <td>0.000000</td>\n",
       "      <td>0.000000</td>\n",
       "    </tr>\n",
       "    <tr>\n",
       "      <th>AG-891-A17_NODE_19</th>\n",
       "      <td>0.0</td>\n",
       "      <td>0.0</td>\n",
       "      <td>7</td>\n",
       "      <td>0.000000</td>\n",
       "      <td>0.000000</td>\n",
       "    </tr>\n",
       "    <tr>\n",
       "      <th>AG-891-A17_NODE_2</th>\n",
       "      <td>1.0</td>\n",
       "      <td>0.0</td>\n",
       "      <td>103</td>\n",
       "      <td>0.009709</td>\n",
       "      <td>0.000000</td>\n",
       "    </tr>\n",
       "    <tr>\n",
       "      <th>AG-891-A17_NODE_20</th>\n",
       "      <td>0.0</td>\n",
       "      <td>0.0</td>\n",
       "      <td>7</td>\n",
       "      <td>0.000000</td>\n",
       "      <td>0.000000</td>\n",
       "    </tr>\n",
       "    <tr>\n",
       "      <th>AG-891-A17_NODE_21</th>\n",
       "      <td>0.0</td>\n",
       "      <td>0.0</td>\n",
       "      <td>8</td>\n",
       "      <td>0.000000</td>\n",
       "      <td>0.000000</td>\n",
       "    </tr>\n",
       "    <tr>\n",
       "      <th>AG-891-A17_NODE_22</th>\n",
       "      <td>0.0</td>\n",
       "      <td>0.0</td>\n",
       "      <td>9</td>\n",
       "      <td>0.000000</td>\n",
       "      <td>0.000000</td>\n",
       "    </tr>\n",
       "    <tr>\n",
       "      <th>AG-891-A17_NODE_23</th>\n",
       "      <td>0.0</td>\n",
       "      <td>0.0</td>\n",
       "      <td>11</td>\n",
       "      <td>0.000000</td>\n",
       "      <td>0.000000</td>\n",
       "    </tr>\n",
       "    <tr>\n",
       "      <th>AG-891-A17_NODE_24</th>\n",
       "      <td>0.0</td>\n",
       "      <td>0.0</td>\n",
       "      <td>8</td>\n",
       "      <td>0.000000</td>\n",
       "      <td>0.000000</td>\n",
       "    </tr>\n",
       "    <tr>\n",
       "      <th>AG-891-A17_NODE_25</th>\n",
       "      <td>0.0</td>\n",
       "      <td>0.0</td>\n",
       "      <td>10</td>\n",
       "      <td>0.000000</td>\n",
       "      <td>0.000000</td>\n",
       "    </tr>\n",
       "    <tr>\n",
       "      <th>AG-891-A17_NODE_26</th>\n",
       "      <td>0.0</td>\n",
       "      <td>0.0</td>\n",
       "      <td>3</td>\n",
       "      <td>0.000000</td>\n",
       "      <td>0.000000</td>\n",
       "    </tr>\n",
       "    <tr>\n",
       "      <th>AG-891-A17_NODE_27</th>\n",
       "      <td>0.0</td>\n",
       "      <td>0.0</td>\n",
       "      <td>4</td>\n",
       "      <td>0.000000</td>\n",
       "      <td>0.000000</td>\n",
       "    </tr>\n",
       "    <tr>\n",
       "      <th>AG-891-A17_NODE_28</th>\n",
       "      <td>0.0</td>\n",
       "      <td>0.0</td>\n",
       "      <td>5</td>\n",
       "      <td>0.000000</td>\n",
       "      <td>0.000000</td>\n",
       "    </tr>\n",
       "    <tr>\n",
       "      <th>AG-891-A17_NODE_29</th>\n",
       "      <td>0.0</td>\n",
       "      <td>0.0</td>\n",
       "      <td>7</td>\n",
       "      <td>0.000000</td>\n",
       "      <td>0.000000</td>\n",
       "    </tr>\n",
       "    <tr>\n",
       "      <th>AG-891-A17_NODE_3</th>\n",
       "      <td>1.0</td>\n",
       "      <td>0.0</td>\n",
       "      <td>82</td>\n",
       "      <td>0.012195</td>\n",
       "      <td>0.000000</td>\n",
       "    </tr>\n",
       "    <tr>\n",
       "      <th>AG-891-A17_NODE_30</th>\n",
       "      <td>0.0</td>\n",
       "      <td>0.0</td>\n",
       "      <td>5</td>\n",
       "      <td>0.000000</td>\n",
       "      <td>0.000000</td>\n",
       "    </tr>\n",
       "    <tr>\n",
       "      <th>AG-891-A17_NODE_31</th>\n",
       "      <td>0.0</td>\n",
       "      <td>0.0</td>\n",
       "      <td>4</td>\n",
       "      <td>0.000000</td>\n",
       "      <td>0.000000</td>\n",
       "    </tr>\n",
       "    <tr>\n",
       "      <th>AG-891-A17_NODE_32</th>\n",
       "      <td>0.0</td>\n",
       "      <td>0.0</td>\n",
       "      <td>3</td>\n",
       "      <td>0.000000</td>\n",
       "      <td>0.000000</td>\n",
       "    </tr>\n",
       "    <tr>\n",
       "      <th>AG-891-A17_NODE_33</th>\n",
       "      <td>0.0</td>\n",
       "      <td>0.0</td>\n",
       "      <td>5</td>\n",
       "      <td>0.000000</td>\n",
       "      <td>0.000000</td>\n",
       "    </tr>\n",
       "    <tr>\n",
       "      <th>AG-891-A17_NODE_34</th>\n",
       "      <td>0.0</td>\n",
       "      <td>0.0</td>\n",
       "      <td>4</td>\n",
       "      <td>0.000000</td>\n",
       "      <td>0.000000</td>\n",
       "    </tr>\n",
       "    <tr>\n",
       "      <th>AG-891-A17_NODE_35</th>\n",
       "      <td>0.0</td>\n",
       "      <td>0.0</td>\n",
       "      <td>6</td>\n",
       "      <td>0.000000</td>\n",
       "      <td>0.000000</td>\n",
       "    </tr>\n",
       "    <tr>\n",
       "      <th>AG-891-A17_NODE_36</th>\n",
       "      <td>0.0</td>\n",
       "      <td>0.0</td>\n",
       "      <td>1</td>\n",
       "      <td>0.000000</td>\n",
       "      <td>0.000000</td>\n",
       "    </tr>\n",
       "    <tr>\n",
       "      <th>AG-891-A17_NODE_37</th>\n",
       "      <td>0.0</td>\n",
       "      <td>0.0</td>\n",
       "      <td>2</td>\n",
       "      <td>0.000000</td>\n",
       "      <td>0.000000</td>\n",
       "    </tr>\n",
       "    <tr>\n",
       "      <th>AG-891-A17_NODE_38</th>\n",
       "      <td>6.0</td>\n",
       "      <td>0.0</td>\n",
       "      <td>6</td>\n",
       "      <td>1.000000</td>\n",
       "      <td>0.000000</td>\n",
       "    </tr>\n",
       "    <tr>\n",
       "      <th>AG-891-A17_NODE_39</th>\n",
       "      <td>0.0</td>\n",
       "      <td>0.0</td>\n",
       "      <td>2</td>\n",
       "      <td>0.000000</td>\n",
       "      <td>0.000000</td>\n",
       "    </tr>\n",
       "    <tr>\n",
       "      <th>AG-891-A17_NODE_4</th>\n",
       "      <td>0.0</td>\n",
       "      <td>1.0</td>\n",
       "      <td>71</td>\n",
       "      <td>0.000000</td>\n",
       "      <td>0.014085</td>\n",
       "    </tr>\n",
       "    <tr>\n",
       "      <th>AG-891-A17_NODE_5</th>\n",
       "      <td>0.0</td>\n",
       "      <td>0.0</td>\n",
       "      <td>55</td>\n",
       "      <td>0.000000</td>\n",
       "      <td>0.000000</td>\n",
       "    </tr>\n",
       "    <tr>\n",
       "      <th>AG-891-A17_NODE_6</th>\n",
       "      <td>0.0</td>\n",
       "      <td>0.0</td>\n",
       "      <td>49</td>\n",
       "      <td>0.000000</td>\n",
       "      <td>0.000000</td>\n",
       "    </tr>\n",
       "    <tr>\n",
       "      <th>AG-891-A17_NODE_7</th>\n",
       "      <td>0.0</td>\n",
       "      <td>0.0</td>\n",
       "      <td>50</td>\n",
       "      <td>0.000000</td>\n",
       "      <td>0.000000</td>\n",
       "    </tr>\n",
       "    <tr>\n",
       "      <th>AG-891-A17_NODE_8</th>\n",
       "      <td>0.0</td>\n",
       "      <td>0.0</td>\n",
       "      <td>31</td>\n",
       "      <td>0.000000</td>\n",
       "      <td>0.000000</td>\n",
       "    </tr>\n",
       "    <tr>\n",
       "      <th>AG-891-A17_NODE_9</th>\n",
       "      <td>38.0</td>\n",
       "      <td>0.0</td>\n",
       "      <td>44</td>\n",
       "      <td>0.863636</td>\n",
       "      <td>0.000000</td>\n",
       "    </tr>\n",
       "  </tbody>\n",
       "</table>\n",
       "</div>"
      ],
      "text/plain": [
       "                      p1   p2  total_orfs  viral_phage_gene_fraction  \\\n",
       "contig                                                                 \n",
       "AG-891-A17_NODE_1    3.0  0.0         166                   0.018072   \n",
       "AG-891-A17_NODE_10   0.0  0.0          38                   0.000000   \n",
       "AG-891-A17_NODE_11   0.0  0.0          20                   0.000000   \n",
       "AG-891-A17_NODE_12   0.0  0.0          22                   0.000000   \n",
       "AG-891-A17_NODE_13   0.0  0.0          29                   0.000000   \n",
       "AG-891-A17_NODE_14   0.0  0.0          22                   0.000000   \n",
       "AG-891-A17_NODE_15   0.0  0.0          13                   0.000000   \n",
       "AG-891-A17_NODE_16   0.0  0.0          14                   0.000000   \n",
       "AG-891-A17_NODE_17   0.0  0.0          11                   0.000000   \n",
       "AG-891-A17_NODE_18   0.0  0.0          14                   0.000000   \n",
       "AG-891-A17_NODE_19   0.0  0.0           7                   0.000000   \n",
       "AG-891-A17_NODE_2    1.0  0.0         103                   0.009709   \n",
       "AG-891-A17_NODE_20   0.0  0.0           7                   0.000000   \n",
       "AG-891-A17_NODE_21   0.0  0.0           8                   0.000000   \n",
       "AG-891-A17_NODE_22   0.0  0.0           9                   0.000000   \n",
       "AG-891-A17_NODE_23   0.0  0.0          11                   0.000000   \n",
       "AG-891-A17_NODE_24   0.0  0.0           8                   0.000000   \n",
       "AG-891-A17_NODE_25   0.0  0.0          10                   0.000000   \n",
       "AG-891-A17_NODE_26   0.0  0.0           3                   0.000000   \n",
       "AG-891-A17_NODE_27   0.0  0.0           4                   0.000000   \n",
       "AG-891-A17_NODE_28   0.0  0.0           5                   0.000000   \n",
       "AG-891-A17_NODE_29   0.0  0.0           7                   0.000000   \n",
       "AG-891-A17_NODE_3    1.0  0.0          82                   0.012195   \n",
       "AG-891-A17_NODE_30   0.0  0.0           5                   0.000000   \n",
       "AG-891-A17_NODE_31   0.0  0.0           4                   0.000000   \n",
       "AG-891-A17_NODE_32   0.0  0.0           3                   0.000000   \n",
       "AG-891-A17_NODE_33   0.0  0.0           5                   0.000000   \n",
       "AG-891-A17_NODE_34   0.0  0.0           4                   0.000000   \n",
       "AG-891-A17_NODE_35   0.0  0.0           6                   0.000000   \n",
       "AG-891-A17_NODE_36   0.0  0.0           1                   0.000000   \n",
       "AG-891-A17_NODE_37   0.0  0.0           2                   0.000000   \n",
       "AG-891-A17_NODE_38   6.0  0.0           6                   1.000000   \n",
       "AG-891-A17_NODE_39   0.0  0.0           2                   0.000000   \n",
       "AG-891-A17_NODE_4    0.0  1.0          71                   0.000000   \n",
       "AG-891-A17_NODE_5    0.0  0.0          55                   0.000000   \n",
       "AG-891-A17_NODE_6    0.0  0.0          49                   0.000000   \n",
       "AG-891-A17_NODE_7    0.0  0.0          50                   0.000000   \n",
       "AG-891-A17_NODE_8    0.0  0.0          31                   0.000000   \n",
       "AG-891-A17_NODE_9   38.0  0.0          44                   0.863636   \n",
       "\n",
       "                    viral2_phage_gene_fraction  \n",
       "contig                                          \n",
       "AG-891-A17_NODE_1                     0.000000  \n",
       "AG-891-A17_NODE_10                    0.000000  \n",
       "AG-891-A17_NODE_11                    0.000000  \n",
       "AG-891-A17_NODE_12                    0.000000  \n",
       "AG-891-A17_NODE_13                    0.000000  \n",
       "AG-891-A17_NODE_14                    0.000000  \n",
       "AG-891-A17_NODE_15                    0.000000  \n",
       "AG-891-A17_NODE_16                    0.000000  \n",
       "AG-891-A17_NODE_17                    0.000000  \n",
       "AG-891-A17_NODE_18                    0.000000  \n",
       "AG-891-A17_NODE_19                    0.000000  \n",
       "AG-891-A17_NODE_2                     0.000000  \n",
       "AG-891-A17_NODE_20                    0.000000  \n",
       "AG-891-A17_NODE_21                    0.000000  \n",
       "AG-891-A17_NODE_22                    0.000000  \n",
       "AG-891-A17_NODE_23                    0.000000  \n",
       "AG-891-A17_NODE_24                    0.000000  \n",
       "AG-891-A17_NODE_25                    0.000000  \n",
       "AG-891-A17_NODE_26                    0.000000  \n",
       "AG-891-A17_NODE_27                    0.000000  \n",
       "AG-891-A17_NODE_28                    0.000000  \n",
       "AG-891-A17_NODE_29                    0.000000  \n",
       "AG-891-A17_NODE_3                     0.000000  \n",
       "AG-891-A17_NODE_30                    0.000000  \n",
       "AG-891-A17_NODE_31                    0.000000  \n",
       "AG-891-A17_NODE_32                    0.000000  \n",
       "AG-891-A17_NODE_33                    0.000000  \n",
       "AG-891-A17_NODE_34                    0.000000  \n",
       "AG-891-A17_NODE_35                    0.000000  \n",
       "AG-891-A17_NODE_36                    0.000000  \n",
       "AG-891-A17_NODE_37                    0.000000  \n",
       "AG-891-A17_NODE_38                    0.000000  \n",
       "AG-891-A17_NODE_39                    0.000000  \n",
       "AG-891-A17_NODE_4                     0.014085  \n",
       "AG-891-A17_NODE_5                     0.000000  \n",
       "AG-891-A17_NODE_6                     0.000000  \n",
       "AG-891-A17_NODE_7                     0.000000  \n",
       "AG-891-A17_NODE_8                     0.000000  \n",
       "AG-891-A17_NODE_9                     0.000000  "
      ]
     },
     "execution_count": 73,
     "metadata": {},
     "output_type": "execute_result"
    }
   ],
   "source": [
    "csum"
   ]
  },
  {
   "cell_type": "markdown",
   "metadata": {},
   "source": [
    "Looks like there are different numbers of ORF calls between the prodigal version that VS uses and the prodigal that prokka uses.  They are very similar counts but curiously not the same."
   ]
  },
  {
   "cell_type": "code",
   "execution_count": 82,
   "metadata": {
    "collapsed": true
   },
   "outputs": [],
   "source": [
    "old_genes = \"/mnt/scgc/simon/simonsproject/jb_vs_test/AG-891/AG-891-A17/prodigal/AG-891-A17_contigs_genes.fasta\""
   ]
  },
  {
   "cell_type": "code",
   "execution_count": 81,
   "metadata": {},
   "outputs": [
    {
     "name": "stdout",
     "output_type": "stream",
     "text": [
      "AG-891-A17_contigs.gbk\t\t   AG-891-A17_contigs_proteins.fasta.fai\r\n",
      "AG-891-A17_contigs_genes.fasta\t   AG-891-A17_contigs.scores\r\n",
      "AG-891-A17_contigs_proteins.fasta\r\n"
     ]
    }
   ],
   "source": [
    "!ls {old_vs}"
   ]
  },
  {
   "cell_type": "code",
   "execution_count": 83,
   "metadata": {
    "collapsed": true
   },
   "outputs": [],
   "source": [
    "names = []\n",
    "for name, seq in readfa(open(old_genes)):\n",
    "    names.append(name)"
   ]
  },
  {
   "cell_type": "code",
   "execution_count": 87,
   "metadata": {
    "collapsed": true
   },
   "outputs": [],
   "source": [
    "names = [\"_\".join(i.split()[0].split(\"_\")[:-1]) for i in names]"
   ]
  },
  {
   "cell_type": "code",
   "execution_count": 89,
   "metadata": {},
   "outputs": [
    {
     "data": {
      "text/plain": [
       "Counter({'AG-891-A17_NODE_1': 166,\n",
       "         'AG-891-A17_NODE_10': 35,\n",
       "         'AG-891-A17_NODE_11': 21,\n",
       "         'AG-891-A17_NODE_12': 23,\n",
       "         'AG-891-A17_NODE_13': 30,\n",
       "         'AG-891-A17_NODE_14': 22,\n",
       "         'AG-891-A17_NODE_15': 14,\n",
       "         'AG-891-A17_NODE_16': 15,\n",
       "         'AG-891-A17_NODE_17': 13,\n",
       "         'AG-891-A17_NODE_18': 15,\n",
       "         'AG-891-A17_NODE_19': 8,\n",
       "         'AG-891-A17_NODE_2': 103,\n",
       "         'AG-891-A17_NODE_20': 9,\n",
       "         'AG-891-A17_NODE_21': 9,\n",
       "         'AG-891-A17_NODE_22': 10,\n",
       "         'AG-891-A17_NODE_23': 11,\n",
       "         'AG-891-A17_NODE_24': 9,\n",
       "         'AG-891-A17_NODE_25': 11,\n",
       "         'AG-891-A17_NODE_26': 5,\n",
       "         'AG-891-A17_NODE_27': 4,\n",
       "         'AG-891-A17_NODE_28': 4,\n",
       "         'AG-891-A17_NODE_29': 8,\n",
       "         'AG-891-A17_NODE_3': 78,\n",
       "         'AG-891-A17_NODE_30': 6,\n",
       "         'AG-891-A17_NODE_31': 4,\n",
       "         'AG-891-A17_NODE_32': 4,\n",
       "         'AG-891-A17_NODE_33': 6,\n",
       "         'AG-891-A17_NODE_34': 5,\n",
       "         'AG-891-A17_NODE_35': 7,\n",
       "         'AG-891-A17_NODE_36': 1,\n",
       "         'AG-891-A17_NODE_37': 3,\n",
       "         'AG-891-A17_NODE_38': 8,\n",
       "         'AG-891-A17_NODE_4': 64,\n",
       "         'AG-891-A17_NODE_5': 53,\n",
       "         'AG-891-A17_NODE_6': 47,\n",
       "         'AG-891-A17_NODE_7': 49,\n",
       "         'AG-891-A17_NODE_8': 31,\n",
       "         'AG-891-A17_NODE_9': 45})"
      ]
     },
     "execution_count": 89,
     "metadata": {},
     "output_type": "execute_result"
    }
   ],
   "source": [
    "Counter(names)"
   ]
  },
  {
   "cell_type": "code",
   "execution_count": 99,
   "metadata": {
    "collapsed": true
   },
   "outputs": [],
   "source": [
    "from phage_count_table import phage_contig_table"
   ]
  },
  {
   "cell_type": "code",
   "execution_count": 92,
   "metadata": {
    "collapsed": true
   },
   "outputs": [],
   "source": [
    "gffs = glob.glob(\"/mnt/scgc/simon/simonsproject/bats248_annotations/gff/*.gff\")"
   ]
  },
  {
   "cell_type": "code",
   "execution_count": 93,
   "metadata": {},
   "outputs": [
    {
     "data": {
      "text/plain": [
       "6224"
      ]
     },
     "execution_count": 93,
     "metadata": {},
     "output_type": "execute_result"
    }
   ],
   "source": [
    "len(gffs)"
   ]
  },
  {
   "cell_type": "code",
   "execution_count": 101,
   "metadata": {
    "collapsed": true
   },
   "outputs": [],
   "source": [
    "def phage_contig_table(clstr_map, gff, phage_hits_df, outfile=None):\n",
    "    ''' create a summary of phage hits to contig orfs, mapping back cd-hit cluster seeds to orfs from individual genomes\n",
    "    Args:\n",
    "        clstr_map (dict): cluster map\n",
    "        gff (path): path to gff output file for mapping orfs back to contigs\n",
    "        phage_hits_df (pandas.DataFrame): phage hits dataframe from summary of all Mica results\n",
    "        outfile (path): where to write output table, if None, none written\n",
    "    Returns:\n",
    "        pandas dataframe \n",
    "    '''\n",
    "    cm = swap_cluster_map(clstr_map)\n",
    "    om = orf_map(gff)\n",
    "    om['lookup'] = [cm.get(i, i) for i in om['id']]\n",
    "    omp = pd.merge(phage_hits_df, om, left_on='orf', right_on='lookup', how='right').fillna(0)[['contig','id','p1','p2','len']]\n",
    "    orf_count = pd.DataFrame(om.groupby('contig')['id'].count()).rename(columns={'id':'total_orfs'})\n",
    "    csum = pd.concat([summarize_by_contig(omp, 'p1'), summarize_by_contig(omp, 'p2'), orf_count], axis=1)\n",
    "    csum['viral_phage_gene_fraction'] = csum['p1'] / csum['total_orfs']\n",
    "    csum['viral2_phage_gene_fraction'] = csum['p2'] / csum['total_orfs']\n",
    "\n",
    "    if outfile is not None:\n",
    "        csum.to_csv(outfile)\n",
    "\n",
    "    return csum"
   ]
  },
  {
   "cell_type": "code",
   "execution_count": 102,
   "metadata": {
    "collapsed": true
   },
   "outputs": [],
   "source": [
    "for g in gffs[:10]:\n",
    "    sag = op.basename(g).split('.')[0]\n",
    "    out_tbl = \"./outputs/{}_phage_counts.csv\".format(sag)\n",
    "    phage_contig_table(scm, g, phage_counts, out_tbl)\n"
   ]
  },
  {
   "cell_type": "code",
   "execution_count": 96,
   "metadata": {
    "collapsed": true
   },
   "outputs": [],
   "source": []
  },
  {
   "cell_type": "code",
   "execution_count": null,
   "metadata": {
    "collapsed": true
   },
   "outputs": [],
   "source": []
  }
 ],
 "metadata": {
  "kernelspec": {
   "display_name": "Python 3",
   "language": "python",
   "name": "python3"
  },
  "language_info": {
   "codemirror_mode": {
    "name": "ipython",
    "version": 3
   },
   "file_extension": ".py",
   "mimetype": "text/x-python",
   "name": "python",
   "nbconvert_exporter": "python",
   "pygments_lexer": "ipython3",
   "version": "3.5.3"
  }
 },
 "nbformat": 4,
 "nbformat_minor": 1
}
