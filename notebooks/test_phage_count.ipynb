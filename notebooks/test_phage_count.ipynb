{
 "cells": [
  {
   "cell_type": "code",
   "execution_count": 1,
   "metadata": {},
   "outputs": [
    {
     "name": "stdout",
     "output_type": "stream",
     "text": [
      "/mnt/scgc/scgc_nfs/lab/julia/notebooks/simons-viruscope/viruscope/test_data\n"
     ]
    }
   ],
   "source": [
    "import os\n",
    "import os.path as op\n",
    "import shutil\n",
    "from viruscope.tools import safe_makedir\n",
    "import glob\n",
    "wd =op.abspath(\"../test_data\")\n",
    "print(wd)"
   ]
  },
  {
   "cell_type": "code",
   "execution_count": 2,
   "metadata": {
    "collapsed": true
   },
   "outputs": [],
   "source": [
    "from viruscope.phage_count import run_mica"
   ]
  },
  {
   "cell_type": "code",
   "execution_count": 3,
   "metadata": {},
   "outputs": [
    {
     "name": "stdout",
     "output_type": "stream",
     "text": [
      "/mnt/scgc/scgc_nfs/lab/julia/notebooks/simons-viruscope/viruscope/test_data/clustering/for_mica\n"
     ]
    }
   ],
   "source": [
    "for_mica = op.join(wd, \"clustering\",\"for_mica\")\n",
    "print(for_mica)"
   ]
  },
  {
   "cell_type": "code",
   "execution_count": 4,
   "metadata": {},
   "outputs": [
    {
     "data": {
      "text/plain": [
       "['/mnt/scgc/scgc_nfs/lab/julia/notebooks/simons-viruscope/viruscope/test_data/clustering/for_mica/subset_0.fasta',\n",
       " '/mnt/scgc/scgc_nfs/lab/julia/notebooks/simons-viruscope/viruscope/test_data/clustering/for_mica/subset_1.fasta',\n",
       " '/mnt/scgc/scgc_nfs/lab/julia/notebooks/simons-viruscope/viruscope/test_data/clustering/for_mica/subset_2.fasta',\n",
       " '/mnt/scgc/scgc_nfs/lab/julia/notebooks/simons-viruscope/viruscope/test_data/clustering/for_mica/subset_3.fasta',\n",
       " '/mnt/scgc/scgc_nfs/lab/julia/notebooks/simons-viruscope/viruscope/test_data/clustering/for_mica/subset_4.fasta',\n",
       " '/mnt/scgc/scgc_nfs/lab/julia/notebooks/simons-viruscope/viruscope/test_data/clustering/for_mica/subset_5.fasta',\n",
       " '/mnt/scgc/scgc_nfs/lab/julia/notebooks/simons-viruscope/viruscope/test_data/clustering/for_mica/subset_6.fasta',\n",
       " '/mnt/scgc/scgc_nfs/lab/julia/notebooks/simons-viruscope/viruscope/test_data/clustering/for_mica/subset_7.fasta',\n",
       " '/mnt/scgc/scgc_nfs/lab/julia/notebooks/simons-viruscope/viruscope/test_data/clustering/for_mica/subset_8.fasta',\n",
       " '/mnt/scgc/scgc_nfs/lab/julia/notebooks/simons-viruscope/viruscope/test_data/clustering/for_mica/subset_9.fasta',\n",
       " '/mnt/scgc/scgc_nfs/lab/julia/notebooks/simons-viruscope/viruscope/test_data/clustering/for_mica/subset_10.fasta']"
      ]
     },
     "execution_count": 4,
     "metadata": {},
     "output_type": "execute_result"
    }
   ],
   "source": [
    "fastas = glob.glob(op.join(for_mica, '*.fasta'))\n",
    "fastas"
   ]
  },
  {
   "cell_type": "code",
   "execution_count": 6,
   "metadata": {},
   "outputs": [
    {
     "name": "stderr",
     "output_type": "stream",
     "text": [
      "mica-search --p='20' --blastp 'blastp' /mnt/scgc/simon/databases/mica/nr-20150620-mica /mnt/scgc/scgc_nfs/lab/julia/notebooks/simons-viruscope/viruscope/test_data/clustering/for_mica/subset_0.fasta --blast-args -outfmt '6 qseqid sseqid pident length mismatch gapopen qstart qend sstart send evalue bitscore sallseqid score nident positive gaps ppos qframe sframe qseq sseq qlen slen salltitles' -num_alignments 10 -evalue 0.001 -out /mnt/scgc/scgc_nfs/lab/julia/notebooks/simons-viruscope/viruscope/test_data/clustering/for_mica/subset_0_vs_nr_mica.out\n"
     ]
    },
    {
     "data": {
      "text/plain": [
       "\"mica-search --p='20' --blastp 'blastp' /mnt/scgc/simon/databases/mica/nr-20150620-mica /mnt/scgc/scgc_nfs/lab/julia/notebooks/simons-viruscope/viruscope/test_data/clustering/for_mica/subset_0.fasta --blast-args -outfmt '6 qseqid sseqid pident length mismatch gapopen qstart qend sstart send evalue bitscore sallseqid score nident positive gaps ppos qframe sframe qseq sseq qlen slen salltitles' -num_alignments 10 -evalue 0.001 -out /mnt/scgc/scgc_nfs/lab/julia/notebooks/simons-viruscope/viruscope/test_data/clustering/for_mica/subset_0_vs_nr_mica.out\""
      ]
     },
     "execution_count": 6,
     "metadata": {},
     "output_type": "execute_result"
    }
   ],
   "source": [
    "mica_cmd = run_mica(fastas[0], fastas[0].replace(\".fasta\",\"_vs_nr_mica.out\"))"
   ]
  },
  {
   "cell_type": "code",
   "execution_count": null,
   "metadata": {
    "collapsed": true
   },
   "outputs": [],
   "source": []
  }
 ],
 "metadata": {
  "kernelspec": {
   "display_name": "Python 3",
   "language": "python",
   "name": "python3"
  },
  "language_info": {
   "codemirror_mode": {
    "name": "ipython",
    "version": 3
   },
   "file_extension": ".py",
   "mimetype": "text/x-python",
   "name": "python",
   "nbconvert_exporter": "python",
   "pygments_lexer": "ipython3",
   "version": "3.5.3"
  }
 },
 "nbformat": 4,
 "nbformat_minor": 1
}
