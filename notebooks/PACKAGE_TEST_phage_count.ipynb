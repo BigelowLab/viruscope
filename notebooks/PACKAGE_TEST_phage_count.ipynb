{
 "cells": [
  {
   "cell_type": "code",
   "execution_count": 1,
   "metadata": {},
   "outputs": [
    {
     "name": "stdout",
     "output_type": "stream",
     "text": [
      "/mnt/scgc/scgc_nfs/lab/julia/notebooks/simons-viruscope/viruscope/test_data\n"
     ]
    }
   ],
   "source": [
    "import os\n",
    "import os.path as op\n",
    "import shutil\n",
    "import pandas as pd\n",
    "from viruscope.tools import safe_makedir\n",
    "from viruscope.pbs import write_mica_array_sub\n",
    "from viruscope.orf_setup import read_cluster_map\n",
    "import glob\n",
    "wd =op.abspath(\"../test_data\")\n",
    "print(wd)"
   ]
  },
  {
   "cell_type": "code",
   "execution_count": 2,
   "metadata": {},
   "outputs": [
    {
     "name": "stdout",
     "output_type": "stream",
     "text": [
      "/mnt/scgc/scgc_nfs/lab/julia/notebooks/simons-viruscope/viruscope/test_data/clustering/for_mica\n"
     ]
    }
   ],
   "source": [
    "for_mica = op.join(wd, \"clustering\",\"for_mica\")\n",
    "print(for_mica)"
   ]
  },
  {
   "cell_type": "code",
   "execution_count": null,
   "metadata": {
    "collapsed": true
   },
   "outputs": [],
   "source": [
    "# sub = write_mica_array_sub(op.join(wd, \"clustering\", \"for_mica\"), micaout,op.join(wd, \"mica_sub.sh\"))"
   ]
  },
  {
   "cell_type": "code",
   "execution_count": 3,
   "metadata": {
    "collapsed": true
   },
   "outputs": [],
   "source": [
    "from viruscope.phage_count import map_clstr_raw, id_virus_orfs, phage_contig_table"
   ]
  },
  {
   "cell_type": "code",
   "execution_count": 4,
   "metadata": {
    "collapsed": true
   },
   "outputs": [],
   "source": [
    "clusterdict = read_cluster_map(op.join(wd, 'clustering','seed_map90.tsv'))"
   ]
  },
  {
   "cell_type": "code",
   "execution_count": 5,
   "metadata": {
    "collapsed": true
   },
   "outputs": [],
   "source": [
    "vdf = pd.concat([id_virus_orfs(i) for i in glob.glob(op.join(wd, 'blast','*.mica'))])"
   ]
  },
  {
   "cell_type": "code",
   "execution_count": 18,
   "metadata": {
    "collapsed": true
   },
   "outputs": [],
   "source": [
    "exe = glob.glob(op.join(wd, 'prodigal',\"*_proteins.fasta\"))[0]"
   ]
  },
  {
   "cell_type": "code",
   "execution_count": 19,
   "metadata": {},
   "outputs": [
    {
     "data": {
      "text/plain": [
       "'/mnt/scgc/scgc_nfs/lab/julia/notebooks/simons-viruscope/viruscope/test_data/blast/AG-891-A17_summary.csv'"
      ]
     },
     "execution_count": 19,
     "metadata": {},
     "output_type": "execute_result"
    }
   ],
   "source": [
    "_out_tbl(wd, exe)"
   ]
  },
  {
   "cell_type": "code",
   "execution_count": 20,
   "metadata": {
    "collapsed": true
   },
   "outputs": [],
   "source": [
    "mdf = pd.concat([phage_contig_table(clusterdict, p, vdf, outfile=_out_tbl(wd, p)) for p in glob.glob(op.join(wd, 'prodigal',\"*_proteins.fasta\"))])    "
   ]
  },
  {
   "cell_type": "code",
   "execution_count": 6,
   "metadata": {
    "collapsed": true
   },
   "outputs": [],
   "source": [
    "def write_blast_summaries(wd):\n",
    "    _out_tbl = lambda wd, p: op.join(wd, \"blast\", \"{}_blast_summary.csv\".format(op.basename(p).split(\"_\")[0]))\n",
    "    \n",
    "    clusterdict = read_cluster_map(op.join(wd, 'clustering','seed_map90.tsv'))\n",
    "    vdf = pd.concat([id_virus_orfs(i) for i in glob.glob(op.join(wd, 'blast','*.mica')) + glob.glob(op.join(wd, 'blast', '*.out'))])\n",
    "    for p in glob.glob(op.join(wd, 'prodigal',\"*_proteins.fasta\")):\n",
    "        df = phage_contig_table(clusterdict, p, vdf, outfile=_out_tbl(wd, p))"
   ]
  },
  {
   "cell_type": "code",
   "execution_count": 8,
   "metadata": {
    "collapsed": true
   },
   "outputs": [],
   "source": [
    "write_blast_summaries(wd)"
   ]
  },
  {
   "cell_type": "code",
   "execution_count": null,
   "metadata": {
    "collapsed": true
   },
   "outputs": [],
   "source": []
  }
 ],
 "metadata": {
  "kernelspec": {
   "display_name": "Python 3",
   "language": "python",
   "name": "python3"
  },
  "language_info": {
   "codemirror_mode": {
    "name": "ipython",
    "version": 3
   },
   "file_extension": ".py",
   "mimetype": "text/x-python",
   "name": "python",
   "nbconvert_exporter": "python",
   "pygments_lexer": "ipython3",
   "version": "3.5.3"
  }
 },
 "nbformat": 4,
 "nbformat_minor": 1
}
