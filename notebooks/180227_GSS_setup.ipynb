{
 "cells": [
  {
   "cell_type": "code",
   "execution_count": 1,
   "metadata": {
    "collapsed": true
   },
   "outputs": [],
   "source": [
    "# first prodigal:"
   ]
  },
  {
   "cell_type": "code",
   "execution_count": 5,
   "metadata": {
    "collapsed": true
   },
   "outputs": [],
   "source": [
    "from orf_setup import prodigal_cmd\n",
    "import os.path as op\n",
    "import os\n",
    "import shutil\n",
    "import glob"
   ]
  },
  {
   "cell_type": "code",
   "execution_count": 8,
   "metadata": {
    "collapsed": true
   },
   "outputs": [],
   "source": [
    "!mkdir -p /mnt/scgc/simon/simonsproject/gss_vs/prodigal"
   ]
  },
  {
   "cell_type": "code",
   "execution_count": 3,
   "metadata": {
    "collapsed": true
   },
   "outputs": [],
   "source": [
    "outfile = \"/mnt/scgc/simon/simonsproject/gss_vs/prodigal/\""
   ]
  },
  {
   "cell_type": "code",
   "execution_count": 6,
   "metadata": {
    "collapsed": true
   },
   "outputs": [],
   "source": [
    "contigs = glob.glob(\"/mnt/scgc/simon/simonsproject/gss_contigs/contigs/*_contigs.fasta\")"
   ]
  },
  {
   "cell_type": "code",
   "execution_count": 7,
   "metadata": {},
   "outputs": [
    {
     "data": {
      "text/plain": [
       "5703"
      ]
     },
     "execution_count": 7,
     "metadata": {},
     "output_type": "execute_result"
    }
   ],
   "source": [
    "len(contigs)"
   ]
  },
  {
   "cell_type": "markdown",
   "metadata": {},
   "source": [
    "prodigal_array:"
   ]
  },
  {
   "cell_type": "code",
   "execution_count": 9,
   "metadata": {},
   "outputs": [
    {
     "name": "stdout",
     "output_type": "stream",
     "text": [
      "#!/bin/bash                                                                                                             \r\n",
      "\r\n",
      "## set name of PBS job                                                                                                  \r\n",
      "#PBS -N diamond_array\r\n",
      "\r\n",
      "## set the job array variable                                                                                           \r\n",
      "#PBS -J 1-5073                                                                                                          \r\n",
      "\r\n",
      "## send the environment variables with job                                                                              \r\n",
      "#PBS -V\r\n",
      "\r\n",
      "## set the queue                                                                                                        \r\n",
      "#PBS -q scgc-route\r\n",
      "#PBS -l walltime=1:00:00                                                                                               \r\n",
      "\r\n",
      "#PBS -l ncpus=1                                                                           \r\n",
      "                                                 \r\n",
      "#PBS -j oe                                                                                              \r\n",
      "#PBS -o /home/julia/out/180127_prodigal_array.out\r\n",
      "\r\n",
      "\r\n",
      "module load prodigal\r\n",
      "\r\n",
      "outdir=/mnt/scgc/simon/simonsproject/gss_vs/prodigal/\r\n",
      "\r\n",
      "num=$(($PBS_ARRAY_INDEX-1))\r\n",
      "\r\n",
      "falist=(/mnt/scgc/simon/simonsproject/gss_contigs/contigs/*_contigs.fasta)\r\n",
      "\r\n",
      "fapath=\"${falist[$num]}\"\r\n",
      "\r\n",
      "base=$(basename $fapath)\r\n",
      "\r\n",
      "name=$(echo $base | cut -f 1 -d '_')\r\n",
      "plate=$(echo $name|awk '{print substr($0,0,6)}')\r\n",
      "\r\n",
      "\r\n",
      "proteins=${outdir}${name}_proteins.fasta\r\n",
      "genes=${outdir}${name}_genes.fasta\r\n",
      "genbank=${outdir}${name}.gbk\r\n",
      "score=${outdir}${name}.scores\r\n",
      "\r\n",
      "\r\n",
      "prodigal -a ${proteins} -d ${genes} -i ${fapath} -o ${genbank} -p meta -s ${score}"
     ]
    }
   ],
   "source": [
    "!cat /mnt/stepanauskas_nfs/julia/pbs_subs/180227_gss_prodigal_array.sh"
   ]
  },
  {
   "cell_type": "markdown",
   "metadata": {},
   "source": [
    "## PBS Job Array for Diamond MG recruiltment to ORFs"
   ]
  },
  {
   "cell_type": "code",
   "execution_count": 2,
   "metadata": {},
   "outputs": [
    {
     "name": "stdout",
     "output_type": "stream",
     "text": [
      "#!/bin/bash                                                                                                             \r\n",
      "\r\n",
      "## set name of PBS job                                                                                                  \r\n",
      "#PBS -N diamond_array\r\n",
      "\r\n",
      "## set the job array variable                                                                                           \r\n",
      "#PBS -J 1-5073                                                                                                          \r\n",
      "\r\n",
      "## send the environment variables with job                                                                              \r\n",
      "#PBS -V\r\n",
      "\r\n",
      "## set the queue                                                                                                        \r\n",
      "#PBS -q scgc-route\r\n",
      "#PBS -l walltime=24:00:00                                                                                               \r\n",
      "\r\n",
      "#PBS -l ncpus=20                                                                           \r\n",
      "                                                 \r\n",
      "#PBS -j oe                                                                                              \r\n",
      "#PBS -o /home/julia/out/180227_gss_diamond_array.out\r\n",
      "\r\n",
      "module purge\r\n",
      "module load anaconda3\r\n",
      "module load diamond\r\n",
      "\r\n",
      "num=$(($PBS_ARRAY_INDEX-1))\r\n",
      "\r\n",
      "faalist=(/mnt/scgc/simon/simonsproject/gss_contigs/contigs/*_contigs.fasta)\r\n",
      "\r\n",
      "faapath=\"${faalist[$num]}\"\r\n",
      "\r\n",
      "base=$(basename $faapath)\r\n",
      "\r\n",
      "name=$(echo $base | cut -f 1 -d '_')\r\n",
      "plate=$(echo $name|awk '{print substr($0,0,6)}')\r\n",
      "\r\n",
      "proteins=/mnt/scgc/simon/simonsproject/gss_vs/prodigal/${name}_proteins.fasta\r\n",
      "bac_db=/mnt/scgc_nfs/ref/viral_dbs/LineP-all.fasta.gz\r\n",
      "vir_db=/mnt/scgc_nfs/ref/viral_dbs/POV.fasta.gz\r\n",
      "\r\n",
      "python /mnt/scgc_nfs/lab/julia/notebooks/simons-viruscope/viruscope/notebooks/recruitment_for_vs.py \\\r\n",
      "--threads 20 --output /mnt/scgc/simon/simonsproject/gss_vs/diamond/ \\\r\n",
      "--sag-contigs $faapath $proteins $vir_db $bac_db\r\n",
      "\r\n"
     ]
    }
   ],
   "source": [
    "!cat /mnt/stepanauskas_nfs/julia/pbs_subs/180227_gss_diamond.sh"
   ]
  },
  {
   "cell_type": "code",
   "execution_count": null,
   "metadata": {
    "collapsed": true
   },
   "outputs": [],
   "source": []
  }
 ],
 "metadata": {
  "kernelspec": {
   "display_name": "Python 3",
   "language": "python",
   "name": "python3"
  },
  "language_info": {
   "codemirror_mode": {
    "name": "ipython",
    "version": 3
   },
   "file_extension": ".py",
   "mimetype": "text/x-python",
   "name": "python",
   "nbconvert_exporter": "python",
   "pygments_lexer": "ipython3",
   "version": "3.5.3"
  }
 },
 "nbformat": 4,
 "nbformat_minor": 1
}
