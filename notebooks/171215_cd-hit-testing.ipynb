{
 "cells": [
  {
   "cell_type": "code",
   "execution_count": 1,
   "metadata": {
    "collapsed": true
   },
   "outputs": [],
   "source": [
    "test_fasta = '/mnt/scgc/simon/simonsproject/bats248_annotations/mash_d90/d90_group6_orfs.fasta'\n",
    "test_out = '/mnt/scgc/simon/simonsproject/bats248_annotations/mash_d90/d90_group6_cdhit_clustered.faa'"
   ]
  },
  {
   "cell_type": "markdown",
   "metadata": {},
   "source": [
    "The test dataset to use is:\n",
    "\n",
    "```\n",
    "/mnt/scgc/simon/simonsproject/bats248_annotations/mash_d90/d90_group6_orfs.fasta\n",
    "```\n",
    "\n",
    "To run CD-HIT:\n",
    "\n",
    "-c: sequence identity threshold, default 0.9\n",
    " \tthis is the default cd-hit's \"global sequence identity\" calculated as:\n",
    " \tnumber of identical amino acids in alignment\n",
    " \tdivided by the full length of the shorter sequence\n",
    "\n",
    "\n",
    "Example command:\n",
    "```\n",
    "cd-hit -i ~/Downloads/test.faa -p 1 -c 0.95 -o ~/Downloads/clustered.faa -aL 0.8\n",
    "```\n",
    "\n",
    "Test command:"
   ]
  },
  {
   "cell_type": "code",
   "execution_count": 2,
   "metadata": {},
   "outputs": [
    {
     "name": "stdout",
     "output_type": "stream",
     "text": [
      "cd-hit -i /mnt/scgc/simon/simonsproject/bats248_annotations/mash_d90/d90_group6_orfs.fasta -p 1 -c 0.95 -o /mnt/scgc/simon/simonsproject/bats248_annotations/mash_d90/d90_group6_cdhit_clustered.faa -aL 0.8\n"
     ]
    }
   ],
   "source": [
    "cmd = \"cd-hit -i {test_fasta} -p 1 -c 0.95 -o {test_out} -aL 0.8\".format(test_fasta = test_fasta, test_out = test_out)\n",
    "print(cmd)"
   ]
  },
  {
   "cell_type": "markdown",
   "metadata": {},
   "source": [
    "Looking at the outputs:"
   ]
  },
  {
   "cell_type": "code",
   "execution_count": 3,
   "metadata": {},
   "outputs": [
    {
     "name": "stdout",
     "output_type": "stream",
     "text": [
      "62758\r\n"
     ]
    }
   ],
   "source": [
    "!grep -c \">\" {test_fasta}"
   ]
  },
  {
   "cell_type": "code",
   "execution_count": 5,
   "metadata": {},
   "outputs": [
    {
     "name": "stdout",
     "output_type": "stream",
     "text": [
      "8615\r\n"
     ]
    }
   ],
   "source": [
    "!grep -c \">\" {test_out}"
   ]
  },
  {
   "cell_type": "code",
   "execution_count": 7,
   "metadata": {},
   "outputs": [
    {
     "data": {
      "text/plain": [
       "7.28473592571097"
      ]
     },
     "execution_count": 7,
     "metadata": {},
     "output_type": "execute_result"
    }
   ],
   "source": [
    "62758/8615"
   ]
  },
  {
   "cell_type": "markdown",
   "metadata": {},
   "source": [
    "That took 6 seconds to run and reduced the size of the input ORFs by an order of magnitude... \n",
    "\n",
    "Now I'll run it on the whole BATS248 collection"
   ]
  },
  {
   "cell_type": "code",
   "execution_count": 5,
   "metadata": {
    "collapsed": true
   },
   "outputs": [],
   "source": [
    "test_fasta = '/mnt/scgc/simon/simonsproject/bats248_annotations/bats248_all_orfs.faa'\n",
    "test_out = '/mnt/scgc/simon/simonsproject/bats248_annotations/bats248_all_orfs_cdhit_c90.faa'"
   ]
  },
  {
   "cell_type": "code",
   "execution_count": 6,
   "metadata": {},
   "outputs": [
    {
     "name": "stdout",
     "output_type": "stream",
     "text": [
      "cd-hit -i /mnt/scgc/simon/simonsproject/bats248_annotations/bats248_all_orfs.faa -p 1 -c 0.90 -o /mnt/scgc/simon/simonsproject/bats248_annotations/bats248_all_orfs_cdhit_c90.faa -T 8 -M 100000\n"
     ]
    }
   ],
   "source": [
    "cmd = \"cd-hit -i {test_fasta} -p 1 -c 0.90 -o {test_out} -T 8 -M 100000\".format(test_fasta = test_fasta, test_out = test_out)\n",
    "print(cmd)"
   ]
  },
  {
   "cell_type": "code",
   "execution_count": 8,
   "metadata": {},
   "outputs": [
    {
     "name": "stdout",
     "output_type": "stream",
     "text": [
      "echo 'cd-hit -i /mnt/scgc/simon/simonsproject/bats248_annotations/bats248_all_orfs.faa -p 1 -c 0.90 -o /mnt/scgc/simon/simonsproject/bats248_annotations/bats248_all_orfs_cdhit_c90.faa -T 8 -M 100000' | qsub -N cdhit -q scgc-route -V -l walltime=3:00:00,ncpus=8,mem=150G -j oe -o /home/julia/out/171218_cdhit.out\n"
     ]
    }
   ],
   "source": [
    "print(\"echo '{cmd}' | qsub -N cdhit -q scgc-route -V -l walltime=3:00:00,ncpus=8,mem=150G -j oe -o /home/julia/out/171218_cdhit.out\".format(cmd = cmd))"
   ]
  },
  {
   "cell_type": "markdown",
   "metadata": {
    "collapsed": true
   },
   "source": [
    "NOTE from the future: '-d 0' to get non-truncated sequence names into the clstr output file"
   ]
  },
  {
   "cell_type": "code",
   "execution_count": null,
   "metadata": {
    "collapsed": true
   },
   "outputs": [],
   "source": []
  }
 ],
 "metadata": {
  "kernelspec": {
   "display_name": "Python 3",
   "language": "python",
   "name": "python3"
  },
  "language_info": {
   "codemirror_mode": {
    "name": "ipython",
    "version": 3
   },
   "file_extension": ".py",
   "mimetype": "text/x-python",
   "name": "python",
   "nbconvert_exporter": "python",
   "pygments_lexer": "ipython3",
   "version": "3.5.3"
  }
 },
 "nbformat": 4,
 "nbformat_minor": 1
}
