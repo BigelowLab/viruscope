{
 "cells": [
  {
   "cell_type": "markdown",
   "metadata": {},
   "source": [
    "So I've got an idea I'm going to test here.  \n",
    "\n",
    "MICA works in two steps, it first compares sequences to a clustered database, it then creates a customized database of sequences from those clusters that will be used for a a fine-scaled BLAST search.  IF similar sequences are included in the query, I'd expect the whole workflow to perform more quickly since the final BLAST database used is smaller, due to shared entries, compared to if query sequences are all different.\n",
    "\n",
    "Tests:\n",
    "time mica and blast run on a random set of ORFs, compared to a cluster of similar ORFs"
   ]
  },
  {
   "cell_type": "markdown",
   "metadata": {},
   "source": [
    "**Constructing the query files to test**\n",
    "\n",
    "***Test SAGs***  \n",
    "*4 SAR11 SAGs that form their own genomic cluster according to MASH*\n",
    "* AG-319-O18\n",
    "* AG-905-E11\n",
    "* AG-896-D15\n",
    "* AG-904-K13"
   ]
  },
  {
   "cell_type": "code",
   "execution_count": 15,
   "metadata": {},
   "outputs": [],
   "source": [
    "sags = '''\n",
    "AG-359-O18\n",
    "AG-905-E11\n",
    "AG-896-D15\n",
    "AG-904-K13\n",
    "'''.split()"
   ]
  },
  {
   "cell_type": "markdown",
   "metadata": {},
   "source": [
    "Create one large fasta file with orfs from all four SAGs in it:"
   ]
  },
  {
   "cell_type": "code",
   "execution_count": 19,
   "metadata": {},
   "outputs": [],
   "source": [
    "from scgc.fastx import read_fasta\n",
    "import os\n",
    "import os.path as op\n",
    "\n",
    "from __future__ import print_function\n",
    "\n",
    "import argparse\n",
    "import contextlib\n",
    "import fileinput\n",
    "import gzip\n",
    "import itertools\n",
    "import os\n",
    "import shutil\n",
    "import subprocess\n",
    "import six\n",
    "import sys\n",
    "import tempfile\n",
    "import time\n",
    "from collections import defaultdict\n",
    "from distutils.spawn import find_executable\n",
    "\n",
    "@contextlib.contextmanager\n",
    "def file_transaction(*rollback_files):\n",
    "    \"\"\"\n",
    "    Wrap file generation in a transaction, moving to output if finishes.\n",
    "    \"\"\"\n",
    "    safe_names, orig_names = _flatten_plus_safe(rollback_files)\n",
    "    # remove any half-finished transactions\n",
    "    remove_files(safe_names)\n",
    "    try:\n",
    "        if len(safe_names) == 1:\n",
    "            yield safe_names[0]\n",
    "        else:\n",
    "            yield tuple(safe_names)\n",
    "    # failure -- delete any temporary files\n",
    "    except:\n",
    "        remove_files(safe_names)\n",
    "        remove_tmpdirs(safe_names)\n",
    "        raise\n",
    "    # worked -- move the temporary files to permanent location\n",
    "    else:\n",
    "        for safe, orig in zip(safe_names, orig_names):\n",
    "            if os.path.exists(safe):\n",
    "                shutil.move(safe, orig)\n",
    "        remove_tmpdirs(safe_names)\n",
    "\n",
    "\n",
    "def remove_tmpdirs(fnames):\n",
    "    for x in fnames:\n",
    "        xdir = os.path.dirname(os.path.abspath(x))\n",
    "        if xdir and os.path.exists(xdir):\n",
    "            shutil.rmtree(xdir, ignore_errors=True)\n",
    "\n",
    "\n",
    "def remove_files(fnames):\n",
    "    for x in fnames:\n",
    "        if x and os.path.exists(x):\n",
    "            if os.path.isfile(x):\n",
    "                os.remove(x)\n",
    "            elif os.path.isdir(x):\n",
    "                shutil.rmtree(x, ignore_errors=True)\n",
    "\n",
    "\n",
    "def _flatten_plus_safe(rollback_files):\n",
    "    \"\"\"\n",
    "    Flatten names of files and create temporary file names.\n",
    "    \"\"\"\n",
    "    tx_files, orig_files = [], []\n",
    "    for fnames in rollback_files:\n",
    "        if isinstance(fnames, six.string_types):\n",
    "            fnames = [fnames]\n",
    "        for fname in fnames:\n",
    "            basedir = safe_makedir(os.path.dirname(fname))\n",
    "            tmpdir = safe_makedir(tempfile.mkdtemp(dir=basedir))\n",
    "            tx_file = os.path.join(tmpdir, os.path.basename(fname))\n",
    "            tx_files.append(tx_file)\n",
    "            orig_files.append(fname)\n",
    "    return tx_files, orig_files\n",
    "\n",
    "\n",
    "def safe_makedir(dname):\n",
    "    \"\"\"\n",
    "    Make a directory if it doesn't exist, handling concurrent race conditions.\n",
    "    \"\"\"\n",
    "    if not dname:\n",
    "        return dname\n",
    "    num_tries = 0\n",
    "    max_tries = 5\n",
    "    while not os.path.exists(dname):\n",
    "        try:\n",
    "            os.makedirs(dname)\n",
    "        except OSError:\n",
    "            if num_tries > max_tries:\n",
    "                raise\n",
    "            num_tries += 1\n",
    "            time.sleep(2)\n",
    "    return dname\n",
    "\n",
    "\n",
    "def file_exists(fnames):\n",
    "    \"\"\"\n",
    "    Check if a file or files exist and are non-empty.\n",
    "\n",
    "    parameters\n",
    "        fnames : file path as string or paths as list; if list, all must exist\n",
    "\n",
    "    returns\n",
    "        boolean\n",
    "    \"\"\"\n",
    "    if isinstance(fnames, six.string_types):\n",
    "        fnames = [fnames]\n",
    "    for f in fnames:\n",
    "        if not os.path.exists(f) or os.path.getsize(f) == 0:\n",
    "            return False\n",
    "    return True\n",
    "\n",
    "\n",
    "def check_dependencies(executables):\n",
    "    exes = []\n",
    "    for exe in executables:\n",
    "        if not find_executable(exe):\n",
    "            exes.append(exe)\n",
    "    if len(exes) > 0:\n",
    "        for exe in exes:\n",
    "            print(\"`%s` not found in PATH.\" % exe)\n",
    "        sys.exit(1)\n",
    "\n",
    "\n",
    "def name_from_path(path):\n",
    "    file, ext = os.path.splitext(os.path.basename(path))\n",
    "    if ext == \".gz\":\n",
    "        file, ext = os.path.splitext(file)\n",
    "    return file\n",
    "\n",
    "def readfa(fh):\n",
    "    for header, group in itertools.groupby(fh, lambda line: line[0] == '>'):\n",
    "        if header:\n",
    "            line = next(group)\n",
    "            name = line[1:].strip()\n",
    "        else:\n",
    "            seq = ''.join(line.strip() for line in group)\n",
    "            yield name, seq\n",
    "            \n",
    "def format_fasta_record(name, seq, wrap=100):\n",
    "    \"\"\"Fasta __str__ method.\n",
    "\n",
    "    Convert fasta name and sequence into wrapped fasta format.\n",
    "\n",
    "    Args:\n",
    "        name (str): name of the record\n",
    "        seq (str): sequence of the record\n",
    "        wrap (int): length of sequence per line\n",
    "\n",
    "    Returns:\n",
    "        tuple: name, sequence\n",
    "\n",
    "    >>> format_fasta_record(\"seq1\", \"ACTG\")\n",
    "    \">seq1\\nACTG\"\n",
    "    \"\"\"\n",
    "    record = \">{name}\\n\".format(name=name)\n",
    "    if wrap:\n",
    "        for i in range(0, len(seq), wrap):\n",
    "            record += seq[i:i+wrap] + \"\\n\"\n",
    "    else:\n",
    "        record += seq + \"\\n\"\n",
    "    return record.strip()\n",
    "\n",
    "def run_cd_hit(input_fa, output_fa, c=0.9, G=1, b=20, M=800,\n",
    "    T=1, n=5, l=10, t=2, d=20, s=0.0, S=999999, aL=0.0, AL=99999999, aS=0.0,\n",
    "    AS=99999999, A=0, uL=1.0, uS=1.0, U=99999999, g=1, sc=0, sf=0):\n",
    "    \"\"\"Run CD-HIT to cluster input FASTA.\n",
    "\n",
    "    Args:\n",
    "        input_fa (str): File path to fasta.\n",
    "        output_fa (str): File path of output fasta.\n",
    "        c (Optional[float]): sequence identity threshold, default 0.9\n",
    " \t        this is the default cd-hit's \"global sequence identity\" calculated as:\n",
    " \t        number of identical amino acids in alignment\n",
    "            divided by the full length of the shorter sequence\n",
    "        G (Optional[int]): use global sequence identity, default 1\n",
    " \t        if set to 0, then use local sequence identity, calculated as :\n",
    "            number of identical amino acids in alignment\n",
    " \t        divided by the length of the alignment\n",
    " \t        NOTE!!! don't use -G 0 unless you use alignment coverage controls\n",
    " \t        see options -aL, -AL, -aS, -AS\n",
    "        b (Optional[int]): band_width of alignment, default 20\n",
    "        M (Optional[int]): memory limit (in MB) for the program, default 800; 0 for unlimited\n",
    "        T (Optional[int]): number of threads, default 1; with 0, all CPUs will be used\n",
    "        n (Optional[int]): word_length, default 5, see user's guide for choosing it\n",
    "        l (Optional[int]): length of throw_away_sequences, default 10\n",
    "        t (Optional[int]): tolerance for redundance, default 2\n",
    "        d (Optional[int]): length of description in .clstr file, default 20\n",
    " \t        if set to 0, it takes the fasta defline and stops at first space\n",
    "        s (Optional[float]): length difference cutoff, default 0.0\n",
    " \t        if set to 0.9, the shorter sequences need to be\n",
    "            at least 90% length of the representative of the cluster\n",
    "        S (Optional[int]): length difference cutoff in amino acid, default 999999\n",
    " \t        if set to 60, the length difference between the shorter sequences\n",
    " \t        and the representative of the cluster can not be bigger than 60\n",
    "        aL (Optional[float]): alignment coverage for the longer sequence, default 0.0\n",
    " \t        if set to 0.9, the alignment must covers 90% of the sequence\n",
    "        AL (Optional[int]): alignment coverage control for the longer sequence, default 99999999\n",
    " \t        if set to 60, and the length of the sequence is 400,\n",
    " \t        then the alignment must be >= 340 (400-60) residues\n",
    "        aS (Optional[float]): alignment coverage for the shorter sequence, default 0.0\n",
    "        \tif set to 0.9, the alignment must covers 90% of the sequence\n",
    "        AS (Optional[int]): alignment coverage control for the shorter sequence, default 99999999\n",
    "        \tif set to 60, and the length of the sequence is 400,\n",
    "        \tthen the alignment must be >= 340 (400-60) residues\n",
    "        A (Optional[int]): minimal alignment coverage control for the both sequences, default 0\n",
    "        \talignment must cover >= this value for both sequences\n",
    "        uL (Optional[float]): maximum unmatched percentage for the longer sequence, default 1.0\n",
    "        \tif set to 0.1, the unmatched region (excluding leading and tailing gaps)\n",
    "        \tmust not be more than 10% of the sequence\n",
    "        uS (Optional[float]): maximum unmatched percentage for the shorter sequence, default 1.0\n",
    "        \tif set to 0.1, the unmatched region (excluding leading and tailing gaps)\n",
    "        \tmust not be more than 10% of the sequence\n",
    "        U (Optional[int]): maximum unmatched length, default 99999999\n",
    "        \tif set to 10, the unmatched region (excluding leading and tailing gaps)\n",
    "        \tmust not be more than 10 bases\n",
    "        g (Optional[int]): 1 or 0, default 1\n",
    "        \twhen 0 a sequence is clustered to the first\n",
    "        \tcluster that meet the threshold (fast cluster). If set to 1, the program\n",
    "        \twill cluster it into the most similar cluster that meet the threshold\n",
    "        \t(accurate but slow mode)\n",
    "        \tbut either 1 or 0 won't change the representatives of final clusters\n",
    "        sc (Optional[int]): sort clusters by size (number of sequences), default 0, output clusters by decreasing length\n",
    "        \tif set to 1, output clusters by decreasing size\n",
    "        sf (Optional[int]): sort fasta/fastq by cluster size (number of sequences), default 0, no sorting\n",
    "        \tif set to 1, output sequences by decreasing cluster size\n",
    "\n",
    "    Returns:\n",
    "        list, [file path of output fasta, file path of output cluster definitions]\n",
    "\n",
    "    \"\"\"\n",
    "    output_clstr = \"{fa}.clstr\".format(fa=output_fa)\n",
    "    output_files = [output_fa, output_clstr]\n",
    "    if file_exists(output_files):\n",
    "        return output_files\n",
    "\n",
    "    print(\"Running CD-HIT on {fa}\".format(fa=input_fa), file=sys.stderr)\n",
    "\n",
    "    contig_name_map = {}\n",
    "    tmp_fasta = \"{fa}.rename.tmp\".format(fa=input_fa)\n",
    "    with open(input_fa) as f_in, open(tmp_fasta, \"w\") as f_out:\n",
    "        for i, (name, seq) in enumerate(readfa(f_in), start=1):\n",
    "            contig_name_map[\"%d\" % i] = name\n",
    "            print(format_fasta_record(i, seq), file=f_out)\n",
    "\n",
    "    with file_transaction(output_files) as tx_out_files:\n",
    "        cmd = (\"cd-hit -i {input_fasta} -o {output_fasta} -c {c} \"\n",
    "                \"-G {G} -b {b} -M {M} -T {T} -n {n} -l {l} -t {t} \"\n",
    "                \"-d {d} -s {s} -S {S} -aL {aL} -AL {AL} -aS {aS} \"\n",
    "                \"-AS {AS} -A {A} -uL {uL} -uS {uS} -U {U} \"\n",
    "                \"-p 1 -g {g} -sc {sc} -sf {sf}\").format(input_fasta=tmp_fasta,\n",
    "                                                        output_fasta=tx_out_files[0],\n",
    "                                                        **locals())\n",
    "        subprocess.check_call(cmd, shell=True)\n",
    "        # copy the clstr output to its temp file location; let file_transaction clean up\n",
    "        shutil.copyfile(\"{fa}.clstr\".format(fa=tx_out_files[0]), tx_out_files[1])\n",
    "\n",
    "        # edit the output files in place back to their original names\n",
    "        # changes the format of the cluster file\n",
    "\n",
    "        # update change the contig names in the cluster file back to original\n",
    "        for line in fileinput.input(tx_out_files[0], inplace=True):\n",
    "            line = line.strip()\n",
    "            if line.startswith(\">\"):\n",
    "                name = contig_name_map[line.strip(\">\")]\n",
    "                print(\">{name}\".format(name=name))\n",
    "            else:\n",
    "                print(line)\n",
    "\n",
    "        # change the contig names in the cluster file\n",
    "        for line in fileinput.input(tx_out_files[1], inplace=True):\n",
    "            line = line.strip()\n",
    "            if not line.startswith(\">\"):\n",
    "                # changes:\n",
    "                # 1\t382aa, >6... at 1:382:1:382/100.00%\n",
    "                # to just the original contig name\n",
    "                if \"*\" in line:\n",
    "                    print('{}*'.format(contig_name_map[line.partition(\">\")[-1].partition(\"...\")[0]]))\n",
    "                else:\n",
    "                    print(contig_name_map[line.partition(\">\")[-1].partition(\"...\")[0]])\n",
    "            else:\n",
    "                # this is the cluster ID\n",
    "                print(line)\n",
    "\n",
    "    if file_exists(tmp_fasta):\n",
    "        os.remove(tmp_fasta)\n",
    "\n",
    "    return output_files"
   ]
  },
  {
   "cell_type": "code",
   "execution_count": 21,
   "metadata": {},
   "outputs": [],
   "source": [
    "with open(\"./outputs/s11_allorfs.faa\",\"w\") as oh:\n",
    "    for s in sags:\n",
    "        for name, seq in read_fasta(open(\"/mnt/scgc/simon/simonsproject/bats248_annotations/faa/{s}.faa\".format(s=s))):\n",
    "            print(\">{name}\".format(name=name), file=oh)\n",
    "            for i in range(0, len(seq),60):\n",
    "                print(seq[i:i+60], file=oh)"
   ]
  },
  {
   "cell_type": "code",
   "execution_count": 23,
   "metadata": {},
   "outputs": [],
   "source": [
    "[faa, clstr] = run_cd_hit(\"./outputs/s11_allorfs.faa\", \"./outputs/s11_allorfs_cdhit_c-7.faa\", c=.7)"
   ]
  },
  {
   "cell_type": "code",
   "execution_count": 24,
   "metadata": {
    "collapsed": true
   },
   "outputs": [],
   "source": [
    "cluster_map = defaultdict(list)\n",
    "with open(clstr) as fh:\n",
    "    for cluster_start, group in itertools.groupby(fh, lambda l: l[0] == '>'):\n",
    "        members = []\n",
    "        if not cluster_start:\n",
    "            for line in group:\n",
    "                if \"*\" in line:\n",
    "                    rep_seq = line.strip().replace(\"*\", \"\")\n",
    "                else:\n",
    "                    members.append(line.strip())\n",
    "        if len(members) > 0:\n",
    "            cluster_map[rep_seq] = members"
   ]
  },
  {
   "cell_type": "code",
   "execution_count": 43,
   "metadata": {},
   "outputs": [],
   "source": [
    "big_groups = []\n",
    "\n",
    "for i in cluster_map:\n",
    "    if len(cluster_map[i]) == 2: \n",
    "        big_groups.append(i)        "
   ]
  },
  {
   "cell_type": "code",
   "execution_count": 46,
   "metadata": {},
   "outputs": [],
   "source": [
    "to_test = [big_groups[0]] + cluster_map[big_groups[0]]"
   ]
  },
  {
   "cell_type": "code",
   "execution_count": 47,
   "metadata": {},
   "outputs": [
    {
     "data": {
      "text/plain": [
       "['AG-905-E11_00497 Bicarbonate transport system permease protein CmpB',\n",
       " 'AG-896-D15_00504 Bicarbonate transport system permease protein CmpB',\n",
       " 'AG-904-K13_00125 Bicarbonate transport system permease protein CmpB']"
      ]
     },
     "execution_count": 47,
     "metadata": {},
     "output_type": "execute_result"
    }
   ],
   "source": [
    "to_test"
   ]
  },
  {
   "cell_type": "code",
   "execution_count": 49,
   "metadata": {},
   "outputs": [],
   "source": [
    "lengths = []\n",
    "\n",
    "with open(\"./outputs/sim_transport_prots.fasta\", \"w\") as oh:\n",
    "    for name, seq in read_fasta(open(\"./outputs/s11_allorfs.faa\")):\n",
    "        if name in to_test:\n",
    "            print(\">{name}\".format(name=name), file=oh)\n",
    "            for i in range(0, len(seq),60):\n",
    "                print(seq[i:i+60], file=oh)\n",
    "            lengths.append(len(seq))"
   ]
  },
  {
   "cell_type": "code",
   "execution_count": 50,
   "metadata": {},
   "outputs": [
    {
     "data": {
      "text/plain": [
       "[641, 641, 641]"
      ]
     },
     "execution_count": 50,
     "metadata": {},
     "output_type": "execute_result"
    }
   ],
   "source": [
    "lengths"
   ]
  },
  {
   "cell_type": "code",
   "execution_count": 60,
   "metadata": {},
   "outputs": [],
   "source": [
    "count = 0\n",
    "odd_lens = []\n",
    "odd_names = []\n",
    "\n",
    "with open(\"./outputs/sim_sizes.fasta\", \"w\") as oh:\n",
    "    for name, seq in read_fasta(open(\"./outputs/s11_allorfs.faa\")):\n",
    "        if count == 3:\n",
    "            break\n",
    "        desc = \" \".join(name.split(\" \")[1:])\n",
    "        if abs(len(seq) - 641) < 5 and name not in to_test and desc not in odd_names:\n",
    "            count += 1\n",
    "            print(\">{name}\".format(name=name), file=oh)\n",
    "            for i in range(0, len(seq),60):\n",
    "                print(seq[i:i+60], file=oh)\n",
    "            odd_lens.append(len(seq))\n",
    "            odd_names.append(\" \".join(name.split(\" \")[1:]))"
   ]
  },
  {
   "cell_type": "code",
   "execution_count": 79,
   "metadata": {},
   "outputs": [],
   "source": [
    "def run_mica(fasta, out, db='/mnt/scgc/simon/databases/mica/nr-20150620-mica', num_alignments=10,\n",
    "           evalue=0.001,\n",
    "           threads=20, fields = [\"qseqid\", \"sseqid\", \"pident\", \"length\", \"mismatch\",\n",
    "                  \"gapopen\", \"qstart\", \"qend\", \"sstart\", \"send\", \"evalue\",\n",
    "                  \"bitscore\", \"sallseqid\", \"score\", \"nident\", \"positive\",\n",
    "                  \"gaps\", \"ppos\", \"qframe\", \"sframe\", \"qseq\", \"sseq\", \"qlen\",\n",
    "                  \"slen\", \"salltitles\"]):\n",
    "    cmd = (\"mica-search --p='{threads}' --blastp 'blastp' {db} {query} \"\n",
    "                   \"--blast-args -outfmt '6 {fields}' \"\n",
    "                   \"-num_alignments {alignments} -evalue {evalue} -out {out}\").format(db=db,\n",
    "                                                      query=fasta,\n",
    "                                                      fields=\" \".join(fields),\n",
    "                                                      threads=threads,\n",
    "                                                      alignments=num_alignments,\n",
    "                                                      evalue=evalue,\n",
    "                                                      out=out)\n",
    "    print(cmd)\n",
    "    return cmd\n",
    "\n",
    "def run_blast(fasta, out, db='nr', num_alignments=10,\n",
    "           evalue=0.001,\n",
    "           threads=20, fields = [\"qseqid\", \"sseqid\", \"pident\", \"length\", \"mismatch\",\n",
    "                  \"gapopen\", \"qstart\", \"qend\", \"sstart\", \"send\", \"evalue\",\n",
    "                  \"bitscore\", \"sallseqid\", \"score\", \"nident\", \"positive\",\n",
    "                  \"gaps\", \"ppos\", \"qframe\", \"sframe\", \"qseq\", \"sseq\", \"qlen\",\n",
    "                  \"slen\", \"salltitles\"]):\n",
    "    cmd = (\"blastp -db {db} -query {query} -outfmt \"\n",
    "                   \"'6 {fields}' \"\n",
    "                   \"-num_threads {threads} \"\n",
    "                   \"-num_alignments {alignments} \"\n",
    "                   \"-evalue {evalue} >> {out}\").format(db=db,\n",
    "                                                      query=fasta,\n",
    "                                                      fields=\" \".join(fields),\n",
    "                                                      threads=threads,\n",
    "                                                      alignments=num_alignments,\n",
    "                                                      evalue=evalue,\n",
    "                                                      out=out)\n",
    "    print(cmd)\n",
    "    return cmd"
   ]
  },
  {
   "cell_type": "code",
   "execution_count": 89,
   "metadata": {},
   "outputs": [
    {
     "name": "stdout",
     "output_type": "stream",
     "text": [
      "mica-search --p='20' --blastp 'blastp' /mnt/scgc/simon/databases/mica/nr-20150620-mica ./outputs/sim_sizes.fasta --blast-args -outfmt '6 qseqid sseqid pident length mismatch gapopen qstart qend sstart send evalue bitscore sallseqid score nident positive gaps ppos qframe sframe qseq sseq qlen slen salltitles' -num_alignments 10 -evalue 0.001 -out ./outputs/sim_sizes_mica.out\n"
     ]
    }
   ],
   "source": [
    "cmd = run_mica(\"./outputs/sim_sizes.fasta\", \"./outputs/sim_sizes_mica.out\")"
   ]
  },
  {
   "cell_type": "code",
   "execution_count": 90,
   "metadata": {},
   "outputs": [
    {
     "name": "stdout",
     "output_type": "stream",
     "text": [
      "Opening database in /mnt/scgc/simon/databases/mica/nr-20150620-mica...\n",
      "\tOpening compressed database...\n",
      "\tDone opening compressed database.\n",
      "\tOpening coarse database...\n",
      "\tDone opening coarse database.\n",
      "Done opening database in /mnt/scgc/simon/databases/mica/nr-20150620-mica.\n",
      "\n",
      "Blasting query on coarse database...\n",
      "blastp -db /mnt/scgc/simon/databases/mica/nr-20150620-mica/blastdb-coarse -num_threads 20 -outfmt 5 -dbsize 24387073819\n",
      "Decompressing blast hits...\n",
      "Building fine BLAST database...\n",
      "Created temporary fine BLAST database in /tmp/mica-fine-search-db652426135\n",
      "makeblastdb -dbtype prot -title blastdb-fine -in - -out /tmp/mica-fine-search-db652426135/blastdb-fine\n",
      "Blasting query on fine database...\n",
      "blastp -db /tmp/mica-fine-search-db652426135/blastdb-fine -dbsize 24387073819 -num_threads 20 -outfmt 6 qseqid sseqid pident length mismatch gapopen qstart qend sstart send evalue bitscore sallseqid score nident positive gaps ppos qframe sframe qseq sseq qlen slen salltitles -num_alignments 10 -evalue 0.001 -out ./outputs/sim_sizes_mica.out\n",
      "\n",
      "real\t2m46.599s\n",
      "user\t41m19.581s\n",
      "sys\t0m21.828s\n"
     ]
    }
   ],
   "source": [
    "!time {cmd}"
   ]
  },
  {
   "cell_type": "code",
   "execution_count": 91,
   "metadata": {},
   "outputs": [
    {
     "name": "stdout",
     "output_type": "stream",
     "text": [
      "mica-search --p='20' --blastp 'blastp' /mnt/scgc/simon/databases/mica/nr-20150620-mica ./outputs/sim_transport_prots.fasta --blast-args -outfmt '6 qseqid sseqid pident length mismatch gapopen qstart qend sstart send evalue bitscore sallseqid score nident positive gaps ppos qframe sframe qseq sseq qlen slen salltitles' -num_alignments 10 -evalue 0.001 -out ./outputs/sim_transport_prots.out\n"
     ]
    }
   ],
   "source": [
    "cmd2 = run_mica(\"./outputs/sim_transport_prots.fasta\", \"./outputs/sim_transport_prots.out\")"
   ]
  },
  {
   "cell_type": "code",
   "execution_count": 92,
   "metadata": {},
   "outputs": [
    {
     "name": "stdout",
     "output_type": "stream",
     "text": [
      "Opening database in /mnt/scgc/simon/databases/mica/nr-20150620-mica...\n",
      "\tOpening compressed database...\n",
      "\tDone opening compressed database.\n",
      "\tOpening coarse database...\n",
      "\tDone opening coarse database.\n",
      "Done opening database in /mnt/scgc/simon/databases/mica/nr-20150620-mica.\n",
      "\n",
      "Blasting query on coarse database...\n",
      "blastp -db /mnt/scgc/simon/databases/mica/nr-20150620-mica/blastdb-coarse -num_threads 20 -outfmt 5 -dbsize 24387073819\n",
      "Decompressing blast hits...\n",
      "Building fine BLAST database...\n",
      "Created temporary fine BLAST database in /tmp/mica-fine-search-db654383573\n",
      "makeblastdb -dbtype prot -title blastdb-fine -in - -out /tmp/mica-fine-search-db654383573/blastdb-fine\n",
      "Blasting query on fine database...\n",
      "blastp -db /tmp/mica-fine-search-db654383573/blastdb-fine -dbsize 24387073819 -num_threads 20 -outfmt 6 qseqid sseqid pident length mismatch gapopen qstart qend sstart send evalue bitscore sallseqid score nident positive gaps ppos qframe sframe qseq sseq qlen slen salltitles -num_alignments 10 -evalue 0.001 -out ./outputs/sim_transport_prots.out\n",
      "\n",
      "real\t1m22.361s\n",
      "user\t19m55.326s\n",
      "sys\t0m22.544s\n"
     ]
    }
   ],
   "source": [
    "!time {cmd2}"
   ]
  },
  {
   "cell_type": "code",
   "execution_count": 82,
   "metadata": {},
   "outputs": [
    {
     "name": "stdout",
     "output_type": "stream",
     "text": [
      "blastp -db nr -query ./outputs/sim_sizes.fasta -outfmt '6 qseqid sseqid pident length mismatch gapopen qstart qend sstart send evalue bitscore sallseqid score nident positive gaps ppos qframe sframe qseq sseq qlen slen salltitles' -num_threads 20 -num_alignments 10 -evalue 0.001 >> ./outputs/sim_sizes_blast.out\n"
     ]
    }
   ],
   "source": [
    "cmd3 = run_blast(\"./outputs/sim_sizes.fasta\",'./outputs/sim_sizes_blast.out')"
   ]
  },
  {
   "cell_type": "code",
   "execution_count": 93,
   "metadata": {},
   "outputs": [
    {
     "name": "stdout",
     "output_type": "stream",
     "text": [
      "\r\n",
      "real\t3m56.374s\r\n",
      "user\t75m41.137s\r\n",
      "sys\t0m48.145s\r\n"
     ]
    }
   ],
   "source": [
    "!time {cmd3}"
   ]
  },
  {
   "cell_type": "code",
   "execution_count": 84,
   "metadata": {},
   "outputs": [
    {
     "name": "stdout",
     "output_type": "stream",
     "text": [
      "blastp -db nr -query ./outputs/sim_transport_prots.fasta -outfmt '6 qseqid sseqid pident length mismatch gapopen qstart qend sstart send evalue bitscore sallseqid score nident positive gaps ppos qframe sframe qseq sseq qlen slen salltitles' -num_threads 20 -num_alignments 10 -evalue 0.001 >> ./outputs/sim_transport_prots_blast.out\n"
     ]
    }
   ],
   "source": [
    "cmd4 = run_blast(\"./outputs/sim_transport_prots.fasta\", \"./outputs/sim_transport_prots_blast.out\")"
   ]
  },
  {
   "cell_type": "code",
   "execution_count": 94,
   "metadata": {},
   "outputs": [
    {
     "name": "stdout",
     "output_type": "stream",
     "text": [
      "\r\n",
      "real\t3m35.737s\r\n",
      "user\t69m1.353s\r\n",
      "sys\t0m48.473s\r\n"
     ]
    }
   ],
   "source": [
    "!time {cmd4}"
   ]
  },
  {
   "cell_type": "markdown",
   "metadata": {},
   "source": [
    "This is pretty interesting.  The quickest process was using MICA to id the three proteins that were similar to eachother (actually identical).  The MICA run of three unrelated proteins took a little longer, and the normal BLASTs took longer, with the least redundant taking the most time.  "
   ]
  },
  {
   "cell_type": "markdown",
   "metadata": {},
   "source": [
    "What this means is, if I decide to split up the sequences into groups, I will improve the runtimes if I place similar sequences into the same group.  "
   ]
  },
  {
   "cell_type": "code",
   "execution_count": 86,
   "metadata": {
    "collapsed": true
   },
   "outputs": [],
   "source": [
    "!cat ./outputs/sim_sizes.fasta ./outputs/sim_transport_prots.fasta > ./outputs/sim_combo.fasta"
   ]
  },
  {
   "cell_type": "code",
   "execution_count": 87,
   "metadata": {},
   "outputs": [
    {
     "name": "stdout",
     "output_type": "stream",
     "text": [
      "mica-search --p='20' --blastp 'blastp' /mnt/scgc/simon/databases/mica/nr-20150620-mica ./outputs/sim_combo.fasta --blast-args -outfmt '6 qseqid sseqid pident length mismatch gapopen qstart qend sstart send evalue bitscore sallseqid score nident positive gaps ppos qframe sframe qseq sseq qlen slen salltitles' -num_alignments 10 -evalue 0.001 -out ./outputs/sim_combo_mica.out\n"
     ]
    }
   ],
   "source": [
    "cmd5 = run_mica(\"./outputs/sim_combo.fasta\", \"./outputs/sim_combo_mica.out\")"
   ]
  },
  {
   "cell_type": "code",
   "execution_count": 88,
   "metadata": {},
   "outputs": [
    {
     "name": "stdout",
     "output_type": "stream",
     "text": [
      "Opening database in /mnt/scgc/simon/databases/mica/nr-20150620-mica...\n",
      "\tOpening compressed database...\n",
      "\tDone opening compressed database.\n",
      "\tOpening coarse database...\n",
      "\tDone opening coarse database.\n",
      "Done opening database in /mnt/scgc/simon/databases/mica/nr-20150620-mica.\n",
      "\n",
      "Blasting query on coarse database...\n",
      "blastp -db /mnt/scgc/simon/databases/mica/nr-20150620-mica/blastdb-coarse -num_threads 20 -outfmt 5 -dbsize 24387073819\n",
      "Decompressing blast hits...\n",
      "Building fine BLAST database...\n",
      "Created temporary fine BLAST database in /tmp/mica-fine-search-db467230881\n",
      "makeblastdb -dbtype prot -title blastdb-fine -in - -out /tmp/mica-fine-search-db467230881/blastdb-fine\n",
      "Blasting query on fine database...\n",
      "blastp -db /tmp/mica-fine-search-db467230881/blastdb-fine -dbsize 24387073819 -num_threads 20 -outfmt 6 qseqid sseqid pident length mismatch gapopen qstart qend sstart send evalue bitscore sallseqid score nident positive gaps ppos qframe sframe qseq sseq qlen slen salltitles -num_alignments 10 -evalue 0.001 -out ./outputs/sim_combo_mica.out\n",
      "\n",
      "real\t2m19.289s\n",
      "user\t24m59.164s\n",
      "sys\t0m40.359s\n"
     ]
    }
   ],
   "source": [
    "!time {cmd5}"
   ]
  },
  {
   "cell_type": "code",
   "execution_count": null,
   "metadata": {
    "collapsed": true
   },
   "outputs": [],
   "source": []
  }
 ],
 "metadata": {
  "kernelspec": {
   "display_name": "Python 3",
   "language": "python",
   "name": "python3"
  },
  "language_info": {
   "codemirror_mode": {
    "name": "ipython",
    "version": 3
   },
   "file_extension": ".py",
   "mimetype": "text/x-python",
   "name": "python",
   "nbconvert_exporter": "python",
   "pygments_lexer": "ipython3",
   "version": "3.5.3"
  }
 },
 "nbformat": 4,
 "nbformat_minor": 1
}
